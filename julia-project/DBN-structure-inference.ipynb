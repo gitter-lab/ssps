{
 "cells": [
  {
   "cell_type": "markdown",
   "metadata": {},
   "source": [
    "# DBN Structure Inference\n",
    "\n",
    "The idea is to infer a posterior for the *structure* of a Dynamic Bayesian Network (DBN), given some data.\n",
    "\n",
    "We formulate this task with the following model:\n",
    "\n",
    "$$ P(G | X) \\propto P(X | G) \\cdot P(G) $$\n",
    "\n",
    "* $P(G)$ is a prior distribution over DBN structures. We'll assume it has the form\n",
    "$$P(G) \\propto \\exp \\left( -\\lambda |G \\setminus G^\\prime| \\right)$$\n",
    "where $|G \\setminus G^\\prime|$ denotes the number of edges in the graph, which are not present in some reference graph $G^\\prime$.\n",
    "* $P(X | G)$ is the marginal likelihood of the DBN structure. That is, it's the likelihood of the DBN after the network parameters have been integrated out -- it scores network *structure*. \n",
    "* If we assume some reasonable priors for network parameters, $P(X|G)$ can be obtained in closed form. In this work, we'll use the following marginal likelihood:\n",
    "    \n",
    "    $$P(X | G) \\propto \\prod_{i=1}^p (1 + n)^{-(2^{|\\pi(i)|} - 1)/2} \\left( X_i^{+ T} X_i^+ - \\frac{n}{n+1} X_i^{+ T} B_i (B_i^T B_i)^{-1} B_i^T X_i^+ \\right)^{-\\frac{n}{2}}$$ \n",
    "    where $X$ and $B$ are matrices obtained from data. This marginal likelihood results from an empirical prior over the regression coefficients, and an improper $\\propto 1/\\sigma^2$ prior for the regression \"noise\" variables."
   ]
  },
  {
   "cell_type": "code",
   "execution_count": 4,
   "metadata": {},
   "outputs": [
    {
     "name": "stderr",
     "output_type": "stream",
     "text": [
      "WARNING: replacing module DiGraphs.\n",
      "WARNING: using DiGraphs.DiGraph in module Main conflicts with an existing identifier.\n",
      "┌ Info: Precompiling CSV [336ed68f-0bac-5ca0-87d4-7b16caf5d00b]\n",
      "└ @ Base loading.jl:1242\n"
     ]
    }
   ],
   "source": [
    "include(\"DiGraph.jl\")\n",
    "using Gen\n",
    "using PyPlot\n",
    "using .DiGraphs\n",
    "using LinearAlgebra\n",
    "using CSV\n",
    "using DataFrames"
   ]
  },
  {
   "cell_type": "markdown",
   "metadata": {},
   "source": [
    "## Getting some data\n",
    "\n",
    "For now, we'll work with some data used by Hill et al. in their 2007 paper, _Bayesian Inference of Signaling Network Topology in a Cancer Cell Line_.\n",
    "\n",
    "It gives the differential phosphorylation levels of 20 proteins, in a cancer cell line perturbed by EGF. This is a well-studied signaling pathway; the goal is to produce a graph describing the dependencies between proteins in this pathway. "
   ]
  },
  {
   "cell_type": "code",
   "execution_count": 8,
   "metadata": {},
   "outputs": [
    {
     "data": {
      "text/html": [
       "<table class=\"data-frame\"><thead><tr><th></th><th>Column1</th><th>AKT.pS473</th><th>AKT.pT308</th><th>AMPK.PT172</th><th>cJUN.pS73</th><th>EGFR.PY1173</th></tr><tr><th></th><th>String</th><th>Float64</th><th>Float64</th><th>Float64</th><th>Float64</th><th>Float64</th></tr></thead><tbody><p>96 rows × 21 columns (omitted printing of 15 columns)</p><tr><th>1</th><td>MDA-MB-468 0ng EGF (5 min) (1)</td><td>0.530401</td><td>0.112262</td><td>0.0073852</td><td>0.0372281</td><td>0.0010107</td></tr><tr><th>2</th><td>MDA-MB-468 0ng EGF (5 min) (2)</td><td>0.508459</td><td>0.103413</td><td>0.007484</td><td>0.0376396</td><td>0.0018878</td></tr><tr><th>3</th><td>MDA-MB-468 0ng EGF (5 min) (3)</td><td>0.567345</td><td>0.119212</td><td>0.0071113</td><td>0.0369495</td><td>0.0029138</td></tr><tr><th>4</th><td>MDA-MB-468 5ng EGF (5 min) (1)</td><td>0.968135</td><td>0.262998</td><td>0.0052351</td><td>0.0384648</td><td>0.0088047</td></tr><tr><th>5</th><td>MDA-MB-468 5ng EGF (5 min) (2)</td><td>1.24135</td><td>0.311034</td><td>0.0067092</td><td>0.0334464</td><td>0.0086412</td></tr><tr><th>6</th><td>MDA-MB-468 5ng EGF (5 min) (3)</td><td>1.13693</td><td>0.289114</td><td>0.007687</td><td>0.0330702</td><td>0.0072702</td></tr><tr><th>7</th><td>MDA-MB-468 10ng EGF (5 min) (1)</td><td>1.29989</td><td>0.336902</td><td>0.01052</td><td>0.0351666</td><td>0.0173106</td></tr><tr><th>8</th><td>MDA-MB-468 10ng EGF (5 min) (2)</td><td>1.2357</td><td>0.291254</td><td>0.0063072</td><td>0.0366709</td><td>0.0185678</td></tr><tr><th>9</th><td>MDA-MB-468 10ng EGF (5 min) (3)</td><td>1.48894</td><td>0.348485</td><td>0.0085701</td><td>0.0374861</td><td>0.0236866</td></tr><tr><th>10</th><td>MDA-MB-468 20ng EGF (5 min) (1)</td><td>1.36396</td><td>0.351149</td><td>0.0099795</td><td>0.0356612</td><td>0.0622616</td></tr><tr><th>11</th><td>MDA-MB-468 20ng EGF (5 min) (2)</td><td>1.68254</td><td>0.362643</td><td>0.0077554</td><td>0.0379428</td><td>0.0414911</td></tr><tr><th>12</th><td>MDA-MB-468 20ng EGF (5 min) (3)</td><td>1.50987</td><td>0.367723</td><td>0.0099137</td><td>0.0362191</td><td>0.0476319</td></tr><tr><th>13</th><td>MDA-MB-468 0ng EGF (15 min) (1)</td><td>0.719956</td><td>0.130754</td><td>0.0017187</td><td>0.0324934</td><td>0.0029559</td></tr><tr><th>14</th><td>MDA-MB-468 0ng EGF (15 min) (2)</td><td>0.581691</td><td>0.12196</td><td>0.0074733</td><td>0.0338954</td><td>0.0045688</td></tr><tr><th>15</th><td>MDA-MB-468 0ng EGF (15 min) (3)</td><td>0.53567</td><td>0.130766</td><td>0.0035236</td><td>0.0312546</td><td>0.0014596</td></tr><tr><th>16</th><td>MDA-MB-468 5ng EGF (15 min) (1)</td><td>1.22485</td><td>0.30459</td><td>0.0039809</td><td>0.0444139</td><td>0.0058169</td></tr><tr><th>17</th><td>MDA-MB-468 5ng EGF (15 min) (2)</td><td>1.40871</td><td>0.313614</td><td>0.006325</td><td>0.0440369</td><td>0.0053491</td></tr><tr><th>18</th><td>MDA-MB-468 5ng EGF (15 min) (3)</td><td>1.18953</td><td>0.342619</td><td>0.0057417</td><td>0.0455563</td><td>0.0076571</td></tr><tr><th>19</th><td>MDA-MB-468 10ng EGF (15 min) (1)</td><td>1.59067</td><td>0.349673</td><td>0.0039529</td><td>0.0415237</td><td>0.0155831</td></tr><tr><th>20</th><td>MDA-MB-468 10ng EGF (15 min) (2)</td><td>1.50895</td><td>0.387236</td><td>0.0062753</td><td>0.0483639</td><td>0.0135896</td></tr><tr><th>21</th><td>MDA-MB-468 10ng EGF (15 min) (3)</td><td>1.67663</td><td>0.342563</td><td>0.0052613</td><td>0.0493021</td><td>0.0122271</td></tr><tr><th>22</th><td>MDA-MB-468 20ng EGF (15 min) (1)</td><td>1.22744</td><td>0.33441</td><td>0.0075239</td><td>0.0425943</td><td>0.0379096</td></tr><tr><th>23</th><td>MDA-MB-468 20ng EGF (15 min) (2)</td><td>1.43644</td><td>0.347258</td><td>0.004012</td><td>0.0419935</td><td>0.0403943</td></tr><tr><th>24</th><td>MDA-MB-468 20ng EGF (15 min) (3)</td><td>1.64821</td><td>0.342032</td><td>0.0074643</td><td>0.0467917</td><td>0.0367522</td></tr><tr><th>25</th><td>MDA-MB-468 0ng EGF (30 min) (1)</td><td>0.719701</td><td>0.137131</td><td>0.0075986</td><td>0.0408554</td><td>0.0046025</td></tr><tr><th>26</th><td>MDA-MB-468 0ng EGF (30 min) (2)</td><td>0.679894</td><td>0.124608</td><td>0.0066936</td><td>0.0358284</td><td>0.0051264</td></tr><tr><th>27</th><td>MDA-MB-468 0ng EGF (30 min) (3)</td><td>0.631201</td><td>0.134723</td><td>0.0076479</td><td>0.0424176</td><td>0.0067829</td></tr><tr><th>28</th><td>MDA-MB-468 5ng EGF (30 min) (1)</td><td>1.59605</td><td>0.305163</td><td>0.0064576</td><td>0.0480193</td><td>0.0104305</td></tr><tr><th>29</th><td>MDA-MB-468 5ng EGF (30 min) (2)</td><td>1.55212</td><td>0.312371</td><td>0.0034576</td><td>0.0481787</td><td>0.0013536</td></tr><tr><th>30</th><td>MDA-MB-468 5ng EGF (30 min) (3)</td><td>1.25983</td><td>0.314336</td><td>0.0065776</td><td>0.0500268</td><td>0.0072017</td></tr><tr><th>&vellip;</th><td>&vellip;</td><td>&vellip;</td><td>&vellip;</td><td>&vellip;</td><td>&vellip;</td><td>&vellip;</td></tr></tbody></table>"
      ],
      "text/latex": [
       "\\begin{tabular}{r|ccccccc}\n",
       "\t& Column1 & AKT.pS473 & AKT.pT308 & AMPK.PT172 & cJUN.pS73 & EGFR.PY1173 & \\\\\n",
       "\t\\hline\n",
       "\t& String & Float64 & Float64 & Float64 & Float64 & Float64 & \\\\\n",
       "\t\\hline\n",
       "\t1 & MDA-MB-468 0ng EGF (5 min) (1) & 0.530401 & 0.112262 & 0.0073852 & 0.0372281 & 0.0010107 & $\\dots$ \\\\\n",
       "\t2 & MDA-MB-468 0ng EGF (5 min) (2) & 0.508459 & 0.103413 & 0.007484 & 0.0376396 & 0.0018878 & $\\dots$ \\\\\n",
       "\t3 & MDA-MB-468 0ng EGF (5 min) (3) & 0.567345 & 0.119212 & 0.0071113 & 0.0369495 & 0.0029138 & $\\dots$ \\\\\n",
       "\t4 & MDA-MB-468 5ng EGF (5 min) (1) & 0.968135 & 0.262998 & 0.0052351 & 0.0384648 & 0.0088047 & $\\dots$ \\\\\n",
       "\t5 & MDA-MB-468 5ng EGF (5 min) (2) & 1.24135 & 0.311034 & 0.0067092 & 0.0334464 & 0.0086412 & $\\dots$ \\\\\n",
       "\t6 & MDA-MB-468 5ng EGF (5 min) (3) & 1.13693 & 0.289114 & 0.007687 & 0.0330702 & 0.0072702 & $\\dots$ \\\\\n",
       "\t7 & MDA-MB-468 10ng EGF (5 min) (1) & 1.29989 & 0.336902 & 0.01052 & 0.0351666 & 0.0173106 & $\\dots$ \\\\\n",
       "\t8 & MDA-MB-468 10ng EGF (5 min) (2) & 1.2357 & 0.291254 & 0.0063072 & 0.0366709 & 0.0185678 & $\\dots$ \\\\\n",
       "\t9 & MDA-MB-468 10ng EGF (5 min) (3) & 1.48894 & 0.348485 & 0.0085701 & 0.0374861 & 0.0236866 & $\\dots$ \\\\\n",
       "\t10 & MDA-MB-468 20ng EGF (5 min) (1) & 1.36396 & 0.351149 & 0.0099795 & 0.0356612 & 0.0622616 & $\\dots$ \\\\\n",
       "\t11 & MDA-MB-468 20ng EGF (5 min) (2) & 1.68254 & 0.362643 & 0.0077554 & 0.0379428 & 0.0414911 & $\\dots$ \\\\\n",
       "\t12 & MDA-MB-468 20ng EGF (5 min) (3) & 1.50987 & 0.367723 & 0.0099137 & 0.0362191 & 0.0476319 & $\\dots$ \\\\\n",
       "\t13 & MDA-MB-468 0ng EGF (15 min) (1) & 0.719956 & 0.130754 & 0.0017187 & 0.0324934 & 0.0029559 & $\\dots$ \\\\\n",
       "\t14 & MDA-MB-468 0ng EGF (15 min) (2) & 0.581691 & 0.12196 & 0.0074733 & 0.0338954 & 0.0045688 & $\\dots$ \\\\\n",
       "\t15 & MDA-MB-468 0ng EGF (15 min) (3) & 0.53567 & 0.130766 & 0.0035236 & 0.0312546 & 0.0014596 & $\\dots$ \\\\\n",
       "\t16 & MDA-MB-468 5ng EGF (15 min) (1) & 1.22485 & 0.30459 & 0.0039809 & 0.0444139 & 0.0058169 & $\\dots$ \\\\\n",
       "\t17 & MDA-MB-468 5ng EGF (15 min) (2) & 1.40871 & 0.313614 & 0.006325 & 0.0440369 & 0.0053491 & $\\dots$ \\\\\n",
       "\t18 & MDA-MB-468 5ng EGF (15 min) (3) & 1.18953 & 0.342619 & 0.0057417 & 0.0455563 & 0.0076571 & $\\dots$ \\\\\n",
       "\t19 & MDA-MB-468 10ng EGF (15 min) (1) & 1.59067 & 0.349673 & 0.0039529 & 0.0415237 & 0.0155831 & $\\dots$ \\\\\n",
       "\t20 & MDA-MB-468 10ng EGF (15 min) (2) & 1.50895 & 0.387236 & 0.0062753 & 0.0483639 & 0.0135896 & $\\dots$ \\\\\n",
       "\t21 & MDA-MB-468 10ng EGF (15 min) (3) & 1.67663 & 0.342563 & 0.0052613 & 0.0493021 & 0.0122271 & $\\dots$ \\\\\n",
       "\t22 & MDA-MB-468 20ng EGF (15 min) (1) & 1.22744 & 0.33441 & 0.0075239 & 0.0425943 & 0.0379096 & $\\dots$ \\\\\n",
       "\t23 & MDA-MB-468 20ng EGF (15 min) (2) & 1.43644 & 0.347258 & 0.004012 & 0.0419935 & 0.0403943 & $\\dots$ \\\\\n",
       "\t24 & MDA-MB-468 20ng EGF (15 min) (3) & 1.64821 & 0.342032 & 0.0074643 & 0.0467917 & 0.0367522 & $\\dots$ \\\\\n",
       "\t25 & MDA-MB-468 0ng EGF (30 min) (1) & 0.719701 & 0.137131 & 0.0075986 & 0.0408554 & 0.0046025 & $\\dots$ \\\\\n",
       "\t26 & MDA-MB-468 0ng EGF (30 min) (2) & 0.679894 & 0.124608 & 0.0066936 & 0.0358284 & 0.0051264 & $\\dots$ \\\\\n",
       "\t27 & MDA-MB-468 0ng EGF (30 min) (3) & 0.631201 & 0.134723 & 0.0076479 & 0.0424176 & 0.0067829 & $\\dots$ \\\\\n",
       "\t28 & MDA-MB-468 5ng EGF (30 min) (1) & 1.59605 & 0.305163 & 0.0064576 & 0.0480193 & 0.0104305 & $\\dots$ \\\\\n",
       "\t29 & MDA-MB-468 5ng EGF (30 min) (2) & 1.55212 & 0.312371 & 0.0034576 & 0.0481787 & 0.0013536 & $\\dots$ \\\\\n",
       "\t30 & MDA-MB-468 5ng EGF (30 min) (3) & 1.25983 & 0.314336 & 0.0065776 & 0.0500268 & 0.0072017 & $\\dots$ \\\\\n",
       "\t$\\dots$ & $\\dots$ & $\\dots$ & $\\dots$ & $\\dots$ & $\\dots$ & $\\dots$ &  \\\\\n",
       "\\end{tabular}\n"
      ],
      "text/plain": [
       "96×21 DataFrame. Omitted printing of 17 columns\n",
       "│ Row │ Column1                           │ AKT.pS473 │ AKT.pT308 │ AMPK.PT172 │\n",
       "│     │ \u001b[90mString\u001b[39m                            │ \u001b[90mFloat64\u001b[39m   │ \u001b[90mFloat64\u001b[39m   │ \u001b[90mFloat64\u001b[39m    │\n",
       "├─────┼───────────────────────────────────┼───────────┼───────────┼────────────┤\n",
       "│ 1   │ MDA-MB-468 0ng EGF (5 min) (1)    │ 0.530401  │ 0.112262  │ 0.0073852  │\n",
       "│ 2   │ MDA-MB-468 0ng EGF (5 min) (2)    │ 0.508459  │ 0.103413  │ 0.007484   │\n",
       "│ 3   │ MDA-MB-468 0ng EGF (5 min) (3)    │ 0.567345  │ 0.119212  │ 0.0071113  │\n",
       "│ 4   │ MDA-MB-468 5ng EGF (5 min) (1)    │ 0.968135  │ 0.262998  │ 0.0052351  │\n",
       "│ 5   │ MDA-MB-468 5ng EGF (5 min) (2)    │ 1.24135   │ 0.311034  │ 0.0067092  │\n",
       "│ 6   │ MDA-MB-468 5ng EGF (5 min) (3)    │ 1.13693   │ 0.289114  │ 0.007687   │\n",
       "│ 7   │ MDA-MB-468 10ng EGF (5 min) (1)   │ 1.29989   │ 0.336902  │ 0.01052    │\n",
       "│ 8   │ MDA-MB-468 10ng EGF (5 min) (2)   │ 1.2357    │ 0.291254  │ 0.0063072  │\n",
       "│ 9   │ MDA-MB-468 10ng EGF (5 min) (3)   │ 1.48894   │ 0.348485  │ 0.0085701  │\n",
       "│ 10  │ MDA-MB-468 20ng EGF (5 min) (1)   │ 1.36396   │ 0.351149  │ 0.0099795  │\n",
       "⋮\n",
       "│ 86  │ MDA-MB-468 0ng EGF (240 min) (2)  │ 0.483337  │ 0.0975594 │ 0.0120182  │\n",
       "│ 87  │ MDA-MB-468 0ng EGF (240 min) (3)  │ 0.480289  │ 0.107326  │ 0.0094884  │\n",
       "│ 88  │ MDA-MB-468 5ng EGF (240 min) (1)  │ 0.717692  │ 0.201001  │ 0.010511   │\n",
       "│ 89  │ MDA-MB-468 5ng EGF (240 min) (2)  │ 0.911136  │ 0.19764   │ 0.0099647  │\n",
       "│ 90  │ MDA-MB-468 5ng EGF (240 min) (3)  │ 1.02867   │ 0.189265  │ 0.0108047  │\n",
       "│ 91  │ MDA-MB-468 10ng EGF (240 min) (1) │ 1.08725   │ 0.210144  │ 0.0078625  │\n",
       "│ 92  │ MDA-MB-468 10ng EGF (240 min) (2) │ 0.991587  │ 0.227648  │ 0.012766   │\n",
       "│ 93  │ MDA-MB-468 10ng EGF (240 min) (3) │ 0.969344  │ 0.200113  │ 0.006618   │\n",
       "│ 94  │ MDA-MB-468 20ng EGF (240 min) (1) │ 1.28263   │ 0.229588  │ 0.0081396  │\n",
       "│ 95  │ MDA-MB-468 20ng EGF (240 min) (2) │ 1.12923   │ 0.246647  │ 0.0072196  │\n",
       "│ 96  │ MDA-MB-468 20ng EGF (240 min) (3) │ 0.961671  │ 0.229706  │ 0.0093126  │"
      ]
     },
     "execution_count": 8,
     "metadata": {},
     "output_type": "execute_result"
    }
   ],
   "source": [
    "protein_names = CSV.read(\"data/protein_names.csv\");\n",
    "reference_adjacency = CSV.read(\"data/prior_graph.csv\");\n",
    "timesteps = CSV.read(\"data/time.csv\")\n",
    "timeseries_data = CSV.read(\"data/mukherjee_data.csv\")"
   ]
  },
  {
   "cell_type": "markdown",
   "metadata": {},
   "source": [
    "## Building the model\n",
    "\n",
    "Implement the graph prior distribution:\n",
    "\n",
    "$$P(G) \\propto \\exp \\left( -\\lambda |G \\setminus G^\\prime| \\right)$$"
   ]
  },
  {
   "cell_type": "code",
   "execution_count": 3,
   "metadata": {},
   "outputs": [],
   "source": [
    "struct GraphPrior <: Gen.Distribution{DiGraph} end\n",
    "const graphprior = GraphPrior()\n",
    "\n",
    "Gen.random(gp::GraphPrior, lambda::Float64, reference_graph::DiGraph) = reference_graph\n",
    "\n",
    "function graph_edge_diff(g::DiGraph, g_ref::DiGraph)\n",
    "    e1 = Set([g.edges[i,:] for i=1:size(g.edges)[1]])\n",
    "    e_ref = Set([g_ref.edges[i,:] for i=1:size(g_ref.edges)[1]])\n",
    "    return length(setdiff(e1, e_ref))\n",
    "end\n",
    "    \n",
    "Gen.logpdf(gp::GraphPrior, graph::DiGraph, lambda::Float64, reference_graph::DiGraph) = -lambda * graph_edge_diff(graph, reference_graph)\n",
    "\n",
    "graphprior(lambda::Float64, reference_graph::DiGraph) = Gen.random(graphprior, lambda, reference_graph);"
   ]
  },
  {
   "cell_type": "markdown",
   "metadata": {},
   "source": [
    "Implement a DBN:"
   ]
  },
  {
   "cell_type": "code",
   "execution_count": 1,
   "metadata": {},
   "outputs": [
    {
     "ename": "LoadError",
     "evalue": "UndefVarError: @gen not defined",
     "output_type": "error",
     "traceback": [
      "UndefVarError: @gen not defined",
      ""
     ]
    }
   ],
   "source": [
    "@gen function dbn_node(x_prev::Vec{Float64}, parents::Vec{Int}, weights::Vec{Float}, noise::Float64)\n",
    "    x_new = @trace(Gen.normal(dot()), :x)\n",
    "    return x_new\n",
    "end\n",
    "\n",
    "layer_nodes = Gen.Map(dbn_node)\n",
    "\n",
    "@gen function dbn_layer(timestep::Int, x_prev::Vec{Float64}, parents::Vec{Vec{Int}}, weights::Vec{Vec{Float64}})\n",
    "    x_prev_repeat = fill(x_prev, length(parents))\n",
    "    x_new = @trace(layer_nodes(x_prev_repeat, parents, weights), :variables)\n",
    "    return x_new\n",
    "end\n",
    "    \n",
    "dbn = Gen.Unfold(dbn_layer)\n",
    "\n",
    "independent_series = Gen.Map(unfolded_layers)\n",
    "\n",
    "@gen function dbn(V::Vec{Int}, parents::Vec{Vec{Int}}, T::Int)\n",
    "    \n",
    "    x = @trace(unfolded_layers(), :timeseries)\n",
    "    return x\n",
    "end"
   ]
  },
  {
   "cell_type": "markdown",
   "metadata": {},
   "source": [
    "Implement our overall model:"
   ]
  },
  {
   "cell_type": "code",
   "execution_count": null,
   "metadata": {},
   "outputs": [],
   "source": [
    "function get_parent_vecs(G)\n",
    "    return [sort(in_neighbors(G, v)) for v in sort(G.vertices)]\n",
    "end\n",
    "    \n",
    "@gen function coeff_prior()\n",
    "\n",
    "@gen function data_generator(reference_graph::DiGraph{Int}, Tvec::Vec{Int})\n",
    "    \n",
    "    lambda = @trace(Gen.gamma(1,1), :lambda)\n",
    "    \n",
    "    G = @trace(GraphPrior(lambda, reference_graph), :G)\n",
    "    V = sort(G.vertices)\n",
    "    parents = get_parent_vecs(G)\n",
    "    \n",
    "    x_init = @trace(Gen.mvnormal(), :x_init)\n",
    "    regression_coeffs = @trace(, :beta)\n",
    "    regression_noise = @trace(, :noise)\n",
    "    \n",
    "    x = @trace(dbn(V, parents, ))"
   ]
  },
  {
   "cell_type": "markdown",
   "metadata": {},
   "source": [
    "I see a big fork in the path -- a choice between naivety and cleverness:\n",
    "* implement a full Bayesian model which doesn't marginalize the network parameters.\n",
    "This may be simpler to implement, though it's certain to give inferior performance.\n",
    "* figure out how to implement the marginal likelihood. This will be trickier, but will probably make the difference between the method's practicality and impracticality. I envision the following:\n",
    "    - have a cache (glorified dictionary: (variable, parents) => float?) which stores factors of the marginal likelihood as they're computed. There may even be bells and whistles, e.g., we could set a memory limit in order to prevent the cache from ballooning.\n",
    "    - this cache will be used by a \"marginal_likelihood\" Distribution object; its `random` function will return some reasonable value; its `log_pdf` function will return the (log) marginal likelihood."
   ]
  },
  {
   "cell_type": "code",
   "execution_count": null,
   "metadata": {},
   "outputs": [],
   "source": []
  }
 ],
 "metadata": {
  "kernelspec": {
   "display_name": "Julia 1.2.0",
   "language": "julia",
   "name": "julia-1.2"
  },
  "language_info": {
   "file_extension": ".jl",
   "mimetype": "application/julia",
   "name": "julia",
   "version": "1.2.0"
  }
 },
 "nbformat": 4,
 "nbformat_minor": 2
}
