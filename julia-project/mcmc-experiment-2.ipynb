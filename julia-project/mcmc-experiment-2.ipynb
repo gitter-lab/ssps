{
 "cells": [
  {
   "cell_type": "markdown",
   "metadata": {},
   "source": [
    "# MCMC experiment: round 2\n",
    "\n",
    "Mixture of Gaussians"
   ]
  },
  {
   "cell_type": "code",
   "execution_count": 1,
   "metadata": {},
   "outputs": [],
   "source": [
    "using Gen\n",
    "using PyPlot"
   ]
  },
  {
   "cell_type": "markdown",
   "metadata": {},
   "source": [
    "## Define a model"
   ]
  },
  {
   "cell_type": "code",
   "execution_count": 2,
   "metadata": {},
   "outputs": [],
   "source": [
    "@gen function gauss_mix(n_clusters::Int64, n_samples::Int64)\n",
    "    \n",
    "    cluster_means = [@trace(normal(0.0, 10.0), :means => i) for i=1:n_clusters]\n",
    "    cluster_spreads = [@trace(gamma(1.0, 1.0), :spreads => i) for i=1:n_clusters]\n",
    "    cluster_probs = fill(1.0/n_clusters, n_clusters)\n",
    "    \n",
    "    z = zeros(n_samples, 1)\n",
    "    \n",
    "    for j=1:n_samples\n",
    "    \n",
    "        c = @trace(categorical(cluster_probs), :cluster => j)\n",
    "        z[j] = @trace(normal(cluster_means[c], cluster_spreads[c]), :z => j)\n",
    "    end\n",
    "    \n",
    "    return z\n",
    "\n",
    "end;"
   ]
  },
  {
   "cell_type": "markdown",
   "metadata": {},
   "source": [
    "## Sanity check: simulate & visualize"
   ]
  },
  {
   "cell_type": "code",
   "execution_count": 3,
   "metadata": {},
   "outputs": [],
   "source": [
    "n_samples = 1000\n",
    "n_clusters = 4\n",
    "    \n",
    "tr = simulate(gauss_mix, (n_clusters, n_samples));\n",
    "zs = [tr[:z => i] for i=1:n_samples];"
   ]
  },
  {
   "cell_type": "code",
   "execution_count": 4,
   "metadata": {},
   "outputs": [],
   "source": [
    "function plot_choices(zs, means, assignments)\n",
    "    \n",
    "    hist_colors = [\"gray\", \"blue\", \"red\", \"orange\", \"yellow\"]\n",
    "    \n",
    "    z_sets = []\n",
    "    \n",
    "    for (i, mean) in enumerate(means)\n",
    "        plot([mean; mean], [0; n_samples], color=\"k\")\n",
    "        cluster_z = zs[assignments .== i]\n",
    "        hist(cluster_z, 20, color=hist_colors[i])\n",
    "    end\n",
    "    \n",
    "end;\n",
    "\n",
    "\n",
    "function plot_trace(tr)\n",
    "    \n",
    "    zs = [tr[:z => j] for j=1:n_samples];\n",
    "    means = [tr[:means => i] for i=1:n_clusters];\n",
    "    assignments = [tr[:cluster => j] for j=1:n_samples]\n",
    "    \n",
    "    plot_choices(zs, means, assignments)\n",
    "\n",
    "end;"
   ]
  },
  {
   "cell_type": "code",
   "execution_count": 5,
   "metadata": {},
   "outputs": [
    {
     "data": {
      "image/png": "[encoded data removed]",
      "text/plain": [
       "Figure(PyObject <Figure size 640x480 with 1 Axes>)"
      ]
     },
     "metadata": {},
     "output_type": "display_data"
    }
   ],
   "source": [
    "plot_trace(tr)\n",
    "ylim(0, 100)\n",
    "show()"
   ]
  },
  {
   "cell_type": "markdown",
   "metadata": {},
   "source": [
    "## Inference: k-means-initialized MCMC\n",
    "\n",
    "A straightforward importance sampling approach would have some issues: \n",
    "* Sampling (in)efficiency. Sampling the cluster centers from their prior will typically yield very improbable samples.\n",
    "* (Un)Identifiability. Our model samples the cluster centers iid from a Gaussian. So the next sample will probably put the centers in a very different arrangement!\n",
    "\n",
    "We can do better than this by:\n",
    "* Initializing the cluster centers and assignments with a k-means heuristic\n",
    "* using a custom proposal distribution for updating the cluster centers.\n",
    "* keeping the cluster centers in sorted order. This eliminates ambiguity when the cluster centers are resampled.\n",
    "\n",
    "Furthermore, we can improve the sampling speed by performing a customized, inexpensive Gibbs-sampling update for the cluster assignments."
   ]
  },
  {
   "cell_type": "code",
   "execution_count": 7,
   "metadata": {},
   "outputs": [
    {
     "data": {
      "text/plain": [
       "cluster_assignment_gibbs_update (generic function with 1 method)"
      ]
     },
     "execution_count": 7,
     "metadata": {},
     "output_type": "execute_result"
    }
   ],
   "source": [
    "@gen function cluster_mean_proposal(tr, n_clusters)\n",
    "    for i=1:n_clusters\n",
    "        @trace(normal(tr[:means => i], 0.25), :means => i)\n",
    "    end\n",
    "end\n",
    "\n",
    "@gen function cluster_spread_proposal(tr, n_clusters)\n",
    "    for i=1:n_clusters\n",
    "        @trace(gamma(1.0, 1.0), :spreads => i)\n",
    "    end\n",
    "end\n",
    "\n",
    "\n",
    "function cluster_assignment_gibbs_update(tr, n_clusters, n_data)\n",
    "    \n",
    "    # The cluster assignments only ever interact with the \n",
    "    # cluster centers in sorted order.\n",
    "    centers = [tr[:means => i] for i=1:n_clusters]\n",
    "    srt_inds = sortperm(centers)\n",
    "    centers = centers[srt_inds]\n",
    "    spreads = [tr[:spreads => i] for i=1:n_clusters][srt_inds]\n",
    "    \n",
    "    new_assignments = Gen.choicemap()\n",
    "    \n",
    "    for j=1:n_data\n",
    "        unnorm_probs = [ exp(-0.5* (tr[:z => j] - centers[i])^2 / (spreads[i]^2)) / spreads[i] for i=1:n_clusters]\n",
    "        new_assignments[:cluster => j] = categorical(unnorm_probs ./ sum(unnorm_probs))\n",
    "    end\n",
    "    \n",
    "    new_tr, _, _, _ = Gen.update(tr, (n_clusters, n_data), (), new_assignments)\n",
    "    return new_tr\n",
    "    \n",
    "end\n"
   ]
  },
  {
   "cell_type": "code",
   "execution_count": 8,
   "metadata": {},
   "outputs": [
    {
     "data": {
      "text/plain": [
       "kmeans (generic function with 2 methods)"
      ]
     },
     "execution_count": 8,
     "metadata": {},
     "output_type": "execute_result"
    }
   ],
   "source": [
    "using Statistics\n",
    "\n",
    "function mean_update(data, cluster_assignments, k)\n",
    "    return [mean(data[cluster_assignments .== i]) for i=1:k]\n",
    "end\n",
    "\n",
    "function cluster_update(data, means)\n",
    "    \n",
    "    dists = map(abs, data .- transpose(means))\n",
    "    min_inds = argmin(dists, dims=2)\n",
    "    \n",
    "    return [min_inds[i][2] for i=1:length(min_inds)]\n",
    "end\n",
    "\n",
    "\n",
    "function kmeans(data::Array{Float64,1}, k::Int64, max_iter::Int64=1000)\n",
    "    \n",
    "    # random initialization\n",
    "    cluster_assignments = zeros(size(data)[1])\n",
    "    means = rand(data, k)\n",
    "    \n",
    "    i = 1\n",
    "    while i <= max_iter\n",
    "        \n",
    "        cluster_assignments = cluster_update(data, means)\n",
    "        new_means = mean_update(data, cluster_assignments, k)\n",
    "        \n",
    "        if new_means == means\n",
    "            break\n",
    "        end\n",
    "        \n",
    "        means = new_means\n",
    "        i += 1\n",
    "        \n",
    "    end\n",
    "    \n",
    "    # Sort the means in order to ameliorate\n",
    "    # identifiability issues.\n",
    "    srt_inds = sortperm(means)\n",
    "    inv_map = zeros(size(srt_inds))\n",
    "    for (i, ind) in enumerate(srt_inds)importance sampling\n",
    "        inv_map[ind] = i\n",
    "    end\n",
    "    ca = map(x->inv_map[x], cluster_assignments)\n",
    "    \n",
    "    return means[srt_inds], ca\n",
    "end"
   ]
  },
  {
   "cell_type": "code",
   "execution_count": 9,
   "metadata": {},
   "outputs": [
    {
     "data": {
      "text/plain": [
       "smarter_mcmc_sample (generic function with 1 method)"
      ]
     },
     "execution_count": 9,
     "metadata": {},
     "output_type": "execute_result"
    }
   ],
   "source": [
    "function smarter_mcmc_sample(tr, n_clusters, n_data)\n",
    "    \n",
    "    tr, _ = Gen.mh(tr, cluster_mean_proposal, (n_clusters,))\n",
    "    tr, _ = Gen.mh(tr, cluster_spread_proposal, (n_clusters,))\n",
    "    tr = cluster_assignment_gibbs_update(tr, n_clusters, n_data)\n",
    "    \n",
    "    return tr\n",
    "end"
   ]
  },
  {
   "cell_type": "code",
   "execution_count": 10,
   "metadata": {},
   "outputs": [
    {
     "data": {
      "text/plain": [
       "smarter_mcmc_inference (generic function with 3 methods)"
      ]
     },
     "execution_count": 10,
     "metadata": {},
     "output_type": "execute_result"
    }
   ],
   "source": [
    "function smarter_mcmc_inference(tr, n_samples, n_clusters, n_data, burnin=10, thinning=10)\n",
    "    \n",
    "    means = zeros(n_samples, n_clusters)\n",
    "    spreads = zeros(n_samples, n_clusters)\n",
    "    assignments = zeros(n_data, n_clusters)\n",
    "    \n",
    "    for b=1:burnin\n",
    "        tr = smarter_mcmc_sample(tr, n_clusters, n_data)\n",
    "    end\n",
    "    println(\"finished burnin; now sampling...\")\n",
    "    for s=1:n_samples\n",
    "        for t=1:thinning\n",
    "            tr = smarter_mcmc_sample(tr, n_clusters, n_data)\n",
    "        end\n",
    "        \n",
    "        for i=1:n_clusters\n",
    "            means[s,i] = tr[:means => i]\n",
    "            spreads[s,i] = tr[:spreads => i]\n",
    "        end\n",
    "        for j=1:n_data\n",
    "            assignments[j,tr[:cluster => j]] += 1\n",
    "        end\n",
    "    end\n",
    "    \n",
    "    println(\"postprocessing...\")\n",
    "    for s=1:n_samples\n",
    "        srt_inds = sortperm(means[s,:])\n",
    "        means[s,:] = means[s,srt_inds]\n",
    "        spreads[s,:] = spreads[s,srt_inds]\n",
    "    end\n",
    "        \n",
    "    return means, spreads, assignments\n",
    "end"
   ]
  },
  {
   "cell_type": "code",
   "execution_count": 11,
   "metadata": {},
   "outputs": [
    {
     "data": {
      "text/plain": [
       "initialize_trace_kmeans (generic function with 2 methods)"
      ]
     },
     "execution_count": 11,
     "metadata": {},
     "output_type": "execute_result"
    }
   ],
   "source": [
    "function initialize_trace_kmeans(dataset, n_clusters, max_iters=1000)\n",
    "    \n",
    "    init_settings = Gen.choicemap()\n",
    "    means, assignments = kmeans(dataset, n_clusters, max_iters)\n",
    "    for i=1:n_clusters\n",
    "        init_settings[:means => i] = means[i]\n",
    "    end\n",
    "    for j=1:length(dataset)\n",
    "        init_settings[:cluster => j] = assignments[j]\n",
    "        init_settings[:z => j] = dataset[j]\n",
    "    end\n",
    "       \n",
    "    tr, _ = Gen.generate(gauss_mix, (n_clusters, length(dataset)), init_settings)\n",
    "    \n",
    "    return tr\n",
    "end"
   ]
  },
  {
   "cell_type": "code",
   "execution_count": 35,
   "metadata": {},
   "outputs": [
    {
     "data": {
      "image/png": "[encoded data removed]",
      "text/plain": [
       "Figure(PyObject <Figure size 640x480 with 1 Axes>)"
      ]
     },
     "metadata": {},
     "output_type": "display_data"
    }
   ],
   "source": [
    "tr = initialize_trace_kmeans(zs, 4)\n",
    "plot_trace(tr)\n",
    "ylim(0,30)\n",
    "show()"
   ]
  },
  {
   "cell_type": "code",
   "execution_count": 34,
   "metadata": {},
   "outputs": [
    {
     "name": "stdout",
     "output_type": "stream",
     "text": [
      "burning in...\n",
      "sampling...\n",
      "postprocessing...\n"
     ]
    },
    {
     "data": {
      "text/plain": [
       "([-10.800932190451645 -10.329384282179516 6.66968981580474 7.976059604294428; -10.800932190451645 -10.329384282179516 6.66968981580474 7.976059604294428; … ; -11.268300060835802 -9.820208508113177 6.22355204436578 8.54431476429221; -11.268300060835802 -9.820208508113177 6.22355204436578 8.54431476429221], [0.8820566073769134 1.7660579321399665 0.9914477809670034 1.5717462640590076; 0.8820566073769134 1.7660579321399665 0.9914477809670034 1.5717462640590076; … ; 0.21987587228368952 0.7106541194704846 0.07910295387826487 0.33732986888342587; 0.21987587228368952 0.7106541194704846 0.07910295387826487 0.33732986888342587], [0.0 0.0 0.0 1000.0; 0.0 0.0 1000.0 0.0; … ; 938.0 62.0 0.0 0.0; 922.0 78.0 0.0 0.0])"
      ]
     },
     "execution_count": 34,
     "metadata": {},
     "output_type": "execute_result"
    }
   ],
   "source": [
    "means, spreads, assignments = smarter_mcmc_inference(tr, 1000, 4, length(zs), 100, 10)"
   ]
  },
  {
   "cell_type": "code",
   "execution_count": 39,
   "metadata": {},
   "outputs": [
    {
     "data": {
      "image/png": "[encoded data removed]",
      "text/plain": [
       "Figure(PyObject <Figure size 640x480 with 1 Axes>)"
      ]
     },
     "metadata": {},
     "output_type": "display_data"
    }
   ],
   "source": [
    "hist(means[:,4])\n",
    "show()"
   ]
  },
  {
   "cell_type": "markdown",
   "metadata": {},
   "source": [
    "## Inference: k-means-guided MCMC\n",
    "\n"
   ]
  }
 ],
 "metadata": {
  "kernelspec": {
   "display_name": "Julia 1.2.0",
   "language": "julia",
   "name": "julia-1.2"
  },
  "language_info": {
   "file_extension": ".jl",
   "mimetype": "application/julia",
   "name": "julia",
   "version": "1.2.0"
  }
 },
 "nbformat": 4,
 "nbformat_minor": 2
}
