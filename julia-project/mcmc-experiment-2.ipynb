{
 "cells": [
  {
   "cell_type": "markdown",
   "metadata": {},
   "source": [
    "# MCMC experiment: round 2\n",
    "\n",
    "Mixture of Gaussians"
   ]
  },
  {
   "cell_type": "code",
   "execution_count": 1,
   "metadata": {},
   "outputs": [],
   "source": [
    "using Gen\n",
    "using PyPlot"
   ]
  },
  {
   "cell_type": "markdown",
   "metadata": {},
   "source": [
    "## Define a model"
   ]
  },
  {
   "cell_type": "code",
   "execution_count": 2,
   "metadata": {},
   "outputs": [],
   "source": [
    "@gen function gauss_mix(n_clusters::Int64, n_samples::Int64)\n",
    "    \n",
    "    cluster_means = [@trace(normal(0.0, 10.0), :means => i) for i=1:n_clusters]\n",
    "    cluster_spreads = [@trace(gamma(1.0, 1.0), :spreads => i) for i=1:n_clusters]\n",
    "    cluster_probs = fill(1.0/n_clusters, n_clusters)\n",
    "    \n",
    "    z = zeros(n_samples, 1)\n",
    "    \n",
    "    for j=1:n_samples\n",
    "    \n",
    "        c = @trace(categorical(cluster_probs), :cluster => j)\n",
    "        z[j] = @trace(normal(cluster_means[c], cluster_spreads[c]), :z => j)\n",
    "    end\n",
    "    \n",
    "    return z\n",
    "\n",
    "end;"
   ]
  },
  {
   "cell_type": "markdown",
   "metadata": {},
   "source": [
    "## Sanity check: simulate & visualize"
   ]
  },
  {
   "cell_type": "code",
   "execution_count": 3,
   "metadata": {},
   "outputs": [],
   "source": [
    "n_samples = 500\n",
    "n_clusters = 3\n",
    "    \n",
    "tr = simulate(gauss_mix, (n_clusters, n_samples));"
   ]
  },
  {
   "cell_type": "code",
   "execution_count": 7,
   "metadata": {},
   "outputs": [],
   "source": [
    "function plot_trace(tr)\n",
    "    \n",
    "    zs = [tr[:z => j] for j=1:n_samples];\n",
    "    means = [tr[:means => i] for i=1:n_clusters];\n",
    "    assignments = [tr[:cluster => j] for j=1:n_samples]\n",
    "    \n",
    "    plot_choices(zs, means, assignments)\n",
    "\n",
    "end\n",
    "\n",
    "function plot_choices(zs, means, assignments)\n",
    "    \n",
    "    hist_colors = [\"gray\", \"blue\", \"red\", \"orange\", \"yellow\"]\n",
    "    \n",
    "    z_sets = []\n",
    "    \n",
    "    for (i, mean) in enumerate(means)\n",
    "        plot([mean; mean], [0; n_samples], color=\"k\")\n",
    "        cluster_z = zs[assignments .== i]\n",
    "        hist(cluster_z, 20, color=hist_colors[i])\n",
    "    end\n",
    "    \n",
    "end;"
   ]
  },
  {
   "cell_type": "code",
   "execution_count": 9,
   "metadata": {},
   "outputs": [
    {
     "data": {
      "image/png": "[encoded data removed]",
      "text/plain": [
       "Figure(PyObject <Figure size 640x480 with 1 Axes>)"
      ]
     },
     "metadata": {},
     "output_type": "display_data"
    }
   ],
   "source": [
    "plot_trace(tr)\n",
    "ylim(0, 100)\n",
    "show()"
   ]
  },
  {
   "cell_type": "markdown",
   "metadata": {},
   "source": [
    "## Inference: block resimulation"
   ]
  },
  {
   "cell_type": "code",
   "execution_count": 10,
   "metadata": {},
   "outputs": [
    {
     "data": {
      "text/plain": [
       "block_resimulation_update (generic function with 1 method)"
      ]
     },
     "execution_count": 10,
     "metadata": {},
     "output_type": "execute_result"
    }
   ],
   "source": [
    "function block_resimulation_update(tr, n_clusters, n_data)\n",
    "\n",
    "    # block 1: cluster locations and variances\n",
    "    for i=1:n_clusters\n",
    "        (tr, _) = Gen.mh(tr, select(:means => i))\n",
    "        (tr, _) = Gen.mh(tr, select(:spreads => i))\n",
    "    end\n",
    "    \n",
    "    # block 2: cluster assignments\n",
    "    for j=1:n_data\n",
    "        (tr, _) = Gen.mh(tr, select(:cluster => j))\n",
    "    end\n",
    "    \n",
    "    return tr\n",
    "end"
   ]
  },
  {
   "cell_type": "code",
   "execution_count": 11,
   "metadata": {},
   "outputs": [
    {
     "data": {
      "text/plain": [
       "block_resim_sample (generic function with 1 method)"
      ]
     },
     "execution_count": 11,
     "metadata": {},
     "output_type": "execute_result"
    }
   ],
   "source": [
    "function block_resim_sample(n_clusters, data)\n",
    "   \n",
    "    # set up the constraints\n",
    "    observations = Gen.choicemap()\n",
    "    for (i, z) in enumerate(data)\n",
    "        observations[:z => i] = z\n",
    "    end\n",
    "    \n",
    "    # Initialize the state\n",
    "    (tr, _) = Gen.generate(gauss_mix, (n_clusters, length(data)), observations)\n",
    "    \n",
    "    # This loop, in essence, performs thinning.\n",
    "    for t=1:1\n",
    "        tr = block_resimulation_update(tr, n_clusters, length(data))\n",
    "    end\n",
    "    \n",
    "    return tr\n",
    "end"
   ]
  },
  {
   "cell_type": "code",
   "execution_count": 12,
   "metadata": {},
   "outputs": [],
   "source": [
    "function block_resim_inference(n_clusters, data, n_samples)\n",
    "    \n",
    "    centers = zeros((n_samples, n_clusters))\n",
    "    assignments = zeros((length(data), n_clusters))\n",
    "    \n",
    "    for i=1:n_samples\n",
    "        println(\"Sample \", i)\n",
    "        sampled_tr = block_resim_sample(n_clusters, data)\n",
    "        \n",
    "        for k=1:n_clusters\n",
    "            centers[i,k] = sampled_tr[:means => k]\n",
    "        end\n",
    "        for k=1:length(data)\n",
    "            assignments[k,sampled_tr[:cluster => k]] += 1\n",
    "        end\n",
    "        \n",
    "    end\n",
    "    \n",
    "    return centers, assignments \n",
    "end;"
   ]
  },
  {
   "cell_type": "code",
   "execution_count": 15,
   "metadata": {},
   "outputs": [
    {
     "name": "stdout",
     "output_type": "stream",
     "text": [
      "Sample 1\n",
      "Sample 2\n",
      "Sample 3\n",
      "Sample 4\n",
      "Sample 5\n",
      "Sample 6\n",
      "Sample 7\n",
      "Sample 8\n",
      "Sample 9\n",
      "Sample 10\n",
      "Sample 11\n",
      "Sample 12\n",
      "Sample 13\n",
      "Sample 14\n",
      "Sample 15\n",
      "Sample 16\n",
      "Sample 17\n",
      "Sample 18\n",
      "Sample 19\n",
      "Sample 20\n"
     ]
    },
    {
     "data": {
      "text/plain": [
       "([-1.9743953468051192 11.18093822796274 10.385110657566063; 5.88530471161401 -10.879809371032113 7.0716248775362995; … ; -11.348563751510419 -8.49666917440127 -6.229508628003665; 10.061925347781795 10.919596629785318 -1.4731728035156613], [5.0 9.0 6.0; 5.0 5.0 10.0; … ; 4.0 8.0 8.0; 7.0 6.0 7.0])"
      ]
     },
     "execution_count": 15,
     "metadata": {},
     "output_type": "execute_result"
    }
   ],
   "source": [
    "zs = [tr[:z => i] for i=1:n_samples];\n",
    "centers, assignments = block_resim_inference(3, zs, 20)"
   ]
  },
  {
   "cell_type": "code",
   "execution_count": 16,
   "metadata": {},
   "outputs": [
    {
     "data": {
      "text/plain": [
       "20×3 Array{Float64,2}:\n",
       "  -1.9744       11.1809    10.3851  \n",
       "   5.8853      -10.8798     7.07162 \n",
       "  10.2016       15.9564     7.11528 \n",
       "  -0.974523      9.6182     8.33206 \n",
       "   5.09547      11.4203     3.76698 \n",
       "  -0.00429222    2.6104     1.94812 \n",
       "   7.20625      -0.535058   3.59994 \n",
       "  -5.64509      11.0726    -7.53711 \n",
       "  -1.84194       4.43955   -7.51937 \n",
       "   3.43083      14.6049    10.2065  \n",
       "   9.08906      -0.412451   8.6951  \n",
       "  -4.1575       -1.11492   14.4886  \n",
       "  -6.81282      -3.08237   14.2036  \n",
       "   0.531259     13.3425    22.8631  \n",
       "   4.46792      -7.4889    12.4672  \n",
       "  10.8463       11.5037     7.96728 \n",
       "  12.7247        6.74102    6.91529 \n",
       "  12.7342       10.2467     0.679581\n",
       " -11.3486       -8.49667   -6.22951 \n",
       "  10.0619       10.9196    -1.47317 "
      ]
     },
     "execution_count": 16,
     "metadata": {},
     "output_type": "execute_result"
    }
   ],
   "source": [
    "centers"
   ]
  },
  {
   "cell_type": "markdown",
   "metadata": {},
   "source": [
    "## Inference: k-means guided resampling\n",
    "\n",
    "Our straightforward approach had some issues -- especially with identifiability.\n",
    "\n",
    "During resampling, there was little reason for "
   ]
  },
  {
   "cell_type": "code",
   "execution_count": null,
   "metadata": {},
   "outputs": [],
   "source": [
    "using Statistics\n",
    "\n",
    "function mean_update(data, cluster_assignments, k)\n",
    "    return [mean(data[cluster_assignments .== i]) for i=1:k]\n",
    "end\n",
    "\n",
    "function cluster_update(data, means)\n",
    "    \n",
    "    dists = map(abs, data .- transpose(means))\n",
    "    min_inds = argmin(dists, dims=2)\n",
    "    \n",
    "    return [min_inds[i][2] for i=1:length(min_inds)]\n",
    "end\n",
    "\n",
    "\n",
    "function kmeans(data::Array{Float64,1}, k::Int64, spread=1.0, max_iter::Int64=1000)\n",
    "    \n",
    "    # random initialization\n",
    "    cluster_assignments = zeros(size(data)[1])\n",
    "    means = rand(data, k)\n",
    "    \n",
    "    i = 1\n",
    "    while i <= max_iter\n",
    "        \n",
    "        cluster_assignments = cluster_update(data, means)\n",
    "        new_means = mean_update(data, cluster_assignments, k)\n",
    "        \n",
    "        if new_means == means\n",
    "            break\n",
    "        end\n",
    "        \n",
    "        means = new_means\n",
    "        i += 1\n",
    "        \n",
    "    end\n",
    "    \n",
    "    # Sort the means in order to ameliorate\n",
    "    # identifiability issues.\n",
    "    srt_inds = sortperm(means)\n",
    "    inv_map = zeros(size(srt_inds))\n",
    "    for (i, ind) in enumerate(srt_inds)\n",
    "        inv_map[ind] = i\n",
    "    end\n",
    "    ca = map(x->inv_map[x], cluster_assignments)\n",
    "    \n",
    "    return means[srt_inds], ca\n",
    "end"
   ]
  },
  {
   "cell_type": "code",
   "execution_count": null,
   "metadata": {},
   "outputs": [],
   "source": [
    "\n",
    "means, assignments = kmeans(zs, 5, 10.0, 1000)\n",
    "\n",
    "plot_choices(zs, means, assignments)\n",
    "ylim(0.0, 30.0)\n",
    "show()"
   ]
  },
  {
   "cell_type": "code",
   "execution_count": null,
   "metadata": {},
   "outputs": [],
   "source": [
    "generate()"
   ]
  }
 ],
 "metadata": {
  "kernelspec": {
   "display_name": "Julia 1.2.0",
   "language": "julia",
   "name": "julia-1.2"
  },
  "language_info": {
   "file_extension": ".jl",
   "mimetype": "application/julia",
   "name": "julia",
   "version": "1.2.0"
  }
 },
 "nbformat": 4,
 "nbformat_minor": 2
}
