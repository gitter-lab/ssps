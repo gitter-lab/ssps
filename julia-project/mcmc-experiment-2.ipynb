{
 "cells": [
  {
   "cell_type": "markdown",
   "metadata": {},
   "source": [
    "# MCMC experiment: round 2\n",
    "\n",
    "Mixture of Gaussians"
   ]
  },
  {
   "cell_type": "code",
   "execution_count": null,
   "metadata": {
    "collapsed": false
   },
   "outputs": [
    {
     "name": "stderr",
     "output_type": "stream",
     "text": [
      "┌ Info: Precompiling Gen [ea4f424c-a589-11e8-07c0-fd5c91b9da4a]\n",
      "└ @ Base loading.jl:1242\n"
     ]
    }
   ],
   "source": [
    "using Gen\n",
    "using PyPlot"
   ]
  },
  {
   "cell_type": "markdown",
   "metadata": {},
   "source": [
    "## Define a model"
   ]
  },
  {
   "cell_type": "code",
   "execution_count": null,
   "metadata": {
    "collapsed": true
   },
   "outputs": [],
   "source": [
    "@gen function gauss_mix(n_clusters::Int64, n_samples::Int64)\n",
    "    \n",
    "    cluster_means = [@trace(normal(0.0, 10.0), :means => i) for i=1:n_clusters]\n",
    "    cluster_spreads = [@trace(gamma(1.0, 1.0), :spreads => i) for i=1:n_clusters]\n",
    "    cluster_probs = fill(1.0/n_clusters, n_clusters)\n",
    "    \n",
    "    z = zeros(n_samples, 1)\n",
    "    \n",
    "    for j=1:n_samples\n",
    "    \n",
    "        c = @trace(categorical(cluster_probs), :cluster => j)\n",
    "        z[j] = @trace(normal(cluster_means[c], cluster_spreads[c]), :z => j)\n",
    "    end\n",
    "    \n",
    "    return z\n",
    "\n",
    "end;"
   ]
  },
  {
   "cell_type": "markdown",
   "metadata": {},
   "source": [
    "## Sanity check: simulate & visualize"
   ]
  },
  {
   "cell_type": "code",
   "execution_count": null,
   "metadata": {
    "collapsed": true
   },
   "outputs": [],
   "source": [
    "n_samples = 500\n",
    "n_clusters = 3\n",
    "    \n",
    "tr = simulate(gauss_mix, (n_clusters, n_samples));"
   ]
  },
  {
   "cell_type": "code",
   "execution_count": null,
   "metadata": {
    "collapsed": true
   },
   "outputs": [],
   "source": [
    "function plot_trace(tr)\n",
    "    \n",
    "    zs = [tr[:z => j] for j=1:n_samples];\n",
    "    means = [tr[:means => i] for i=1:n_clusters];\n",
    "    assignments = [tr[:cluster => j] for j=1:n_samples]\n",
    "    \n",
    "    plot_choices(zs, means, assignments)\n",
    "\n",
    "end\n",
    "\n",
    "function plot_choices(zs, means, assignments)\n",
    "    \n",
    "    hist_colors = [\"gray\", \"blue\", \"red\", \"orange\", \"yellow\"]\n",
    "    \n",
    "    z_sets = []\n",
    "    \n",
    "    for (i, mean) in enumerate(means)\n",
    "        plot([mean; mean], [0; n_samples], color=\"k\")\n",
    "        cluster_z = zs[assignments .== i]\n",
    "        hist(cluster_z, 20, color=hist_colors[i])\n",
    "    end\n",
    "    \n",
    "end;"
   ]
  },
  {
   "cell_type": "code",
   "execution_count": null,
   "metadata": {
    "collapsed": false
   },
   "outputs": [],
   "source": [
    "plot_trace(tr)\n",
    "ylim(0, 100)\n",
    "show()"
   ]
  },
  {
   "cell_type": "markdown",
   "metadata": {},
   "source": [
    "## Inference: block resimulation"
   ]
  },
  {
   "cell_type": "code",
   "execution_count": null,
   "metadata": {
    "collapsed": false
   },
   "outputs": [],
   "source": [
    "function block_resimulation_update(tr, n_clusters, n_data)\n",
    "\n",
    "    # block 1: cluster locations and variances\n",
    "    for i=1:n_clusters\n",
    "        (tr, _) = Gen.mh(tr, select(:means => i))\n",
    "        (tr, _) = Gen.mh(tr, select(:spreads => i))\n",
    "    end\n",
    "    \n",
    "    # block 2: cluster assignments\n",
    "    for j=1:n_data\n",
    "        (tr, _) = Gen.mh(tr, select(:cluster => j))\n",
    "    end\n",
    "    \n",
    "    return tr\n",
    "end"
   ]
  },
  {
   "cell_type": "code",
   "execution_count": null,
   "metadata": {
    "collapsed": false
   },
   "outputs": [],
   "source": [
    "function block_resim_sample(n_clusters, data)\n",
    "   \n",
    "    # set up the constraints\n",
    "    observations = Gen.choicemap()\n",
    "    for (i, z) in enumerate(data)\n",
    "        observations[:z => i] = z\n",
    "    end\n",
    "    \n",
    "    # Initialize the state\n",
    "    (tr, _) = Gen.generate(gauss_mix, (n_clusters, length(data)), observations)\n",
    "    \n",
    "    # This loop, in essence, performs thinning.\n",
    "    for t=1:1\n",
    "        tr = block_resimulation_update(tr, n_clusters, length(data))\n",
    "    end\n",
    "    \n",
    "    return tr\n",
    "end"
   ]
  },
  {
   "cell_type": "code",
   "execution_count": null,
   "metadata": {
    "collapsed": true
   },
   "outputs": [],
   "source": [
    "function block_resim_inference(n_clusters, data, n_samples)\n",
    "    \n",
    "    centers = zeros((n_samples, n_clusters))\n",
    "    assignments = zeros((length(data), n_clusters))\n",
    "    \n",
    "    for i=1:n_samples\n",
    "        println(\"Sample \", i)\n",
    "        sampled_tr = block_resim_sample(n_clusters, data)\n",
    "        \n",
    "        for k=1:n_clusters\n",
    "            centers[i,k] = sampled_tr[:means => k]\n",
    "        end\n",
    "        for k=1:length(data)\n",
    "            assignments[k,sampled_tr[:cluster => k]] += 1\n",
    "        end\n",
    "        \n",
    "    end\n",
    "    \n",
    "    return centers, assignments \n",
    "end;"
   ]
  },
  {
   "cell_type": "code",
   "execution_count": null,
   "metadata": {
    "collapsed": false
   },
   "outputs": [],
   "source": [
    "zs = [tr[:z => i] for i=1:n_samples];\n",
    "centers, assignments = block_resim_inference(3, zs, 20)"
   ]
  },
  {
   "cell_type": "code",
   "execution_count": null,
   "metadata": {
    "collapsed": false
   },
   "outputs": [],
   "source": [
    "centers"
   ]
  },
  {
   "cell_type": "markdown",
   "metadata": {},
   "source": [
    "## Inference: k-means guided resampling\n",
    "\n",
    "Our straightforward approach had some issues -- especially with identifiability.\n",
    "\n",
    "During resampling, there was little reason for "
   ]
  },
  {
   "cell_type": "code",
   "execution_count": null,
   "metadata": {
    "collapsed": true
   },
   "outputs": [],
   "source": [
    "using Statistics\n",
    "\n",
    "function mean_update(data, cluster_assignments, k)\n",
    "    return [mean(data[cluster_assignments .== i]) for i=1:k]\n",
    "end\n",
    "\n",
    "function cluster_update(data, means)\n",
    "    \n",
    "    dists = map(abs, data .- transpose(means))\n",
    "    min_inds = argmin(dists, dims=2)\n",
    "    \n",
    "    return [min_inds[i][2] for i=1:length(min_inds)]\n",
    "end\n",
    "\n",
    "\n",
    "function kmeans(data::Array{Float64,1}, k::Int64, spread=1.0, max_iter::Int64=1000)\n",
    "    \n",
    "    # random initialization\n",
    "    cluster_assignments = zeros(size(data)[1])\n",
    "    means = rand(data, k)\n",
    "    \n",
    "    i = 1\n",
    "    while i <= max_iter\n",
    "        \n",
    "        cluster_assignments = cluster_update(data, means)\n",
    "        new_means = mean_update(data, cluster_assignments, k)\n",
    "        \n",
    "        if new_means == means\n",
    "            break\n",
    "        end\n",
    "        \n",
    "        means = new_means\n",
    "        i += 1\n",
    "        \n",
    "    end\n",
    "    \n",
    "    # Sort the means in order to ameliorate\n",
    "    # identifiability issues.\n",
    "    srt_inds = sortperm(means)\n",
    "    inv_map = zeros(size(srt_inds))\n",
    "    for (i, ind) in enumerate(srt_inds)\n",
    "        inv_map[ind] = i\n",
    "    end\n",
    "    ca = map(x->inv_map[x], cluster_assignments)\n",
    "    \n",
    "    return means[srt_inds], ca\n",
    "end"
   ]
  },
  {
   "cell_type": "code",
   "execution_count": null,
   "metadata": {
    "collapsed": true
   },
   "outputs": [],
   "source": [
    "\n",
    "means, assignments = kmeans(zs, 5, 10.0, 1000)\n",
    "\n",
    "plot_choices(zs, means, assignments)\n",
    "ylim(0.0, 30.0)\n",
    "show()"
   ]
  },
  {
   "cell_type": "code",
   "execution_count": null,
   "metadata": {
    "collapsed": true
   },
   "outputs": [],
   "source": [
    "generate()"
   ]
  }
 ],
 "metadata": {
  "kernelspec": {
   "display_name": "Julia 1.2.0",
   "language": "julia",
   "name": "julia-1.2"
  },
  "language_info": {
   "file_extension": ".jl",
   "mimetype": "application/julia",
   "name": "julia",
   "version": "1.2.0"
  }
 },
 "nbformat": 4,
 "nbformat_minor": 2
}
