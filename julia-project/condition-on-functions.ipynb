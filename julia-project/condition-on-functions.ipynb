{
 "cells": [
  {
   "cell_type": "markdown",
   "metadata": {},
   "source": [
    "# `Gen`: Conditioning on Deterministic Functions of Variables \n",
    "\n",
    "## Problem statement:\n",
    "`Gen` doesn't allow me to infer posteriors conditioned on deterministic functions of random variables.\n",
    "It doesn't seem possible with the current set of language features.\n",
    "\n",
    "For example: consider the classic binomial inference problem: \n",
    "* $N$ and $p$ are chosen from suitable priors.\n",
    "* for each sample $z_1, \\ldots, z_m$ in our dataset, a $p$-weighted coin is flipped $N$ times.\n",
    "* each sample $z_i$ in our dataset is the **sum** of those $N$ coin flips: $z_i = \\sum_{j=1}^N x_j$. I.e., a deterministic function of the model's random choices.\n",
    "* we want to infer a posterior distribution on $N$ and $p$, **conditioned on** $z_1, \\ldots, z_m$.\n",
    "\n",
    "The purpose of this notebook is to illustrate the problem and try a few different workarounds."
   ]
  },
  {
   "cell_type": "code",
   "execution_count": 1,
   "metadata": {},
   "outputs": [],
   "source": [
    "using Gen\n",
    "using PyPlot\n",
    "using Statistics\n",
    "using SpecialFunctions"
   ]
  },
  {
   "cell_type": "markdown",
   "metadata": {},
   "source": [
    "## A very simple model\n",
    "\n",
    "We'll implement a very simple model to illustrate the problem.\n",
    "\n",
    "It looks like this:\n",
    "* $p \\sim Beta(\\alpha, \\beta)$\n",
    "* $x_1, x_2 \\sim Bernoulli(p)$ (iid)\n",
    "* $z = x_1 \\wedge x_2$\n",
    "\n",
    "That is: $p$ has a Beta prior; and the observed variable $z$ will be the (deterministic) conjunction of two hidden variables, $x_1$ and $x_2$.\n",
    "\n",
    "It's not too hard to compute the posterior of $p$:\n",
    "* If we observe $z = 1$, then we know both $x_1$ and $x_2$ are 1. So we have two bernoulli trials with positive outcome, and the posterior of $p$ is $Beta(\\alpha + 2, \\beta)$.\n",
    "* If we observe $z = 0$, then one or both of $x_1, x_2$ are zero. Some math shows that the posterior is therefore a mixture of two beta distributions:\n",
    "$$P(p | z=0) = \\frac{B(\\alpha, \\beta + 1)}{B(\\alpha, \\beta+1) + B(\\alpha+1, \\beta+1)} \\cdot Beta(\\alpha, \\beta)\n",
    "+ \\frac{B(\\alpha + 1, \\beta + 1)}{B(\\alpha, \\beta+1) + B(\\alpha+1, \\beta+1)} \\cdot Beta(\\alpha + 1, \\beta + 1)$$\n",
    "\n",
    "We'll compare our results -- if we can get them -- to these exact posteriors.\n"
   ]
  },
  {
   "cell_type": "code",
   "execution_count": 2,
   "metadata": {},
   "outputs": [
    {
     "data": {
      "text/plain": [
       "DynamicDSLFunction{Any}(Dict{Symbol,Any}(), Dict{Symbol,Any}(), Type[], ##simple_model#371, Bool[], false)"
      ]
     },
     "execution_count": 2,
     "metadata": {},
     "output_type": "execute_result"
    }
   ],
   "source": [
    "@gen function simple_model()\n",
    "    p = @trace(Gen.beta(1,1), :p)\n",
    "    x1 = @trace(bernoulli(p), :x1)\n",
    "    x2 = @trace(bernoulli(p), :x2)\n",
    "    z = x1 && x2\n",
    "    return z\n",
    "end"
   ]
  },
  {
   "cell_type": "markdown",
   "metadata": {},
   "source": [
    "Let's implement the exact posterior, while we're at it."
   ]
  },
  {
   "cell_type": "code",
   "execution_count": 54,
   "metadata": {},
   "outputs": [
    {
     "data": {
      "image/png": "[encoded data removed]",
      "text/plain": [
       "Figure(PyObject <Figure size 640x480 with 1 Axes>)"
      ]
     },
     "metadata": {},
     "output_type": "display_data"
    }
   ],
   "source": [
    "pspace = Vector(0.0:0.005:1.0)\n",
    "\n",
    "prior = exp.([logpdf(Gen.beta, p, 1, 1) for p in pspace])\n",
    "\n",
    "p_z1 = exp.([logpdf(Gen.beta, p, 3, 1) for p in pspace])\n",
    "\n",
    "B = SpecialFunctions.beta\n",
    "lp_p_z0 = p -> (B(1, 2)/ (B(1, 2) + B(2, 2))) * exp(logpdf(Gen.beta, p, 2, 2)) + (B(2,2)/ (B(1, 2) + B(2, 2))) * exp(logpdf(Gen.beta, p, 1, 3))\n",
    "p_z0 = [lp_p_z0(p) for p in pspace]\n",
    "\n",
    "plot(pspace, prior, label=\"P(p) (prior)\")\n",
    "plot(pspace, p_z1, label=\"P(p | z=1)\")\n",
    "plot(pspace, p_z0, label=\"P(p | z=0)\")\n",
    "legend(loc=\"upper left\")\n",
    "ylim(0,4)\n",
    "xlim(0,1)\n",
    "show()"
   ]
  },
  {
   "cell_type": "markdown",
   "metadata": {},
   "source": [
    "We'll generate a program trace and look at it:"
   ]
  },
  {
   "cell_type": "code",
   "execution_count": 17,
   "metadata": {},
   "outputs": [
    {
     "name": "stdout",
     "output_type": "stream",
     "text": [
      "│\n",
      "├── :p : 0.28685641096549847\n",
      "│\n",
      "├── :x2 : false\n",
      "│\n",
      "└── :x1 : false\n",
      "\n",
      "false\n",
      "-0.6761449833966935\n"
     ]
    }
   ],
   "source": [
    "tr = Gen.simulate(simple_model, ());\n",
    "println(get_choices(tr))\n",
    "println(get_retval(tr))\n",
    "println(get_score(tr))"
   ]
  },
  {
   "cell_type": "markdown",
   "metadata": {},
   "source": [
    "## The problem\n",
    "The program's random choices and return value are shown.\n",
    "Since the return value ($z$) is not a random choice, it is not included in the choice map.\n",
    "\n",
    "We are not able to constrain this value when we `generate` or `update` the trace.\n",
    "\n",
    "This is a limitation of the `Gen` probabilistic programming language.\n",
    "\n",
    "Our first attempt to address this will rely on constructing a new distribution: the Dirac delta."
   ]
  },
  {
   "cell_type": "markdown",
   "metadata": {},
   "source": [
    "# Workaround 1: the Dirac delta\n",
    "\n",
    "The return value, $z$, is a deterministic function of the random variables $x_1$ and $x_2$. \n",
    "Probabilistically, we could describe $z$ as having a *point distribution* located at $x_1 \\wedge x_2$.\n",
    "\n",
    "We'll implement a point distribution (physicists call them \"Dirac deltas\") and use that to treat $z$ as a random choice in the program.\n",
    "\n",
    "It feels like cheating -- it seems too much like a hack. Could it possibly work?"
   ]
  },
  {
   "cell_type": "code",
   "execution_count": 5,
   "metadata": {},
   "outputs": [],
   "source": [
    "# This defines the DiracDelta distribution for \n",
    "# various types of data: float, int, bool.\n",
    "for t in (:Float64, :Int64, :Bool)\n",
    "    name = Symbol(:DiracDelta, t)\n",
    "    lname = Symbol(:diracdelta, t)\n",
    "    eval(\n",
    "    quote\n",
    "    struct $name <: Gen.Distribution{$t} end\n",
    "    $lname = $name()\n",
    "    Gen.random($lname, u) = u\n",
    "    Gen.logpdf($lname, x, u) = x == u ? 0.0 : -Inf\n",
    "    end \n",
    "        )\n",
    "end"
   ]
  },
  {
   "cell_type": "markdown",
   "metadata": {},
   "source": [
    "We rewrite the model, using the DiracDelta distribution:"
   ]
  },
  {
   "cell_type": "code",
   "execution_count": 12,
   "metadata": {},
   "outputs": [
    {
     "data": {
      "text/plain": [
       "DynamicDSLFunction{Any}(Dict{Symbol,Any}(), Dict{Symbol,Any}(), Type[], ##simple_model_rewrite#373, Bool[], false)"
      ]
     },
     "execution_count": 12,
     "metadata": {},
     "output_type": "execute_result"
    }
   ],
   "source": [
    "@gen function simple_model_rewrite()\n",
    "    p = @trace(Gen.beta(1,1), :p)\n",
    "    x1 = @trace(bernoulli(p), :x1)\n",
    "    x2 = @trace(bernoulli(p), :x2)\n",
    "    z = @trace(diracdeltaBool(x1 && x2), :z)\n",
    "    return z\n",
    "end"
   ]
  },
  {
   "cell_type": "markdown",
   "metadata": {},
   "source": [
    "Show a simulated trace:"
   ]
  },
  {
   "cell_type": "code",
   "execution_count": 18,
   "metadata": {},
   "outputs": [
    {
     "name": "stdout",
     "output_type": "stream",
     "text": [
      "│\n",
      "├── :p : 0.2386898319763093\n",
      "│\n",
      "├── :x2 : false\n",
      "│\n",
      "├── :z : false\n",
      "│\n",
      "└── :x1 : false\n",
      "\n",
      "-0.5454288492532766\n"
     ]
    }
   ],
   "source": [
    "tr = Gen.simulate(simple_model_rewrite, ());\n",
    "println(get_choices(tr))\n",
    "println(get_score(tr))"
   ]
  },
  {
   "cell_type": "markdown",
   "metadata": {},
   "source": [
    "Now that $z$ is treated as a random choice, perhaps we can condition on it.\n",
    "\n",
    "We make a choicemap which constrains $z=1$. Then we'll perform importance resampling to estimate the posterior distribution."
   ]
  },
  {
   "cell_type": "code",
   "execution_count": 58,
   "metadata": {},
   "outputs": [
    {
     "data": {
      "text/plain": [
       "true"
      ]
     },
     "execution_count": 58,
     "metadata": {},
     "output_type": "execute_result"
    }
   ],
   "source": [
    "observation = Gen.choicemap()\n",
    "observation[:z] = true"
   ]
  },
  {
   "cell_type": "code",
   "execution_count": 59,
   "metadata": {},
   "outputs": [
    {
     "name": "stdout",
     "output_type": "stream",
     "text": [
      "│\n",
      "├── :p : 0.5619865878543069\n",
      "│\n",
      "├── :x2 : false\n",
      "│\n",
      "├── :z : true\n",
      "│\n",
      "└── :x1 : false\n",
      "\n",
      "-Inf\n"
     ]
    }
   ],
   "source": [
    "tr, _ = Gen.generate(simple_model_rewrite, (), observation);\n",
    "println(get_choices(tr))\n",
    "println(get_score(tr))"
   ]
  },
  {
   "cell_type": "code",
   "execution_count": 60,
   "metadata": {},
   "outputs": [
    {
     "data": {
      "text/plain": [
       "importance_resampling_inference (generic function with 2 methods)"
      ]
     },
     "execution_count": 60,
     "metadata": {},
     "output_type": "execute_result"
    }
   ],
   "source": [
    "function importance_resampling_inference(n_post_samples=1000)\n",
    "    pvec = zeros(n_post_samples)\n",
    "    scores = zeros(n_post_samples)\n",
    "    for i=1:n_post_samples\n",
    "        tr, w = Gen.importance_resampling(simple_model_rewrite, (), observation, 50)\n",
    "        pvec[i] = tr[:p]\n",
    "        scores[i] = w\n",
    "    end\n",
    "    return pvec, scores\n",
    "end"
   ]
  },
  {
   "cell_type": "code",
   "execution_count": 64,
   "metadata": {},
   "outputs": [
    {
     "name": "stdout",
     "output_type": "stream",
     "text": [
      "Only 54.0% of samples had nonzero probability."
     ]
    }
   ],
   "source": [
    "n_posterior_samples = 2000\n",
    "pvec, scores = importance_resampling_inference(n_posterior_samples);\n",
    "pvec = [p for (i, p) in enumerate(pvec) if scores[i] > -Inf];\n",
    "print(\"Only \", 100.0 * round(length(pvec)/n_posterior_samples, digits=2), \"% of samples had nonzero probability.\")"
   ]
  },
  {
   "cell_type": "code",
   "execution_count": 62,
   "metadata": {},
   "outputs": [
    {
     "data": {
      "image/png": "[encoded data removed]",
      "text/plain": [
       "Figure(PyObject <Figure size 640x480 with 1 Axes>)"
      ]
     },
     "metadata": {},
     "output_type": "display_data"
    }
   ],
   "source": [
    "hist(pvec,density=true)\n",
    "plot(pspace, p_z1)\n",
    "show()"
   ]
  },
  {
   "cell_type": "markdown",
   "metadata": {},
   "source": [
    "### Is this working? \n",
    "\n",
    "For a single deterministic observation, $z$, this seems like a reasonable approach.\n",
    "\n",
    "However, the fact that ~50% of samples had zero probability is concerning. \n",
    "\n",
    "Does this percentage increase if we have multiple deterministic observations? \n",
    "\n",
    "We'll make a variant of the model which generates multiple iid outputs.\n",
    "Then we'll condition on the outputs and see whether sampling becomes prohibitively inefficient."
   ]
  },
  {
   "cell_type": "code",
   "execution_count": 68,
   "metadata": {},
   "outputs": [
    {
     "data": {
      "text/plain": [
       "DynamicDSLFunction{Any}(Dict{Symbol,Any}(), Dict{Symbol,Any}(), Type[Any], ##simple_model_multi#375, Bool[0], false)"
      ]
     },
     "execution_count": 68,
     "metadata": {},
     "output_type": "execute_result"
    }
   ],
   "source": [
    "@gen function simple_model_multi(N)\n",
    "    p = @trace(Gen.beta(1,1), :p)\n",
    "    for i=1:N\n",
    "        x1 = @trace(Gen.bernoulli(p), :x1 => i)\n",
    "        x2 = @trace(Gen.bernoulli(p), :x2 => i)\n",
    "        z = @trace(diracdeltaBool(x1 && x2), :z => i)\n",
    "    end\n",
    "end"
   ]
  },
  {
   "cell_type": "code",
   "execution_count": 69,
   "metadata": {},
   "outputs": [
    {
     "name": "stdout",
     "output_type": "stream",
     "text": [
      "│\n",
      "├── :p : 0.3878833752485016\n",
      "│\n",
      "├── :x2\n",
      "│   │\n",
      "│   ├── 4 : false\n",
      "│   │\n",
      "│   ├── 2 : false\n",
      "│   │\n",
      "│   ├── 3 : true\n",
      "│   │\n",
      "│   ├── 5 : false\n",
      "│   │\n",
      "│   └── 1 : false\n",
      "│\n",
      "├── :z\n",
      "│   │\n",
      "│   ├── 4 : false\n",
      "│   │\n",
      "│   ├── 2 : false\n",
      "│   │\n",
      "│   ├── 3 : true\n",
      "│   │\n",
      "│   ├── 5 : false\n",
      "│   │\n",
      "│   └── 1 : false\n",
      "│\n",
      "└── :x1\n",
      "    │\n",
      "    ├── 4 : true\n",
      "    │\n",
      "    ├── 2 : true\n",
      "    │\n",
      "    ├── 3 : true\n",
      "    │\n",
      "    ├── 5 : true\n",
      "    │\n",
      "    └── 1 : false\n"
     ]
    }
   ],
   "source": [
    "tr = Gen.simulate(simple_model_multi, (5,));\n",
    "print(get_choices(tr))"
   ]
  },
  {
   "cell_type": "code",
   "execution_count": 70,
   "metadata": {},
   "outputs": [],
   "source": [
    "observations = Gen.choicemap()\n",
    "for i=1:5\n",
    "    observations[:z => i] = true\n",
    "end"
   ]
  },
  {
   "cell_type": "code",
   "execution_count": 89,
   "metadata": {},
   "outputs": [
    {
     "data": {
      "text/plain": [
       "importance_resampling_inference_multi (generic function with 2 methods)"
      ]
     },
     "execution_count": 89,
     "metadata": {},
     "output_type": "execute_result"
    }
   ],
   "source": [
    "function importance_resampling_inference_multi(n_post_samples=1000)\n",
    "    pvec = zeros(n_post_samples)\n",
    "    scores = zeros(n_post_samples)\n",
    "    xs = zeros(n_post_samples, 5, 2)\n",
    "    zs = zeros(n_post_samples, 5)\n",
    "    for i=1:n_post_samples\n",
    "        tr, w = Gen.importance_resampling(simple_model_multi, (5,), observations, 1000)\n",
    "        pvec[i] = tr[:p]\n",
    "        scores[i] = w\n",
    "        for j=1:5\n",
    "            xs[i,j,1] = tr[:x1 => j]\n",
    "            xs[i,j,2] = tr[:x2 => j]\n",
    "            zs[i, j] = tr[:z => j]\n",
    "        end\n",
    "    end\n",
    "    return pvec, scores, xs, zs\n",
    "end"
   ]
  },
  {
   "cell_type": "code",
   "execution_count": 100,
   "metadata": {},
   "outputs": [
    {
     "name": "stdout",
     "output_type": "stream",
     "text": [
      "Only 17.0% of samples had nonzero probability."
     ]
    }
   ],
   "source": [
    "pvec, scores, xs, zs = importance_resampling_inference_multi(n_posterior_samples);\n",
    "pvec = [p for (i, p) in enumerate(pvec) if scores[i] > -Inf];\n",
    "bad_xs = xs[isnan.(scores), :,:]\n",
    "print(\"Only \", 100.0 * round(length(pvec)/n_posterior_samples, digits=2), \"% of samples had nonzero probability.\")"
   ]
  },
  {
   "cell_type": "code",
   "execution_count": 103,
   "metadata": {},
   "outputs": [
    {
     "data": {
      "text/plain": [
       "0"
      ]
     },
     "execution_count": 103,
     "metadata": {},
     "output_type": "execute_result"
    }
   ],
   "source": [
    "# checking that samples were assigned zero probability \n",
    "# if **any** of the assignments missed their observed value\n",
    "anded_xs = (sum(bad_xs, dims=3) .>= 2);\n",
    "all_ones = sum(anded_xs, dims=2) .>= 5;\n",
    "num_satisfactory = sum(all_ones)"
   ]
  },
  {
   "cell_type": "code",
   "execution_count": 77,
   "metadata": {},
   "outputs": [
    {
     "data": {
      "image/png": "[encoded data removed]",
      "text/plain": [
       "Figure(PyObject <Figure size 640x480 with 1 Axes>)"
      ]
     },
     "metadata": {},
     "output_type": "display_data"
    }
   ],
   "source": [
    "hist(pvec, density=true)\n",
    "show()"
   ]
  },
  {
   "cell_type": "markdown",
   "metadata": {},
   "source": [
    "### Bad news\n",
    "\n",
    "When we increased the number of observations to 5, only 17% of the samples generated by the importance resampler had nonzero probability.\n",
    "\n",
    "It seems clear that `Gen` is simply\n",
    "1. randomly drawing the variables \"up-trace\" of the observations\n",
    "2. computing the deterministic values of the observed variables\n",
    "3. giving each trace a probability of zero if it fails to agree with **ANY** of the observed values.\n",
    "\n",
    "This illustrates that the Dirac delta strategy, on its own, will not be a useful strategy when we have a large number of observations. And it will probably get worse as the possible _values_ for those observations increases.\n",
    "\n",
    "### Is this mathematically necessary?\n",
    "\n",
    "It doesn't seem necessary to reject so many samples. I.e.; it seems wasteful to throw away samples just because they've been assigned a zero probability. Surely there's still some information in those samples?\n",
    "\n",
    "We know that the $(x_1, x_2)$ pairs are conditionally independent of each other, given a fixed $p$. "
   ]
  },
  {
   "cell_type": "markdown",
   "metadata": {},
   "source": [
    "## What if we use `Gen.Map` to enforce independence?\n",
    "\n",
    "Gen's Map combinator receives a probabilistic program as an argument, and returns a _new_ probabilistic program that generates a vector of independent samples.\n",
    "\n",
    "It's not clear to me whether the machinery built into Map would r"
   ]
  },
  {
   "cell_type": "code",
   "execution_count": 87,
   "metadata": {},
   "outputs": [
    {
     "data": {
      "text/plain": [
       "true"
      ]
     },
     "execution_count": 87,
     "metadata": {},
     "output_type": "execute_result"
    }
   ],
   "source": [
    "Inf == Inf"
   ]
  },
  {
   "cell_type": "markdown",
   "metadata": {},
   "source": [
    "## What if we use the Dirac delta with a smarter inference method?"
   ]
  },
  {
   "cell_type": "code",
   "execution_count": null,
   "metadata": {},
   "outputs": [],
   "source": []
  }
 ],
 "metadata": {
  "kernelspec": {
   "display_name": "Julia 1.2.0",
   "language": "julia",
   "name": "julia-1.2"
  },
  "language_info": {
   "file_extension": ".jl",
   "mimetype": "application/julia",
   "name": "julia",
   "version": "1.2.0"
  }
 },
 "nbformat": 4,
 "nbformat_minor": 2
}
