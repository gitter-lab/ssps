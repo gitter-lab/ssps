{
 "cells": [
  {
   "cell_type": "markdown",
   "metadata": {},
   "source": [
    "# Metaprogramming in Julia\n",
    "\n",
    "We'll write a program that writes programs. \n",
    "\n",
    "More precisely: it will translate DAGs into Julia functions."
   ]
  },
  {
   "cell_type": "code",
   "execution_count": 1,
   "metadata": {
    "collapsed": true
   },
   "outputs": [],
   "source": [
    "# This is a simple directed graph module I wrote.\n",
    "include(\"DiGraph.jl\")\n",
    "using .DiGraphs"
   ]
  },
  {
   "cell_type": "code",
   "execution_count": 2,
   "metadata": {
    "collapsed": true
   },
   "outputs": [],
   "source": [
    "# A simple type for defining operation nodes.\n",
    "struct Node\n",
    "    varname::Symbol\n",
    "    op::Symbol\n",
    "end"
   ]
  },
  {
   "cell_type": "markdown",
   "metadata": {},
   "source": [
    "## XOR function as a DAG\n",
    "\n",
    "![xor circuit diagram](xor-circuit-edited.png)"
   ]
  },
  {
   "cell_type": "code",
   "execution_count": 3,
   "metadata": {
    "collapsed": false
   },
   "outputs": [],
   "source": [
    "xor_edges = [[Node(:x1, :input) Node(:z1, :!)];\n",
    "    [Node(:x2, :input) Node(:z2, :!)];\n",
    "    [Node(:x1, :input) Node(:z4, :&)];\n",
    "    [Node(:x2, :input) Node(:z3, :&)];\n",
    "    [Node(:z1, :!) Node(:z3, :&)];\n",
    "    [Node(:z2, :!) Node(:z3, :&)]\n",
    "    [Node(:z3, :&) Node(:z5, :|)];\n",
    "    [Node(:z4, :&) Node(:z5, :|)];\n",
    "    [Node(:z5, :|) Node(:z6, :output)]\n",
    "    ];"
   ]
  },
  {
   "cell_type": "code",
   "execution_count": 4,
   "metadata": {
    "collapsed": false
   },
   "outputs": [],
   "source": [
    "xor_dag = DiGraph(xor_edges);"
   ]
  },
  {
   "cell_type": "markdown",
   "metadata": {},
   "source": [
    "## Translating from DAGs to Functions"
   ]
  },
  {
   "cell_type": "markdown",
   "metadata": {},
   "source": [
    "### Vertices to operations"
   ]
  },
  {
   "cell_type": "code",
   "execution_count": 5,
   "metadata": {
    "collapsed": false
   },
   "outputs": [
    {
     "data": {
      "text/plain": [
       "invertices_to_sig (generic function with 1 method)"
      ]
     },
     "execution_count": 5,
     "metadata": {},
     "output_type": "execute_result"
    }
   ],
   "source": [
    "function make_expr(head, args)\n",
    "    result = Expr(head)\n",
    "    result.args = args\n",
    "    return result\n",
    "end\n",
    "\n",
    "\n",
    "function opvertex_to_expr(v, dg)\n",
    "    rhs = make_expr(:call, vcat([v.op], [p.varname for p in in_neighbors(dg, v)]))\n",
    "    return make_expr(:(=), vcat([v.varname], rhs))\n",
    "end\n",
    "\n",
    "\n",
    "function retvertex_to_expr(v, dg)\n",
    "    return make_expr(:return, [p.varname for p in in_neighbors(dg, v)])\n",
    "end\n",
    "\n",
    "\n",
    "function invertices_to_sig(invertices, dg, funcname::String)\n",
    "    return make_expr(:call, vcat(Symbol(funcname), [v.varname for v in invertices]))\n",
    "end\n"
   ]
  },
  {
   "cell_type": "markdown",
   "metadata": {},
   "source": [
    "### DAG to function"
   ]
  },
  {
   "cell_type": "code",
   "execution_count": 6,
   "metadata": {
    "collapsed": false
   },
   "outputs": [
    {
     "data": {
      "text/plain": [
       "dag_to_func (generic function with 2 methods)"
      ]
     },
     "execution_count": 6,
     "metadata": {},
     "output_type": "execute_result"
    }
   ],
   "source": [
    "function dag_to_func(dg, funcname::String=\"myfunction\")\n",
    "\n",
    "    invertices = [v for v in dg.vertices if v.op == :input]\n",
    "    \n",
    "    # There must be at least one return vertex:\n",
    "    retvertex = [v for v in dg.vertices if v.op == :output][1]\n",
    "\n",
    "    opvertices = [v for v in topological_sort(dg) if (! in(v, invertices)) & (! (v == retvertex))]\n",
    "    \n",
    "    signature = invertices_to_sig(invertices, dg, funcname)\n",
    "    operations = [opvertex_to_expr(v, dg) for v in opvertices]\n",
    "    retline = [retvertex_to_expr(retvertex, dg)]\n",
    "    \n",
    "    body = make_expr(:block, vcat(operations, retline))\n",
    "    return make_expr(:function, vcat([signature], [body]))\n",
    "                                        \n",
    "end"
   ]
  },
  {
   "cell_type": "markdown",
   "metadata": {},
   "source": [
    "### Testing it on the XOR circuit"
   ]
  },
  {
   "cell_type": "code",
   "execution_count": 7,
   "metadata": {
    "collapsed": false
   },
   "outputs": [
    {
     "data": {
      "text/plain": [
       ":(function xor_function(x2, x1)\n",
       "      z4 = (&)(x1)\n",
       "      z2 = !x2\n",
       "      z1 = !x1\n",
       "      z3 = &(z1, x2, z2)\n",
       "      z5 = z3 | z4\n",
       "      return z5\n",
       "  end)"
      ]
     },
     "execution_count": 7,
     "metadata": {},
     "output_type": "execute_result"
    }
   ],
   "source": [
    "func_expr = dag_to_func(xor_dag, \"xor_function\")"
   ]
  },
  {
   "cell_type": "code",
   "execution_count": 8,
   "metadata": {
    "collapsed": false
   },
   "outputs": [
    {
     "data": {
      "text/plain": [
       "xor_function (generic function with 1 method)"
      ]
     },
     "execution_count": 8,
     "metadata": {},
     "output_type": "execute_result"
    }
   ],
   "source": [
    "eval(func_expr)"
   ]
  },
  {
   "cell_type": "code",
   "execution_count": 9,
   "metadata": {
    "collapsed": false
   },
   "outputs": [
    {
     "name": "stdout",
     "output_type": "stream",
     "text": [
      "true\ttrue\ttrue\n",
      "true\tfalse\tfalse\n",
      "false\ttrue\ttrue\n",
      "false\tfalse\tfalse\n"
     ]
    }
   ],
   "source": [
    "for i = (true, false)\n",
    "    for j = (true, false)\n",
    "        println(i, \"\\t\", j, \"\\t\", xor_function(i,j))\n",
    "    end\n",
    "end"
   ]
  }
 ],
 "metadata": {
  "anaconda-cloud": {},
  "kernelspec": {
   "display_name": "Julia 1.2.0",
   "language": "julia",
   "name": "julia-1.2"
  },
  "language_info": {
   "file_extension": ".jl",
   "mimetype": "application/julia",
   "name": "julia",
   "version": "1.2.0"
  }
 },
 "nbformat": 4,
 "nbformat_minor": 1
}
