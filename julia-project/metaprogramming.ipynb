{
 "cells": [
  {
   "cell_type": "code",
   "execution_count": 1,
   "metadata": {},
   "outputs": [],
   "source": [
    "include(\"DiGraph.jl\")\n",
    "using .DiGraphs"
   ]
  },
  {
   "cell_type": "code",
   "execution_count": 2,
   "metadata": {},
   "outputs": [
    {
     "data": {
      "text/plain": [
       ":(a = b + c)"
      ]
     },
     "execution_count": 2,
     "metadata": {},
     "output_type": "execute_result"
    }
   ],
   "source": [
    "expr = :(a = b + c)"
   ]
  },
  {
   "cell_type": "code",
   "execution_count": 3,
   "metadata": {},
   "outputs": [
    {
     "data": {
      "text/plain": [
       "2-element Array{Any,1}:\n",
       " :a      \n",
       " :(b + c)"
      ]
     },
     "execution_count": 3,
     "metadata": {},
     "output_type": "execute_result"
    }
   ],
   "source": [
    "expr.args"
   ]
  },
  {
   "cell_type": "code",
   "execution_count": 4,
   "metadata": {},
   "outputs": [
    {
     "data": {
      "text/plain": [
       ":(=)"
      ]
     },
     "execution_count": 4,
     "metadata": {},
     "output_type": "execute_result"
    }
   ],
   "source": [
    "s = expr.head"
   ]
  },
  {
   "cell_type": "code",
   "execution_count": 5,
   "metadata": {},
   "outputs": [],
   "source": [
    "struct Node\n",
    "    varname::Symbol\n",
    "    op::Symbol\n",
    "end"
   ]
  },
  {
   "cell_type": "code",
   "execution_count": 7,
   "metadata": {},
   "outputs": [
    {
     "data": {
      "text/plain": [
       "9×2 Array{Node,2}:\n",
       " Node(:x1, :input)  Node(:z1, :!)     \n",
       " Node(:x2, :input)  Node(:z2, :!)     \n",
       " Node(:x1, :input)  Node(:z3, :&)     \n",
       " Node(:x2, :input)  Node(:z4, :&)     \n",
       " Node(:z1, :!)      Node(:z4, :&)     \n",
       " Node(:z2, :!)      Node(:z3, :&)     \n",
       " Node(:z3, :&)      Node(:z5, :|)     \n",
       " Node(:z4, :&)      Node(:z5, :|)     \n",
       " Node(:z5, :|)      Node(:z6, :output)"
      ]
     },
     "execution_count": 7,
     "metadata": {},
     "output_type": "execute_result"
    }
   ],
   "source": [
    "xor_edges = [[Node(:x1, :input) Node(:z1, :!)];\n",
    "    [Node(:x2, :input) Node(:z2, :!)];\n",
    "    [Node(:x1, :input) Node(:z3, :&)];\n",
    "    [Node(:x2, :input) Node(:z4, :&)];\n",
    "    [Node(:z1, :!) Node(:z4, :&)];\n",
    "    [Node(:z2, :!) Node(:z3, :&)]\n",
    "    [Node(:z3, :&) Node(:z5, :|)];\n",
    "    [Node(:z4, :&) Node(:z5, :|)];\n",
    "    [Node(:z5, :|) Node(:z6, :output)]\n",
    "    ]"
   ]
  },
  {
   "cell_type": "code",
   "execution_count": 8,
   "metadata": {},
   "outputs": [
    {
     "data": {
      "text/plain": [
       "DiGraph{Node}(Set(Node[Node(:z1, :!), Node(:x2, :input), Node(:z2, :!), Node(:z3, :&), Node(:x1, :input), Node(:z4, :&), Node(:z5, :|), Node(:z6, :output)]), Node[Node(:x1, :input) Node(:z1, :!); Node(:x2, :input) Node(:z2, :!); … ; Node(:z4, :&) Node(:z5, :|); Node(:z5, :|) Node(:z6, :output)])"
      ]
     },
     "execution_count": 8,
     "metadata": {},
     "output_type": "execute_result"
    }
   ],
   "source": [
    "xor_dag = DiGraph(xor_edges)"
   ]
  },
  {
   "cell_type": "code",
   "execution_count": 9,
   "metadata": {},
   "outputs": [
    {
     "data": {
      "text/plain": [
       "Node(:EMPTY, :EMPTY)"
      ]
     },
     "execution_count": 9,
     "metadata": {},
     "output_type": "execute_result"
    }
   ],
   "source": [
    "virtual_v = Node(:EMPTY, :EMPTY)"
   ]
  },
  {
   "cell_type": "code",
   "execution_count": 10,
   "metadata": {},
   "outputs": [
    {
     "data": {
      "text/plain": [
       "9×2 BitArray{2}:\n",
       " 1  1\n",
       " 1  1\n",
       " 1  1\n",
       " 1  1\n",
       " 1  1\n",
       " 1  1\n",
       " 1  1\n",
       " 1  1\n",
       " 1  1"
      ]
     },
     "execution_count": 10,
     "metadata": {},
     "output_type": "execute_result"
    }
   ],
   "source": [
    "xor_edges .== xor_edges"
   ]
  },
  {
   "cell_type": "code",
   "execution_count": 11,
   "metadata": {},
   "outputs": [
    {
     "data": {
      "text/plain": [
       "2-element Array{Node,1}:\n",
       " Node(:x2, :input)\n",
       " Node(:x1, :input)"
      ]
     },
     "execution_count": 11,
     "metadata": {},
     "output_type": "execute_result"
    }
   ],
   "source": [
    "inputs = [node for node in xor_dag.vertices if node.op == :input]"
   ]
  },
  {
   "cell_type": "code",
   "execution_count": 21,
   "metadata": {},
   "outputs": [
    {
     "data": {
      "text/plain": [
       "8-element Array{Node,1}:\n",
       " Node(:x1, :input) \n",
       " Node(:z1, :!)     \n",
       " Node(:x2, :input) \n",
       " Node(:z4, :&)     \n",
       " Node(:z2, :!)     \n",
       " Node(:z3, :&)     \n",
       " Node(:z5, :|)     \n",
       " Node(:z6, :output)"
      ]
     },
     "execution_count": 21,
     "metadata": {},
     "output_type": "execute_result"
    }
   ],
   "source": [
    "sorted_vertices = topological_sort(xor_dag)"
   ]
  },
  {
   "cell_type": "code",
   "execution_count": 142,
   "metadata": {},
   "outputs": [
    {
     "data": {
      "text/plain": [
       "invertices_to_sig (generic function with 1 method)"
      ]
     },
     "execution_count": 142,
     "metadata": {},
     "output_type": "execute_result"
    }
   ],
   "source": [
    "function opvertex_to_expr(v, dg)\n",
    "\n",
    "    result = Expr(:(=))\n",
    "    \n",
    "    rhs = Expr(:call)\n",
    "    rhs.args = vcat([v.op], [p.varname for p in in_neighbors(dg, v)])\n",
    "    \n",
    "    result.args = vcat([v.varname], rhs)\n",
    "    \n",
    "    return result\n",
    "end\n",
    "\n",
    "\n",
    "function retvertex_to_expr(v, dg)\n",
    "    \n",
    "    result = Expr(:return)\n",
    "    result.args = [p.varname for p in in_neighbors(dg, v)]\n",
    "    return result\n",
    "end\n",
    "\n",
    "\n",
    "function invertices_to_sig(invertices, dg, funcname::String)\n",
    "\n",
    "    result = Expr(:call)\n",
    "    result.args = vcat(Symbol(funcname), [v.varname for v in invertices])\n",
    "    return result\n",
    "    \n",
    "end\n"
   ]
  },
  {
   "cell_type": "code",
   "execution_count": 143,
   "metadata": {},
   "outputs": [
    {
     "data": {
      "text/plain": [
       "dag_to_func (generic function with 2 methods)"
      ]
     },
     "execution_count": 143,
     "metadata": {},
     "output_type": "execute_result"
    }
   ],
   "source": [
    "function dag_to_func(dg, funcname::String=\"myfunction\")\n",
    "\n",
    "    invertices = [v for v in dg.vertices if v.op == :input]\n",
    "    \n",
    "    # There must be at least one return vertex:\n",
    "    retvertex = [v for v in dg.vertices if v.op == :output][1]\n",
    "\n",
    "    opvertices = [v for v in topological_sort(dg) if (! in(v, invertices)) & (! (v == retvertex))]\n",
    "    \n",
    "    signature = invertices_to_sig(invertices, dg, funcname)\n",
    "    operations = [opvertex_to_expr(v, dg) for v in opvertices]\n",
    "    retline = [retvertex_to_expr(retvertex, dg)]\n",
    "                                        \n",
    "    body = Expr(:block)\n",
    "    body.args = vcat(operations, retline)\n",
    "    \n",
    "    result = Expr(:function)\n",
    "    result.args = vcat([signature], [body])\n",
    "                                        \n",
    "    return result\n",
    "                                        \n",
    "end"
   ]
  },
  {
   "cell_type": "code",
   "execution_count": 144,
   "metadata": {},
   "outputs": [
    {
     "data": {
      "text/plain": [
       ":(function myfunction(x2, x1)\n",
       "      z1 = !x1\n",
       "      z4 = z1 & x2\n",
       "      z2 = !x2\n",
       "      z3 = z2 & x1\n",
       "      z5 = z3 | z4\n",
       "      return z5\n",
       "  end)"
      ]
     },
     "execution_count": 144,
     "metadata": {},
     "output_type": "execute_result"
    }
   ],
   "source": [
    "dag_to_func(xor_dag)"
   ]
  },
  {
   "cell_type": "code",
   "execution_count": 145,
   "metadata": {},
   "outputs": [
    {
     "data": {
      "text/plain": [
       "myfunction (generic function with 1 method)"
      ]
     },
     "execution_count": 145,
     "metadata": {},
     "output_type": "execute_result"
    }
   ],
   "source": [
    "eval(dag_to_func(xor_dag))"
   ]
  },
  {
   "cell_type": "code",
   "execution_count": 147,
   "metadata": {},
   "outputs": [
    {
     "name": "stdout",
     "output_type": "stream",
     "text": [
      "true\ttrue\tfalse\n",
      "true\tfalse\ttrue\n",
      "false\ttrue\ttrue\n",
      "false\tfalse\tfalse\n"
     ]
    }
   ],
   "source": [
    "for i = (true, false)\n",
    "    for j = (true, false)\n",
    "        println(i, \"\\t\", j, \"\\t\", myfunction(i,j))\n",
    "    end\n",
    "end"
   ]
  },
  {
   "cell_type": "code",
   "execution_count": null,
   "metadata": {},
   "outputs": [],
   "source": []
  }
 ],
 "metadata": {
  "anaconda-cloud": {},
  "kernelspec": {
   "display_name": "Julia 1.2.0",
   "language": "julia",
   "name": "julia-1.2"
  },
  "language_info": {
   "file_extension": ".jl",
   "mimetype": "application/julia",
   "name": "julia",
   "version": "1.2.0"
  }
 },
 "nbformat": 4,
 "nbformat_minor": 1
}
