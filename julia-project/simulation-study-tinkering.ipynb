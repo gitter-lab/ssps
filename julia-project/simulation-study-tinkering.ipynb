{
 "cells": [
  {
   "cell_type": "code",
   "execution_count": 110,
   "metadata": {},
   "outputs": [],
   "source": [
    "using Statistics\n",
    "using Distributions\n",
    "using Random\n",
    "using Combinatorics\n",
    "import LinearAlgebra: dot\n",
    "using CSV\n",
    "using DataFrames"
   ]
  },
  {
   "cell_type": "code",
   "execution_count": 171,
   "metadata": {},
   "outputs": [
    {
     "data": {
      "text/plain": [
       "save_graph"
      ]
     },
     "execution_count": 171,
     "metadata": {},
     "output_type": "execute_result"
    }
   ],
   "source": [
    "\"\"\"\n",
    "    generate_random_digraph(V::Int64, p::Float64)\n",
    "\n",
    "Generate a random directed graph with `V` vertices.\n",
    "Draws from a uniform distribution over directed graphs;\n",
    "every edge has probability `p` of being in the graph. \n",
    "\"\"\"\n",
    "function generate_random_digraph(V::Int64, p::Float64)\n",
    "    parent_sets = [convert(Vector{Bool}, rand(Distributions.Bernoulli(p), V)) for i=1:V]\n",
    "    return parent_sets\n",
    "end\n",
    "\n",
    "\n",
    "\"\"\"\n",
    "    digraph_prior(lambda::Float64, reference::Vector{Vector{Bool}})\n",
    "\n",
    "Sample a new graph G from the density\n",
    "\n",
    "P(G) \\\\propto exp(-lambda * |G \\\\ G'|)\n",
    "\n",
    "Where G' is a reference graph.\n",
    "\"\"\"\n",
    "function digraph_prior(lambda::Float64, reference::Vector{Vector{Bool}})\n",
    "\n",
    "    result = []\n",
    "    prob = exp(-lambda) / (1.0 + exp(-lambda))\n",
    "    for (i, ps) in enumerate(reference)\n",
    "        new_ps = Vector{Bool}()\n",
    "        for (j, parent) in enumerate(ps)\n",
    "            if parent\n",
    "                bp = 0.5\n",
    "            else\n",
    "                bp = prob\n",
    "            end\n",
    "            push!(new_ps, rand(Distributions.Bernoulli(bp)))\n",
    "        end\n",
    "        push!(result, new_ps)\n",
    "    end\n",
    "    return result\n",
    "end\n",
    "\n",
    "\n",
    "\"\"\"\n",
    "    modify_digraph!(ps::Vector{Vector{Int64}}, keep::Int64, add::Int64)\n",
    "\n",
    "Modify a given graph\n",
    "\"\"\"\n",
    "function modify_digraph!(ps::Vector{Vector{Bool}}, keep::Int64, add::Int64)\n",
    "\n",
    "    # get the indices of the original edges\n",
    "    ps_idx = []\n",
    "    not_ps_idx = [] # and the complement\n",
    "    for i=1:length(ps)\n",
    "        for (j, b) in enumerate(ps[i])\n",
    "            if b\n",
    "                push!(ps_idx, (i,j))\n",
    "            else\n",
    "                push!(not_ps_idx, (i,j))\n",
    "            end\n",
    "        end\n",
    "    end\n",
    "        \n",
    "    # Randomly remove edges from the graph\n",
    "    n_edges = length(ps_idx)\n",
    "    to_remove = Random.randperm(n_edges)[1:max(n_edges - keep, 0)]\n",
    "    for rm_idx in to_remove\n",
    "        (i,j) = ps_idx[rm_idx]\n",
    "        ps[i][j] = false\n",
    "    end\n",
    "    \n",
    "    # Randomly add edges (from the complement)\n",
    "    n_not_edges = length(not_ps_idx)\n",
    "    to_add = Random.randperm(n_not_edges)[1:add]\n",
    "    for add_idx in to_add\n",
    "        (i,j) = not_ps_idx[add_idx]\n",
    "        ps[i][j] = true\n",
    "    end\n",
    "    \n",
    "    return ps\n",
    "end\n",
    "\n",
    "\n",
    "\"\"\"\n",
    "    n_coeffs(V::Int64, max_degree::Int64)\n",
    "\n",
    "Given a number of variables (V) and a maximum polynomial degree\n",
    "for the regression model, compute the number of coefficients required\n",
    "by the model. (this includes the constant term)\n",
    "\"\"\"\n",
    "function n_coeffs(V::Int64, max_degree::Int64)\n",
    "    return sum([binomial(V, i) for i=0:min(V, max_degree)])\n",
    "end\n",
    "    \n",
    "\n",
    "\n",
    "\"\"\"\n",
    "    generate_reg_coeffs(ps::Vector{Vector{Bool}}, coeff_std::Float64, regression_deg::Int64)\n",
    "\n",
    "Given a vector of parent sets, generate a vector of regression coefficient vectors.\n",
    "(This includes the constant term)\n",
    "\"\"\"\n",
    "function generate_reg_coeffs(ps::Vector{Vector{Bool}}, coeff_std::Float64, regression_deg::Int64)\n",
    "   \n",
    "    result = Vector{Vector{Float64}}()\n",
    "    for v in ps\n",
    "        num_vars = sum(v)\n",
    "        bw = n_coeffs(num_vars, regression_deg)\n",
    "        push!(result, coeff_std.*randn(bw))\n",
    "    end\n",
    "    \n",
    "    return result\n",
    "end\n",
    "\n",
    "\n",
    "\"\"\"\n",
    "    initialize_time_series(V)\n",
    "\"\"\"\n",
    "function initialize_time_series(V::Int64; init_std::Float64=1.0)\n",
    "    return init_std.*randn(V)\n",
    "end\n",
    "\n",
    "\n",
    "\"\"\"\n",
    "    compute_B_data(x_vec::Vector{Float64}, ps::Vector{Bool}, regression_deg::Int64)\n",
    "\"\"\"\n",
    "function compute_B_data(x_vec::Vector{Float64}, ps::Vector{Bool}, regression_deg::Int64)\n",
    "   \n",
    "    used_x = x_vec[ps]\n",
    "    num_parents = length(used_x)\n",
    "    \n",
    "    B_vec = ones(n_coeffs(num_parents, regression_deg))\n",
    "    \n",
    "    col = 2\n",
    "    for deg=1:regression_deg\n",
    "        for comb in Combinatorics.combinations(used_x, deg)\n",
    "            B_vec[col] = prod(comb)\n",
    "            col += 1\n",
    "        end\n",
    "    end\n",
    "    \n",
    "    return B_vec\n",
    "end\n",
    "\n",
    "\"\"\"\n",
    "    generate_next_timestep_data(x_vec::Vector{Float64}, parent_sets::Vector{Vector{Bool}}, regression_std::Int64)\n",
    "\"\"\"\n",
    "function generate_next_timestep_data(x_vec::Vector{Float64}, \n",
    "                                     parent_sets::Vector{Vector{Bool}},\n",
    "                                     regression_coeffs::Vector{Vector{Float64}},\n",
    "                                     regression_deg::Int64,\n",
    "                                     regression_std::Float64)\n",
    "    \n",
    "    next_x = Vector{Float64}()\n",
    "    \n",
    "    for (i, ps) in enumerate(parent_sets)\n",
    "        \n",
    "        data_vec = compute_B_data(x_vec, ps, regression_deg)\n",
    "        \n",
    "        push!(next_x, dot(data_vec, regression_coeffs[i]) + regression_std*randn() )\n",
    "    end\n",
    "    \n",
    "    return next_x\n",
    "end\n",
    "\n",
    "\n",
    "\"\"\"\n",
    "    generate_time_series(parent_sets::Vector{Vector{Bool}}, \n",
    "                         V::Int64, T::Int64)\n",
    "\n",
    "Create a simulated time series with `T` time steps\n",
    "\"\"\"\n",
    "function generate_time_series(parent_sets::Vector{Vector{Bool}},\n",
    "                              T::Int64,\n",
    "                              regression_coeffs::Vector{Vector{Float64}},\n",
    "                              regression_deg::Int64,\n",
    "                              regression_std::Float64)\n",
    "    \n",
    "    result = zeros(T, length(parent_sets))\n",
    "    result[1,:] = initialize_time_series(length(parent_sets); init_std=regression_std)\n",
    "    \n",
    "    for t=2:T\n",
    "        result[t,:] = generate_next_timestep_data(result[t-1,:], parent_sets,\n",
    "                                                  regression_coeffs,\n",
    "                                                  regression_deg,\n",
    "                                                  regression_std)\n",
    "    end\n",
    "    \n",
    "    return result\n",
    "end\n",
    "\n",
    "\n",
    "\"\"\"\n",
    "    generate_dataset(T::Int64, N::Int64, parent_sets::Vector{Vector{Bool}},\n",
    "                     coeff_std::Float64, regression_deg::Int64, regression_std::Float64)\n",
    "\n",
    "Given a graph structure, generate some coefficients and simulate a dataset of N time series,\n",
    "each time series over T timesteps.\n",
    "\"\"\"\n",
    "function generate_dataset(T::Int64, N::Int64,\n",
    "                          parent_sets::Vector{Vector{Bool}},\n",
    "                          coeff_std::Float64, \n",
    "                          regression_deg::Int64, regression_std::Float64)\n",
    "    \n",
    "    coeffs = generate_reg_coeffs(parent_sets, coeff_std, regression_deg)\n",
    "    \n",
    "    return [generate_time_series(parent_sets, T, coeffs, regression_deg, regression_std) for i=1:N]\n",
    "    \n",
    "end\n",
    "\n",
    "\n",
    "\n",
    "\"\"\"\n",
    "    modify_and_simulate(ref_ps::Vector{Vector{Bool}}, remove::Int64, add::Int64)\n",
    "\n",
    "Given a reference graph, create a modified version of it and then simulate a dataset\n",
    "from that modified graph.\n",
    "\"\"\"\n",
    "function modify_and_simulate(ref_ps::Vector{Vector{Bool}}, keep::Int64, add::Int64, \n",
    "                             T::Int64, N::Int64,\n",
    "                             coeff_std::Float64, \n",
    "                             regression_deg::Int64, regression_std::Float64)\n",
    "    \n",
    "    ref_ps_copy = [copy(ps) for ps in ref_ps]\n",
    "    modify_digraph!(ref_ps_copy, keep, add)\n",
    "    \n",
    "    ds = generate_dataset(T, N, ref_ps_copy, coeff_std, regression_deg, regression_std) \n",
    "    \n",
    "    return ref_ps_copy, ds\n",
    "end\n",
    "\n",
    "\"\"\"\n",
    "    save_dataset(dataset::Vector{Array{Float64,2}}, file_name::String)\n",
    "\"\"\"\n",
    "function save_dataset(dataset::Vector{Array{Float64,2}}, file_name::String)\n",
    "\n",
    "    V = size(dataset[1],2)\n",
    "    \n",
    "    df = DataFrames.DataFrame(Dict([:timeseries=>Int[]; :timestep=>Int[]; \n",
    "                                   [(Symbol(\"var\",i)=>Float64[]) for i=1:V]]))    \n",
    "    \n",
    "    for (i, timeseries) in enumerate(dataset)\n",
    "        for t=1:size(timeseries,1)\n",
    "            push!(df, [i; t; dataset[i][t,:]])\n",
    "        end\n",
    "    end\n",
    "\n",
    "    CSV.write(file_name, df; delim=\"\\t\")\n",
    "end\n",
    "    \n",
    "\n",
    "\"\"\"\n",
    "    save_graph(parent_sets::Vector{Vector{Float64}}, file_name::String)\n",
    "\"\"\"\n",
    "function save_graph(parent_sets::Vector{Vector{Bool}}, file_name::String)\n",
    "   \n",
    "    CSV.write(file_name, \n",
    "              DataFrame(convert(Matrix{Int64}, hcat(parent_sets...)));\n",
    "              delim=\",\", writeheader=false)\n",
    "    \n",
    "end"
   ]
  },
  {
   "cell_type": "code",
   "execution_count": 79,
   "metadata": {},
   "outputs": [
    {
     "data": {
      "text/plain": [
       "20-element Array{Array{Bool,1},1}:\n",
       " [0, 0, 0, 0, 1, 0, 0, 0, 0, 0, 0, 1, 0, 0, 0, 0, 0, 0, 0, 0]\n",
       " [0, 1, 0, 0, 0, 0, 0, 0, 0, 0, 0, 0, 0, 0, 0, 0, 0, 0, 0, 0]\n",
       " [0, 1, 0, 0, 1, 0, 0, 0, 0, 0, 0, 0, 0, 1, 0, 0, 0, 0, 0, 0]\n",
       " [0, 0, 0, 0, 1, 0, 0, 0, 1, 0, 0, 1, 0, 0, 0, 0, 0, 1, 1, 0]\n",
       " [0, 1, 0, 0, 0, 0, 0, 0, 0, 0, 0, 0, 0, 0, 1, 0, 0, 0, 0, 1]\n",
       " [0, 1, 0, 0, 0, 1, 1, 0, 1, 0, 0, 0, 0, 0, 0, 0, 0, 0, 0, 0]\n",
       " [0, 0, 0, 1, 0, 0, 0, 0, 0, 0, 0, 0, 0, 0, 0, 0, 0, 0, 0, 0]\n",
       " [0, 1, 1, 0, 0, 0, 0, 0, 0, 0, 0, 0, 1, 0, 0, 0, 0, 0, 0, 0]\n",
       " [0, 0, 0, 0, 0, 0, 1, 0, 0, 0, 0, 0, 0, 0, 0, 0, 0, 0, 0, 0]\n",
       " [1, 0, 0, 0, 1, 0, 1, 0, 0, 0, 1, 0, 0, 0, 0, 1, 0, 0, 0, 0]\n",
       " [0, 0, 0, 0, 0, 0, 0, 1, 0, 0, 0, 0, 0, 0, 0, 0, 0, 0, 0, 0]\n",
       " [0, 0, 0, 0, 0, 0, 0, 0, 0, 0, 0, 0, 0, 0, 0, 0, 0, 0, 0, 0]\n",
       " [0, 0, 0, 0, 0, 0, 0, 0, 0, 0, 0, 0, 0, 0, 0, 1, 0, 0, 0, 0]\n",
       " [0, 0, 0, 0, 0, 0, 0, 1, 0, 0, 0, 0, 0, 0, 1, 0, 1, 0, 0, 0]\n",
       " [0, 0, 0, 0, 0, 0, 0, 1, 0, 1, 0, 0, 1, 0, 0, 0, 0, 0, 0, 0]\n",
       " [0, 0, 0, 0, 0, 0, 0, 0, 0, 0, 0, 1, 0, 0, 0, 0, 0, 0, 0, 0]\n",
       " [0, 0, 0, 0, 0, 0, 0, 0, 0, 0, 0, 1, 0, 0, 0, 0, 0, 1, 0, 0]\n",
       " [1, 0, 0, 0, 0, 0, 0, 0, 0, 0, 0, 0, 0, 0, 0, 0, 0, 0, 0, 0]\n",
       " [0, 0, 0, 0, 0, 0, 0, 0, 0, 1, 0, 0, 0, 0, 0, 1, 0, 0, 0, 1]\n",
       " [0, 0, 0, 0, 0, 1, 0, 0, 0, 0, 0, 0, 0, 0, 0, 0, 0, 0, 0, 0]"
      ]
     },
     "execution_count": 79,
     "metadata": {},
     "output_type": "execute_result"
    }
   ],
   "source": [
    "ref = generate_random_digraph(20,0.1)"
   ]
  },
  {
   "cell_type": "code",
   "execution_count": 161,
   "metadata": {},
   "outputs": [
    {
     "data": {
      "text/plain": [
       "20×20 Array{Float64,2}:\n",
       " 0.0  0.0  0.0  0.0  0.0  0.0  0.0  0.0  …  0.0  0.0  0.0  0.0  1.0  0.0  0.0\n",
       " 0.0  1.0  1.0  0.0  1.0  1.0  0.0  1.0     0.0  0.0  0.0  0.0  0.0  0.0  0.0\n",
       " 0.0  0.0  0.0  0.0  0.0  0.0  0.0  1.0     0.0  0.0  0.0  0.0  0.0  0.0  0.0\n",
       " 0.0  0.0  0.0  0.0  0.0  0.0  1.0  0.0     0.0  0.0  0.0  0.0  0.0  0.0  0.0\n",
       " 1.0  0.0  1.0  1.0  0.0  0.0  0.0  0.0     0.0  0.0  0.0  0.0  0.0  0.0  0.0\n",
       " 0.0  0.0  0.0  0.0  0.0  1.0  0.0  0.0  …  0.0  0.0  0.0  0.0  0.0  0.0  1.0\n",
       " 0.0  0.0  0.0  0.0  0.0  1.0  0.0  0.0     0.0  0.0  0.0  0.0  0.0  0.0  0.0\n",
       " 0.0  0.0  0.0  0.0  0.0  0.0  0.0  0.0     1.0  1.0  0.0  0.0  0.0  0.0  0.0\n",
       " 0.0  0.0  0.0  1.0  0.0  1.0  0.0  0.0     0.0  0.0  0.0  0.0  0.0  0.0  0.0\n",
       " 0.0  0.0  0.0  0.0  0.0  0.0  0.0  0.0     0.0  1.0  0.0  0.0  0.0  1.0  0.0\n",
       " 0.0  0.0  0.0  0.0  0.0  0.0  0.0  0.0  …  0.0  0.0  0.0  0.0  0.0  0.0  0.0\n",
       " 1.0  0.0  0.0  1.0  0.0  0.0  0.0  0.0     0.0  0.0  1.0  1.0  0.0  0.0  0.0\n",
       " 0.0  0.0  0.0  0.0  0.0  0.0  0.0  1.0     0.0  1.0  0.0  0.0  0.0  0.0  0.0\n",
       " 0.0  0.0  1.0  0.0  0.0  0.0  0.0  0.0     0.0  0.0  0.0  0.0  0.0  0.0  0.0\n",
       " 0.0  0.0  0.0  0.0  1.0  0.0  0.0  0.0     1.0  0.0  0.0  0.0  0.0  0.0  0.0\n",
       " 0.0  0.0  0.0  0.0  0.0  0.0  0.0  0.0  …  0.0  0.0  0.0  0.0  0.0  1.0  0.0\n",
       " 0.0  0.0  0.0  0.0  0.0  0.0  0.0  0.0     1.0  0.0  0.0  0.0  0.0  0.0  0.0\n",
       " 0.0  0.0  0.0  1.0  0.0  0.0  0.0  0.0     0.0  0.0  0.0  1.0  0.0  0.0  0.0\n",
       " 0.0  0.0  0.0  1.0  0.0  0.0  0.0  0.0     0.0  0.0  0.0  0.0  0.0  0.0  0.0\n",
       " 0.0  0.0  0.0  0.0  1.0  0.0  0.0  0.0     0.0  0.0  0.0  0.0  0.0  1.0  0.0"
      ]
     },
     "execution_count": 161,
     "metadata": {},
     "output_type": "execute_result"
    }
   ],
   "source": [
    "convert(Matrix{Float64}, hcat(ref...))"
   ]
  },
  {
   "cell_type": "code",
   "execution_count": 168,
   "metadata": {},
   "outputs": [
    {
     "data": {
      "text/plain": [
       "\"dumb_graph.tsv\""
      ]
     },
     "execution_count": 168,
     "metadata": {},
     "output_type": "execute_result"
    }
   ],
   "source": [
    "CSV.write(\"dumb_graph.tsv\", DataFrame(convert(Matrix{Int64}, hcat(ref...))); delim=\",\", writeheader=false)"
   ]
  },
  {
   "cell_type": "code",
   "execution_count": null,
   "metadata": {},
   "outputs": [],
   "source": []
  },
  {
   "cell_type": "code",
   "execution_count": 80,
   "metadata": {},
   "outputs": [],
   "source": [
    "using PyPlot"
   ]
  },
  {
   "cell_type": "code",
   "execution_count": 111,
   "metadata": {},
   "outputs": [
    {
     "data": {
      "text/plain": [
       "(Array{Bool,1}[[0, 0, 0, 0, 1, 0, 0, 0, 0, 0, 0, 0, 0, 0, 0, 0, 0, 0, 0, 0], [0, 1, 0, 0, 0, 0, 0, 0, 0, 0, 0, 0, 0, 0, 0, 0, 0, 0, 0, 0], [0, 1, 0, 0, 0, 0, 0, 0, 0, 0, 0, 0, 0, 1, 0, 0, 0, 0, 0, 0], [0, 0, 0, 0, 0, 0, 0, 0, 1, 0, 0, 0, 0, 1, 0, 0, 0, 0, 1, 0], [0, 1, 0, 0, 0, 0, 0, 0, 0, 0, 0, 0, 0, 0, 0, 0, 0, 0, 0, 0], [0, 1, 0, 0, 0, 0, 0, 0, 0, 0, 0, 0, 0, 0, 0, 0, 0, 0, 0, 0], [0, 0, 0, 0, 0, 0, 0, 0, 0, 0, 0, 0, 0, 0, 0, 0, 0, 0, 1, 1], [0, 0, 1, 1, 0, 0, 0, 0, 0, 0, 0, 0, 0, 0, 0, 0, 0, 0, 0, 0], [0, 0, 0, 0, 0, 0, 1, 0, 0, 0, 0, 0, 0, 1, 0, 0, 0, 0, 0, 0], [1, 0, 0, 0, 1, 0, 1, 0, 0, 0, 0, 0, 0, 0, 0, 0, 0, 0, 0, 0], [0, 0, 0, 0, 0, 0, 0, 0, 0, 0, 0, 0, 0, 0, 0, 0, 0, 0, 0, 0], [0, 0, 0, 0, 0, 0, 0, 0, 0, 0, 0, 1, 0, 0, 0, 0, 0, 0, 0, 0], [0, 0, 0, 0, 0, 1, 0, 0, 0, 0, 0, 0, 0, 0, 0, 1, 0, 0, 0, 0], [0, 0, 0, 0, 0, 0, 0, 0, 0, 0, 0, 0, 0, 0, 0, 0, 1, 0, 0, 0], [0, 0, 0, 0, 0, 0, 0, 0, 0, 1, 0, 0, 1, 0, 0, 0, 0, 0, 0, 0], [0, 0, 0, 0, 0, 1, 0, 0, 0, 0, 0, 0, 0, 0, 0, 0, 0, 0, 0, 0], [0, 0, 0, 0, 0, 0, 0, 0, 0, 0, 0, 0, 0, 0, 0, 0, 0, 1, 0, 0], [0, 0, 0, 0, 0, 0, 0, 0, 0, 0, 0, 0, 0, 0, 0, 0, 0, 0, 0, 0], [0, 0, 0, 0, 0, 0, 0, 0, 0, 0, 0, 0, 0, 0, 0, 1, 0, 0, 0, 0], [0, 0, 0, 0, 0, 1, 1, 0, 0, 0, 0, 0, 0, 0, 0, 0, 1, 0, 0, 0]], Array{Float64,2}[[-1.7849213710285858 0.7980967422299714 … -0.00547381529617757 -0.0965842764289225; -0.5193490992871104 -0.14515474768245631 … 0.8481356983108478 0.5797518310220144; … ; -0.5034717777872616 -0.5687950289200197 … -1.3567971755085841 -1.2526852834239006; 0.8816508744109613 -1.784425954304152 … 0.0377264660909808 -1.0606916924642351], [-1.3572382807303531 0.6334820102531362 … 1.188011072129349 -1.0906616632493085; -0.15218633187509734 -0.4292882750735219 … 1.0749960729111079 0.21452792925254277; … ; 0.9833606117641164 -0.38683979778383365 … -0.9887467947580937 -0.7489838373314458; 0.04784461896234296 0.22370357217626763 … 1.331032874629046 -0.4613112854502998], [-0.25590886131312074 -1.7196741562897788 … 0.5634208451133341 1.201890214484537; -0.5103900438457434 0.2946995513838152 … -0.22158857740821658 0.9049513500457284; … ; -0.060648893185319575 0.03224516269732386 … -0.2972140921848228 0.7619860591959442; 0.039963525006532455 -0.8825351133394052 … 0.30753807989846293 -0.18944620737456358]])"
      ]
     },
     "execution_count": 111,
     "metadata": {},
     "output_type": "execute_result"
    }
   ],
   "source": [
    "keep = 20\n",
    "add = 10\n",
    "T = 100\n",
    "N = 3\n",
    "coeff_std = 1.0/length(ref)\n",
    "regression_std = 1.0/sqrt(length(ref))\n",
    "regression_deg = 4\n",
    "regression_std = 1.0\n",
    "mod_ref, ds = modify_and_simulate(ref, keep, add, T, N, coeff_std, regression_deg, regression_std)"
   ]
  },
  {
   "cell_type": "code",
   "execution_count": 172,
   "metadata": {},
   "outputs": [
    {
     "data": {
      "text/plain": [
       "\"dumb_graph_saved.csv\""
      ]
     },
     "execution_count": 172,
     "metadata": {},
     "output_type": "execute_result"
    }
   ],
   "source": [
    "save_dataset(ds, \"dumb_dataset.tsv\")\n",
    "save_graph(mod_ref, \"dumb_graph_saved.csv\")"
   ]
  },
  {
   "cell_type": "code",
   "execution_count": null,
   "metadata": {},
   "outputs": [],
   "source": [
    "pg = digraph_prior(3.0, ref)"
   ]
  },
  {
   "cell_type": "code",
   "execution_count": null,
   "metadata": {},
   "outputs": [],
   "source": [
    "pgc = [copy(pg_v) for pg_v in pg]"
   ]
  },
  {
   "cell_type": "code",
   "execution_count": null,
   "metadata": {},
   "outputs": [],
   "source": [
    "modify_digraph!(pgc, 1, 2)"
   ]
  },
  {
   "cell_type": "code",
   "execution_count": null,
   "metadata": {},
   "outputs": [],
   "source": [
    "convert(Vector{Bool}, rand(Distributions.Bernoulli(0.25), 20))"
   ]
  },
  {
   "cell_type": "code",
   "execution_count": null,
   "metadata": {},
   "outputs": [],
   "source": [
    "using Distributions\n",
    "rand(Distributions.Bernoulli(0.25))"
   ]
  },
  {
   "cell_type": "code",
   "execution_count": null,
   "metadata": {},
   "outputs": [],
   "source": [
    "rand(Distributions.Bernoulli(0.25))"
   ]
  },
  {
   "cell_type": "code",
   "execution_count": null,
   "metadata": {},
   "outputs": [],
   "source": [
    "ls = [1,2,3,4]"
   ]
  },
  {
   "cell_type": "code",
   "execution_count": null,
   "metadata": {},
   "outputs": [],
   "source": [
    "ls[1:0]"
   ]
  },
  {
   "cell_type": "code",
   "execution_count": null,
   "metadata": {},
   "outputs": [],
   "source": [
    "randn(10)"
   ]
  },
  {
   "cell_type": "code",
   "execution_count": null,
   "metadata": {},
   "outputs": [],
   "source": [
    "using Combinatorics"
   ]
  },
  {
   "cell_type": "code",
   "execution_count": null,
   "metadata": {},
   "outputs": [],
   "source": [
    "for comb in Combinatorics.combinations([1,2,3,4], 2)\n",
    "    println( prod(comb))\n",
    "end"
   ]
  },
  {
   "cell_type": "code",
   "execution_count": null,
   "metadata": {},
   "outputs": [],
   "source": [
    "compute_B_data([0.1, 0.2, 0.3, 0.4, 0.5, 0.6], [true, true, true, true, false, false], 4)"
   ]
  },
  {
   "cell_type": "code",
   "execution_count": null,
   "metadata": {},
   "outputs": [],
   "source": [
    "import LinearAlgebra: dot \n",
    "\n",
    "dot([1,2,3],[1,2,3])"
   ]
  },
  {
   "cell_type": "code",
   "execution_count": 142,
   "metadata": {},
   "outputs": [
    {
     "data": {
      "text/plain": [
       "Dict{Symbol,Array{Union{Float64, Int64},1}} with 2 entries:\n",
       "  :timestep   => Union{Float64, Int64}[]\n",
       "  :timeseries => Union{Float64, Int64}[]"
      ]
     },
     "execution_count": 142,
     "metadata": {},
     "output_type": "execute_result"
    }
   ],
   "source": [
    "Dict{Symbol,Vector{Union{Int64,Float64}}}([:timeseries=>Int[]; :timestep=>Int[]])#; [ (Symbol(\"var\",i)=>Float64[]) for i=1:3]])"
   ]
  },
  {
   "cell_type": "code",
   "execution_count": 143,
   "metadata": {},
   "outputs": [
    {
     "data": {
      "text/html": [
       "<table class=\"data-frame\"><thead><tr><th></th><th>timeseries</th><th>timestep</th><th>var1</th><th>var2</th><th>var3</th></tr><tr><th></th><th>Float64</th><th>Float64</th><th>Float64</th><th>Float64</th><th>Float64</th></tr></thead><tbody><p>0 rows × 5 columns</p></tbody></table>"
      ],
      "text/latex": [
       "\\begin{tabular}{r|ccccc}\n",
       "\t& timeseries & timestep & var1 & var2 & var3\\\\\n",
       "\t\\hline\n",
       "\t& Float64 & Float64 & Float64 & Float64 & Float64\\\\\n",
       "\t\\hline\n",
       "\\end{tabular}\n"
      ],
      "text/plain": [
       "0×5 DataFrame\n"
      ]
     },
     "execution_count": 143,
     "metadata": {},
     "output_type": "execute_result"
    }
   ],
   "source": [
    "df = DataFrames.DataFrame(Dict([:timeseries=>Int[]; :timestep=>Int[]; [ (Symbol(\"var\",i)=>Float64[]) for i=1:3]]))"
   ]
  },
  {
   "cell_type": "code",
   "execution_count": 135,
   "metadata": {},
   "outputs": [
    {
     "data": {
      "text/html": [
       "<table class=\"data-frame\"><thead><tr><th></th><th>timeseries</th><th>timestep</th><th>var1</th><th>var2</th><th>var3</th></tr><tr><th></th><th>Float64</th><th>Float64</th><th>Float64</th><th>Float64</th><th>Float64</th></tr></thead><tbody><p>1 rows × 5 columns</p><tr><th>1</th><td>1.0</td><td>2.0</td><td>1.0</td><td>2.0</td><td>3.0</td></tr></tbody></table>"
      ],
      "text/latex": [
       "\\begin{tabular}{r|ccccc}\n",
       "\t& timeseries & timestep & var1 & var2 & var3\\\\\n",
       "\t\\hline\n",
       "\t& Float64 & Float64 & Float64 & Float64 & Float64\\\\\n",
       "\t\\hline\n",
       "\t1 & 1.0 & 2.0 & 1.0 & 2.0 & 3.0 \\\\\n",
       "\\end{tabular}\n"
      ],
      "text/plain": [
       "1×5 DataFrame\n",
       "│ Row │ timeseries │ timestep │ var1    │ var2    │ var3    │\n",
       "│     │ \u001b[90mFloat64\u001b[39m    │ \u001b[90mFloat64\u001b[39m  │ \u001b[90mFloat64\u001b[39m │ \u001b[90mFloat64\u001b[39m │ \u001b[90mFloat64\u001b[39m │\n",
       "├─────┼────────────┼──────────┼─────────┼─────────┼─────────┤\n",
       "│ 1   │ 1.0        │ 2.0      │ 1.0     │ 2.0     │ 3.0     │"
      ]
     },
     "execution_count": 135,
     "metadata": {},
     "output_type": "execute_result"
    }
   ],
   "source": []
  },
  {
   "cell_type": "code",
   "execution_count": 122,
   "metadata": {},
   "outputs": [
    {
     "data": {
      "text/plain": [
       ":little123"
      ]
     },
     "execution_count": 122,
     "metadata": {},
     "output_type": "execute_result"
    }
   ],
   "source": [
    "Symbol(\"little\", 123)"
   ]
  },
  {
   "cell_type": "code",
   "execution_count": null,
   "metadata": {},
   "outputs": [],
   "source": []
  }
 ],
 "metadata": {
  "kernelspec": {
   "display_name": "Julia 1.2.0",
   "language": "julia",
   "name": "julia-1.2"
  },
  "language_info": {
   "file_extension": ".jl",
   "mimetype": "application/julia",
   "name": "julia",
   "version": "1.2.0"
  }
 },
 "nbformat": 4,
 "nbformat_minor": 2
}
