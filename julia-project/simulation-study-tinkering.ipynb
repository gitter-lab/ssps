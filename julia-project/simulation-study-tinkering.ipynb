{
 "cells": [
  {
   "cell_type": "code",
   "execution_count": 1,
   "metadata": {},
   "outputs": [],
   "source": [
    "using Statistics\n",
    "using Distributions\n",
    "using Random\n",
    "using Combinatorics\n",
    "import LinearAlgebra: dot\n",
    "using CSV\n",
    "using DataFrames"
   ]
  },
  {
   "cell_type": "code",
   "execution_count": 2,
   "metadata": {},
   "outputs": [
    {
     "data": {
      "text/plain": [
       "save_graph"
      ]
     },
     "execution_count": 2,
     "metadata": {},
     "output_type": "execute_result"
    }
   ],
   "source": [
    "\"\"\"\n",
    "    generate_random_digraph(V::Int64, p::Float64)\n",
    "\n",
    "Generate a random directed graph with `V` vertices.\n",
    "Draws from a uniform distribution over directed graphs;\n",
    "every edge has probability `p` of being in the graph. \n",
    "\"\"\"\n",
    "function generate_random_digraph(V::Int64, p::Float64)\n",
    "    parent_sets = [convert(Vector{Bool}, rand(Distributions.Bernoulli(p), V)) for i=1:V]\n",
    "    return parent_sets\n",
    "end\n",
    "\n",
    "\n",
    "\"\"\"\n",
    "    digraph_prior(lambda::Float64, reference::Vector{Vector{Bool}})\n",
    "\n",
    "Sample a new graph G from the density\n",
    "\n",
    "P(G) \\\\propto exp(-lambda * |G \\\\ G'|)\n",
    "\n",
    "Where G' is a reference graph.\n",
    "\"\"\"\n",
    "function digraph_prior(lambda::Float64, reference::Vector{Vector{Bool}})\n",
    "\n",
    "    result = []\n",
    "    prob = exp(-lambda) / (1.0 + exp(-lambda))\n",
    "    for (i, ps) in enumerate(reference)\n",
    "        new_ps = Vector{Bool}()\n",
    "        for (j, parent) in enumerate(ps)\n",
    "            if parent\n",
    "                bp = 0.5\n",
    "            else\n",
    "                bp = prob\n",
    "            end\n",
    "            push!(new_ps, rand(Distributions.Bernoulli(bp)))\n",
    "        end\n",
    "        push!(result, new_ps)\n",
    "    end\n",
    "    return result\n",
    "end\n",
    "\n",
    "\n",
    "\"\"\"\n",
    "    modify_digraph!(ps::Vector{Vector{Int64}}, keep::Int64, add::Int64)\n",
    "\n",
    "Modify a given graph\n",
    "\"\"\"\n",
    "function modify_digraph!(ps::Vector{Vector{Bool}}, keep::Int64, add::Int64)\n",
    "\n",
    "    # get the indices of the original edges\n",
    "    ps_idx = []\n",
    "    not_ps_idx = [] # and the complement\n",
    "    for i=1:length(ps)\n",
    "        for (j, b) in enumerate(ps[i])\n",
    "            if b\n",
    "                push!(ps_idx, (i,j))\n",
    "            else\n",
    "                push!(not_ps_idx, (i,j))\n",
    "            end\n",
    "        end\n",
    "    end\n",
    "        \n",
    "    # Randomly remove edges from the graph\n",
    "    n_edges = length(ps_idx)\n",
    "    to_remove = Random.randperm(n_edges)[1:max(n_edges - keep, 0)]\n",
    "    for rm_idx in to_remove\n",
    "        (i,j) = ps_idx[rm_idx]\n",
    "        ps[i][j] = false\n",
    "    end\n",
    "    \n",
    "    # Randomly add edges (from the complement)\n",
    "    n_not_edges = length(not_ps_idx)\n",
    "    to_add = Random.randperm(n_not_edges)[1:add]\n",
    "    for add_idx in to_add\n",
    "        (i,j) = not_ps_idx[add_idx]\n",
    "        ps[i][j] = true\n",
    "    end\n",
    "    \n",
    "    return ps\n",
    "end\n",
    "\n",
    "\n",
    "\"\"\"\n",
    "    n_coeffs(V::Int64, max_degree::Int64)\n",
    "\n",
    "Given a number of variables (V) and a maximum polynomial degree\n",
    "for the regression model, compute the number of coefficients required\n",
    "by the model. (this includes the constant term)\n",
    "\"\"\"\n",
    "function n_coeffs(V::Int64, max_degree::Int64)\n",
    "    return sum([binomial(V, i) for i=0:min(V, max_degree)])\n",
    "end\n",
    "    \n",
    "\n",
    "\n",
    "\"\"\"\n",
    "    generate_reg_coeffs(ps::Vector{Vector{Bool}}, coeff_std::Float64, regression_deg::Int64)\n",
    "\n",
    "Given a vector of parent sets, generate a vector of regression coefficient vectors.\n",
    "(This includes the constant term)\n",
    "\"\"\"\n",
    "function generate_reg_coeffs(ps::Vector{Vector{Bool}}, coeff_std::Float64, regression_deg::Int64)\n",
    "   \n",
    "    result = Vector{Vector{Float64}}()\n",
    "    for v in ps\n",
    "        num_vars = sum(v)\n",
    "        bw = n_coeffs(num_vars, regression_deg)\n",
    "        push!(result, coeff_std.*randn(bw))\n",
    "    end\n",
    "    \n",
    "    return result\n",
    "end\n",
    "\n",
    "\n",
    "\"\"\"\n",
    "    initialize_time_series(V)\n",
    "\"\"\"\n",
    "function initialize_time_series(V::Int64; init_std::Float64=1.0)\n",
    "    return init_std.*randn(V)\n",
    "end\n",
    "\n",
    "\n",
    "\"\"\"\n",
    "    compute_B_data(x_vec::Vector{Float64}, ps::Vector{Bool}, regression_deg::Int64)\n",
    "\"\"\"\n",
    "function compute_B_data(x_vec::Vector{Float64}, ps::Vector{Bool}, regression_deg::Int64)\n",
    "   \n",
    "    used_x = x_vec[ps]\n",
    "    num_parents = length(used_x)\n",
    "    \n",
    "    B_vec = ones(n_coeffs(num_parents, regression_deg))\n",
    "    \n",
    "    col = 2\n",
    "    for deg=1:regression_deg\n",
    "        for comb in Combinatorics.combinations(used_x, deg)\n",
    "            B_vec[col] = prod(comb)\n",
    "            col += 1\n",
    "        end\n",
    "    end\n",
    "    \n",
    "    return B_vec\n",
    "end\n",
    "\n",
    "\"\"\"\n",
    "    generate_next_timestep_data(x_vec::Vector{Float64}, parent_sets::Vector{Vector{Bool}}, regression_std::Int64)\n",
    "\"\"\"\n",
    "function generate_next_timestep_data(x_vec::Vector{Float64}, \n",
    "                                     parent_sets::Vector{Vector{Bool}},\n",
    "                                     regression_coeffs::Vector{Vector{Float64}},\n",
    "                                     regression_deg::Int64,\n",
    "                                     regression_std::Float64)\n",
    "    \n",
    "    next_x = Vector{Float64}()\n",
    "    \n",
    "    for (i, ps) in enumerate(parent_sets)\n",
    "        \n",
    "        data_vec = compute_B_data(x_vec, ps, regression_deg)\n",
    "        \n",
    "        push!(next_x, dot(data_vec, regression_coeffs[i]) + regression_std*randn() )\n",
    "    end\n",
    "    \n",
    "    return next_x\n",
    "end\n",
    "\n",
    "\n",
    "\"\"\"\n",
    "    generate_time_series(parent_sets::Vector{Vector{Bool}}, \n",
    "                         V::Int64, T::Int64)\n",
    "\n",
    "Create a simulated time series with `T` time steps\n",
    "\"\"\"\n",
    "function generate_time_series(parent_sets::Vector{Vector{Bool}},\n",
    "                              T::Int64,\n",
    "                              regression_coeffs::Vector{Vector{Float64}},\n",
    "                              regression_deg::Int64,\n",
    "                              regression_std::Float64)\n",
    "    \n",
    "    result = zeros(T, length(parent_sets))\n",
    "    result[1,:] = initialize_time_series(length(parent_sets); init_std=regression_std)\n",
    "    \n",
    "    for t=2:T\n",
    "        result[t,:] = generate_next_timestep_data(result[t-1,:], parent_sets,\n",
    "                                                  regression_coeffs,\n",
    "                                                  regression_deg,\n",
    "                                                  regression_std)\n",
    "    end\n",
    "    \n",
    "    return result\n",
    "end\n",
    "\n",
    "\n",
    "\"\"\"\n",
    "    generate_dataset(T::Int64, N::Int64, parent_sets::Vector{Vector{Bool}},\n",
    "                     coeff_std::Float64, regression_deg::Int64, regression_std::Float64)\n",
    "\n",
    "Given a graph structure, generate some coefficients and simulate a dataset of N time series,\n",
    "each time series over T timesteps.\n",
    "\"\"\"\n",
    "function generate_dataset(T::Int64, N::Int64,\n",
    "                          parent_sets::Vector{Vector{Bool}},\n",
    "                          coeff_std::Float64, \n",
    "                          regression_deg::Int64, regression_std::Float64)\n",
    "    \n",
    "    coeffs = generate_reg_coeffs(parent_sets, coeff_std, regression_deg)\n",
    "    \n",
    "    return [generate_time_series(parent_sets, T, coeffs, regression_deg, regression_std) for i=1:N]\n",
    "    \n",
    "end\n",
    "\n",
    "\n",
    "\n",
    "\"\"\"\n",
    "    modify_and_simulate(ref_ps::Vector{Vector{Bool}}, remove::Int64, add::Int64)\n",
    "\n",
    "Given a reference graph, create a modified version of it and then simulate a dataset\n",
    "from that modified graph.\n",
    "\"\"\"\n",
    "function modify_and_simulate(ref_ps::Vector{Vector{Bool}}, keep::Int64, add::Int64, \n",
    "                             T::Int64, N::Int64,\n",
    "                             coeff_std::Float64, \n",
    "                             regression_deg::Int64, regression_std::Float64)\n",
    "    \n",
    "    ref_ps_copy = [copy(ps) for ps in ref_ps]\n",
    "    modify_digraph!(ref_ps_copy, keep, add)\n",
    "    \n",
    "    ds = generate_dataset(T, N, ref_ps_copy, coeff_std, regression_deg, regression_std) \n",
    "    \n",
    "    return ref_ps_copy, ds\n",
    "end\n",
    "\n",
    "\"\"\"\n",
    "    save_dataset(dataset::Vector{Array{Float64,2}}, file_name::String)\n",
    "\"\"\"\n",
    "function save_dataset(dataset::Vector{Array{Float64,2}}, file_name::String)\n",
    "\n",
    "    V = size(dataset[1],2)\n",
    "    \n",
    "    df = DataFrames.DataFrame(Dict([:timeseries=>Int[]; :timestep=>Int[]; \n",
    "                                   [(Symbol(\"var\",i)=>Float64[]) for i=1:V]]))    \n",
    "    \n",
    "    for (i, timeseries) in enumerate(dataset)\n",
    "        for t=1:size(timeseries,1)\n",
    "            push!(df, [i; t; dataset[i][t,:]])\n",
    "        end\n",
    "    end\n",
    "\n",
    "    CSV.write(file_name, df; delim=\"\\t\")\n",
    "end\n",
    "    \n",
    "\n",
    "\"\"\"\n",
    "    save_graph(parent_sets::Vector{Vector{Float64}}, file_name::String)\n",
    "\"\"\"\n",
    "function save_graph(parent_sets::Vector{Vector{Bool}}, file_name::String)\n",
    "   \n",
    "    CSV.write(file_name, \n",
    "              DataFrame(convert(Matrix{Int64}, hcat(parent_sets...)));\n",
    "              delim=\",\", writeheader=false)\n",
    "    \n",
    "end"
   ]
  },
  {
   "cell_type": "code",
   "execution_count": 3,
   "metadata": {},
   "outputs": [
    {
     "data": {
      "text/plain": [
       "20-element Array{Array{Bool,1},1}:\n",
       " [0, 0, 0, 0, 0, 0, 0, 0, 0, 0, 1, 0, 0, 0, 0, 0, 0, 0, 0, 0]\n",
       " [1, 0, 1, 0, 1, 0, 0, 0, 0, 0, 0, 0, 0, 1, 0, 0, 1, 0, 0, 0]\n",
       " [0, 0, 0, 0, 0, 1, 0, 0, 0, 0, 1, 0, 0, 0, 0, 0, 1, 0, 0, 0]\n",
       " [0, 0, 0, 0, 0, 0, 0, 1, 0, 0, 0, 0, 0, 0, 0, 0, 0, 0, 1, 0]\n",
       " [0, 1, 0, 1, 0, 0, 1, 0, 0, 0, 0, 0, 0, 0, 0, 0, 0, 0, 0, 0]\n",
       " [0, 1, 0, 1, 0, 0, 0, 0, 0, 0, 0, 0, 0, 0, 1, 0, 0, 1, 0, 0]\n",
       " [0, 0, 0, 0, 0, 0, 0, 0, 0, 0, 0, 0, 0, 0, 1, 0, 0, 1, 0, 0]\n",
       " [0, 0, 0, 0, 0, 0, 0, 0, 0, 1, 0, 0, 0, 1, 1, 0, 0, 0, 0, 0]\n",
       " [0, 0, 1, 0, 0, 1, 0, 0, 0, 1, 1, 0, 0, 0, 0, 0, 0, 0, 0, 0]\n",
       " [0, 0, 0, 0, 0, 0, 0, 0, 0, 0, 0, 0, 0, 0, 0, 1, 0, 0, 0, 0]\n",
       " [0, 0, 0, 0, 0, 0, 0, 0, 1, 0, 0, 0, 0, 0, 0, 0, 0, 0, 0, 0]\n",
       " [0, 0, 0, 0, 0, 0, 0, 0, 0, 0, 0, 0, 0, 0, 1, 0, 0, 0, 0, 0]\n",
       " [0, 0, 0, 0, 1, 0, 0, 0, 0, 0, 0, 0, 0, 0, 0, 0, 0, 0, 0, 1]\n",
       " [0, 1, 0, 0, 0, 0, 0, 0, 0, 1, 1, 0, 1, 0, 0, 0, 1, 0, 1, 0]\n",
       " [0, 0, 0, 0, 0, 0, 0, 0, 0, 0, 0, 0, 0, 0, 0, 0, 0, 0, 0, 0]\n",
       " [0, 0, 0, 0, 0, 0, 0, 0, 0, 0, 0, 0, 0, 0, 0, 0, 1, 0, 0, 0]\n",
       " [0, 0, 1, 0, 0, 0, 0, 0, 1, 1, 0, 0, 0, 0, 0, 1, 1, 0, 0, 0]\n",
       " [0, 0, 1, 0, 0, 0, 1, 1, 1, 0, 0, 0, 0, 0, 1, 0, 0, 0, 0, 0]\n",
       " [0, 0, 0, 0, 0, 1, 0, 0, 1, 0, 0, 0, 0, 0, 0, 0, 0, 0, 0, 0]\n",
       " [0, 0, 0, 0, 0, 0, 0, 0, 0, 0, 0, 0, 1, 0, 0, 0, 0, 0, 0, 0]"
      ]
     },
     "execution_count": 3,
     "metadata": {},
     "output_type": "execute_result"
    }
   ],
   "source": [
    "ref = generate_random_digraph(20,0.1)"
   ]
  },
  {
   "cell_type": "code",
   "execution_count": 4,
   "metadata": {},
   "outputs": [
    {
     "data": {
      "text/plain": [
       "20×20 Array{Float64,2}:\n",
       " 0.0  1.0  0.0  0.0  0.0  0.0  0.0  0.0  …  0.0  0.0  0.0  0.0  0.0  0.0  0.0\n",
       " 0.0  0.0  0.0  0.0  1.0  1.0  0.0  0.0     1.0  0.0  0.0  0.0  0.0  0.0  0.0\n",
       " 0.0  1.0  0.0  0.0  0.0  0.0  0.0  0.0     0.0  0.0  0.0  1.0  1.0  0.0  0.0\n",
       " 0.0  0.0  0.0  0.0  1.0  1.0  0.0  0.0     0.0  0.0  0.0  0.0  0.0  0.0  0.0\n",
       " 0.0  1.0  0.0  0.0  0.0  0.0  0.0  0.0     0.0  0.0  0.0  0.0  0.0  0.0  0.0\n",
       " 0.0  0.0  1.0  0.0  0.0  0.0  0.0  0.0  …  0.0  0.0  0.0  0.0  0.0  1.0  0.0\n",
       " 0.0  0.0  0.0  0.0  1.0  0.0  0.0  0.0     0.0  0.0  0.0  0.0  1.0  0.0  0.0\n",
       " 0.0  0.0  0.0  1.0  0.0  0.0  0.0  0.0     0.0  0.0  0.0  0.0  1.0  0.0  0.0\n",
       " 0.0  0.0  0.0  0.0  0.0  0.0  0.0  0.0     0.0  0.0  0.0  1.0  1.0  1.0  0.0\n",
       " 0.0  0.0  0.0  0.0  0.0  0.0  0.0  1.0     1.0  0.0  0.0  1.0  0.0  0.0  0.0\n",
       " 1.0  0.0  1.0  0.0  0.0  0.0  0.0  0.0  …  1.0  0.0  0.0  0.0  0.0  0.0  0.0\n",
       " 0.0  0.0  0.0  0.0  0.0  0.0  0.0  0.0     0.0  0.0  0.0  0.0  0.0  0.0  0.0\n",
       " 0.0  0.0  0.0  0.0  0.0  0.0  0.0  0.0     1.0  0.0  0.0  0.0  0.0  0.0  1.0\n",
       " 0.0  1.0  0.0  0.0  0.0  0.0  0.0  1.0     0.0  0.0  0.0  0.0  0.0  0.0  0.0\n",
       " 0.0  0.0  0.0  0.0  0.0  1.0  1.0  1.0     0.0  0.0  0.0  0.0  1.0  0.0  0.0\n",
       " 0.0  0.0  0.0  0.0  0.0  0.0  0.0  0.0  …  0.0  0.0  0.0  1.0  0.0  0.0  0.0\n",
       " 0.0  1.0  1.0  0.0  0.0  0.0  0.0  0.0     1.0  0.0  1.0  1.0  0.0  0.0  0.0\n",
       " 0.0  0.0  0.0  0.0  0.0  1.0  1.0  0.0     0.0  0.0  0.0  0.0  0.0  0.0  0.0\n",
       " 0.0  0.0  0.0  1.0  0.0  0.0  0.0  0.0     1.0  0.0  0.0  0.0  0.0  0.0  0.0\n",
       " 0.0  0.0  0.0  0.0  0.0  0.0  0.0  0.0     0.0  0.0  0.0  0.0  0.0  0.0  0.0"
      ]
     },
     "execution_count": 4,
     "metadata": {},
     "output_type": "execute_result"
    }
   ],
   "source": [
    "convert(Matrix{Float64}, hcat(ref...))"
   ]
  },
  {
   "cell_type": "code",
   "execution_count": 6,
   "metadata": {},
   "outputs": [
    {
     "data": {
      "text/plain": [
       "\"dumb_reference.csv\""
      ]
     },
     "execution_count": 6,
     "metadata": {},
     "output_type": "execute_result"
    }
   ],
   "source": [
    "CSV.write(\"dumb_reference.csv\", DataFrame(convert(Matrix{Int64}, hcat(ref...))); delim=\",\", writeheader=false)"
   ]
  },
  {
   "cell_type": "code",
   "execution_count": 7,
   "metadata": {},
   "outputs": [
    {
     "data": {
      "text/plain": [
       "(Array{Bool,1}[[0, 0, 0, 0, 0, 0, 0, 0, 0, 0, 0, 0, 0, 0, 0, 0, 0, 0, 0, 0], [0, 0, 1, 0, 0, 0, 1, 0, 0, 0, 0, 0, 0, 1, 0, 1, 0, 0, 0, 0], [0, 0, 0, 0, 0, 0, 0, 0, 0, 0, 0, 0, 0, 0, 0, 0, 0, 0, 1, 0], [0, 0, 0, 0, 0, 0, 0, 0, 0, 0, 0, 0, 0, 0, 0, 0, 0, 0, 0, 0], [0, 1, 0, 1, 0, 0, 1, 0, 0, 0, 0, 0, 0, 0, 0, 0, 0, 0, 0, 0], [0, 1, 0, 0, 0, 1, 0, 0, 0, 0, 0, 0, 0, 0, 1, 0, 0, 1, 0, 0], [0, 0, 0, 0, 0, 0, 0, 0, 0, 0, 0, 0, 0, 0, 1, 0, 0, 0, 1, 0], [0, 0, 0, 0, 0, 0, 0, 0, 0, 0, 0, 0, 0, 1, 0, 0, 0, 0, 0, 0], [0, 0, 0, 0, 0, 0, 0, 0, 0, 1, 1, 0, 0, 0, 0, 0, 0, 0, 0, 0], [0, 0, 0, 0, 0, 0, 0, 0, 0, 0, 0, 0, 0, 0, 0, 0, 0, 0, 0, 0], [0, 0, 0, 0, 0, 0, 0, 0, 0, 0, 0, 0, 0, 0, 0, 0, 0, 0, 0, 0], [0, 0, 0, 0, 0, 0, 0, 0, 0, 0, 0, 0, 0, 0, 1, 0, 0, 0, 0, 1], [0, 0, 0, 0, 0, 0, 0, 0, 0, 0, 0, 0, 0, 0, 0, 0, 0, 0, 0, 1], [0, 0, 0, 0, 0, 0, 0, 0, 0, 0, 0, 0, 0, 0, 0, 0, 1, 0, 0, 0], [0, 0, 0, 0, 0, 0, 0, 0, 0, 0, 0, 0, 0, 0, 0, 0, 0, 0, 0, 0], [0, 0, 0, 0, 0, 0, 0, 0, 0, 0, 0, 0, 0, 0, 0, 0, 0, 0, 0, 0], [0, 0, 1, 1, 1, 0, 0, 0, 0, 1, 0, 0, 0, 0, 0, 1, 0, 0, 0, 1], [0, 0, 0, 0, 0, 0, 0, 1, 0, 0, 0, 0, 0, 0, 0, 0, 0, 0, 0, 0], [0, 0, 0, 0, 0, 0, 0, 0, 0, 0, 0, 0, 0, 0, 0, 0, 0, 0, 0, 0], [0, 0, 0, 0, 0, 0, 0, 0, 0, 0, 0, 0, 1, 1, 0, 0, 0, 0, 0, 0]], Array{Float64,2}[[0.022869840876399844 -0.11317193953240041 … -0.3416435834365321 0.9123788891184068; -0.011415756705821775 0.9312000398925956 … 0.7827219463641094 -0.13656609634574707; … ; 0.8192304287505303 -2.3433445912771793 … -0.09385028085743827 -2.1251751525849656; -0.4216084156213929 0.4002235114604329 … -1.0699815809056825 0.937013341351658], [-1.9797446288283276 -1.3401487988352028 … 1.0263142509147947 0.598923126178886; 1.0792964543594197 -0.16446157204020412 … 0.945581570062953 0.6524299050628372; … ; 0.3255965760349113 0.048238869264032036 … 1.8190065562443112 1.525872363498979; 0.3865731956584449 1.355837270166253 … -0.1830349235358845 0.2811907257342878], [-0.5939740478520089 -0.4564658725493862 … -1.2727667533455294 -0.5339208410598053; -0.20489177519932375 1.178977820891804 … 0.40243205040583335 -0.0439466451158287; … ; -0.7005622021358642 0.5763095010233874 … 0.7203494528263019 -0.10398163688793123; 1.39761898296787 0.031560013777870474 … 0.11460548528017006 -0.05201080158575147]])"
      ]
     },
     "execution_count": 7,
     "metadata": {},
     "output_type": "execute_result"
    }
   ],
   "source": [
    "keep = 20\n",
    "add = 10\n",
    "T = 100\n",
    "N = 3\n",
    "coeff_std = 1.0/length(ref)\n",
    "regression_std = 1.0/sqrt(length(ref))\n",
    "regression_deg = 4\n",
    "regression_std = 1.0\n",
    "mod_ref, ds = modify_and_simulate(ref, keep, add, T, N, coeff_std, regression_deg, regression_std)"
   ]
  },
  {
   "cell_type": "code",
   "execution_count": 8,
   "metadata": {},
   "outputs": [
    {
     "data": {
      "text/plain": [
       "\"dumb_true.csv\""
      ]
     },
     "execution_count": 8,
     "metadata": {},
     "output_type": "execute_result"
    }
   ],
   "source": [
    "save_dataset(ds, \"dumb_time_series.tsv\")\n",
    "save_graph(mod_ref, \"dumb_true.csv\")"
   ]
  },
  {
   "cell_type": "code",
   "execution_count": 9,
   "metadata": {},
   "outputs": [
    {
     "data": {
      "text/html": [
       "<table class=\"data-frame\"><thead><tr><th></th><th>timeseries</th><th>timestep</th><th>var1</th><th>var10</th><th>var11</th><th>var12</th><th>var13</th></tr><tr><th></th><th>Float64</th><th>Float64</th><th>Float64</th><th>Float64</th><th>Float64</th><th>Float64</th><th>Float64</th></tr></thead><tbody><p>300 rows × 22 columns (omitted printing of 15 columns)</p><tr><th>1</th><td>1.0</td><td>1.0</td><td>0.0228698</td><td>-0.113172</td><td>-0.554446</td><td>-0.33393</td><td>-0.874112</td></tr><tr><th>2</th><td>1.0</td><td>2.0</td><td>-0.0114158</td><td>0.9312</td><td>1.54879</td><td>-1.30569</td><td>-0.501856</td></tr><tr><th>3</th><td>1.0</td><td>3.0</td><td>0.917438</td><td>-0.94588</td><td>-0.364811</td><td>-0.297199</td><td>-0.682692</td></tr><tr><th>4</th><td>1.0</td><td>4.0</td><td>-0.973552</td><td>-0.889696</td><td>0.154459</td><td>-1.18881</td><td>0.309108</td></tr><tr><th>5</th><td>1.0</td><td>5.0</td><td>1.3988</td><td>-0.57887</td><td>1.21847</td><td>0.203799</td><td>-0.498574</td></tr><tr><th>6</th><td>1.0</td><td>6.0</td><td>-1.27066</td><td>1.23356</td><td>0.882955</td><td>-0.768622</td><td>-1.23042</td></tr><tr><th>7</th><td>1.0</td><td>7.0</td><td>-0.34017</td><td>-0.466005</td><td>0.0596527</td><td>-0.184856</td><td>1.771</td></tr><tr><th>8</th><td>1.0</td><td>8.0</td><td>1.26101</td><td>-1.15724</td><td>1.62964</td><td>0.547141</td><td>0.35657</td></tr><tr><th>9</th><td>1.0</td><td>9.0</td><td>0.76825</td><td>1.25536</td><td>1.67268</td><td>-0.473008</td><td>1.39981</td></tr><tr><th>10</th><td>1.0</td><td>10.0</td><td>-0.144963</td><td>-0.460224</td><td>0.807931</td><td>-0.573244</td><td>0.0486799</td></tr><tr><th>11</th><td>1.0</td><td>11.0</td><td>-1.93217</td><td>0.442948</td><td>-1.73322</td><td>0.970849</td><td>-0.725372</td></tr><tr><th>12</th><td>1.0</td><td>12.0</td><td>-0.966937</td><td>-0.539933</td><td>0.31845</td><td>-0.210508</td><td>0.722271</td></tr><tr><th>13</th><td>1.0</td><td>13.0</td><td>-0.250653</td><td>0.565968</td><td>1.56168</td><td>-0.305372</td><td>0.484858</td></tr><tr><th>14</th><td>1.0</td><td>14.0</td><td>-0.275611</td><td>-0.825263</td><td>2.82106</td><td>0.031797</td><td>-2.11812</td></tr><tr><th>15</th><td>1.0</td><td>15.0</td><td>1.2254</td><td>1.77636</td><td>-0.00540377</td><td>0.297894</td><td>-0.62589</td></tr><tr><th>16</th><td>1.0</td><td>16.0</td><td>-0.304875</td><td>-1.70832</td><td>-1.21336</td><td>0.0568295</td><td>-0.741992</td></tr><tr><th>17</th><td>1.0</td><td>17.0</td><td>1.34597</td><td>0.438955</td><td>2.35485</td><td>1.60846</td><td>1.08094</td></tr><tr><th>18</th><td>1.0</td><td>18.0</td><td>-0.435183</td><td>2.98426</td><td>0.657047</td><td>-0.686432</td><td>-0.311489</td></tr><tr><th>19</th><td>1.0</td><td>19.0</td><td>0.142649</td><td>0.71831</td><td>-2.5674</td><td>0.200438</td><td>-0.237765</td></tr><tr><th>20</th><td>1.0</td><td>20.0</td><td>-2.42054</td><td>1.81885</td><td>1.09104</td><td>0.230609</td><td>-1.52396</td></tr><tr><th>21</th><td>1.0</td><td>21.0</td><td>-1.36097</td><td>0.0920466</td><td>0.703116</td><td>-1.48897</td><td>-0.831156</td></tr><tr><th>22</th><td>1.0</td><td>22.0</td><td>-0.471726</td><td>1.77986</td><td>-1.13053</td><td>-0.191355</td><td>0.961632</td></tr><tr><th>23</th><td>1.0</td><td>23.0</td><td>0.872886</td><td>0.124945</td><td>-0.895236</td><td>0.524138</td><td>0.66833</td></tr><tr><th>24</th><td>1.0</td><td>24.0</td><td>2.22201</td><td>-0.446129</td><td>-0.23967</td><td>-1.09348</td><td>1.02461</td></tr><tr><th>25</th><td>1.0</td><td>25.0</td><td>0.693755</td><td>0.0611661</td><td>-0.349582</td><td>2.41541</td><td>-0.0236594</td></tr><tr><th>26</th><td>1.0</td><td>26.0</td><td>0.801452</td><td>0.948048</td><td>-1.60091</td><td>-0.384437</td><td>-1.37203</td></tr><tr><th>27</th><td>1.0</td><td>27.0</td><td>1.3382</td><td>-0.345844</td><td>1.69191</td><td>-1.15968</td><td>0.427263</td></tr><tr><th>28</th><td>1.0</td><td>28.0</td><td>-2.13697</td><td>2.00718</td><td>-0.355582</td><td>0.32779</td><td>-1.18088</td></tr><tr><th>29</th><td>1.0</td><td>29.0</td><td>-1.87458</td><td>1.37523</td><td>-0.586398</td><td>-0.961861</td><td>0.228751</td></tr><tr><th>30</th><td>1.0</td><td>30.0</td><td>0.170459</td><td>-0.500841</td><td>0.531565</td><td>-2.84748</td><td>0.258424</td></tr><tr><th>&vellip;</th><td>&vellip;</td><td>&vellip;</td><td>&vellip;</td><td>&vellip;</td><td>&vellip;</td><td>&vellip;</td><td>&vellip;</td></tr></tbody></table>"
      ],
      "text/latex": [
       "\\begin{tabular}{r|cccccccc}\n",
       "\t& timeseries & timestep & var1 & var10 & var11 & var12 & var13 & \\\\\n",
       "\t\\hline\n",
       "\t& Float64 & Float64 & Float64 & Float64 & Float64 & Float64 & Float64 & \\\\\n",
       "\t\\hline\n",
       "\t1 & 1.0 & 1.0 & 0.0228698 & -0.113172 & -0.554446 & -0.33393 & -0.874112 & $\\dots$ \\\\\n",
       "\t2 & 1.0 & 2.0 & -0.0114158 & 0.9312 & 1.54879 & -1.30569 & -0.501856 & $\\dots$ \\\\\n",
       "\t3 & 1.0 & 3.0 & 0.917438 & -0.94588 & -0.364811 & -0.297199 & -0.682692 & $\\dots$ \\\\\n",
       "\t4 & 1.0 & 4.0 & -0.973552 & -0.889696 & 0.154459 & -1.18881 & 0.309108 & $\\dots$ \\\\\n",
       "\t5 & 1.0 & 5.0 & 1.3988 & -0.57887 & 1.21847 & 0.203799 & -0.498574 & $\\dots$ \\\\\n",
       "\t6 & 1.0 & 6.0 & -1.27066 & 1.23356 & 0.882955 & -0.768622 & -1.23042 & $\\dots$ \\\\\n",
       "\t7 & 1.0 & 7.0 & -0.34017 & -0.466005 & 0.0596527 & -0.184856 & 1.771 & $\\dots$ \\\\\n",
       "\t8 & 1.0 & 8.0 & 1.26101 & -1.15724 & 1.62964 & 0.547141 & 0.35657 & $\\dots$ \\\\\n",
       "\t9 & 1.0 & 9.0 & 0.76825 & 1.25536 & 1.67268 & -0.473008 & 1.39981 & $\\dots$ \\\\\n",
       "\t10 & 1.0 & 10.0 & -0.144963 & -0.460224 & 0.807931 & -0.573244 & 0.0486799 & $\\dots$ \\\\\n",
       "\t11 & 1.0 & 11.0 & -1.93217 & 0.442948 & -1.73322 & 0.970849 & -0.725372 & $\\dots$ \\\\\n",
       "\t12 & 1.0 & 12.0 & -0.966937 & -0.539933 & 0.31845 & -0.210508 & 0.722271 & $\\dots$ \\\\\n",
       "\t13 & 1.0 & 13.0 & -0.250653 & 0.565968 & 1.56168 & -0.305372 & 0.484858 & $\\dots$ \\\\\n",
       "\t14 & 1.0 & 14.0 & -0.275611 & -0.825263 & 2.82106 & 0.031797 & -2.11812 & $\\dots$ \\\\\n",
       "\t15 & 1.0 & 15.0 & 1.2254 & 1.77636 & -0.00540377 & 0.297894 & -0.62589 & $\\dots$ \\\\\n",
       "\t16 & 1.0 & 16.0 & -0.304875 & -1.70832 & -1.21336 & 0.0568295 & -0.741992 & $\\dots$ \\\\\n",
       "\t17 & 1.0 & 17.0 & 1.34597 & 0.438955 & 2.35485 & 1.60846 & 1.08094 & $\\dots$ \\\\\n",
       "\t18 & 1.0 & 18.0 & -0.435183 & 2.98426 & 0.657047 & -0.686432 & -0.311489 & $\\dots$ \\\\\n",
       "\t19 & 1.0 & 19.0 & 0.142649 & 0.71831 & -2.5674 & 0.200438 & -0.237765 & $\\dots$ \\\\\n",
       "\t20 & 1.0 & 20.0 & -2.42054 & 1.81885 & 1.09104 & 0.230609 & -1.52396 & $\\dots$ \\\\\n",
       "\t21 & 1.0 & 21.0 & -1.36097 & 0.0920466 & 0.703116 & -1.48897 & -0.831156 & $\\dots$ \\\\\n",
       "\t22 & 1.0 & 22.0 & -0.471726 & 1.77986 & -1.13053 & -0.191355 & 0.961632 & $\\dots$ \\\\\n",
       "\t23 & 1.0 & 23.0 & 0.872886 & 0.124945 & -0.895236 & 0.524138 & 0.66833 & $\\dots$ \\\\\n",
       "\t24 & 1.0 & 24.0 & 2.22201 & -0.446129 & -0.23967 & -1.09348 & 1.02461 & $\\dots$ \\\\\n",
       "\t25 & 1.0 & 25.0 & 0.693755 & 0.0611661 & -0.349582 & 2.41541 & -0.0236594 & $\\dots$ \\\\\n",
       "\t26 & 1.0 & 26.0 & 0.801452 & 0.948048 & -1.60091 & -0.384437 & -1.37203 & $\\dots$ \\\\\n",
       "\t27 & 1.0 & 27.0 & 1.3382 & -0.345844 & 1.69191 & -1.15968 & 0.427263 & $\\dots$ \\\\\n",
       "\t28 & 1.0 & 28.0 & -2.13697 & 2.00718 & -0.355582 & 0.32779 & -1.18088 & $\\dots$ \\\\\n",
       "\t29 & 1.0 & 29.0 & -1.87458 & 1.37523 & -0.586398 & -0.961861 & 0.228751 & $\\dots$ \\\\\n",
       "\t30 & 1.0 & 30.0 & 0.170459 & -0.500841 & 0.531565 & -2.84748 & 0.258424 & $\\dots$ \\\\\n",
       "\t$\\dots$ & $\\dots$ & $\\dots$ & $\\dots$ & $\\dots$ & $\\dots$ & $\\dots$ & $\\dots$ &  \\\\\n",
       "\\end{tabular}\n"
      ],
      "text/plain": [
       "300×22 DataFrame. Omitted printing of 17 columns\n",
       "│ Row │ timeseries │ timestep │ var1       │ var10     │ var11     │\n",
       "│     │ \u001b[90mFloat64\u001b[39m    │ \u001b[90mFloat64\u001b[39m  │ \u001b[90mFloat64\u001b[39m    │ \u001b[90mFloat64\u001b[39m   │ \u001b[90mFloat64\u001b[39m   │\n",
       "├─────┼────────────┼──────────┼────────────┼───────────┼───────────┤\n",
       "│ 1   │ 1.0        │ 1.0      │ 0.0228698  │ -0.113172 │ -0.554446 │\n",
       "│ 2   │ 1.0        │ 2.0      │ -0.0114158 │ 0.9312    │ 1.54879   │\n",
       "│ 3   │ 1.0        │ 3.0      │ 0.917438   │ -0.94588  │ -0.364811 │\n",
       "│ 4   │ 1.0        │ 4.0      │ -0.973552  │ -0.889696 │ 0.154459  │\n",
       "│ 5   │ 1.0        │ 5.0      │ 1.3988     │ -0.57887  │ 1.21847   │\n",
       "│ 6   │ 1.0        │ 6.0      │ -1.27066   │ 1.23356   │ 0.882955  │\n",
       "│ 7   │ 1.0        │ 7.0      │ -0.34017   │ -0.466005 │ 0.0596527 │\n",
       "│ 8   │ 1.0        │ 8.0      │ 1.26101    │ -1.15724  │ 1.62964   │\n",
       "│ 9   │ 1.0        │ 9.0      │ 0.76825    │ 1.25536   │ 1.67268   │\n",
       "│ 10  │ 1.0        │ 10.0     │ -0.144963  │ -0.460224 │ 0.807931  │\n",
       "⋮\n",
       "│ 290 │ 3.0        │ 90.0     │ 0.250524   │ 0.151232  │ -0.509511 │\n",
       "│ 291 │ 3.0        │ 91.0     │ -1.61557   │ 0.830501  │ 0.0392823 │\n",
       "│ 292 │ 3.0        │ 92.0     │ 1.18252    │ 0.489851  │ -0.431545 │\n",
       "│ 293 │ 3.0        │ 93.0     │ -0.803491  │ -0.382265 │ -0.85666  │\n",
       "│ 294 │ 3.0        │ 94.0     │ 1.45393    │ 1.92243   │ -1.03284  │\n",
       "│ 295 │ 3.0        │ 95.0     │ -0.52068   │ 0.161816  │ 0.383878  │\n",
       "│ 296 │ 3.0        │ 96.0     │ -0.089083  │ 0.424096  │ -1.11763  │\n",
       "│ 297 │ 3.0        │ 97.0     │ 1.28828    │ -1.45924  │ -0.361027 │\n",
       "│ 298 │ 3.0        │ 98.0     │ -0.704081  │ -0.850732 │ 0.320651  │\n",
       "│ 299 │ 3.0        │ 99.0     │ -0.700562  │ 0.57631   │ 0.772343  │\n",
       "│ 300 │ 3.0        │ 100.0    │ 1.39762    │ 0.03156   │ 0.337432  │"
      ]
     },
     "execution_count": 9,
     "metadata": {},
     "output_type": "execute_result"
    }
   ],
   "source": [
    "df = CSV.read(\"dumb_time_series.tsv\", delim=\"\\t\")"
   ]
  },
  {
   "cell_type": "code",
   "execution_count": null,
   "metadata": {},
   "outputs": [],
   "source": [
    "function standard_timeseries_preprocess!(timeseries_df)\n",
    "\n",
    "    result = Vector{Matrix{Float64}}()\n",
    "\n",
    "    N = convert(Int64, maximum(timeseries_df.timeseries))\n",
    "\n",
    "    for i=1:N\n",
    "        ts = timeseries_df[timeseries_df.timeseries .== i, :]\n",
    "        sort!(ts, [:timestep])\n",
    "        push!(result, convert(Matrix{Float64}, ts[:,3:end]))\n",
    "    end\n",
    "\n",
    "    return result\n",
    "end"
   ]
  },
  {
   "cell_type": "code",
   "execution_count": 15,
   "metadata": {},
   "outputs": [
    {
     "data": {
      "text/html": [
       "<table class=\"data-frame\"><thead><tr><th></th><th>timeseries</th><th>timestep</th><th>var1</th><th>var10</th><th>var11</th><th>var12</th><th>var13</th></tr><tr><th></th><th>Float64</th><th>Float64</th><th>Float64</th><th>Float64</th><th>Float64</th><th>Float64</th><th>Float64</th></tr></thead><tbody><p>100 rows × 22 columns (omitted printing of 15 columns)</p><tr><th>1</th><td>1.0</td><td>1.0</td><td>0.0228698</td><td>-0.113172</td><td>-0.554446</td><td>-0.33393</td><td>-0.874112</td></tr><tr><th>2</th><td>1.0</td><td>2.0</td><td>-0.0114158</td><td>0.9312</td><td>1.54879</td><td>-1.30569</td><td>-0.501856</td></tr><tr><th>3</th><td>1.0</td><td>3.0</td><td>0.917438</td><td>-0.94588</td><td>-0.364811</td><td>-0.297199</td><td>-0.682692</td></tr><tr><th>4</th><td>1.0</td><td>4.0</td><td>-0.973552</td><td>-0.889696</td><td>0.154459</td><td>-1.18881</td><td>0.309108</td></tr><tr><th>5</th><td>1.0</td><td>5.0</td><td>1.3988</td><td>-0.57887</td><td>1.21847</td><td>0.203799</td><td>-0.498574</td></tr><tr><th>6</th><td>1.0</td><td>6.0</td><td>-1.27066</td><td>1.23356</td><td>0.882955</td><td>-0.768622</td><td>-1.23042</td></tr><tr><th>7</th><td>1.0</td><td>7.0</td><td>-0.34017</td><td>-0.466005</td><td>0.0596527</td><td>-0.184856</td><td>1.771</td></tr><tr><th>8</th><td>1.0</td><td>8.0</td><td>1.26101</td><td>-1.15724</td><td>1.62964</td><td>0.547141</td><td>0.35657</td></tr><tr><th>9</th><td>1.0</td><td>9.0</td><td>0.76825</td><td>1.25536</td><td>1.67268</td><td>-0.473008</td><td>1.39981</td></tr><tr><th>10</th><td>1.0</td><td>10.0</td><td>-0.144963</td><td>-0.460224</td><td>0.807931</td><td>-0.573244</td><td>0.0486799</td></tr><tr><th>11</th><td>1.0</td><td>11.0</td><td>-1.93217</td><td>0.442948</td><td>-1.73322</td><td>0.970849</td><td>-0.725372</td></tr><tr><th>12</th><td>1.0</td><td>12.0</td><td>-0.966937</td><td>-0.539933</td><td>0.31845</td><td>-0.210508</td><td>0.722271</td></tr><tr><th>13</th><td>1.0</td><td>13.0</td><td>-0.250653</td><td>0.565968</td><td>1.56168</td><td>-0.305372</td><td>0.484858</td></tr><tr><th>14</th><td>1.0</td><td>14.0</td><td>-0.275611</td><td>-0.825263</td><td>2.82106</td><td>0.031797</td><td>-2.11812</td></tr><tr><th>15</th><td>1.0</td><td>15.0</td><td>1.2254</td><td>1.77636</td><td>-0.00540377</td><td>0.297894</td><td>-0.62589</td></tr><tr><th>16</th><td>1.0</td><td>16.0</td><td>-0.304875</td><td>-1.70832</td><td>-1.21336</td><td>0.0568295</td><td>-0.741992</td></tr><tr><th>17</th><td>1.0</td><td>17.0</td><td>1.34597</td><td>0.438955</td><td>2.35485</td><td>1.60846</td><td>1.08094</td></tr><tr><th>18</th><td>1.0</td><td>18.0</td><td>-0.435183</td><td>2.98426</td><td>0.657047</td><td>-0.686432</td><td>-0.311489</td></tr><tr><th>19</th><td>1.0</td><td>19.0</td><td>0.142649</td><td>0.71831</td><td>-2.5674</td><td>0.200438</td><td>-0.237765</td></tr><tr><th>20</th><td>1.0</td><td>20.0</td><td>-2.42054</td><td>1.81885</td><td>1.09104</td><td>0.230609</td><td>-1.52396</td></tr><tr><th>21</th><td>1.0</td><td>21.0</td><td>-1.36097</td><td>0.0920466</td><td>0.703116</td><td>-1.48897</td><td>-0.831156</td></tr><tr><th>22</th><td>1.0</td><td>22.0</td><td>-0.471726</td><td>1.77986</td><td>-1.13053</td><td>-0.191355</td><td>0.961632</td></tr><tr><th>23</th><td>1.0</td><td>23.0</td><td>0.872886</td><td>0.124945</td><td>-0.895236</td><td>0.524138</td><td>0.66833</td></tr><tr><th>24</th><td>1.0</td><td>24.0</td><td>2.22201</td><td>-0.446129</td><td>-0.23967</td><td>-1.09348</td><td>1.02461</td></tr><tr><th>25</th><td>1.0</td><td>25.0</td><td>0.693755</td><td>0.0611661</td><td>-0.349582</td><td>2.41541</td><td>-0.0236594</td></tr><tr><th>26</th><td>1.0</td><td>26.0</td><td>0.801452</td><td>0.948048</td><td>-1.60091</td><td>-0.384437</td><td>-1.37203</td></tr><tr><th>27</th><td>1.0</td><td>27.0</td><td>1.3382</td><td>-0.345844</td><td>1.69191</td><td>-1.15968</td><td>0.427263</td></tr><tr><th>28</th><td>1.0</td><td>28.0</td><td>-2.13697</td><td>2.00718</td><td>-0.355582</td><td>0.32779</td><td>-1.18088</td></tr><tr><th>29</th><td>1.0</td><td>29.0</td><td>-1.87458</td><td>1.37523</td><td>-0.586398</td><td>-0.961861</td><td>0.228751</td></tr><tr><th>30</th><td>1.0</td><td>30.0</td><td>0.170459</td><td>-0.500841</td><td>0.531565</td><td>-2.84748</td><td>0.258424</td></tr><tr><th>&vellip;</th><td>&vellip;</td><td>&vellip;</td><td>&vellip;</td><td>&vellip;</td><td>&vellip;</td><td>&vellip;</td><td>&vellip;</td></tr></tbody></table>"
      ],
      "text/latex": [
       "\\begin{tabular}{r|cccccccc}\n",
       "\t& timeseries & timestep & var1 & var10 & var11 & var12 & var13 & \\\\\n",
       "\t\\hline\n",
       "\t& Float64 & Float64 & Float64 & Float64 & Float64 & Float64 & Float64 & \\\\\n",
       "\t\\hline\n",
       "\t1 & 1.0 & 1.0 & 0.0228698 & -0.113172 & -0.554446 & -0.33393 & -0.874112 & $\\dots$ \\\\\n",
       "\t2 & 1.0 & 2.0 & -0.0114158 & 0.9312 & 1.54879 & -1.30569 & -0.501856 & $\\dots$ \\\\\n",
       "\t3 & 1.0 & 3.0 & 0.917438 & -0.94588 & -0.364811 & -0.297199 & -0.682692 & $\\dots$ \\\\\n",
       "\t4 & 1.0 & 4.0 & -0.973552 & -0.889696 & 0.154459 & -1.18881 & 0.309108 & $\\dots$ \\\\\n",
       "\t5 & 1.0 & 5.0 & 1.3988 & -0.57887 & 1.21847 & 0.203799 & -0.498574 & $\\dots$ \\\\\n",
       "\t6 & 1.0 & 6.0 & -1.27066 & 1.23356 & 0.882955 & -0.768622 & -1.23042 & $\\dots$ \\\\\n",
       "\t7 & 1.0 & 7.0 & -0.34017 & -0.466005 & 0.0596527 & -0.184856 & 1.771 & $\\dots$ \\\\\n",
       "\t8 & 1.0 & 8.0 & 1.26101 & -1.15724 & 1.62964 & 0.547141 & 0.35657 & $\\dots$ \\\\\n",
       "\t9 & 1.0 & 9.0 & 0.76825 & 1.25536 & 1.67268 & -0.473008 & 1.39981 & $\\dots$ \\\\\n",
       "\t10 & 1.0 & 10.0 & -0.144963 & -0.460224 & 0.807931 & -0.573244 & 0.0486799 & $\\dots$ \\\\\n",
       "\t11 & 1.0 & 11.0 & -1.93217 & 0.442948 & -1.73322 & 0.970849 & -0.725372 & $\\dots$ \\\\\n",
       "\t12 & 1.0 & 12.0 & -0.966937 & -0.539933 & 0.31845 & -0.210508 & 0.722271 & $\\dots$ \\\\\n",
       "\t13 & 1.0 & 13.0 & -0.250653 & 0.565968 & 1.56168 & -0.305372 & 0.484858 & $\\dots$ \\\\\n",
       "\t14 & 1.0 & 14.0 & -0.275611 & -0.825263 & 2.82106 & 0.031797 & -2.11812 & $\\dots$ \\\\\n",
       "\t15 & 1.0 & 15.0 & 1.2254 & 1.77636 & -0.00540377 & 0.297894 & -0.62589 & $\\dots$ \\\\\n",
       "\t16 & 1.0 & 16.0 & -0.304875 & -1.70832 & -1.21336 & 0.0568295 & -0.741992 & $\\dots$ \\\\\n",
       "\t17 & 1.0 & 17.0 & 1.34597 & 0.438955 & 2.35485 & 1.60846 & 1.08094 & $\\dots$ \\\\\n",
       "\t18 & 1.0 & 18.0 & -0.435183 & 2.98426 & 0.657047 & -0.686432 & -0.311489 & $\\dots$ \\\\\n",
       "\t19 & 1.0 & 19.0 & 0.142649 & 0.71831 & -2.5674 & 0.200438 & -0.237765 & $\\dots$ \\\\\n",
       "\t20 & 1.0 & 20.0 & -2.42054 & 1.81885 & 1.09104 & 0.230609 & -1.52396 & $\\dots$ \\\\\n",
       "\t21 & 1.0 & 21.0 & -1.36097 & 0.0920466 & 0.703116 & -1.48897 & -0.831156 & $\\dots$ \\\\\n",
       "\t22 & 1.0 & 22.0 & -0.471726 & 1.77986 & -1.13053 & -0.191355 & 0.961632 & $\\dots$ \\\\\n",
       "\t23 & 1.0 & 23.0 & 0.872886 & 0.124945 & -0.895236 & 0.524138 & 0.66833 & $\\dots$ \\\\\n",
       "\t24 & 1.0 & 24.0 & 2.22201 & -0.446129 & -0.23967 & -1.09348 & 1.02461 & $\\dots$ \\\\\n",
       "\t25 & 1.0 & 25.0 & 0.693755 & 0.0611661 & -0.349582 & 2.41541 & -0.0236594 & $\\dots$ \\\\\n",
       "\t26 & 1.0 & 26.0 & 0.801452 & 0.948048 & -1.60091 & -0.384437 & -1.37203 & $\\dots$ \\\\\n",
       "\t27 & 1.0 & 27.0 & 1.3382 & -0.345844 & 1.69191 & -1.15968 & 0.427263 & $\\dots$ \\\\\n",
       "\t28 & 1.0 & 28.0 & -2.13697 & 2.00718 & -0.355582 & 0.32779 & -1.18088 & $\\dots$ \\\\\n",
       "\t29 & 1.0 & 29.0 & -1.87458 & 1.37523 & -0.586398 & -0.961861 & 0.228751 & $\\dots$ \\\\\n",
       "\t30 & 1.0 & 30.0 & 0.170459 & -0.500841 & 0.531565 & -2.84748 & 0.258424 & $\\dots$ \\\\\n",
       "\t$\\dots$ & $\\dots$ & $\\dots$ & $\\dots$ & $\\dots$ & $\\dots$ & $\\dots$ & $\\dots$ &  \\\\\n",
       "\\end{tabular}\n"
      ],
      "text/plain": [
       "100×22 DataFrame. Omitted printing of 17 columns\n",
       "│ Row │ timeseries │ timestep │ var1       │ var10     │ var11      │\n",
       "│     │ \u001b[90mFloat64\u001b[39m    │ \u001b[90mFloat64\u001b[39m  │ \u001b[90mFloat64\u001b[39m    │ \u001b[90mFloat64\u001b[39m   │ \u001b[90mFloat64\u001b[39m    │\n",
       "├─────┼────────────┼──────────┼────────────┼───────────┼────────────┤\n",
       "│ 1   │ 1.0        │ 1.0      │ 0.0228698  │ -0.113172 │ -0.554446  │\n",
       "│ 2   │ 1.0        │ 2.0      │ -0.0114158 │ 0.9312    │ 1.54879    │\n",
       "│ 3   │ 1.0        │ 3.0      │ 0.917438   │ -0.94588  │ -0.364811  │\n",
       "│ 4   │ 1.0        │ 4.0      │ -0.973552  │ -0.889696 │ 0.154459   │\n",
       "│ 5   │ 1.0        │ 5.0      │ 1.3988     │ -0.57887  │ 1.21847    │\n",
       "│ 6   │ 1.0        │ 6.0      │ -1.27066   │ 1.23356   │ 0.882955   │\n",
       "│ 7   │ 1.0        │ 7.0      │ -0.34017   │ -0.466005 │ 0.0596527  │\n",
       "│ 8   │ 1.0        │ 8.0      │ 1.26101    │ -1.15724  │ 1.62964    │\n",
       "│ 9   │ 1.0        │ 9.0      │ 0.76825    │ 1.25536   │ 1.67268    │\n",
       "│ 10  │ 1.0        │ 10.0     │ -0.144963  │ -0.460224 │ 0.807931   │\n",
       "⋮\n",
       "│ 90  │ 1.0        │ 90.0     │ -0.281643  │ 1.48963   │ -1.75905   │\n",
       "│ 91  │ 1.0        │ 91.0     │ 0.332102   │ -0.101157 │ 0.00607273 │\n",
       "│ 92  │ 1.0        │ 92.0     │ 1.34774    │ 0.431132  │ -0.870173  │\n",
       "│ 93  │ 1.0        │ 93.0     │ 0.881706   │ 1.33298   │ -0.875379  │\n",
       "│ 94  │ 1.0        │ 94.0     │ -0.161474  │ 0.475504  │ 0.0908018  │\n",
       "│ 95  │ 1.0        │ 95.0     │ 0.446055   │ 0.614887  │ 0.946437   │\n",
       "│ 96  │ 1.0        │ 96.0     │ -0.551784  │ 0.559848  │ -1.01103   │\n",
       "│ 97  │ 1.0        │ 97.0     │ 0.997444   │ 0.267112  │ -0.227374  │\n",
       "│ 98  │ 1.0        │ 98.0     │ -1.56507   │ -1.13193  │ -0.265053  │\n",
       "│ 99  │ 1.0        │ 99.0     │ 0.81923    │ -2.34334  │ 0.746829   │\n",
       "│ 100 │ 1.0        │ 100.0    │ -0.421608  │ 0.400224  │ -0.0482371 │"
      ]
     },
     "execution_count": 15,
     "metadata": {},
     "output_type": "execute_result"
    }
   ],
   "source": [
    "ts = df[df.timeseries .== 1,:]"
   ]
  },
  {
   "cell_type": "code",
   "execution_count": 18,
   "metadata": {},
   "outputs": [
    {
     "data": {
      "text/html": [
       "<table class=\"data-frame\"><thead><tr><th></th><th>timeseries</th><th>timestep</th><th>var1</th><th>var10</th><th>var11</th><th>var12</th><th>var13</th></tr><tr><th></th><th>Float64</th><th>Float64</th><th>Float64</th><th>Float64</th><th>Float64</th><th>Float64</th><th>Float64</th></tr></thead><tbody><p>100 rows × 22 columns (omitted printing of 15 columns)</p><tr><th>1</th><td>1.0</td><td>100.0</td><td>-0.421608</td><td>0.400224</td><td>-0.0482371</td><td>1.5605</td><td>-0.799362</td></tr><tr><th>2</th><td>1.0</td><td>99.0</td><td>0.81923</td><td>-2.34334</td><td>0.746829</td><td>0.443526</td><td>-0.702731</td></tr><tr><th>3</th><td>1.0</td><td>98.0</td><td>-1.56507</td><td>-1.13193</td><td>-0.265053</td><td>-0.0839415</td><td>1.45153</td></tr><tr><th>4</th><td>1.0</td><td>97.0</td><td>0.997444</td><td>0.267112</td><td>-0.227374</td><td>0.651756</td><td>-0.435146</td></tr><tr><th>5</th><td>1.0</td><td>96.0</td><td>-0.551784</td><td>0.559848</td><td>-1.01103</td><td>-0.509251</td><td>1.35121</td></tr><tr><th>6</th><td>1.0</td><td>95.0</td><td>0.446055</td><td>0.614887</td><td>0.946437</td><td>0.801655</td><td>-0.416037</td></tr><tr><th>7</th><td>1.0</td><td>94.0</td><td>-0.161474</td><td>0.475504</td><td>0.0908018</td><td>-0.254955</td><td>-0.232692</td></tr><tr><th>8</th><td>1.0</td><td>93.0</td><td>0.881706</td><td>1.33298</td><td>-0.875379</td><td>-0.551624</td><td>-1.8928</td></tr><tr><th>9</th><td>1.0</td><td>92.0</td><td>1.34774</td><td>0.431132</td><td>-0.870173</td><td>-0.560929</td><td>0.875882</td></tr><tr><th>10</th><td>1.0</td><td>91.0</td><td>0.332102</td><td>-0.101157</td><td>0.00607273</td><td>0.662163</td><td>1.66961</td></tr><tr><th>11</th><td>1.0</td><td>90.0</td><td>-0.281643</td><td>1.48963</td><td>-1.75905</td><td>-1.98483</td><td>-0.690458</td></tr><tr><th>12</th><td>1.0</td><td>89.0</td><td>1.45613</td><td>-0.635161</td><td>-1.18927</td><td>0.5208</td><td>0.794614</td></tr><tr><th>13</th><td>1.0</td><td>88.0</td><td>0.636594</td><td>-0.720809</td><td>1.69433</td><td>0.783016</td><td>1.67006</td></tr><tr><th>14</th><td>1.0</td><td>87.0</td><td>-1.70784</td><td>-1.25027</td><td>-0.0015481</td><td>1.63972</td><td>-1.11358</td></tr><tr><th>15</th><td>1.0</td><td>86.0</td><td>-1.96194</td><td>-0.114984</td><td>0.437056</td><td>1.19173</td><td>-2.22157</td></tr><tr><th>16</th><td>1.0</td><td>85.0</td><td>0.367357</td><td>-0.661202</td><td>-0.480591</td><td>-0.231859</td><td>0.483816</td></tr><tr><th>17</th><td>1.0</td><td>84.0</td><td>-0.342518</td><td>0.313602</td><td>0.236022</td><td>-1.79835</td><td>-0.158878</td></tr><tr><th>18</th><td>1.0</td><td>83.0</td><td>-1.52979</td><td>0.564657</td><td>-1.1882</td><td>-0.166263</td><td>0.106987</td></tr><tr><th>19</th><td>1.0</td><td>82.0</td><td>-0.346026</td><td>-0.604623</td><td>-1.32832</td><td>0.138397</td><td>-0.303646</td></tr><tr><th>20</th><td>1.0</td><td>81.0</td><td>-1.34313</td><td>-1.29627</td><td>0.224843</td><td>-0.252954</td><td>-1.27381</td></tr><tr><th>21</th><td>1.0</td><td>80.0</td><td>1.32257</td><td>-0.216184</td><td>-1.41446</td><td>-1.30305</td><td>-0.855106</td></tr><tr><th>22</th><td>1.0</td><td>79.0</td><td>-0.0431741</td><td>-0.13309</td><td>-0.598966</td><td>-0.00236971</td><td>-1.60062</td></tr><tr><th>23</th><td>1.0</td><td>78.0</td><td>0.0087981</td><td>-0.160867</td><td>-0.244696</td><td>1.13013</td><td>0.132948</td></tr><tr><th>24</th><td>1.0</td><td>77.0</td><td>0.222682</td><td>1.00777</td><td>0.690175</td><td>-0.277656</td><td>-0.512257</td></tr><tr><th>25</th><td>1.0</td><td>76.0</td><td>0.691855</td><td>-0.126526</td><td>-1.91202</td><td>0.963313</td><td>-0.259233</td></tr><tr><th>26</th><td>1.0</td><td>75.0</td><td>-0.364059</td><td>-0.390013</td><td>1.82139</td><td>0.751214</td><td>-0.567148</td></tr><tr><th>27</th><td>1.0</td><td>74.0</td><td>0.186323</td><td>1.01111</td><td>-1.4999</td><td>-1.3625</td><td>0.0086646</td></tr><tr><th>28</th><td>1.0</td><td>73.0</td><td>-0.016558</td><td>-1.24436</td><td>-1.9773</td><td>-0.816417</td><td>-0.906439</td></tr><tr><th>29</th><td>1.0</td><td>72.0</td><td>-0.691604</td><td>-0.742318</td><td>0.286275</td><td>0.284526</td><td>-0.633777</td></tr><tr><th>30</th><td>1.0</td><td>71.0</td><td>0.327133</td><td>2.65074</td><td>0.0237418</td><td>-1.61244</td><td>-0.134347</td></tr><tr><th>&vellip;</th><td>&vellip;</td><td>&vellip;</td><td>&vellip;</td><td>&vellip;</td><td>&vellip;</td><td>&vellip;</td><td>&vellip;</td></tr></tbody></table>"
      ],
      "text/latex": [
       "\\begin{tabular}{r|cccccccc}\n",
       "\t& timeseries & timestep & var1 & var10 & var11 & var12 & var13 & \\\\\n",
       "\t\\hline\n",
       "\t& Float64 & Float64 & Float64 & Float64 & Float64 & Float64 & Float64 & \\\\\n",
       "\t\\hline\n",
       "\t1 & 1.0 & 100.0 & -0.421608 & 0.400224 & -0.0482371 & 1.5605 & -0.799362 & $\\dots$ \\\\\n",
       "\t2 & 1.0 & 99.0 & 0.81923 & -2.34334 & 0.746829 & 0.443526 & -0.702731 & $\\dots$ \\\\\n",
       "\t3 & 1.0 & 98.0 & -1.56507 & -1.13193 & -0.265053 & -0.0839415 & 1.45153 & $\\dots$ \\\\\n",
       "\t4 & 1.0 & 97.0 & 0.997444 & 0.267112 & -0.227374 & 0.651756 & -0.435146 & $\\dots$ \\\\\n",
       "\t5 & 1.0 & 96.0 & -0.551784 & 0.559848 & -1.01103 & -0.509251 & 1.35121 & $\\dots$ \\\\\n",
       "\t6 & 1.0 & 95.0 & 0.446055 & 0.614887 & 0.946437 & 0.801655 & -0.416037 & $\\dots$ \\\\\n",
       "\t7 & 1.0 & 94.0 & -0.161474 & 0.475504 & 0.0908018 & -0.254955 & -0.232692 & $\\dots$ \\\\\n",
       "\t8 & 1.0 & 93.0 & 0.881706 & 1.33298 & -0.875379 & -0.551624 & -1.8928 & $\\dots$ \\\\\n",
       "\t9 & 1.0 & 92.0 & 1.34774 & 0.431132 & -0.870173 & -0.560929 & 0.875882 & $\\dots$ \\\\\n",
       "\t10 & 1.0 & 91.0 & 0.332102 & -0.101157 & 0.00607273 & 0.662163 & 1.66961 & $\\dots$ \\\\\n",
       "\t11 & 1.0 & 90.0 & -0.281643 & 1.48963 & -1.75905 & -1.98483 & -0.690458 & $\\dots$ \\\\\n",
       "\t12 & 1.0 & 89.0 & 1.45613 & -0.635161 & -1.18927 & 0.5208 & 0.794614 & $\\dots$ \\\\\n",
       "\t13 & 1.0 & 88.0 & 0.636594 & -0.720809 & 1.69433 & 0.783016 & 1.67006 & $\\dots$ \\\\\n",
       "\t14 & 1.0 & 87.0 & -1.70784 & -1.25027 & -0.0015481 & 1.63972 & -1.11358 & $\\dots$ \\\\\n",
       "\t15 & 1.0 & 86.0 & -1.96194 & -0.114984 & 0.437056 & 1.19173 & -2.22157 & $\\dots$ \\\\\n",
       "\t16 & 1.0 & 85.0 & 0.367357 & -0.661202 & -0.480591 & -0.231859 & 0.483816 & $\\dots$ \\\\\n",
       "\t17 & 1.0 & 84.0 & -0.342518 & 0.313602 & 0.236022 & -1.79835 & -0.158878 & $\\dots$ \\\\\n",
       "\t18 & 1.0 & 83.0 & -1.52979 & 0.564657 & -1.1882 & -0.166263 & 0.106987 & $\\dots$ \\\\\n",
       "\t19 & 1.0 & 82.0 & -0.346026 & -0.604623 & -1.32832 & 0.138397 & -0.303646 & $\\dots$ \\\\\n",
       "\t20 & 1.0 & 81.0 & -1.34313 & -1.29627 & 0.224843 & -0.252954 & -1.27381 & $\\dots$ \\\\\n",
       "\t21 & 1.0 & 80.0 & 1.32257 & -0.216184 & -1.41446 & -1.30305 & -0.855106 & $\\dots$ \\\\\n",
       "\t22 & 1.0 & 79.0 & -0.0431741 & -0.13309 & -0.598966 & -0.00236971 & -1.60062 & $\\dots$ \\\\\n",
       "\t23 & 1.0 & 78.0 & 0.0087981 & -0.160867 & -0.244696 & 1.13013 & 0.132948 & $\\dots$ \\\\\n",
       "\t24 & 1.0 & 77.0 & 0.222682 & 1.00777 & 0.690175 & -0.277656 & -0.512257 & $\\dots$ \\\\\n",
       "\t25 & 1.0 & 76.0 & 0.691855 & -0.126526 & -1.91202 & 0.963313 & -0.259233 & $\\dots$ \\\\\n",
       "\t26 & 1.0 & 75.0 & -0.364059 & -0.390013 & 1.82139 & 0.751214 & -0.567148 & $\\dots$ \\\\\n",
       "\t27 & 1.0 & 74.0 & 0.186323 & 1.01111 & -1.4999 & -1.3625 & 0.0086646 & $\\dots$ \\\\\n",
       "\t28 & 1.0 & 73.0 & -0.016558 & -1.24436 & -1.9773 & -0.816417 & -0.906439 & $\\dots$ \\\\\n",
       "\t29 & 1.0 & 72.0 & -0.691604 & -0.742318 & 0.286275 & 0.284526 & -0.633777 & $\\dots$ \\\\\n",
       "\t30 & 1.0 & 71.0 & 0.327133 & 2.65074 & 0.0237418 & -1.61244 & -0.134347 & $\\dots$ \\\\\n",
       "\t$\\dots$ & $\\dots$ & $\\dots$ & $\\dots$ & $\\dots$ & $\\dots$ & $\\dots$ & $\\dots$ &  \\\\\n",
       "\\end{tabular}\n"
      ],
      "text/plain": [
       "100×22 DataFrame. Omitted printing of 17 columns\n",
       "│ Row │ timeseries │ timestep │ var1       │ var10     │ var11      │\n",
       "│     │ \u001b[90mFloat64\u001b[39m    │ \u001b[90mFloat64\u001b[39m  │ \u001b[90mFloat64\u001b[39m    │ \u001b[90mFloat64\u001b[39m   │ \u001b[90mFloat64\u001b[39m    │\n",
       "├─────┼────────────┼──────────┼────────────┼───────────┼────────────┤\n",
       "│ 1   │ 1.0        │ 100.0    │ -0.421608  │ 0.400224  │ -0.0482371 │\n",
       "│ 2   │ 1.0        │ 99.0     │ 0.81923    │ -2.34334  │ 0.746829   │\n",
       "│ 3   │ 1.0        │ 98.0     │ -1.56507   │ -1.13193  │ -0.265053  │\n",
       "│ 4   │ 1.0        │ 97.0     │ 0.997444   │ 0.267112  │ -0.227374  │\n",
       "│ 5   │ 1.0        │ 96.0     │ -0.551784  │ 0.559848  │ -1.01103   │\n",
       "│ 6   │ 1.0        │ 95.0     │ 0.446055   │ 0.614887  │ 0.946437   │\n",
       "│ 7   │ 1.0        │ 94.0     │ -0.161474  │ 0.475504  │ 0.0908018  │\n",
       "│ 8   │ 1.0        │ 93.0     │ 0.881706   │ 1.33298   │ -0.875379  │\n",
       "│ 9   │ 1.0        │ 92.0     │ 1.34774    │ 0.431132  │ -0.870173  │\n",
       "│ 10  │ 1.0        │ 91.0     │ 0.332102   │ -0.101157 │ 0.00607273 │\n",
       "⋮\n",
       "│ 90  │ 1.0        │ 11.0     │ -1.93217   │ 0.442948  │ -1.73322   │\n",
       "│ 91  │ 1.0        │ 10.0     │ -0.144963  │ -0.460224 │ 0.807931   │\n",
       "│ 92  │ 1.0        │ 9.0      │ 0.76825    │ 1.25536   │ 1.67268    │\n",
       "│ 93  │ 1.0        │ 8.0      │ 1.26101    │ -1.15724  │ 1.62964    │\n",
       "│ 94  │ 1.0        │ 7.0      │ -0.34017   │ -0.466005 │ 0.0596527  │\n",
       "│ 95  │ 1.0        │ 6.0      │ -1.27066   │ 1.23356   │ 0.882955   │\n",
       "│ 96  │ 1.0        │ 5.0      │ 1.3988     │ -0.57887  │ 1.21847    │\n",
       "│ 97  │ 1.0        │ 4.0      │ -0.973552  │ -0.889696 │ 0.154459   │\n",
       "│ 98  │ 1.0        │ 3.0      │ 0.917438   │ -0.94588  │ -0.364811  │\n",
       "│ 99  │ 1.0        │ 2.0      │ -0.0114158 │ 0.9312    │ 1.54879    │\n",
       "│ 100 │ 1.0        │ 1.0      │ 0.0228698  │ -0.113172 │ -0.554446  │"
      ]
     },
     "execution_count": 18,
     "metadata": {},
     "output_type": "execute_result"
    }
   ],
   "source": [
    "sort(ts, [:timestep], rev=true)"
   ]
  },
  {
   "cell_type": "code",
   "execution_count": 19,
   "metadata": {},
   "outputs": [
    {
     "data": {
      "text/html": [
       "<table class=\"data-frame\"><thead><tr><th></th><th>var1</th><th>var10</th><th>var11</th><th>var12</th><th>var13</th><th>var14</th><th>var15</th></tr><tr><th></th><th>Float64</th><th>Float64</th><th>Float64</th><th>Float64</th><th>Float64</th><th>Float64</th><th>Float64</th></tr></thead><tbody><p>100 rows × 20 columns (omitted printing of 13 columns)</p><tr><th>1</th><td>0.0228698</td><td>-0.113172</td><td>-0.554446</td><td>-0.33393</td><td>-0.874112</td><td>-0.168852</td><td>0.384099</td></tr><tr><th>2</th><td>-0.0114158</td><td>0.9312</td><td>1.54879</td><td>-1.30569</td><td>-0.501856</td><td>-1.25952</td><td>-3.291</td></tr><tr><th>3</th><td>0.917438</td><td>-0.94588</td><td>-0.364811</td><td>-0.297199</td><td>-0.682692</td><td>0.746672</td><td>0.519302</td></tr><tr><th>4</th><td>-0.973552</td><td>-0.889696</td><td>0.154459</td><td>-1.18881</td><td>0.309108</td><td>-0.739151</td><td>1.34489</td></tr><tr><th>5</th><td>1.3988</td><td>-0.57887</td><td>1.21847</td><td>0.203799</td><td>-0.498574</td><td>-0.528715</td><td>-2.69129</td></tr><tr><th>6</th><td>-1.27066</td><td>1.23356</td><td>0.882955</td><td>-0.768622</td><td>-1.23042</td><td>-0.449887</td><td>-0.294939</td></tr><tr><th>7</th><td>-0.34017</td><td>-0.466005</td><td>0.0596527</td><td>-0.184856</td><td>1.771</td><td>1.1778</td><td>-1.24698</td></tr><tr><th>8</th><td>1.26101</td><td>-1.15724</td><td>1.62964</td><td>0.547141</td><td>0.35657</td><td>-0.794436</td><td>1.93525</td></tr><tr><th>9</th><td>0.76825</td><td>1.25536</td><td>1.67268</td><td>-0.473008</td><td>1.39981</td><td>-1.25344</td><td>-0.435413</td></tr><tr><th>10</th><td>-0.144963</td><td>-0.460224</td><td>0.807931</td><td>-0.573244</td><td>0.0486799</td><td>0.557842</td><td>0.255856</td></tr><tr><th>11</th><td>-1.93217</td><td>0.442948</td><td>-1.73322</td><td>0.970849</td><td>-0.725372</td><td>1.38918</td><td>0.00790083</td></tr><tr><th>12</th><td>-0.966937</td><td>-0.539933</td><td>0.31845</td><td>-0.210508</td><td>0.722271</td><td>-0.15746</td><td>-0.472552</td></tr><tr><th>13</th><td>-0.250653</td><td>0.565968</td><td>1.56168</td><td>-0.305372</td><td>0.484858</td><td>1.18663</td><td>-1.39611</td></tr><tr><th>14</th><td>-0.275611</td><td>-0.825263</td><td>2.82106</td><td>0.031797</td><td>-2.11812</td><td>-1.03553</td><td>0.369882</td></tr><tr><th>15</th><td>1.2254</td><td>1.77636</td><td>-0.00540377</td><td>0.297894</td><td>-0.62589</td><td>-1.44018</td><td>0.330488</td></tr><tr><th>16</th><td>-0.304875</td><td>-1.70832</td><td>-1.21336</td><td>0.0568295</td><td>-0.741992</td><td>0.307159</td><td>0.575833</td></tr><tr><th>17</th><td>1.34597</td><td>0.438955</td><td>2.35485</td><td>1.60846</td><td>1.08094</td><td>-0.932325</td><td>0.30893</td></tr><tr><th>18</th><td>-0.435183</td><td>2.98426</td><td>0.657047</td><td>-0.686432</td><td>-0.311489</td><td>-1.50362</td><td>0.79199</td></tr><tr><th>19</th><td>0.142649</td><td>0.71831</td><td>-2.5674</td><td>0.200438</td><td>-0.237765</td><td>1.07076</td><td>1.01165</td></tr><tr><th>20</th><td>-2.42054</td><td>1.81885</td><td>1.09104</td><td>0.230609</td><td>-1.52396</td><td>1.70599</td><td>0.715292</td></tr><tr><th>21</th><td>-1.36097</td><td>0.0920466</td><td>0.703116</td><td>-1.48897</td><td>-0.831156</td><td>0.0944697</td><td>-1.75337</td></tr><tr><th>22</th><td>-0.471726</td><td>1.77986</td><td>-1.13053</td><td>-0.191355</td><td>0.961632</td><td>-2.0695</td><td>1.98664</td></tr><tr><th>23</th><td>0.872886</td><td>0.124945</td><td>-0.895236</td><td>0.524138</td><td>0.66833</td><td>0.129247</td><td>0.162737</td></tr><tr><th>24</th><td>2.22201</td><td>-0.446129</td><td>-0.23967</td><td>-1.09348</td><td>1.02461</td><td>0.0444384</td><td>0.453367</td></tr><tr><th>25</th><td>0.693755</td><td>0.0611661</td><td>-0.349582</td><td>2.41541</td><td>-0.0236594</td><td>-0.374909</td><td>1.76064</td></tr><tr><th>26</th><td>0.801452</td><td>0.948048</td><td>-1.60091</td><td>-0.384437</td><td>-1.37203</td><td>0.951698</td><td>-1.82313</td></tr><tr><th>27</th><td>1.3382</td><td>-0.345844</td><td>1.69191</td><td>-1.15968</td><td>0.427263</td><td>-0.67653</td><td>0.832612</td></tr><tr><th>28</th><td>-2.13697</td><td>2.00718</td><td>-0.355582</td><td>0.32779</td><td>-1.18088</td><td>0.514964</td><td>0.621475</td></tr><tr><th>29</th><td>-1.87458</td><td>1.37523</td><td>-0.586398</td><td>-0.961861</td><td>0.228751</td><td>-1.30025</td><td>-0.27522</td></tr><tr><th>30</th><td>0.170459</td><td>-0.500841</td><td>0.531565</td><td>-2.84748</td><td>0.258424</td><td>-0.317718</td><td>-1.12451</td></tr><tr><th>&vellip;</th><td>&vellip;</td><td>&vellip;</td><td>&vellip;</td><td>&vellip;</td><td>&vellip;</td><td>&vellip;</td><td>&vellip;</td></tr></tbody></table>"
      ],
      "text/latex": [
       "\\begin{tabular}{r|cccccccc}\n",
       "\t& var1 & var10 & var11 & var12 & var13 & var14 & var15 & \\\\\n",
       "\t\\hline\n",
       "\t& Float64 & Float64 & Float64 & Float64 & Float64 & Float64 & Float64 & \\\\\n",
       "\t\\hline\n",
       "\t1 & 0.0228698 & -0.113172 & -0.554446 & -0.33393 & -0.874112 & -0.168852 & 0.384099 & $\\dots$ \\\\\n",
       "\t2 & -0.0114158 & 0.9312 & 1.54879 & -1.30569 & -0.501856 & -1.25952 & -3.291 & $\\dots$ \\\\\n",
       "\t3 & 0.917438 & -0.94588 & -0.364811 & -0.297199 & -0.682692 & 0.746672 & 0.519302 & $\\dots$ \\\\\n",
       "\t4 & -0.973552 & -0.889696 & 0.154459 & -1.18881 & 0.309108 & -0.739151 & 1.34489 & $\\dots$ \\\\\n",
       "\t5 & 1.3988 & -0.57887 & 1.21847 & 0.203799 & -0.498574 & -0.528715 & -2.69129 & $\\dots$ \\\\\n",
       "\t6 & -1.27066 & 1.23356 & 0.882955 & -0.768622 & -1.23042 & -0.449887 & -0.294939 & $\\dots$ \\\\\n",
       "\t7 & -0.34017 & -0.466005 & 0.0596527 & -0.184856 & 1.771 & 1.1778 & -1.24698 & $\\dots$ \\\\\n",
       "\t8 & 1.26101 & -1.15724 & 1.62964 & 0.547141 & 0.35657 & -0.794436 & 1.93525 & $\\dots$ \\\\\n",
       "\t9 & 0.76825 & 1.25536 & 1.67268 & -0.473008 & 1.39981 & -1.25344 & -0.435413 & $\\dots$ \\\\\n",
       "\t10 & -0.144963 & -0.460224 & 0.807931 & -0.573244 & 0.0486799 & 0.557842 & 0.255856 & $\\dots$ \\\\\n",
       "\t11 & -1.93217 & 0.442948 & -1.73322 & 0.970849 & -0.725372 & 1.38918 & 0.00790083 & $\\dots$ \\\\\n",
       "\t12 & -0.966937 & -0.539933 & 0.31845 & -0.210508 & 0.722271 & -0.15746 & -0.472552 & $\\dots$ \\\\\n",
       "\t13 & -0.250653 & 0.565968 & 1.56168 & -0.305372 & 0.484858 & 1.18663 & -1.39611 & $\\dots$ \\\\\n",
       "\t14 & -0.275611 & -0.825263 & 2.82106 & 0.031797 & -2.11812 & -1.03553 & 0.369882 & $\\dots$ \\\\\n",
       "\t15 & 1.2254 & 1.77636 & -0.00540377 & 0.297894 & -0.62589 & -1.44018 & 0.330488 & $\\dots$ \\\\\n",
       "\t16 & -0.304875 & -1.70832 & -1.21336 & 0.0568295 & -0.741992 & 0.307159 & 0.575833 & $\\dots$ \\\\\n",
       "\t17 & 1.34597 & 0.438955 & 2.35485 & 1.60846 & 1.08094 & -0.932325 & 0.30893 & $\\dots$ \\\\\n",
       "\t18 & -0.435183 & 2.98426 & 0.657047 & -0.686432 & -0.311489 & -1.50362 & 0.79199 & $\\dots$ \\\\\n",
       "\t19 & 0.142649 & 0.71831 & -2.5674 & 0.200438 & -0.237765 & 1.07076 & 1.01165 & $\\dots$ \\\\\n",
       "\t20 & -2.42054 & 1.81885 & 1.09104 & 0.230609 & -1.52396 & 1.70599 & 0.715292 & $\\dots$ \\\\\n",
       "\t21 & -1.36097 & 0.0920466 & 0.703116 & -1.48897 & -0.831156 & 0.0944697 & -1.75337 & $\\dots$ \\\\\n",
       "\t22 & -0.471726 & 1.77986 & -1.13053 & -0.191355 & 0.961632 & -2.0695 & 1.98664 & $\\dots$ \\\\\n",
       "\t23 & 0.872886 & 0.124945 & -0.895236 & 0.524138 & 0.66833 & 0.129247 & 0.162737 & $\\dots$ \\\\\n",
       "\t24 & 2.22201 & -0.446129 & -0.23967 & -1.09348 & 1.02461 & 0.0444384 & 0.453367 & $\\dots$ \\\\\n",
       "\t25 & 0.693755 & 0.0611661 & -0.349582 & 2.41541 & -0.0236594 & -0.374909 & 1.76064 & $\\dots$ \\\\\n",
       "\t26 & 0.801452 & 0.948048 & -1.60091 & -0.384437 & -1.37203 & 0.951698 & -1.82313 & $\\dots$ \\\\\n",
       "\t27 & 1.3382 & -0.345844 & 1.69191 & -1.15968 & 0.427263 & -0.67653 & 0.832612 & $\\dots$ \\\\\n",
       "\t28 & -2.13697 & 2.00718 & -0.355582 & 0.32779 & -1.18088 & 0.514964 & 0.621475 & $\\dots$ \\\\\n",
       "\t29 & -1.87458 & 1.37523 & -0.586398 & -0.961861 & 0.228751 & -1.30025 & -0.27522 & $\\dots$ \\\\\n",
       "\t30 & 0.170459 & -0.500841 & 0.531565 & -2.84748 & 0.258424 & -0.317718 & -1.12451 & $\\dots$ \\\\\n",
       "\t$\\dots$ & $\\dots$ & $\\dots$ & $\\dots$ & $\\dots$ & $\\dots$ & $\\dots$ & $\\dots$ &  \\\\\n",
       "\\end{tabular}\n"
      ],
      "text/plain": [
       "100×20 DataFrame. Omitted printing of 15 columns\n",
       "│ Row │ var1       │ var10     │ var11      │ var12      │ var13     │\n",
       "│     │ \u001b[90mFloat64\u001b[39m    │ \u001b[90mFloat64\u001b[39m   │ \u001b[90mFloat64\u001b[39m    │ \u001b[90mFloat64\u001b[39m    │ \u001b[90mFloat64\u001b[39m   │\n",
       "├─────┼────────────┼───────────┼────────────┼────────────┼───────────┤\n",
       "│ 1   │ 0.0228698  │ -0.113172 │ -0.554446  │ -0.33393   │ -0.874112 │\n",
       "│ 2   │ -0.0114158 │ 0.9312    │ 1.54879    │ -1.30569   │ -0.501856 │\n",
       "│ 3   │ 0.917438   │ -0.94588  │ -0.364811  │ -0.297199  │ -0.682692 │\n",
       "│ 4   │ -0.973552  │ -0.889696 │ 0.154459   │ -1.18881   │ 0.309108  │\n",
       "│ 5   │ 1.3988     │ -0.57887  │ 1.21847    │ 0.203799   │ -0.498574 │\n",
       "│ 6   │ -1.27066   │ 1.23356   │ 0.882955   │ -0.768622  │ -1.23042  │\n",
       "│ 7   │ -0.34017   │ -0.466005 │ 0.0596527  │ -0.184856  │ 1.771     │\n",
       "│ 8   │ 1.26101    │ -1.15724  │ 1.62964    │ 0.547141   │ 0.35657   │\n",
       "│ 9   │ 0.76825    │ 1.25536   │ 1.67268    │ -0.473008  │ 1.39981   │\n",
       "│ 10  │ -0.144963  │ -0.460224 │ 0.807931   │ -0.573244  │ 0.0486799 │\n",
       "⋮\n",
       "│ 90  │ -0.281643  │ 1.48963   │ -1.75905   │ -1.98483   │ -0.690458 │\n",
       "│ 91  │ 0.332102   │ -0.101157 │ 0.00607273 │ 0.662163   │ 1.66961   │\n",
       "│ 92  │ 1.34774    │ 0.431132  │ -0.870173  │ -0.560929  │ 0.875882  │\n",
       "│ 93  │ 0.881706   │ 1.33298   │ -0.875379  │ -0.551624  │ -1.8928   │\n",
       "│ 94  │ -0.161474  │ 0.475504  │ 0.0908018  │ -0.254955  │ -0.232692 │\n",
       "│ 95  │ 0.446055   │ 0.614887  │ 0.946437   │ 0.801655   │ -0.416037 │\n",
       "│ 96  │ -0.551784  │ 0.559848  │ -1.01103   │ -0.509251  │ 1.35121   │\n",
       "│ 97  │ 0.997444   │ 0.267112  │ -0.227374  │ 0.651756   │ -0.435146 │\n",
       "│ 98  │ -1.56507   │ -1.13193  │ -0.265053  │ -0.0839415 │ 1.45153   │\n",
       "│ 99  │ 0.81923    │ -2.34334  │ 0.746829   │ 0.443526   │ -0.702731 │\n",
       "│ 100 │ -0.421608  │ 0.400224  │ -0.0482371 │ 1.5605     │ -0.799362 │"
      ]
     },
     "execution_count": 19,
     "metadata": {},
     "output_type": "execute_result"
    }
   ],
   "source": [
    "ts[:,3:end]"
   ]
  },
  {
   "cell_type": "code",
   "execution_count": 20,
   "metadata": {},
   "outputs": [
    {
     "data": {
      "text/html": [
       "<table class=\"data-frame\"><thead><tr><th></th><th>0</th><th>1</th><th>0_1</th><th>0_2</th><th>0_3</th><th>0_4</th><th>0_5</th><th>0_6</th><th>0_7</th><th>0_8</th><th>0_9</th><th>0_10</th></tr><tr><th></th><th>Int64</th><th>Int64</th><th>Int64</th><th>Int64</th><th>Int64</th><th>Int64</th><th>Int64</th><th>Int64</th><th>Int64</th><th>Int64</th><th>Int64</th><th>Int64</th></tr></thead><tbody><p>19 rows × 20 columns (omitted printing of 8 columns)</p><tr><th>1</th><td>0</td><td>0</td><td>0</td><td>0</td><td>1</td><td>1</td><td>0</td><td>0</td><td>0</td><td>0</td><td>0</td><td>0</td></tr><tr><th>2</th><td>0</td><td>1</td><td>0</td><td>0</td><td>0</td><td>0</td><td>0</td><td>0</td><td>1</td><td>0</td><td>0</td><td>0</td></tr><tr><th>3</th><td>0</td><td>0</td><td>0</td><td>0</td><td>1</td><td>1</td><td>0</td><td>0</td><td>0</td><td>0</td><td>0</td><td>0</td></tr><tr><th>4</th><td>0</td><td>1</td><td>0</td><td>0</td><td>0</td><td>0</td><td>0</td><td>0</td><td>0</td><td>0</td><td>0</td><td>0</td></tr><tr><th>5</th><td>0</td><td>0</td><td>1</td><td>0</td><td>0</td><td>0</td><td>0</td><td>0</td><td>1</td><td>0</td><td>0</td><td>0</td></tr><tr><th>6</th><td>0</td><td>0</td><td>0</td><td>0</td><td>1</td><td>0</td><td>0</td><td>0</td><td>0</td><td>0</td><td>0</td><td>0</td></tr><tr><th>7</th><td>0</td><td>0</td><td>0</td><td>1</td><td>0</td><td>0</td><td>0</td><td>0</td><td>0</td><td>0</td><td>0</td><td>0</td></tr><tr><th>8</th><td>0</td><td>0</td><td>0</td><td>0</td><td>0</td><td>0</td><td>0</td><td>0</td><td>0</td><td>0</td><td>1</td><td>0</td></tr><tr><th>9</th><td>0</td><td>0</td><td>0</td><td>0</td><td>0</td><td>0</td><td>0</td><td>1</td><td>1</td><td>0</td><td>0</td><td>0</td></tr><tr><th>10</th><td>1</td><td>0</td><td>1</td><td>0</td><td>0</td><td>0</td><td>0</td><td>0</td><td>1</td><td>0</td><td>0</td><td>0</td></tr><tr><th>11</th><td>0</td><td>0</td><td>0</td><td>0</td><td>0</td><td>0</td><td>0</td><td>0</td><td>0</td><td>0</td><td>0</td><td>0</td></tr><tr><th>12</th><td>0</td><td>0</td><td>0</td><td>0</td><td>0</td><td>0</td><td>0</td><td>0</td><td>0</td><td>0</td><td>0</td><td>0</td></tr><tr><th>13</th><td>0</td><td>1</td><td>0</td><td>0</td><td>0</td><td>0</td><td>0</td><td>1</td><td>0</td><td>0</td><td>0</td><td>0</td></tr><tr><th>14</th><td>0</td><td>0</td><td>0</td><td>0</td><td>0</td><td>1</td><td>1</td><td>1</td><td>0</td><td>0</td><td>0</td><td>1</td></tr><tr><th>15</th><td>0</td><td>0</td><td>0</td><td>0</td><td>0</td><td>0</td><td>0</td><td>0</td><td>0</td><td>1</td><td>0</td><td>0</td></tr><tr><th>16</th><td>0</td><td>1</td><td>1</td><td>0</td><td>0</td><td>0</td><td>0</td><td>0</td><td>0</td><td>0</td><td>0</td><td>0</td></tr><tr><th>17</th><td>0</td><td>0</td><td>0</td><td>0</td><td>0</td><td>1</td><td>1</td><td>0</td><td>0</td><td>0</td><td>0</td><td>0</td></tr><tr><th>18</th><td>0</td><td>0</td><td>0</td><td>1</td><td>0</td><td>0</td><td>0</td><td>0</td><td>0</td><td>0</td><td>0</td><td>0</td></tr><tr><th>19</th><td>0</td><td>0</td><td>0</td><td>0</td><td>0</td><td>0</td><td>0</td><td>0</td><td>0</td><td>0</td><td>0</td><td>0</td></tr></tbody></table>"
      ],
      "text/latex": [
       "\\begin{tabular}{r|ccccccccccccc}\n",
       "\t& 0 & 1 & 0\\_1 & 0\\_2 & 0\\_3 & 0\\_4 & 0\\_5 & 0\\_6 & 0\\_7 & 0\\_8 & 0\\_9 & 0\\_10 & \\\\\n",
       "\t\\hline\n",
       "\t& Int64 & Int64 & Int64 & Int64 & Int64 & Int64 & Int64 & Int64 & Int64 & Int64 & Int64 & Int64 & \\\\\n",
       "\t\\hline\n",
       "\t1 & 0 & 0 & 0 & 0 & 1 & 1 & 0 & 0 & 0 & 0 & 0 & 0 & $\\dots$ \\\\\n",
       "\t2 & 0 & 1 & 0 & 0 & 0 & 0 & 0 & 0 & 1 & 0 & 0 & 0 & $\\dots$ \\\\\n",
       "\t3 & 0 & 0 & 0 & 0 & 1 & 1 & 0 & 0 & 0 & 0 & 0 & 0 & $\\dots$ \\\\\n",
       "\t4 & 0 & 1 & 0 & 0 & 0 & 0 & 0 & 0 & 0 & 0 & 0 & 0 & $\\dots$ \\\\\n",
       "\t5 & 0 & 0 & 1 & 0 & 0 & 0 & 0 & 0 & 1 & 0 & 0 & 0 & $\\dots$ \\\\\n",
       "\t6 & 0 & 0 & 0 & 0 & 1 & 0 & 0 & 0 & 0 & 0 & 0 & 0 & $\\dots$ \\\\\n",
       "\t7 & 0 & 0 & 0 & 1 & 0 & 0 & 0 & 0 & 0 & 0 & 0 & 0 & $\\dots$ \\\\\n",
       "\t8 & 0 & 0 & 0 & 0 & 0 & 0 & 0 & 0 & 0 & 0 & 1 & 0 & $\\dots$ \\\\\n",
       "\t9 & 0 & 0 & 0 & 0 & 0 & 0 & 0 & 1 & 1 & 0 & 0 & 0 & $\\dots$ \\\\\n",
       "\t10 & 1 & 0 & 1 & 0 & 0 & 0 & 0 & 0 & 1 & 0 & 0 & 0 & $\\dots$ \\\\\n",
       "\t11 & 0 & 0 & 0 & 0 & 0 & 0 & 0 & 0 & 0 & 0 & 0 & 0 & $\\dots$ \\\\\n",
       "\t12 & 0 & 0 & 0 & 0 & 0 & 0 & 0 & 0 & 0 & 0 & 0 & 0 & $\\dots$ \\\\\n",
       "\t13 & 0 & 1 & 0 & 0 & 0 & 0 & 0 & 1 & 0 & 0 & 0 & 0 & $\\dots$ \\\\\n",
       "\t14 & 0 & 0 & 0 & 0 & 0 & 1 & 1 & 1 & 0 & 0 & 0 & 1 & $\\dots$ \\\\\n",
       "\t15 & 0 & 0 & 0 & 0 & 0 & 0 & 0 & 0 & 0 & 1 & 0 & 0 & $\\dots$ \\\\\n",
       "\t16 & 0 & 1 & 1 & 0 & 0 & 0 & 0 & 0 & 0 & 0 & 0 & 0 & $\\dots$ \\\\\n",
       "\t17 & 0 & 0 & 0 & 0 & 0 & 1 & 1 & 0 & 0 & 0 & 0 & 0 & $\\dots$ \\\\\n",
       "\t18 & 0 & 0 & 0 & 1 & 0 & 0 & 0 & 0 & 0 & 0 & 0 & 0 & $\\dots$ \\\\\n",
       "\t19 & 0 & 0 & 0 & 0 & 0 & 0 & 0 & 0 & 0 & 0 & 0 & 0 & $\\dots$ \\\\\n",
       "\\end{tabular}\n"
      ],
      "text/plain": [
       "19×20 DataFrame. Omitted printing of 11 columns\n",
       "│ Row │ 0     │ 1     │ 0_1   │ 0_2   │ 0_3   │ 0_4   │ 0_5   │ 0_6   │ 0_7   │\n",
       "│     │ \u001b[90mInt64\u001b[39m │ \u001b[90mInt64\u001b[39m │ \u001b[90mInt64\u001b[39m │ \u001b[90mInt64\u001b[39m │ \u001b[90mInt64\u001b[39m │ \u001b[90mInt64\u001b[39m │ \u001b[90mInt64\u001b[39m │ \u001b[90mInt64\u001b[39m │ \u001b[90mInt64\u001b[39m │\n",
       "├─────┼───────┼───────┼───────┼───────┼───────┼───────┼───────┼───────┼───────┤\n",
       "│ 1   │ 0     │ 0     │ 0     │ 0     │ 1     │ 1     │ 0     │ 0     │ 0     │\n",
       "│ 2   │ 0     │ 1     │ 0     │ 0     │ 0     │ 0     │ 0     │ 0     │ 1     │\n",
       "│ 3   │ 0     │ 0     │ 0     │ 0     │ 1     │ 1     │ 0     │ 0     │ 0     │\n",
       "│ 4   │ 0     │ 1     │ 0     │ 0     │ 0     │ 0     │ 0     │ 0     │ 0     │\n",
       "│ 5   │ 0     │ 0     │ 1     │ 0     │ 0     │ 0     │ 0     │ 0     │ 1     │\n",
       "│ 6   │ 0     │ 0     │ 0     │ 0     │ 1     │ 0     │ 0     │ 0     │ 0     │\n",
       "│ 7   │ 0     │ 0     │ 0     │ 1     │ 0     │ 0     │ 0     │ 0     │ 0     │\n",
       "│ 8   │ 0     │ 0     │ 0     │ 0     │ 0     │ 0     │ 0     │ 0     │ 0     │\n",
       "│ 9   │ 0     │ 0     │ 0     │ 0     │ 0     │ 0     │ 0     │ 1     │ 1     │\n",
       "│ 10  │ 1     │ 0     │ 1     │ 0     │ 0     │ 0     │ 0     │ 0     │ 1     │\n",
       "│ 11  │ 0     │ 0     │ 0     │ 0     │ 0     │ 0     │ 0     │ 0     │ 0     │\n",
       "│ 12  │ 0     │ 0     │ 0     │ 0     │ 0     │ 0     │ 0     │ 0     │ 0     │\n",
       "│ 13  │ 0     │ 1     │ 0     │ 0     │ 0     │ 0     │ 0     │ 1     │ 0     │\n",
       "│ 14  │ 0     │ 0     │ 0     │ 0     │ 0     │ 1     │ 1     │ 1     │ 0     │\n",
       "│ 15  │ 0     │ 0     │ 0     │ 0     │ 0     │ 0     │ 0     │ 0     │ 0     │\n",
       "│ 16  │ 0     │ 1     │ 1     │ 0     │ 0     │ 0     │ 0     │ 0     │ 0     │\n",
       "│ 17  │ 0     │ 0     │ 0     │ 0     │ 0     │ 1     │ 1     │ 0     │ 0     │\n",
       "│ 18  │ 0     │ 0     │ 0     │ 1     │ 0     │ 0     │ 0     │ 0     │ 0     │\n",
       "│ 19  │ 0     │ 0     │ 0     │ 0     │ 0     │ 0     │ 0     │ 0     │ 0     │"
      ]
     },
     "execution_count": 20,
     "metadata": {},
     "output_type": "execute_result"
    }
   ],
   "source": [
    "ps_df = CSV.read(\"dumb_reference.csv\")"
   ]
  },
  {
   "cell_type": "code",
   "execution_count": 21,
   "metadata": {},
   "outputs": [
    {
     "data": {
      "text/plain": [
       "19×20 Array{Bool,2}:\n",
       " 0  0  0  0  1  1  0  0  0  0  0  0  0  1  0  0  0  0  0  0\n",
       " 0  1  0  0  0  0  0  0  1  0  0  0  0  0  0  0  1  1  0  0\n",
       " 0  0  0  0  1  1  0  0  0  0  0  0  0  0  0  0  0  0  0  0\n",
       " 0  1  0  0  0  0  0  0  0  0  0  0  1  0  0  0  0  0  0  0\n",
       " 0  0  1  0  0  0  0  0  1  0  0  0  0  0  0  0  0  0  1  0\n",
       " 0  0  0  0  1  0  0  0  0  0  0  0  0  0  0  0  0  1  0  0\n",
       " 0  0  0  1  0  0  0  0  0  0  0  0  0  0  0  0  0  1  0  0\n",
       " 0  0  0  0  0  0  0  0  0  0  1  0  0  0  0  0  1  1  1  0\n",
       " 0  0  0  0  0  0  0  1  1  0  0  0  0  1  0  0  1  0  0  0\n",
       " 1  0  1  0  0  0  0  0  1  0  0  0  0  1  0  0  0  0  0  0\n",
       " 0  0  0  0  0  0  0  0  0  0  0  0  0  0  0  0  0  0  0  0\n",
       " 0  0  0  0  0  0  0  0  0  0  0  0  0  1  0  0  0  0  0  1\n",
       " 0  1  0  0  0  0  0  1  0  0  0  0  0  0  0  0  0  0  0  0\n",
       " 0  0  0  0  0  1  1  1  0  0  0  1  0  0  0  0  0  1  0  0\n",
       " 0  0  0  0  0  0  0  0  0  1  0  0  0  0  0  0  1  0  0  0\n",
       " 0  1  1  0  0  0  0  0  0  0  0  0  0  1  0  1  1  0  0  0\n",
       " 0  0  0  0  0  1  1  0  0  0  0  0  0  0  0  0  0  0  0  0\n",
       " 0  0  0  1  0  0  0  0  0  0  0  0  0  1  0  0  0  0  0  0\n",
       " 0  0  0  0  0  0  0  0  0  0  0  0  1  0  0  0  0  0  0  0"
      ]
     },
     "execution_count": 21,
     "metadata": {},
     "output_type": "execute_result"
    }
   ],
   "source": [
    "convert(Matrix{Bool}, ps_df)"
   ]
  },
  {
   "cell_type": "code",
   "execution_count": null,
   "metadata": {},
   "outputs": [],
   "source": [
    "pg = digraph_prior(3.0, ref)"
   ]
  },
  {
   "cell_type": "code",
   "execution_count": null,
   "metadata": {},
   "outputs": [],
   "source": [
    "pgc = [copy(pg_v) for pg_v in pg]"
   ]
  },
  {
   "cell_type": "code",
   "execution_count": null,
   "metadata": {},
   "outputs": [],
   "source": [
    "modify_digraph!(pgc, 1, 2)"
   ]
  },
  {
   "cell_type": "code",
   "execution_count": null,
   "metadata": {},
   "outputs": [],
   "source": [
    "convert(Vector{Bool}, rand(Distributions.Bernoulli(0.25), 20))"
   ]
  },
  {
   "cell_type": "code",
   "execution_count": null,
   "metadata": {},
   "outputs": [],
   "source": [
    "using Distributions\n",
    "rand(Distributions.Bernoulli(0.25))"
   ]
  },
  {
   "cell_type": "code",
   "execution_count": null,
   "metadata": {},
   "outputs": [],
   "source": [
    "rand(Distributions.Bernoulli(0.25))"
   ]
  },
  {
   "cell_type": "code",
   "execution_count": null,
   "metadata": {},
   "outputs": [],
   "source": [
    "ls = [1,2,3,4]"
   ]
  },
  {
   "cell_type": "code",
   "execution_count": null,
   "metadata": {},
   "outputs": [],
   "source": [
    "ls[1:0]"
   ]
  },
  {
   "cell_type": "code",
   "execution_count": null,
   "metadata": {},
   "outputs": [],
   "source": [
    "randn(10)"
   ]
  },
  {
   "cell_type": "code",
   "execution_count": null,
   "metadata": {},
   "outputs": [],
   "source": [
    "using Combinatorics"
   ]
  },
  {
   "cell_type": "code",
   "execution_count": null,
   "metadata": {},
   "outputs": [],
   "source": [
    "for comb in Combinatorics.combinations([1,2,3,4], 2)\n",
    "    println( prod(comb))\n",
    "end"
   ]
  },
  {
   "cell_type": "code",
   "execution_count": null,
   "metadata": {},
   "outputs": [],
   "source": [
    "compute_B_data([0.1, 0.2, 0.3, 0.4, 0.5, 0.6], [true, true, true, true, false, false], 4)"
   ]
  },
  {
   "cell_type": "code",
   "execution_count": null,
   "metadata": {},
   "outputs": [],
   "source": [
    "import LinearAlgebra: dot \n",
    "\n",
    "dot([1,2,3],[1,2,3])"
   ]
  },
  {
   "cell_type": "code",
   "execution_count": null,
   "metadata": {},
   "outputs": [],
   "source": [
    "Dict{Symbol,Vector{Union{Int64,Float64}}}([:timeseries=>Int[]; :timestep=>Int[]])#; [ (Symbol(\"var\",i)=>Float64[]) for i=1:3]])"
   ]
  },
  {
   "cell_type": "code",
   "execution_count": null,
   "metadata": {},
   "outputs": [],
   "source": [
    "df = DataFrames.DataFrame(Dict([:timeseries=>Int[]; :timestep=>Int[]; [ (Symbol(\"var\",i)=>Float64[]) for i=1:3]]))"
   ]
  },
  {
   "cell_type": "code",
   "execution_count": null,
   "metadata": {},
   "outputs": [],
   "source": []
  },
  {
   "cell_type": "code",
   "execution_count": null,
   "metadata": {},
   "outputs": [],
   "source": [
    "Symbol(\"little\", 123)"
   ]
  },
  {
   "cell_type": "code",
   "execution_count": null,
   "metadata": {},
   "outputs": [],
   "source": []
  }
 ],
 "metadata": {
  "kernelspec": {
   "display_name": "Julia 1.2.0",
   "language": "julia",
   "name": "julia-1.2"
  },
  "language_info": {
   "file_extension": ".jl",
   "mimetype": "application/julia",
   "name": "julia",
   "version": "1.2.0"
  }
 },
 "nbformat": 4,
 "nbformat_minor": 2
}
