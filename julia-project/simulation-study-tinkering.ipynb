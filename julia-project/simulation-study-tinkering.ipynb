{
 "cells": [
  {
   "cell_type": "code",
   "execution_count": 1,
   "metadata": {},
   "outputs": [],
   "source": [
    "using Statistics\n",
    "using Distributions"
   ]
  },
  {
   "cell_type": "code",
   "execution_count": null,
   "metadata": {},
   "outputs": [],
   "source": [
    "\"\"\"\n",
    "    generate_simulation(V::Int64, N::Int64, T::Int64, p::Float64)\n",
    "\n",
    "Create a simulated dataset with \n",
    "    * `V` variables\n",
    "    * `N` time courses\n",
    "    * `T` time steps\n",
    "    * probability parameter `p` for generating random digraphs \n",
    "      (in an erdos-renyi fashion)\n",
    "\"\"\"\n",
    "function generate_simulation(V::Int64, N::Int64, T::Int64, p::Float64, keep::Int64, add::Int64)\n",
    "    \n",
    "    parent_sets = generate_random_digraph(V,p)\n",
    "    reference_ps = [copy(ps) for ps in parent_sets]\n",
    "    \n",
    "    modify_digraph!(parent_sets, keep, add)\n",
    "    \n",
    "    \n",
    "end\n",
    "\n",
    "\n",
    "\"\"\"\n",
    "    generate_random_digraph(V::Int64, p::Float64)\n",
    "\n",
    "Generate a random directed graph with `V` vertices.\n",
    "Draws from a uniform distribution over directed graphs;\n",
    "every edge has probability `p` of being in the graph. \n",
    "\"\"\"\n",
    "function generate_random_digraph(V::Int64, p::Float64)\n",
    "    parent_sets = [convert(Vector{Bool}, rand(Distributions.Bernoulli(p), V)) for i=1:V]\n",
    "    return parent_sets\n",
    "end\n",
    "\n",
    "\n",
    "\"\"\"\n",
    "    modify_digraph(ps::Vector{Vector{Int64}}, keep::Int64, add::Int64)\n",
    "\"\"\"\n",
    "function modify_digraph!(ps::Vector{Vector{Int64}}, keep::Int64, add::Int64)\n",
    "\n",
    "    # get the indices of the original edges\n",
    "    ps_idx = []\n",
    "    not_ps_idx = [] # and the complement\n",
    "    for i=1:length(ps)\n",
    "        for (j, b) in ps[i]\n",
    "            if b\n",
    "                push!(ps_idx, (i,j))\n",
    "            else\n",
    "                push!(not_ps_idx, (i,j))\n",
    "            end\n",
    "        end\n",
    "    end\n",
    "        \n",
    "    # Randomly remove edges from the graph\n",
    "    length\n",
    "    while removed \n",
    "    \n",
    "    # Randomly add edges (from the complement)\n",
    "    \n",
    "end\n"
   ]
  },
  {
   "cell_type": "code",
   "execution_count": 22,
   "metadata": {},
   "outputs": [
    {
     "data": {
      "text/plain": [
       "20-element Array{Bool,1}:\n",
       " 0\n",
       " 0\n",
       " 0\n",
       " 0\n",
       " 0\n",
       " 0\n",
       " 0\n",
       " 0\n",
       " 0\n",
       " 0\n",
       " 0\n",
       " 0\n",
       " 0\n",
       " 0\n",
       " 0\n",
       " 1\n",
       " 0\n",
       " 0\n",
       " 0\n",
       " 0"
      ]
     },
     "execution_count": 22,
     "metadata": {},
     "output_type": "execute_result"
    }
   ],
   "source": [
    "convert(Vector{Bool}, rand(Distributions.Bernoulli(0.25), 20))"
   ]
  },
  {
   "cell_type": "code",
   "execution_count": 29,
   "metadata": {},
   "outputs": [],
   "source": [
    "using Random"
   ]
  },
  {
   "cell_type": "code",
   "execution_count": 34,
   "metadata": {},
   "outputs": [
    {
     "data": {
      "text/plain": [
       "5-element Array{Int64,1}:\n",
       " 1\n",
       " 4\n",
       " 2\n",
       " 3\n",
       " 5"
      ]
     },
     "execution_count": 34,
     "metadata": {},
     "output_type": "execute_result"
    }
   ],
   "source": [
    "Random.randperm(5)"
   ]
  },
  {
   "cell_type": "code",
   "execution_count": 27,
   "metadata": {},
   "outputs": [
    {
     "data": {
      "text/plain": [
       "\"fish\""
      ]
     },
     "execution_count": 27,
     "metadata": {},
     "output_type": "execute_result"
    }
   ],
   "source": [
    "rand([\"cat\",\"dog\",\"fish\"])"
   ]
  },
  {
   "cell_type": "code",
   "execution_count": 28,
   "metadata": {},
   "outputs": [
    {
     "ename": "ArgumentError",
     "evalue": "ArgumentError: Package StatsBase not found in current path:\n- Run `import Pkg; Pkg.add(\"StatsBase\")` to install the StatsBase package.\n",
     "output_type": "error",
     "traceback": [
      "ArgumentError: Package StatsBase not found in current path:\n- Run `import Pkg; Pkg.add(\"StatsBase\")` to install the StatsBase package.\n",
      "",
      "Stacktrace:",
      " [1] require(::Module, ::Symbol) at ./loading.jl:876",
      " [2] top-level scope at In[28]:1"
     ]
    }
   ],
   "source": [
    "import StatsBase: sample"
   ]
  },
  {
   "cell_type": "code",
   "execution_count": null,
   "metadata": {},
   "outputs": [],
   "source": []
  }
 ],
 "metadata": {
  "kernelspec": {
   "display_name": "Julia 1.2.0",
   "language": "julia",
   "name": "julia-1.2"
  },
  "language_info": {
   "file_extension": ".jl",
   "mimetype": "application/julia",
   "name": "julia",
   "version": "1.2.0"
  }
 },
 "nbformat": 4,
 "nbformat_minor": 2
}
