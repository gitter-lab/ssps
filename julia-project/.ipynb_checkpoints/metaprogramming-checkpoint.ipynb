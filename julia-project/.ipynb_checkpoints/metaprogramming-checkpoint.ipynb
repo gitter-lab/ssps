{
 "cells": [
  {
   "cell_type": "code",
   "execution_count": 1,
   "metadata": {},
   "outputs": [],
   "source": [
    "include(\"DiGraph.jl\")\n",
    "using .DiGraphs"
   ]
  },
  {
   "cell_type": "code",
   "execution_count": 2,
   "metadata": {},
   "outputs": [
    {
     "data": {
      "text/plain": [
       ":(a = b + c)"
      ]
     },
     "execution_count": 2,
     "metadata": {},
     "output_type": "execute_result"
    }
   ],
   "source": [
    "expr = :(a = b + c)"
   ]
  },
  {
   "cell_type": "code",
   "execution_count": 3,
   "metadata": {},
   "outputs": [
    {
     "data": {
      "text/plain": [
       "2-element Array{Any,1}:\n",
       " :a      \n",
       " :(b + c)"
      ]
     },
     "execution_count": 3,
     "metadata": {},
     "output_type": "execute_result"
    }
   ],
   "source": [
    "expr.args"
   ]
  },
  {
   "cell_type": "code",
   "execution_count": 4,
   "metadata": {},
   "outputs": [
    {
     "data": {
      "text/plain": [
       ":(=)"
      ]
     },
     "execution_count": 4,
     "metadata": {},
     "output_type": "execute_result"
    }
   ],
   "source": [
    "s = expr.head"
   ]
  },
  {
   "cell_type": "code",
   "execution_count": 5,
   "metadata": {},
   "outputs": [],
   "source": [
    "struct Node\n",
    "    varname::Symbol\n",
    "    op::Symbol\n",
    "end"
   ]
  },
  {
   "cell_type": "code",
   "execution_count": 6,
   "metadata": {},
   "outputs": [
    {
     "data": {
      "text/plain": [
       "dag_to_function (generic function with 1 method)"
      ]
     },
     "execution_count": 6,
     "metadata": {},
     "output_type": "execute_result"
    }
   ],
   "source": [
    "function dag_to_function(dg::DiGraph{Node})\n",
    "    \n",
    "    \n",
    "end"
   ]
  },
  {
   "cell_type": "code",
   "execution_count": 7,
   "metadata": {},
   "outputs": [
    {
     "data": {
      "text/plain": [
       "9×2 Array{Node,2}:\n",
       " Node(:x1, :input)  Node(:z1, :!)     \n",
       " Node(:x2, :input)  Node(:z2, :!)     \n",
       " Node(:x1, :input)  Node(:z3, :&)     \n",
       " Node(:x2, :input)  Node(:z4, :&)     \n",
       " Node(:z1, :!)      Node(:z4, :&)     \n",
       " Node(:z2, :!)      Node(:z3, :&)     \n",
       " Node(:z3, :&)      Node(:z5, :|)     \n",
       " Node(:z4, :&)      Node(:z5, :|)     \n",
       " Node(:z5, :|)      Node(:z6, :output)"
      ]
     },
     "execution_count": 7,
     "metadata": {},
     "output_type": "execute_result"
    }
   ],
   "source": [
    "xor_edges = [[Node(:x1, :input) Node(:z1, :!)];\n",
    "    [Node(:x2, :input) Node(:z2, :!)];\n",
    "    [Node(:x1, :input) Node(:z3, :&)];\n",
    "    [Node(:x2, :input) Node(:z4, :&)];\n",
    "    [Node(:z1, :!) Node(:z4, :&)];\n",
    "    [Node(:z2, :!) Node(:z3, :&)]\n",
    "    [Node(:z3, :&) Node(:z5, :|)];\n",
    "    [Node(:z4, :&) Node(:z5, :|)];\n",
    "    [Node(:z5, :|) Node(:z6, :output)]\n",
    "    ]"
   ]
  },
  {
   "cell_type": "code",
   "execution_count": 8,
   "metadata": {},
   "outputs": [
    {
     "data": {
      "text/plain": [
       "DiGraph{Node}(Set(Node[Node(:z1, :!), Node(:x2, :input), Node(:z2, :!), Node(:z3, :&), Node(:x1, :input), Node(:z4, :&), Node(:z5, :|), Node(:z6, :output)]), Node[Node(:x1, :input) Node(:z1, :!); Node(:x2, :input) Node(:z2, :!); … ; Node(:z4, :&) Node(:z5, :|); Node(:z5, :|) Node(:z6, :output)])"
      ]
     },
     "execution_count": 8,
     "metadata": {},
     "output_type": "execute_result"
    }
   ],
   "source": [
    "xor_dag = DiGraph(xor_edges)"
   ]
  },
  {
   "cell_type": "code",
   "execution_count": 9,
   "metadata": {},
   "outputs": [
    {
     "data": {
      "text/plain": [
       "Node(:EMPTY, :EMPTY)"
      ]
     },
     "execution_count": 9,
     "metadata": {},
     "output_type": "execute_result"
    }
   ],
   "source": [
    "virtual_v = Node(:EMPTY, :EMPTY)"
   ]
  },
  {
   "cell_type": "code",
   "execution_count": 10,
   "metadata": {},
   "outputs": [
    {
     "data": {
      "text/plain": [
       "9×2 BitArray{2}:\n",
       " 1  1\n",
       " 1  1\n",
       " 1  1\n",
       " 1  1\n",
       " 1  1\n",
       " 1  1\n",
       " 1  1\n",
       " 1  1\n",
       " 1  1"
      ]
     },
     "execution_count": 10,
     "metadata": {},
     "output_type": "execute_result"
    }
   ],
   "source": [
    "xor_edges .== xor_edges"
   ]
  },
  {
   "cell_type": "code",
   "execution_count": 11,
   "metadata": {},
   "outputs": [
    {
     "data": {
      "text/plain": [
       "2-element Array{Node,1}:\n",
       " Node(:x2, :input)\n",
       " Node(:x1, :input)"
      ]
     },
     "execution_count": 11,
     "metadata": {},
     "output_type": "execute_result"
    }
   ],
   "source": [
    "inputs = [node for node in xor_dag.vertices if node.op == :input]"
   ]
  },
  {
   "cell_type": "code",
   "execution_count": 12,
   "metadata": {},
   "outputs": [
    {
     "ename": "UndefVarError",
     "evalue": "UndefVarError: multiroot_bfs not defined",
     "output_type": "error",
     "traceback": [
      "UndefVarError: multiroot_bfs not defined",
      "",
      "Stacktrace:",
      " [1] top-level scope at In[12]:1"
     ]
    }
   ],
   "source": [
    "visited = multiroot_bfs(xor_dag, inputs, virtual_v)"
   ]
  },
  {
   "cell_type": "code",
   "execution_count": 13,
   "metadata": {},
   "outputs": [
    {
     "data": {
      "text/plain": [
       "0-element Array{Any,1}"
      ]
     },
     "execution_count": 13,
     "metadata": {},
     "output_type": "execute_result"
    }
   ],
   "source": [
    "Array([])"
   ]
  },
  {
   "cell_type": "code",
   "execution_count": 14,
   "metadata": {},
   "outputs": [
    {
     "data": {
      "text/plain": [
       "9-element Array{Int64,1}:\n",
       " 1\n",
       " 2\n",
       " 3\n",
       " 4\n",
       " 5\n",
       " 6\n",
       " 7\n",
       " 8\n",
       " 9"
      ]
     },
     "execution_count": 14,
     "metadata": {},
     "output_type": "execute_result"
    }
   ],
   "source": [
    "vcat([1,2,3,4], [5,6,7,8,9])"
   ]
  },
  {
   "cell_type": "code",
   "execution_count": 18,
   "metadata": {},
   "outputs": [
    {
     "data": {
      "text/plain": [
       "Node(:z1, :!)"
      ]
     },
     "execution_count": 18,
     "metadata": {},
     "output_type": "execute_result"
    }
   ],
   "source": [
    "v = pop!(xor_dag.vertices)"
   ]
  },
  {
   "cell_type": "code",
   "execution_count": 17,
   "metadata": {},
   "outputs": [
    {
     "data": {
      "text/plain": [
       "DiGraph{Node}(Set(Node[Node(:z1, :!), Node(:x2, :input), Node(:z2, :!), Node(:z3, :&), Node(:x1, :input), Node(:z4, :&), Node(:z5, :|), Node(:z6, :output)]), Node[Node(:x1, :input) Node(:z1, :!); Node(:x2, :input) Node(:z2, :!); … ; Node(:z4, :&) Node(:z5, :|); Node(:z5, :|) Node(:z6, :output)])"
      ]
     },
     "execution_count": 17,
     "metadata": {},
     "output_type": "execute_result"
    }
   ],
   "source": []
  },
  {
   "cell_type": "code",
   "execution_count": null,
   "metadata": {},
   "outputs": [],
   "source": []
  }
 ],
 "metadata": {
  "anaconda-cloud": {},
  "kernelspec": {
   "display_name": "Julia 1.2.0",
   "language": "julia",
   "name": "julia-1.2"
  },
  "language_info": {
   "file_extension": ".jl",
   "mimetype": "application/julia",
   "name": "julia",
   "version": "1.2.0"
  }
 },
 "nbformat": 4,
 "nbformat_minor": 1
}
