{
 "cells": [
  {
   "cell_type": "markdown",
   "metadata": {},
   "source": [
    "# Dirichlet Process Clustering"
   ]
  },
  {
   "cell_type": "code",
   "execution_count": 1,
   "metadata": {},
   "outputs": [],
   "source": [
    "using Gen\n",
    "using Statistics\n",
    "using PyPlot"
   ]
  },
  {
   "cell_type": "markdown",
   "metadata": {},
   "source": [
    "We'll use a Cauchy distribution as the base for our DP."
   ]
  },
  {
   "cell_type": "code",
   "execution_count": 35,
   "metadata": {},
   "outputs": [],
   "source": [
    "struct Cauchy <: Gen.Distribution{Float64} end\n",
    "const cauchy = Cauchy()\n",
    "\n",
    "Gen.random(cauchy::Cauchy, loc, scale) = loc + scale*tan(pi*(rand() - 0.5))\n",
    "Gen.logpdf(cauchy::Cauchy, x, loc, scale) = -log(pi*scale*(1. + ((x - loc)/scale)^2)) \n",
    "\n",
    "cauchy(loc,scale) = Gen.random(cauchy, loc, scale);"
   ]
  },
  {
   "cell_type": "markdown",
   "metadata": {},
   "source": [
    "Build the Dirichlet Process model:"
   ]
  },
  {
   "cell_type": "code",
   "execution_count": 184,
   "metadata": {},
   "outputs": [
    {
     "data": {
      "text/plain": [
       "getfield(Main, Symbol(\"##StaticGenFunction_dp_cluster#727\"))(Dict{Symbol,Any}(), Dict{Symbol,Any}())"
      ]
     },
     "execution_count": 184,
     "metadata": {},
     "output_type": "execute_result"
    }
   ],
   "source": [
    "function compute_cluster_probs(counts, alpha, n)\n",
    "    denominator = alpha + n\n",
    "    probs = counts ./ denominator\n",
    "    push!(probs, alpha/denominator)\n",
    "    return probs\n",
    "end\n",
    "    \n",
    "function update_counts!(counts, chosen_cluster)\n",
    "    if chosen_cluster > length(counts)\n",
    "        push!(counts, 1)\n",
    "    else\n",
    "        counts[chosen_cluster] += 1\n",
    "    end\n",
    "    return counts\n",
    "end\n",
    "\n",
    "@gen (static) function sample_point(n::Int64, counts::Array{Int,1}, alpha::Float64)\n",
    "   \n",
    "    probs = compute_cluster_probs(counts, alpha, n)\n",
    "    cluster_idx = @trace(Gen.categorical(probs), :cl_idx)\n",
    "    \n",
    "    counts = update_counts!(counts, cluster_idx)\n",
    "    return counts\n",
    "    \n",
    "end\n",
    "\n",
    "\n",
    "dp_dist = Gen.Unfold(sample_point)\n",
    "\n",
    "\n",
    "@gen (static) function dp_cluster(M::Int64, N::Int64, alpha::Float64)\n",
    "        \n",
    "    dp_counts = @trace(dp_dist(M-1, [1], alpha), :dp)\n",
    "    dp_counts = dp_counts[1]\n",
    "    dp_probs = dp_counts ./ sum(dp_counts)\n",
    "    return dp_probs\n",
    "    \n",
    "end"
   ]
  },
  {
   "cell_type": "code",
   "execution_count": 185,
   "metadata": {},
   "outputs": [],
   "source": [
    "Gen.load_generated_functions()"
   ]
  },
  {
   "cell_type": "code",
   "execution_count": 191,
   "metadata": {},
   "outputs": [
    {
     "data": {
      "text/plain": [
       "6-element Array{Float64,1}:\n",
       " 0.962\n",
       " 0.028\n",
       " 0.005\n",
       " 0.003\n",
       " 0.001\n",
       " 0.001"
      ]
     },
     "execution_count": 191,
     "metadata": {},
     "output_type": "execute_result"
    }
   ],
   "source": [
    "tr = Gen.simulate(dp_cluster, (1000, 0, 1.0));\n",
    "get_retval(tr)"
   ]
  },
  {
   "cell_type": "code",
   "execution_count": null,
   "metadata": {},
   "outputs": [],
   "source": []
  }
 ],
 "metadata": {
  "kernelspec": {
   "display_name": "Julia 1.2.0",
   "language": "julia",
   "name": "julia-1.2"
  },
  "language_info": {
   "file_extension": ".jl",
   "mimetype": "application/julia",
   "name": "julia",
   "version": "1.2.0"
  }
 },
 "nbformat": 4,
 "nbformat_minor": 2
}
