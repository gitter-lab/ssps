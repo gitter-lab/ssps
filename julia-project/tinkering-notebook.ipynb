{
 "cells": [
  {
   "cell_type": "markdown",
   "metadata": {},
   "source": [
    "# DBN Structure Inference\n",
    "\n",
    "The idea is to infer a posterior for the *structure* of a Dynamic Bayesian Network (DBN), given some data.\n",
    "\n",
    "We formulate this task with the following model:\n",
    "\n",
    "$$ P(G | X) \\propto P(X | G) \\cdot P(G) $$\n",
    "\n",
    "* $P(G)$ is a prior distribution over DBN structures. We'll assume it has the form\n",
    "$$P(G) \\propto \\exp \\left( -\\lambda |G \\setminus G^\\prime| \\right)$$\n",
    "where $|G \\setminus G^\\prime|$ denotes the number of edges in the graph, which are not present in some reference graph $G^\\prime$.\n",
    "* $P(X | G)$ is the marginal likelihood of the DBN structure. That is, it's the likelihood of the DBN after the network parameters have been integrated out -- it scores network *structure*. \n",
    "* If we assume some reasonable priors for network parameters, $P(X|G)$ can be obtained in closed form. In this work, we'll use the following marginal likelihood:\n",
    "    \n",
    "    $$P(X | G) \\propto \\prod_{i=1}^p (1 + n)^{-(2^{|\\pi(i)|} - 1)/2} \\left( X_i^{+ T} X_i^+ - \\frac{n}{n+1} X_i^{+ T} B_i (B_i^T B_i)^{-1} B_i^T X_i^+ \\right)^{-\\frac{n}{2}}$$ \n",
    "    where $X$ and $B$ are matrices obtained from data; and $n$ is the total number of timesteps in the dataset. This marginal likelihood results from an empirical prior over the regression coefficients, and an improper ($\\propto 1/\\sigma^2$) prior for the regression \"noise\" variables."
   ]
  },
  {
   "cell_type": "markdown",
   "metadata": {},
   "source": [
    "## Get some data\n",
    "\n",
    "For now, we'll work with some data used by Hill et al. in their 2012 paper, _Bayesian Inference of Signaling Network Topology in a Cancer Cell Line_.\n",
    "\n",
    "It gives the differential phosphorylation levels of 20 proteins, in a cancer cell line perturbed by EGF. This is a well-studied signaling pathway; the goal is to produce a graph describing the dependencies between proteins in this pathway. "
   ]
  },
  {
   "cell_type": "markdown",
   "metadata": {},
   "source": [
    "NOTE: I have confirmed that the ordering of proteins in `protein_vec` is identical to the ordering in the columns of `timeseries_data`. So we can depend on that."
   ]
  },
  {
   "cell_type": "markdown",
   "metadata": {},
   "source": [
    "## Build the model\n",
    "\n",
    "Implement the graph prior distribution:\n",
    "\n",
    "$$P(G) \\propto \\exp \\left( -\\lambda |G \\setminus G^\\prime| \\right)$$"
   ]
  },
  {
   "cell_type": "markdown",
   "metadata": {},
   "source": [
    "Implement the DBN's marginal distribution:\n",
    "\n",
    "$$P(X | G) \\propto \\prod_{i=1}^p (1 + n)^{-(2^{|\\pi(i)|} - 1)/2} \\left( X_i^{+ T} X_i^+ - \\frac{n}{n+1} X_i^{+ T} B_i (B_i^T B_i)^{-1} B_i^T X_i^+ \\right)^{-\\frac{n}{2}}$$\n",
    "\n",
    "Some things to note:\n",
    "* We're kind of shoe-horning this marginal likelihood into Gen. The probabilistic programming ethos entails modeling the entire data-generating process. This ought to provide better performance during inference, though."
   ]
  },
  {
   "cell_type": "markdown",
   "metadata": {},
   "source": [
    "A BUNCH OF HELPER FUNCTIONS:"
   ]
  },
  {
   "cell_type": "markdown",
   "metadata": {},
   "source": [
    "THE MARGINAL LIKELIHOOD DISTRIBUTION"
   ]
  },
  {
   "cell_type": "markdown",
   "metadata": {},
   "source": [
    "## Inference\n",
    "\n",
    "### Metropolis-Hastings over directed graphs\n",
    "\n",
    "Proposal distribution:"
   ]
  },
  {
   "cell_type": "markdown",
   "metadata": {},
   "source": [
    "Involution function:"
   ]
  },
  {
   "cell_type": "markdown",
   "metadata": {},
   "source": [
    "### Our inference program"
   ]
  },
  {
   "cell_type": "markdown",
   "metadata": {},
   "source": [
    "# TESTING THE NEW MODEL"
   ]
  },
  {
   "cell_type": "code",
   "execution_count": 1,
   "metadata": {},
   "outputs": [],
   "source": [
    "using Gen\n",
    "using GLMNet\n",
    "include(\"PSDiGraph.jl\")\n",
    "using .PSDiGraphs\n",
    "include(\"dbn_preprocessing.jl\")\n",
    "include(\"dbn_models.jl\")\n",
    "include(\"dbn_proposals.jl\")\n",
    "include(\"dbn_inference.jl\")\n",
    "using PyPlot\n",
    "using Profile\n",
    "using ProfileView"
   ]
  },
  {
   "cell_type": "code",
   "execution_count": 2,
   "metadata": {},
   "outputs": [
    {
     "data": {
      "text/plain": [
       "\"data/time.csv\""
      ]
     },
     "execution_count": 2,
     "metadata": {},
     "output_type": "execute_result"
    }
   ],
   "source": [
    "timeseries_data_path = \"data/mukherjee_data.csv\"\n",
    "protein_names_path = \"data/protein_names.csv\"\n",
    "reference_adj_path = \"data/prior_graph.csv\"\n",
    "timesteps_path = \"data/time.csv\""
   ]
  },
  {
   "cell_type": "code",
   "execution_count": 3,
   "metadata": {},
   "outputs": [],
   "source": [
    "(timeseries_vec, protein_vec, ref_adj, timesteps) = hill_2012_preprocess(timeseries_data_path, \n",
    "                                                                         protein_names_path, \n",
    "                                                                         reference_adj_path, \n",
    "                                                                         timesteps_path);"
   ]
  },
  {
   "cell_type": "code",
   "execution_count": 4,
   "metadata": {},
   "outputs": [],
   "source": [
    "Gen.load_generated_functions()"
   ]
  },
  {
   "cell_type": "code",
   "execution_count": 40,
   "metadata": {
    "scrolled": true
   },
   "outputs": [],
   "source": [
    "clear_caches()\n",
    "regression_deg = 1\n",
    "lambda_max = 10.0\n",
    "n_samples = 200\n",
    "fixed_lambda = 3.0\n",
    "burnin = 100\n",
    "thinning = 10\n",
    "lambda_step = 0.3\n",
    "V = length(protein_vec)\n",
    "t = 0.4\n",
    "\n",
    "results, acc = dbn_mcmc_inference(ref_adj, timeseries_vec, regression_deg, lambda_max,\n",
    "                                  n_samples, burnin, thinning, \n",
    "                                  ps_smart_swp_update_loop,\n",
    "                                  update_results_z_lambda!, #TODO\n",
    "                                  (lambda_step,),\n",
    "                                  ((V, t), V));\n",
    "                                  #update_lambda=false,\n",
    "                                  #fixed_lambda=fixed_lambda,\n",
    "                                  #track_acceptance=true,\n",
    "                                  #update_acceptances! =update_acc_z_lambda!) # TODO"
   ]
  },
  {
   "cell_type": "code",
   "execution_count": 41,
   "metadata": {},
   "outputs": [
    {
     "data": {
      "text/plain": [
       "20×20 Transpose{Float64,Array{Float64,2}}:\n",
       "  60.0   56.0   21.0  175.0    4.0  …   23.0    7.0   11.0    5.0   41.0\n",
       " 157.0  200.0   34.0   16.0    5.0      11.0    6.0   15.0   18.0   45.0\n",
       "   5.0    3.0   33.0    7.0  103.0     138.0   10.0   30.0  136.0   61.0\n",
       "   8.0   12.0   16.0   49.0    9.0      12.0    3.0   32.0   90.0    5.0\n",
       "  36.0   34.0  176.0   12.0  200.0     116.0   50.0   45.0   29.0    5.0\n",
       "   5.0    3.0    6.0   22.0    9.0  …    0.0   30.0    5.0    6.0   35.0\n",
       "   6.0   10.0   25.0  121.0   10.0      33.0   46.0   24.0   16.0   20.0\n",
       "  20.0   21.0  145.0   11.0    9.0      11.0    4.0   11.0    7.0  191.0\n",
       "   6.0    3.0   38.0   16.0    5.0     184.0  200.0   28.0   10.0   85.0\n",
       "  15.0    3.0    5.0   12.0   11.0       8.0   45.0    3.0   11.0   12.0\n",
       "  43.0   45.0   11.0   35.0    6.0  …    5.0   65.0   67.0   98.0    5.0\n",
       "  15.0   28.0   26.0   34.0   12.0      14.0   11.0   22.0   27.0   27.0\n",
       "   9.0    9.0    9.0   11.0   42.0       3.0   95.0    6.0    5.0   12.0\n",
       "  43.0    6.0   94.0   17.0    6.0       8.0    5.0    6.0   10.0   56.0\n",
       "  36.0   30.0   13.0   10.0   11.0       8.0    4.0    2.0   11.0   10.0\n",
       " 174.0  152.0   40.0   17.0   11.0  …   73.0    3.0    5.0    1.0   11.0\n",
       "   8.0    8.0    9.0    7.0    7.0       4.0   61.0   67.0   90.0    9.0\n",
       "   8.0   13.0   97.0   22.0    4.0      25.0   49.0  200.0  192.0    9.0\n",
       "   7.0    8.0   68.0   16.0    9.0      36.0   40.0   25.0   40.0    9.0\n",
       "   6.0   11.0   12.0  160.0   17.0      25.0    2.0    6.0   11.0   50.0"
      ]
     },
     "execution_count": 41,
     "metadata": {},
     "output_type": "execute_result"
    }
   ],
   "source": [
    "transpose(results[1])"
   ]
  },
  {
   "cell_type": "code",
   "execution_count": 43,
   "metadata": {},
   "outputs": [
    {
     "data": {
      "image/png": "[encoded data removed]",
      "text/plain": [
       "Figure(PyObject <Figure size 640x480 with 1 Axes>)"
      ]
     },
     "metadata": {},
     "output_type": "display_data"
    }
   ],
   "source": [
    "hist(results[2])\n",
    "show()"
   ]
  },
  {
   "cell_type": "code",
   "execution_count": 7,
   "metadata": {},
   "outputs": [],
   "source": [
    "# typeof(update_results_z_lambda!) <: Function"
   ]
  },
  {
   "cell_type": "code",
   "execution_count": 8,
   "metadata": {},
   "outputs": [],
   "source": [
    "# matshow(transpose(ref_adj), cmap=\"Greys\")\n",
    "# matshow(transpose(edge_posterior), cmap=\"Greys\")\n",
    "# transpose(edge_posterior)[:,5]"
   ]
  },
  {
   "cell_type": "code",
   "execution_count": 9,
   "metadata": {},
   "outputs": [],
   "source": [
    "# hill_result = convert(Matrix{Float64}, CSV.read(\"data/edge_prob_matrix.csv\"))\n",
    "# matshow(hill_result, cmap=\"Greys\")\n",
    "# hill_result[:,5]"
   ]
  },
  {
   "cell_type": "code",
   "execution_count": 10,
   "metadata": {},
   "outputs": [
    {
     "data": {
      "text/plain": [
       "3-element Array{Int64,1}:\n",
       " 4\n",
       " 5\n",
       " 8"
      ]
     },
     "execution_count": 10,
     "metadata": {},
     "output_type": "execute_result"
    }
   ],
   "source": [
    "a = [4,5,8]"
   ]
  },
  {
   "cell_type": "code",
   "execution_count": 11,
   "metadata": {},
   "outputs": [
    {
     "data": {
      "text/plain": [
       "4-element Array{Int64,1}:\n",
       "  4\n",
       "  5\n",
       "  8\n",
       " 11"
      ]
     },
     "execution_count": 11,
     "metadata": {},
     "output_type": "execute_result"
    }
   ],
   "source": [
    "insert!(a, 4,11)"
   ]
  },
  {
   "cell_type": "code",
   "execution_count": 12,
   "metadata": {},
   "outputs": [
    {
     "data": {
      "text/plain": [
       "3-element Array{Int64,1}:\n",
       " 4\n",
       " 5\n",
       " 8"
      ]
     },
     "execution_count": 12,
     "metadata": {},
     "output_type": "execute_result"
    }
   ],
   "source": [
    "deleteat!(a, 4)"
   ]
  },
  {
   "cell_type": "code",
   "execution_count": 13,
   "metadata": {},
   "outputs": [
    {
     "data": {
      "text/plain": [
       "3:2"
      ]
     },
     "execution_count": 13,
     "metadata": {},
     "output_type": "execute_result"
    }
   ],
   "source": [
    "searchsorted(a,6)"
   ]
  },
  {
   "cell_type": "code",
   "execution_count": 14,
   "metadata": {},
   "outputs": [
    {
     "data": {
      "text/plain": [
       "23"
      ]
     },
     "execution_count": 14,
     "metadata": {},
     "output_type": "execute_result"
    }
   ],
   "source": [
    "x = 23"
   ]
  },
  {
   "cell_type": "code",
   "execution_count": 15,
   "metadata": {},
   "outputs": [
    {
     "data": {
      "text/plain": [
       "22"
      ]
     },
     "execution_count": 15,
     "metadata": {},
     "output_type": "execute_result"
    }
   ],
   "source": [
    "x -= 1"
   ]
  },
  {
   "cell_type": "code",
   "execution_count": null,
   "metadata": {},
   "outputs": [],
   "source": []
  }
 ],
 "metadata": {
  "kernelspec": {
   "display_name": "Julia 1.2.0",
   "language": "julia",
   "name": "julia-1.2"
  },
  "language_info": {
   "file_extension": ".jl",
   "mimetype": "application/julia",
   "name": "julia",
   "version": "1.2.0"
  }
 },
 "nbformat": 4,
 "nbformat_minor": 2
}
