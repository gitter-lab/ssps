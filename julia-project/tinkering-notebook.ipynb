{
 "cells": [
  {
   "cell_type": "markdown",
   "metadata": {},
   "source": [
    "# DBN Structure Inference\n",
    "\n",
    "The idea is to infer a posterior for the *structure* of a Dynamic Bayesian Network (DBN), given some data.\n",
    "\n",
    "We formulate this task with the following model:\n",
    "\n",
    "$$ P(G | X) \\propto P(X | G) \\cdot P(G) $$\n",
    "\n",
    "* $P(G)$ is a prior distribution over DBN structures. We'll assume it has the form\n",
    "$$P(G) \\propto \\exp \\left( -\\lambda |G \\setminus G^\\prime| \\right)$$\n",
    "where $|G \\setminus G^\\prime|$ denotes the number of edges in the graph, which are not present in some reference graph $G^\\prime$.\n",
    "* $P(X | G)$ is the marginal likelihood of the DBN structure. That is, it's the likelihood of the DBN after the network parameters have been integrated out -- it scores network *structure*. \n",
    "* If we assume some reasonable priors for network parameters, $P(X|G)$ can be obtained in closed form. In this work, we'll use the following marginal likelihood:\n",
    "    \n",
    "    $$P(X | G) \\propto \\prod_{i=1}^p (1 + n)^{-(2^{|\\pi(i)|} - 1)/2} \\left( X_i^{+ T} X_i^+ - \\frac{n}{n+1} X_i^{+ T} B_i (B_i^T B_i)^{-1} B_i^T X_i^+ \\right)^{-\\frac{n}{2}}$$ \n",
    "    where $X$ and $B$ are matrices obtained from data; and $n$ is the total number of timesteps in the dataset. This marginal likelihood results from an empirical prior over the regression coefficients, and an improper ($\\propto 1/\\sigma^2$) prior for the regression \"noise\" variables."
   ]
  },
  {
   "cell_type": "markdown",
   "metadata": {},
   "source": [
    "## Get some data\n",
    "\n",
    "For now, we'll work with some data used by Hill et al. in their 2012 paper, _Bayesian Inference of Signaling Network Topology in a Cancer Cell Line_.\n",
    "\n",
    "It gives the differential phosphorylation levels of 20 proteins, in a cancer cell line perturbed by EGF. This is a well-studied signaling pathway; the goal is to produce a graph describing the dependencies between proteins in this pathway. "
   ]
  },
  {
   "cell_type": "markdown",
   "metadata": {},
   "source": [
    "NOTE: I have confirmed that the ordering of proteins in `protein_vec` is identical to the ordering in the columns of `timeseries_data`. So we can depend on that."
   ]
  },
  {
   "cell_type": "markdown",
   "metadata": {},
   "source": [
    "## Build the model\n",
    "\n",
    "Implement the graph prior distribution:\n",
    "\n",
    "$$P(G) \\propto \\exp \\left( -\\lambda |G \\setminus G^\\prime| \\right)$$"
   ]
  },
  {
   "cell_type": "markdown",
   "metadata": {},
   "source": [
    "Implement the DBN's marginal distribution:\n",
    "\n",
    "$$P(X | G) \\propto \\prod_{i=1}^p (1 + n)^{-(2^{|\\pi(i)|} - 1)/2} \\left( X_i^{+ T} X_i^+ - \\frac{n}{n+1} X_i^{+ T} B_i (B_i^T B_i)^{-1} B_i^T X_i^+ \\right)^{-\\frac{n}{2}}$$\n",
    "\n",
    "Some things to note:\n",
    "* We're kind of shoe-horning this marginal likelihood into Gen. The probabilistic programming ethos entails modeling the entire data-generating process. This ought to provide better performance during inference, though."
   ]
  },
  {
   "cell_type": "markdown",
   "metadata": {},
   "source": [
    "A BUNCH OF HELPER FUNCTIONS:"
   ]
  },
  {
   "cell_type": "markdown",
   "metadata": {},
   "source": [
    "THE MARGINAL LIKELIHOOD DISTRIBUTION"
   ]
  },
  {
   "cell_type": "markdown",
   "metadata": {},
   "source": [
    "## Inference\n",
    "\n",
    "### Metropolis-Hastings over directed graphs\n",
    "\n",
    "Proposal distribution:"
   ]
  },
  {
   "cell_type": "markdown",
   "metadata": {},
   "source": [
    "Involution function:"
   ]
  },
  {
   "cell_type": "markdown",
   "metadata": {},
   "source": [
    "### Our inference program"
   ]
  },
  {
   "cell_type": "markdown",
   "metadata": {},
   "source": [
    "# TESTING THE NEW MODEL"
   ]
  },
  {
   "cell_type": "code",
   "execution_count": 1,
   "metadata": {},
   "outputs": [],
   "source": [
    "using Gen\n",
    "using GLMNet\n",
    "include(\"PSDiGraph.jl\")\n",
    "using .PSDiGraphs\n",
    "include(\"dbn_preprocessing.jl\")\n",
    "include(\"dbn_models.jl\")\n",
    "include(\"dbn_proposals.jl\")\n",
    "include(\"dbn_inference.jl\")\n",
    "using PyPlot\n",
    "using Profile\n",
    "using ProfileView"
   ]
  },
  {
   "cell_type": "code",
   "execution_count": 2,
   "metadata": {},
   "outputs": [
    {
     "data": {
      "text/plain": [
       "\"data/time.csv\""
      ]
     },
     "execution_count": 2,
     "metadata": {},
     "output_type": "execute_result"
    }
   ],
   "source": [
    "timeseries_data_path = \"data/mukherjee_data.csv\"\n",
    "protein_names_path = \"data/protein_names.csv\"\n",
    "reference_adj_path = \"data/prior_graph.csv\"\n",
    "timesteps_path = \"data/time.csv\""
   ]
  },
  {
   "cell_type": "code",
   "execution_count": 3,
   "metadata": {},
   "outputs": [],
   "source": [
    "(timeseries_vec, protein_vec, ref_adj, timesteps) = hill_2012_preprocess(timeseries_data_path, \n",
    "                                                                         protein_names_path, \n",
    "                                                                         reference_adj_path, \n",
    "                                                                         timesteps_path);"
   ]
  },
  {
   "cell_type": "code",
   "execution_count": 4,
   "metadata": {},
   "outputs": [],
   "source": [
    "Gen.load_generated_functions()"
   ]
  },
  {
   "cell_type": "code",
   "execution_count": 24,
   "metadata": {
    "scrolled": true
   },
   "outputs": [],
   "source": [
    "clear_caches()\n",
    "regression_deg = 1\n",
    "phi_ratio = 1.0\n",
    "lambda_prior_param = 0.25\n",
    "n_samples = 1000\n",
    "fixed_lambda = 3.0\n",
    "burnin = 10\n",
    "thinning = 25\n",
    "lambda_r = 0.5\n",
    "median_degs = [1.0*sum(ps) for ps in ref_adj];\n",
    "\n",
    "# edge_posterior, lambdas, lambda_accs, ps_accs = dbn_vertexwise_inference(ref_adj, \n",
    "#                                                                          timeseries_vec, \n",
    "#                                                                          regression_deg,\n",
    "#                                                                          phi_ratio,\n",
    "#                                                                          lambda_prior_param,\n",
    "#                                                                          n_samples, \n",
    "#                                                                          burnin, \n",
    "#                                                                          thinning, \n",
    "#                                                                          lambda_r, \n",
    "#                                                                          median_degs,\n",
    "#                                                                          fixed_lambda,\n",
    "#                                                                          false)"
   ]
  },
  {
   "cell_type": "code",
   "execution_count": 16,
   "metadata": {},
   "outputs": [
    {
     "data": {
      "image/png": "[encoded data removed]",
      "text/plain": [
       "Figure(PyObject <Figure size 640x480 with 1 Axes>)"
      ]
     },
     "metadata": {},
     "output_type": "display_data"
    }
   ],
   "source": [
    "hist(lambdas, bins=20)\n",
    "show()"
   ]
  },
  {
   "cell_type": "code",
   "execution_count": 17,
   "metadata": {},
   "outputs": [
    {
     "data": {
      "text/plain": [
       "20×20 Transpose{Float64,Array{Float64,2}}:\n",
       " 0.35  0.38  0.01  0.15  0.0   0.21  …  0.09  0.05  0.06  0.01  0.02  0.32\n",
       " 0.49  0.79  0.03  0.09  0.0   0.33     0.08  0.03  0.11  0.02  0.04  0.27\n",
       " 0.02  0.01  0.14  0.01  0.04  0.01     0.06  0.1   0.05  0.03  0.33  0.29\n",
       " 0.01  0.04  0.03  0.41  0.0   0.02     0.01  0.0   0.06  0.01  0.23  0.08\n",
       " 0.13  0.18  0.06  0.02  0.09  0.03     0.02  0.16  0.26  0.16  0.17  0.03\n",
       " 0.01  0.0   0.0   0.05  0.0   0.52  …  0.0   0.01  0.06  0.0   0.0   0.24\n",
       " 0.01  0.04  0.01  0.29  0.0   0.0      0.01  0.09  0.03  0.05  0.02  0.04\n",
       " 0.03  0.01  0.29  0.02  0.0   0.18     0.06  0.0   0.02  0.02  0.02  0.63\n",
       " 0.0   0.01  0.08  0.06  0.0   0.01     0.0   0.19  0.45  0.02  0.03  0.3 \n",
       " 0.07  0.02  0.0   0.01  0.0   0.04     0.02  0.0   0.04  0.01  0.03  0.01\n",
       " 0.23  0.18  0.0   0.05  0.0   0.02  …  0.01  0.0   0.19  0.14  0.32  0.01\n",
       " 0.03  0.14  0.1   0.02  0.0   0.03     0.02  0.02  0.06  0.03  0.02  0.08\n",
       " 0.01  0.0   0.0   0.1   0.05  0.14     0.02  0.01  0.13  0.0   0.0   0.09\n",
       " 0.15  0.04  0.05  0.1   0.01  0.04     0.06  0.01  0.06  0.0   0.03  0.31\n",
       " 0.25  0.27  0.02  0.01  0.0   0.01     0.1   0.01  0.01  0.01  0.01  0.01\n",
       " 0.72  0.71  0.06  0.06  0.01  0.0   …  0.15  0.1   0.0   0.0   0.01  0.03\n",
       " 0.03  0.0   0.01  0.01  0.03  0.03     0.0   0.0   0.28  0.13  0.34  0.03\n",
       " 0.0   0.03  0.01  0.03  0.04  0.03     0.02  0.03  0.23  0.34  0.65  0.06\n",
       " 0.02  0.02  0.04  0.03  0.02  0.01     0.02  0.01  0.16  0.15  0.22  0.02\n",
       " 0.03  0.04  0.02  0.1   0.0   0.01     0.03  0.02  0.0   0.02  0.06  0.36"
      ]
     },
     "execution_count": 17,
     "metadata": {},
     "output_type": "execute_result"
    }
   ],
   "source": [
    "transpose(edge_posterior)"
   ]
  },
  {
   "cell_type": "code",
   "execution_count": 18,
   "metadata": {},
   "outputs": [
    {
     "data": {
      "text/plain": [
       "20×20 Array{Float64,2}:\n",
       " 0.11084      0.122596     0.0379205    …  0.178552     0.0571664 \n",
       " 0.950869     0.997652     0.174526        0.0104266    0.0449605 \n",
       " 0.00475166   0.00148091   0.0704487       0.147554     0.0489659 \n",
       " 0.00202306   0.00288393   0.00267562      0.0354861    0.00867835\n",
       " 0.0196006    0.0426981    0.37382         0.437884     0.00142491\n",
       " 0.00827803   0.00205783   0.000807644  …  0.000931571  0.0301194 \n",
       " 0.0493155    0.00467234   0.00351954      0.0112605    0.0049895 \n",
       " 0.0165201    0.00867707   0.268574        0.00103685   0.950199  \n",
       " 0.0046717    0.00573582   0.128029        0.000824887  0.0761773 \n",
       " 0.00333868   0.00139212   0.00388568      0.00624058   0.00295872\n",
       " 0.0224456    0.0333688    0.00113784   …  0.0199791    0.00190399\n",
       " 0.00156734   0.00933485   0.0998421       0.000937629  0.00211683\n",
       " 0.00133807   0.00440722   0.00897539      0.00408237   0.00513697\n",
       " 0.0259144    0.00207317   0.310454        0.00282329   0.0326157 \n",
       " 0.0305407    0.0161301    0.0181118       0.00461168   0.00149985\n",
       " 0.361399     0.312036     0.178504     …  0.0555959    0.00186809\n",
       " 0.00100016   0.000824591  0.00369617      0.0837859    0.00179197\n",
       " 0.00185049   0.00217922   0.0025202       0.645122     0.00155537\n",
       " 0.0012714    0.00239557   0.00231088      0.200128     0.0014878 \n",
       " 0.000970989  0.00306731   0.0823307       0.00301441   0.0312401 "
      ]
     },
     "execution_count": 18,
     "metadata": {},
     "output_type": "execute_result"
    }
   ],
   "source": [
    "hill_result = convert(Matrix{Float64}, CSV.read(\"data/edge_prob_matrix.csv\"))"
   ]
  },
  {
   "cell_type": "code",
   "execution_count": 25,
   "metadata": {},
   "outputs": [
    {
     "data": {
      "text/plain": [
       "phi_ratio_schedule (generic function with 1 method)"
      ]
     },
     "execution_count": 25,
     "metadata": {},
     "output_type": "execute_result"
    }
   ],
   "source": [
    "function phi_ratio_schedule(t::Float64)\n",
    "    return 1.0 / (1.0 + exp(-30.0*(t - 0.5)))\n",
    "end"
   ]
  },
  {
   "cell_type": "code",
   "execution_count": 26,
   "metadata": {},
   "outputs": [
    {
     "data": {
      "image/png": "[encoded data removed]",
      "text/plain": [
       "Figure(PyObject <Figure size 640x480 with 1 Axes>)"
      ]
     },
     "metadata": {},
     "output_type": "display_data"
    }
   ],
   "source": [
    "t = collect(0.0:0.01:1.0)\n",
    "pr = [phi_ratio_schedule(t0) for t0 in t]\n",
    "plot(t, pr)\n",
    "show()"
   ]
  },
  {
   "cell_type": "code",
   "execution_count": 27,
   "metadata": {},
   "outputs": [
    {
     "data": {
      "text/plain": [
       "([0.358 0.588 … 0.016 0.028; 0.379 0.675 … 0.021 0.035; … ; 0.024 0.017 … 0.298 0.053; 0.467 0.308 … 0.05 0.281], [0.33268, 0.33044, 0.27544, 0.31468, 0.26704, 0.26488, 0.28232, 0.26716, 0.27924, 0.29288, 0.34752, 0.2506, 0.396, 0.283, 0.2998, 0.29576, 0.392, 0.312, 0.3374, 0.39984])"
      ]
     },
     "execution_count": 27,
     "metadata": {},
     "output_type": "execute_result"
    }
   ],
   "source": [
    "clear_caches()\n",
    "#Profile.clear()\n",
    "\n",
    "#@profile edge_posterior, ps_accs = dbn_edgeind_annealing_inference(ref_adj, \n",
    "edge_posterior, ps_accs = dbn_edgeind_annealing_inference(ref_adj,\n",
    "                                                          timeseries_vec, \n",
    "                                                          regression_deg,\n",
    "                                                          phi_ratio_schedule,\n",
    "                                                          fixed_lambda,\n",
    "                                                          n_samples,\n",
    "                                                          thinning,  \n",
    "                                                          median_degs)"
   ]
  },
  {
   "cell_type": "code",
   "execution_count": 28,
   "metadata": {},
   "outputs": [
    {
     "data": {
      "text/plain": [
       "20×20 Transpose{Float64,Array{Float64,2}}:\n",
       " 0.358  0.379  0.019  0.151  0.019  …  0.073  0.092  0.022  0.024  0.467\n",
       " 0.588  0.675  0.058  0.076  0.008     0.068  0.163  0.036  0.017  0.308\n",
       " 0.029  0.023  0.21   0.012  0.055     0.043  0.043  0.053  0.31   0.268\n",
       " 0.021  0.046  0.013  0.427  0.015     0.019  0.023  0.058  0.17   0.098\n",
       " 0.218  0.243  0.051  0.042  0.177     0.179  0.212  0.252  0.233  0.048\n",
       " 0.009  0.015  0.003  0.077  0.004  …  0.006  0.07   0.011  0.013  0.201\n",
       " 0.021  0.029  0.029  0.326  0.007     0.085  0.027  0.053  0.053  0.026\n",
       " 0.05   0.034  0.336  0.04   0.007     0.008  0.034  0.02   0.015  0.475\n",
       " 0.023  0.038  0.106  0.025  0.013     0.193  0.389  0.065  0.036  0.343\n",
       " 0.092  0.045  0.019  0.01   0.006     0.014  0.029  0.023  0.035  0.019\n",
       " 0.199  0.181  0.01   0.022  0.013  …  0.012  0.224  0.302  0.3    0.021\n",
       " 0.052  0.104  0.072  0.028  0.01      0.049  0.052  0.039  0.053  0.118\n",
       " 0.029  0.027  0.02   0.117  0.115     0.021  0.12   0.017  0.013  0.182\n",
       " 0.123  0.081  0.045  0.104  0.01      0.053  0.076  0.019  0.016  0.386\n",
       " 0.219  0.228  0.044  0.031  0.009     0.01   0.045  0.018  0.029  0.046\n",
       " 0.668  0.657  0.114  0.106  0.011  …  0.203  0.032  0.017  0.022  0.022\n",
       " 0.032  0.043  0.011  0.027  0.002     0.01   0.312  0.254  0.395  0.018\n",
       " 0.016  0.016  0.016  0.039  0.053     0.027  0.228  0.521  0.625  0.04 \n",
       " 0.016  0.021  0.025  0.066  0.039     0.012  0.206  0.267  0.298  0.05 \n",
       " 0.028  0.035  0.012  0.083  0.007     0.037  0.011  0.013  0.053  0.281"
      ]
     },
     "execution_count": 28,
     "metadata": {},
     "output_type": "execute_result"
    }
   ],
   "source": [
    "transpose(edge_posterior)"
   ]
  },
  {
   "cell_type": "code",
   "execution_count": 29,
   "metadata": {},
   "outputs": [
    {
     "data": {
      "text/plain": [
       "20×20 Array{Float64,2}:\n",
       " 0.11084      0.122596     0.0379205    …  0.178552     0.0571664 \n",
       " 0.950869     0.997652     0.174526        0.0104266    0.0449605 \n",
       " 0.00475166   0.00148091   0.0704487       0.147554     0.0489659 \n",
       " 0.00202306   0.00288393   0.00267562      0.0354861    0.00867835\n",
       " 0.0196006    0.0426981    0.37382         0.437884     0.00142491\n",
       " 0.00827803   0.00205783   0.000807644  …  0.000931571  0.0301194 \n",
       " 0.0493155    0.00467234   0.00351954      0.0112605    0.0049895 \n",
       " 0.0165201    0.00867707   0.268574        0.00103685   0.950199  \n",
       " 0.0046717    0.00573582   0.128029        0.000824887  0.0761773 \n",
       " 0.00333868   0.00139212   0.00388568      0.00624058   0.00295872\n",
       " 0.0224456    0.0333688    0.00113784   …  0.0199791    0.00190399\n",
       " 0.00156734   0.00933485   0.0998421       0.000937629  0.00211683\n",
       " 0.00133807   0.00440722   0.00897539      0.00408237   0.00513697\n",
       " 0.0259144    0.00207317   0.310454        0.00282329   0.0326157 \n",
       " 0.0305407    0.0161301    0.0181118       0.00461168   0.00149985\n",
       " 0.361399     0.312036     0.178504     …  0.0555959    0.00186809\n",
       " 0.00100016   0.000824591  0.00369617      0.0837859    0.00179197\n",
       " 0.00185049   0.00217922   0.0025202       0.645122     0.00155537\n",
       " 0.0012714    0.00239557   0.00231088      0.200128     0.0014878 \n",
       " 0.000970989  0.00306731   0.0823307       0.00301441   0.0312401 "
      ]
     },
     "execution_count": 29,
     "metadata": {},
     "output_type": "execute_result"
    }
   ],
   "source": [
    "hill_result"
   ]
  },
  {
   "cell_type": "code",
   "execution_count": null,
   "metadata": {},
   "outputs": [],
   "source": [
    "typeof(Gen.NoChange())"
   ]
  },
  {
   "cell_type": "code",
   "execution_count": null,
   "metadata": {},
   "outputs": [],
   "source": [
    "clear_caches()"
   ]
  },
  {
   "cell_type": "code",
   "execution_count": null,
   "metadata": {},
   "outputs": [],
   "source": [
    "ProfileView.view()"
   ]
  },
  {
   "cell_type": "code",
   "execution_count": null,
   "metadata": {},
   "outputs": [],
   "source": [
    "clear_caches()\n",
    "burnin = 20\n",
    "thinning = 20\n",
    "n_samples = 10\n",
    "Profile.clear()\n",
    "#@profile edge_posterior, edge_accs = dbn_edgeind_gibbs_inference(ref_adj, \n",
    "edge_posterior, edge_accs = dbn_edgeind_gibbs_inference(ref_adj,\n",
    "                                                        timeseries_vec, \n",
    "                                                        regression_deg,\n",
    "                                                        phi_ratio,\n",
    "                                                        fixed_lambda,\n",
    "                                                        n_samples,\n",
    "                                                        burnin,\n",
    "                                                        thinning)"
   ]
  },
  {
   "cell_type": "code",
   "execution_count": null,
   "metadata": {},
   "outputs": [],
   "source": [
    "edge_posterior"
   ]
  },
  {
   "cell_type": "code",
   "execution_count": null,
   "metadata": {},
   "outputs": [],
   "source": [
    "ProfileView.view()"
   ]
  },
  {
   "cell_type": "code",
   "execution_count": null,
   "metadata": {},
   "outputs": [],
   "source": [
    "[[3]; [true for i=1:10]]"
   ]
  },
  {
   "cell_type": "code",
   "execution_count": null,
   "metadata": {},
   "outputs": [],
   "source": [
    "sum([true for i=1:10])"
   ]
  },
  {
   "cell_type": "code",
   "execution_count": null,
   "metadata": {},
   "outputs": [],
   "source": [
    "using Pkg"
   ]
  },
  {
   "cell_type": "code",
   "execution_count": null,
   "metadata": {},
   "outputs": [],
   "source": [
    "Pkg.add(\"FunctionalCollections\")"
   ]
  },
  {
   "cell_type": "code",
   "execution_count": null,
   "metadata": {},
   "outputs": [],
   "source": [
    "using FunctionalCollections"
   ]
  },
  {
   "cell_type": "code",
   "execution_count": null,
   "metadata": {},
   "outputs": [],
   "source": [
    "v = PersistentVector{Float64}()"
   ]
  },
  {
   "cell_type": "code",
   "execution_count": null,
   "metadata": {},
   "outputs": [],
   "source": [
    "y = convert(Vector{Float64}, v)"
   ]
  },
  {
   "cell_type": "code",
   "execution_count": null,
   "metadata": {},
   "outputs": [],
   "source": [
    "v = PersistentVector{Float64}([1.0, 2.0, 3.0])"
   ]
  },
  {
   "cell_type": "code",
   "execution_count": null,
   "metadata": {},
   "outputs": [],
   "source": [
    "y = Vector{Float64}([x for x in v])"
   ]
  },
  {
   "cell_type": "code",
   "execution_count": null,
   "metadata": {},
   "outputs": [],
   "source": [
    "Bool(1)"
   ]
  },
  {
   "cell_type": "code",
   "execution_count": null,
   "metadata": {},
   "outputs": [],
   "source": [
    "timeseries_vec"
   ]
  },
  {
   "cell_type": "code",
   "execution_count": null,
   "metadata": {},
   "outputs": [],
   "source": [
    "t = convert(Matrix{Float64}, timesteps)\n",
    "t = t[1,:]"
   ]
  },
  {
   "cell_type": "code",
   "execution_count": null,
   "metadata": {},
   "outputs": [],
   "source": [
    "# for ts_array in timeseries_vec\n",
    "#     plot(t, ts_array)\n",
    "for ts_array in timeseries_vec\n",
    "    plot(t, ts_array, linewidth=0.5)\n",
    "end\n",
    "xlim(5,240)\n",
    "#yscale(\"log\")\n",
    "show()"
   ]
  },
  {
   "cell_type": "code",
   "execution_count": null,
   "metadata": {},
   "outputs": [],
   "source": []
  }
 ],
 "metadata": {
  "kernelspec": {
   "display_name": "Julia 1.2.0",
   "language": "julia",
   "name": "julia-1.2"
  },
  "language_info": {
   "file_extension": ".jl",
   "mimetype": "application/julia",
   "name": "julia",
   "version": "1.2.0"
  }
 },
 "nbformat": 4,
 "nbformat_minor": 2
}
