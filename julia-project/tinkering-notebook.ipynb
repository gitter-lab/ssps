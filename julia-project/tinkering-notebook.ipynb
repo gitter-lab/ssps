{
 "cells": [
  {
   "cell_type": "markdown",
   "metadata": {},
   "source": [
    "# DBN Structure Inference\n",
    "\n",
    "The idea is to infer a posterior for the *structure* of a Dynamic Bayesian Network (DBN), given some data.\n",
    "\n",
    "We formulate this task with the following model:\n",
    "\n",
    "$$ P(G | X) \\propto P(X | G) \\cdot P(G) $$\n",
    "\n",
    "* $P(G)$ is a prior distribution over DBN structures. We'll assume it has the form\n",
    "$$P(G) \\propto \\exp \\left( -\\lambda |G \\setminus G^\\prime| \\right)$$\n",
    "where $|G \\setminus G^\\prime|$ denotes the number of edges in the graph, which are not present in some reference graph $G^\\prime$.\n",
    "* $P(X | G)$ is the marginal likelihood of the DBN structure. That is, it's the likelihood of the DBN after the network parameters have been integrated out -- it scores network *structure*. \n",
    "* If we assume some reasonable priors for network parameters, $P(X|G)$ can be obtained in closed form. In this work, we'll use the following marginal likelihood:\n",
    "    \n",
    "    $$P(X | G) \\propto \\prod_{i=1}^p (1 + n)^{-(2^{|\\pi(i)|} - 1)/2} \\left( X_i^{+ T} X_i^+ - \\frac{n}{n+1} X_i^{+ T} B_i (B_i^T B_i)^{-1} B_i^T X_i^+ \\right)^{-\\frac{n}{2}}$$ \n",
    "    where $X$ and $B$ are matrices obtained from data; and $n$ is the total number of timesteps in the dataset. This marginal likelihood results from an empirical prior over the regression coefficients, and an improper ($\\propto 1/\\sigma^2$) prior for the regression \"noise\" variables."
   ]
  },
  {
   "cell_type": "markdown",
   "metadata": {},
   "source": [
    "## Get some data\n",
    "\n",
    "For now, we'll work with some data used by Hill et al. in their 2012 paper, _Bayesian Inference of Signaling Network Topology in a Cancer Cell Line_.\n",
    "\n",
    "It gives the differential phosphorylation levels of 20 proteins, in a cancer cell line perturbed by EGF. This is a well-studied signaling pathway; the goal is to produce a graph describing the dependencies between proteins in this pathway. "
   ]
  },
  {
   "cell_type": "markdown",
   "metadata": {},
   "source": [
    "NOTE: I have confirmed that the ordering of proteins in `protein_vec` is identical to the ordering in the columns of `timeseries_data`. So we can depend on that."
   ]
  },
  {
   "cell_type": "markdown",
   "metadata": {},
   "source": [
    "## Build the model\n",
    "\n",
    "Implement the graph prior distribution:\n",
    "\n",
    "$$P(G) \\propto \\exp \\left( -\\lambda |G \\setminus G^\\prime| \\right)$$"
   ]
  },
  {
   "cell_type": "markdown",
   "metadata": {},
   "source": [
    "Implement the DBN's marginal distribution:\n",
    "\n",
    "$$P(X | G) \\propto \\prod_{i=1}^p (1 + n)^{-(2^{|\\pi(i)|} - 1)/2} \\left( X_i^{+ T} X_i^+ - \\frac{n}{n+1} X_i^{+ T} B_i (B_i^T B_i)^{-1} B_i^T X_i^+ \\right)^{-\\frac{n}{2}}$$\n",
    "\n",
    "Some things to note:\n",
    "* We're kind of shoe-horning this marginal likelihood into Gen. The probabilistic programming ethos entails modeling the entire data-generating process. This ought to provide better performance during inference, though."
   ]
  },
  {
   "cell_type": "markdown",
   "metadata": {},
   "source": [
    "A BUNCH OF HELPER FUNCTIONS:"
   ]
  },
  {
   "cell_type": "markdown",
   "metadata": {},
   "source": [
    "THE MARGINAL LIKELIHOOD DISTRIBUTION"
   ]
  },
  {
   "cell_type": "markdown",
   "metadata": {},
   "source": [
    "## Inference\n",
    "\n",
    "### Metropolis-Hastings over directed graphs\n",
    "\n",
    "Proposal distribution:"
   ]
  },
  {
   "cell_type": "markdown",
   "metadata": {},
   "source": [
    "Involution function:"
   ]
  },
  {
   "cell_type": "markdown",
   "metadata": {},
   "source": [
    "### Our inference program"
   ]
  },
  {
   "cell_type": "markdown",
   "metadata": {},
   "source": [
    "# TESTING THE NEW MODEL"
   ]
  },
  {
   "cell_type": "code",
   "execution_count": 1,
   "metadata": {},
   "outputs": [],
   "source": [
    "using Gen\n",
    "using GLMNet\n",
    "include(\"PSDiGraph.jl\")\n",
    "using .PSDiGraphs\n",
    "include(\"dbn_preprocessing.jl\")\n",
    "include(\"dbn_models.jl\")\n",
    "include(\"dbn_proposals.jl\")\n",
    "include(\"dbn_inference.jl\")\n",
    "using PyPlot\n",
    "using Profile\n",
    "using ProfileView"
   ]
  },
  {
   "cell_type": "code",
   "execution_count": 2,
   "metadata": {},
   "outputs": [
    {
     "data": {
      "text/plain": [
       "\"data/time.csv\""
      ]
     },
     "execution_count": 2,
     "metadata": {},
     "output_type": "execute_result"
    }
   ],
   "source": [
    "timeseries_data_path = \"data/mukherjee_data.csv\"\n",
    "protein_names_path = \"data/protein_names.csv\"\n",
    "reference_adj_path = \"data/prior_graph.csv\"\n",
    "timesteps_path = \"data/time.csv\""
   ]
  },
  {
   "cell_type": "code",
   "execution_count": 3,
   "metadata": {},
   "outputs": [],
   "source": [
    "(timeseries_vec, protein_vec, ref_adj, timesteps) = hill_2012_preprocess(timeseries_data_path, \n",
    "                                                                         protein_names_path, \n",
    "                                                                         reference_adj_path, \n",
    "                                                                         timesteps_path);"
   ]
  },
  {
   "cell_type": "code",
   "execution_count": 4,
   "metadata": {},
   "outputs": [],
   "source": [
    "Gen.load_generated_functions()"
   ]
  },
  {
   "cell_type": "code",
   "execution_count": 5,
   "metadata": {
    "scrolled": true
   },
   "outputs": [
    {
     "data": {
      "text/plain": [
       "([0.189 0.936 … 0.004 0.004; 0.187 0.991 … 0.006 0.007; … ; 0.251 0.125 … 0.348 0.004; 0.146 0.11 … 0.004 0.09], [2.810663014387422, 2.43288415156431, 2.444183498546064, 2.634002638744856, 2.700737943151952, 3.0034928391146387, 2.224590500633344, 2.4692407676073467, 2.2468936342012804, 2.7375689750629015  …  2.5780823515303903, 2.5492163383821564, 2.453495979749113, 2.4317273683821363, 2.581685589233353, 2.2061679998387453, 2.5136543237918922, 2.80064499233742, 2.7435732940992796, 2.3533701569241616], 0.4591732559303373, [0.031828645781203084, 0.029316384746271646, 0.03308978080272245, 0.021679511560404364, 0.03717345611049945, 0.024482033830447402, 0.04691222099889901, 0.03259933940546492, 0.039925933340006006, 0.010989890901811631, 0.029666700030027023, 0.042788509658692825, 0.019157241517365628, 0.0230407366629967, 0.023711340206185566, 0.032549294364928434, 0.038374537083375036, 0.026453808427584827, 0.054408968071264135, 0.04112701431288159])"
      ]
     },
     "execution_count": 5,
     "metadata": {},
     "output_type": "execute_result"
    }
   ],
   "source": [
    "clear_caches()\n",
    "regression_deg = 4\n",
    "phi_ratio = 1.0\n",
    "lambda_prior_param = 0.25\n",
    "n_samples = 100\n",
    "fixed_lambda = 3.0\n",
    "burnin = 10\n",
    "thinning = 50\n",
    "lambda_r = 0.5\n",
    "median_degs = [1.0*sum(ps) for ps in ref_adj];\n",
    "\n",
    "# edge_posterior, lambdas, lambda_accs, ps_accs = dbn_vertexwise_inference(ref_adj, \n",
    "#                                                                          timeseries_vec, \n",
    "#                                                                          regression_deg,\n",
    "#                                                                          phi_ratio,\n",
    "#                                                                          lambda_prior_param,\n",
    "#                                                                          n_samples, \n",
    "#                                                                          burnin, \n",
    "#                                                                          thinning, \n",
    "#                                                                          lambda_r, \n",
    "#                                                                          median_degs,\n",
    "#                                                                          fixed_lambda,\n",
    "#                                                                          false)\n",
    "\n",
    "edge_posterior, lambdas, lambda_accs, ps_accs = dbn_ps_swapping(ref_adj, \n",
    "                                                                timeseries_vec, \n",
    "                                                                regression_deg,\n",
    "                                                                phi_ratio,\n",
    "                                                                lambda_prior_param,\n",
    "                                                                n_samples, \n",
    "                                                                burnin, \n",
    "                                                                thinning, \n",
    "                                                                lambda_r, \n",
    "                                                                median_degs,\n",
    "                                                                fixed_lambda,\n",
    "                                                                true)"
   ]
  },
  {
   "cell_type": "code",
   "execution_count": 6,
   "metadata": {},
   "outputs": [
    {
     "data": {
      "image/png": "[encoded data removed]",
      "text/plain": [
       "Figure(PyObject <Figure size 640x480 with 1 Axes>)"
      ]
     },
     "metadata": {},
     "output_type": "display_data"
    }
   ],
   "source": [
    "hist(lambdas, bins=20)\n",
    "show()"
   ]
  },
  {
   "cell_type": "code",
   "execution_count": 11,
   "metadata": {},
   "outputs": [
    {
     "data": {
      "image/png": "[encoded data removed]",
      "text/plain": [
       "Figure(PyObject <Figure size 480x480 with 1 Axes>)"
      ]
     },
     "metadata": {},
     "output_type": "display_data"
    },
    {
     "data": {
      "image/png": "[encoded data removed]",
      "text/plain": [
       "Figure(PyObject <Figure size 480x480 with 1 Axes>)"
      ]
     },
     "metadata": {},
     "output_type": "display_data"
    },
    {
     "data": {
      "text/plain": [
       "20-element Array{Float64,1}:\n",
       " 0.08 \n",
       " 0.087\n",
       " 0.143\n",
       " 0.019\n",
       " 0.992\n",
       " 0.012\n",
       " 0.059\n",
       " 0.013\n",
       " 0.007\n",
       " 0.023\n",
       " 0.006\n",
       " 0.003\n",
       " 0.273\n",
       " 0.048\n",
       " 0.034\n",
       " 0.164\n",
       " 0.017\n",
       " 0.019\n",
       " 0.011\n",
       " 0.034"
      ]
     },
     "execution_count": 11,
     "metadata": {},
     "output_type": "execute_result"
    }
   ],
   "source": [
    "matshow(transpose(ref_adj), cmap=\"Greys\")\n",
    "matshow(transpose(edge_posterior), cmap=\"Greys\")\n",
    "transpose(edge_posterior)[:,5]"
   ]
  },
  {
   "cell_type": "code",
   "execution_count": 13,
   "metadata": {},
   "outputs": [
    {
     "data": {
      "image/png": "[encoded data removed]",
      "text/plain": [
       "Figure(PyObject <Figure size 480x480 with 1 Axes>)"
      ]
     },
     "metadata": {},
     "output_type": "display_data"
    },
    {
     "data": {
      "text/plain": [
       "20-element Array{Float64,1}:\n",
       " 0.04151771044803633  \n",
       " 0.02618837309200779  \n",
       " 0.06469924628671361  \n",
       " 0.006317747411607069 \n",
       " 0.994298928558952    \n",
       " 0.0022928764635395346\n",
       " 0.004484527186363329 \n",
       " 0.0014488303810443158\n",
       " 0.0018843036111529483\n",
       " 0.006152936519921729 \n",
       " 0.0012279665208409843\n",
       " 0.0010992287856416972\n",
       " 0.16707381579417158  \n",
       " 0.01963621878837054  \n",
       " 0.007468221996292591 \n",
       " 0.056445509091101326 \n",
       " 0.0038425029099626077\n",
       " 0.003169592984620425 \n",
       " 0.007622028367872339 \n",
       " 0.0053734216081560305"
      ]
     },
     "execution_count": 13,
     "metadata": {},
     "output_type": "execute_result"
    }
   ],
   "source": [
    "hill_result = convert(Matrix{Float64}, CSV.read(\"data/edge_prob_matrix.csv\"))\n",
    "matshow(hill_result, cmap=\"Greys\")\n",
    "hill_result[:,5]"
   ]
  },
  {
   "cell_type": "code",
   "execution_count": null,
   "metadata": {},
   "outputs": [],
   "source": [
    "hill_result[:,5]"
   ]
  },
  {
   "cell_type": "code",
   "execution_count": null,
   "metadata": {},
   "outputs": [],
   "source": [
    "function phi_ratio_schedule(t::Float64)\n",
    "    return 1.0 / (1.0 + exp(-30.0*(t - 0.5)))\n",
    "end"
   ]
  },
  {
   "cell_type": "code",
   "execution_count": null,
   "metadata": {},
   "outputs": [],
   "source": [
    "t = collect(0.0:0.01:1.0)\n",
    "pr = [phi_ratio_schedule(t0) for t0 in t]\n",
    "plot(t, pr)\n",
    "show()"
   ]
  },
  {
   "cell_type": "code",
   "execution_count": null,
   "metadata": {},
   "outputs": [],
   "source": [
    "clear_caches()\n",
    "#Profile.clear()\n",
    "\n",
    "#@profile edge_posterior, ps_accs = dbn_edgeind_annealing_inference(ref_adj, \n",
    "edge_posterior, ps_accs = dbn_edgeind_annealing_inference(ref_adj,\n",
    "                                                          timeseries_vec, \n",
    "                                                          regression_deg,\n",
    "                                                          phi_ratio_schedule,\n",
    "                                                          fixed_lambda,\n",
    "                                                          n_samples,\n",
    "                                                          thinning,  \n",
    "                                                          median_degs)"
   ]
  },
  {
   "cell_type": "code",
   "execution_count": null,
   "metadata": {},
   "outputs": [],
   "source": [
    "transpose(edge_posterior)"
   ]
  },
  {
   "cell_type": "code",
   "execution_count": null,
   "metadata": {},
   "outputs": [],
   "source": [
    "hill_result"
   ]
  },
  {
   "cell_type": "code",
   "execution_count": null,
   "metadata": {},
   "outputs": [],
   "source": [
    "typeof(Gen.NoChange())"
   ]
  },
  {
   "cell_type": "code",
   "execution_count": null,
   "metadata": {},
   "outputs": [],
   "source": [
    "clear_caches()"
   ]
  },
  {
   "cell_type": "code",
   "execution_count": null,
   "metadata": {},
   "outputs": [],
   "source": [
    "ProfileView.view()"
   ]
  },
  {
   "cell_type": "code",
   "execution_count": null,
   "metadata": {},
   "outputs": [],
   "source": [
    "clear_caches()\n",
    "burnin = 20\n",
    "thinning = 20\n",
    "n_samples = 100\n",
    "Profile.clear()\n",
    "#@profile edge_posterior, edge_accs = dbn_edgeind_gibbs_inference(ref_adj, \n",
    "edge_posterior, edge_accs = dbn_edgeind_gibbs_inference(ref_adj,\n",
    "                                                        timeseries_vec, \n",
    "                                                        regression_deg,\n",
    "                                                        phi_ratio,\n",
    "                                                        fixed_lambda,\n",
    "                                                        n_samples,\n",
    "                                                        burnin,\n",
    "                                                        thinning)"
   ]
  },
  {
   "cell_type": "code",
   "execution_count": null,
   "metadata": {},
   "outputs": [],
   "source": [
    "transpose(edge_posterior)"
   ]
  },
  {
   "cell_type": "code",
   "execution_count": null,
   "metadata": {},
   "outputs": [],
   "source": [
    "hill_result"
   ]
  },
  {
   "cell_type": "code",
   "execution_count": null,
   "metadata": {},
   "outputs": [],
   "source": [
    "ProfileView.view()"
   ]
  },
  {
   "cell_type": "code",
   "execution_count": null,
   "metadata": {},
   "outputs": [],
   "source": [
    "[[3]; [true for i=1:10]]"
   ]
  },
  {
   "cell_type": "code",
   "execution_count": null,
   "metadata": {},
   "outputs": [],
   "source": [
    "sum([true for i=1:10])"
   ]
  },
  {
   "cell_type": "code",
   "execution_count": null,
   "metadata": {},
   "outputs": [],
   "source": [
    "using Pkg"
   ]
  },
  {
   "cell_type": "code",
   "execution_count": null,
   "metadata": {},
   "outputs": [],
   "source": [
    "Pkg.add(\"FunctionalCollections\")"
   ]
  },
  {
   "cell_type": "code",
   "execution_count": null,
   "metadata": {},
   "outputs": [],
   "source": [
    "using FunctionalCollections"
   ]
  },
  {
   "cell_type": "code",
   "execution_count": null,
   "metadata": {},
   "outputs": [],
   "source": [
    "v = PersistentVector{Float64}()"
   ]
  },
  {
   "cell_type": "code",
   "execution_count": null,
   "metadata": {},
   "outputs": [],
   "source": [
    "y = convert(Vector{Float64}, v)"
   ]
  },
  {
   "cell_type": "code",
   "execution_count": null,
   "metadata": {},
   "outputs": [],
   "source": [
    "v = PersistentVector{Float64}([1.0, 2.0, 3.0])"
   ]
  },
  {
   "cell_type": "code",
   "execution_count": null,
   "metadata": {},
   "outputs": [],
   "source": [
    "y = Vector{Float64}([x for x in v])"
   ]
  },
  {
   "cell_type": "code",
   "execution_count": null,
   "metadata": {},
   "outputs": [],
   "source": [
    "Bool(1)"
   ]
  },
  {
   "cell_type": "code",
   "execution_count": null,
   "metadata": {},
   "outputs": [],
   "source": [
    "timeseries_vec"
   ]
  },
  {
   "cell_type": "code",
   "execution_count": null,
   "metadata": {},
   "outputs": [],
   "source": [
    "t = convert(Matrix{Float64}, timesteps)\n",
    "t = t[1,:]"
   ]
  },
  {
   "cell_type": "code",
   "execution_count": null,
   "metadata": {},
   "outputs": [],
   "source": [
    "# for ts_array in timeseries_vec\n",
    "#     plot(t, ts_array)\n",
    "for ts_array in timeseries_vec\n",
    "    plot(t, ts_array, linewidth=0.5)\n",
    "end\n",
    "xlim(5,240)\n",
    "#yscale(\"log\")\n",
    "show()"
   ]
  },
  {
   "cell_type": "code",
   "execution_count": null,
   "metadata": {},
   "outputs": [],
   "source": []
  }
 ],
 "metadata": {
  "kernelspec": {
   "display_name": "Julia 1.2.0",
   "language": "julia",
   "name": "julia-1.2"
  },
  "language_info": {
   "file_extension": ".jl",
   "mimetype": "application/julia",
   "name": "julia",
   "version": "1.2.0"
  }
 },
 "nbformat": 4,
 "nbformat_minor": 2
}
