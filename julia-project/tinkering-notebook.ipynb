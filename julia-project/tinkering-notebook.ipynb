{
 "cells": [
  {
   "cell_type": "markdown",
   "metadata": {},
   "source": [
    "# DBN Structure Inference\n",
    "\n",
    "The idea is to infer a posterior for the *structure* of a Dynamic Bayesian Network (DBN), given some data.\n",
    "\n",
    "We formulate this task with the following model:\n",
    "\n",
    "$$ P(G | X) \\propto P(X | G) \\cdot P(G) $$\n",
    "\n",
    "* $P(G)$ is a prior distribution over DBN structures. We'll assume it has the form\n",
    "$$P(G) \\propto \\exp \\left( -\\lambda |G \\setminus G^\\prime| \\right)$$\n",
    "where $|G \\setminus G^\\prime|$ denotes the number of edges in the graph, which are not present in some reference graph $G^\\prime$.\n",
    "* $P(X | G)$ is the marginal likelihood of the DBN structure. That is, it's the likelihood of the DBN after the network parameters have been integrated out -- it scores network *structure*. \n",
    "* If we assume some reasonable priors for network parameters, $P(X|G)$ can be obtained in closed form. In this work, we'll use the following marginal likelihood:\n",
    "    \n",
    "    $$P(X | G) \\propto \\prod_{i=1}^p (1 + n)^{-(2^{|\\pi(i)|} - 1)/2} \\left( X_i^{+ T} X_i^+ - \\frac{n}{n+1} X_i^{+ T} B_i (B_i^T B_i)^{-1} B_i^T X_i^+ \\right)^{-\\frac{n}{2}}$$ \n",
    "    where $X$ and $B$ are matrices obtained from data; and $n$ is the total number of timesteps in the dataset. This marginal likelihood results from an empirical prior over the regression coefficients, and an improper ($\\propto 1/\\sigma^2$) prior for the regression \"noise\" variables."
   ]
  },
  {
   "cell_type": "markdown",
   "metadata": {},
   "source": [
    "## Get some data\n",
    "\n",
    "For now, we'll work with some data used by Hill et al. in their 2012 paper, _Bayesian Inference of Signaling Network Topology in a Cancer Cell Line_.\n",
    "\n",
    "It gives the differential phosphorylation levels of 20 proteins, in a cancer cell line perturbed by EGF. This is a well-studied signaling pathway; the goal is to produce a graph describing the dependencies between proteins in this pathway. "
   ]
  },
  {
   "cell_type": "markdown",
   "metadata": {},
   "source": [
    "NOTE: I have confirmed that the ordering of proteins in `protein_vec` is identical to the ordering in the columns of `timeseries_data`. So we can depend on that."
   ]
  },
  {
   "cell_type": "markdown",
   "metadata": {},
   "source": [
    "## Build the model\n",
    "\n",
    "Implement the graph prior distribution:\n",
    "\n",
    "$$P(G) \\propto \\exp \\left( -\\lambda |G \\setminus G^\\prime| \\right)$$"
   ]
  },
  {
   "cell_type": "markdown",
   "metadata": {},
   "source": [
    "Implement the DBN's marginal distribution:\n",
    "\n",
    "$$P(X | G) \\propto \\prod_{i=1}^p (1 + n)^{-(2^{|\\pi(i)|} - 1)/2} \\left( X_i^{+ T} X_i^+ - \\frac{n}{n+1} X_i^{+ T} B_i (B_i^T B_i)^{-1} B_i^T X_i^+ \\right)^{-\\frac{n}{2}}$$\n",
    "\n",
    "Some things to note:\n",
    "* We're kind of shoe-horning this marginal likelihood into Gen. The probabilistic programming ethos entails modeling the entire data-generating process. This ought to provide better performance during inference, though."
   ]
  },
  {
   "cell_type": "markdown",
   "metadata": {},
   "source": [
    "A BUNCH OF HELPER FUNCTIONS:"
   ]
  },
  {
   "cell_type": "markdown",
   "metadata": {},
   "source": [
    "THE MARGINAL LIKELIHOOD DISTRIBUTION"
   ]
  },
  {
   "cell_type": "markdown",
   "metadata": {},
   "source": [
    "## Inference\n",
    "\n",
    "### Metropolis-Hastings over directed graphs\n",
    "\n",
    "Proposal distribution:"
   ]
  },
  {
   "cell_type": "markdown",
   "metadata": {},
   "source": [
    "Involution function:"
   ]
  },
  {
   "cell_type": "markdown",
   "metadata": {},
   "source": [
    "### Our inference program"
   ]
  },
  {
   "cell_type": "markdown",
   "metadata": {},
   "source": [
    "# TESTING THE NEW MODEL"
   ]
  },
  {
   "cell_type": "code",
   "execution_count": 1,
   "metadata": {},
   "outputs": [],
   "source": [
    "using Gen\n",
    "using GLMNet\n",
    "include(\"PSDiGraph.jl\")\n",
    "using .PSDiGraphs\n",
    "include(\"dbn_preprocessing.jl\")\n",
    "include(\"dbn_models.jl\")\n",
    "include(\"dbn_proposals.jl\")\n",
    "include(\"dbn_inference.jl\")\n",
    "using PyPlot\n",
    "using Profile\n",
    "using ProfileView"
   ]
  },
  {
   "cell_type": "code",
   "execution_count": 2,
   "metadata": {},
   "outputs": [
    {
     "data": {
      "text/plain": [
       "\"data/time.csv\""
      ]
     },
     "execution_count": 2,
     "metadata": {},
     "output_type": "execute_result"
    }
   ],
   "source": [
    "timeseries_data_path = \"data/mukherjee_data.csv\"\n",
    "protein_names_path = \"data/protein_names.csv\"\n",
    "reference_adj_path = \"data/prior_graph.csv\"\n",
    "timesteps_path = \"data/time.csv\""
   ]
  },
  {
   "cell_type": "code",
   "execution_count": 3,
   "metadata": {},
   "outputs": [],
   "source": [
    "(timeseries_vec, protein_vec, ref_adj, timesteps) = hill_2012_preprocess(timeseries_data_path, \n",
    "                                                                         protein_names_path, \n",
    "                                                                         reference_adj_path, \n",
    "                                                                         timesteps_path);"
   ]
  },
  {
   "cell_type": "code",
   "execution_count": 4,
   "metadata": {},
   "outputs": [],
   "source": [
    "Gen.load_generated_functions()"
   ]
  },
  {
   "cell_type": "code",
   "execution_count": 9,
   "metadata": {
    "scrolled": true
   },
   "outputs": [
    {
     "data": {
      "text/plain": [
       "([0.29 0.81 … 0.0 0.02; 0.31 1.0 … 0.02 0.02; … ; 0.0 0.04 … 0.21 0.02; 0.42 0.37 … 0.0 0.21], [3.0, 3.0, 3.0, 3.0, 3.0, 3.0, 3.0, 3.0, 3.0, 3.0  …  3.0, 3.0, 3.0, 3.0, 3.0, 3.0, 3.0, 3.0, 3.0, 3.0], 0.0, [0.2209255533199195, 0.23219315895372233, 0.15653923541247486, 0.1806841046277666, 0.22293762575452716, 0.16619718309859155, 0.22012072434607646, 0.18108651911468812, 0.2140845070422535, 0.1818913480885312, 0.2973843058350101, 0.20603621730382293, 0.2370221327967807, 0.18309859154929578, 0.22615694164989938, 0.16780684104627766, 0.2800804828973843, 0.2776659959758551, 0.2748490945674044, 0.27002012072434606])"
      ]
     },
     "execution_count": 9,
     "metadata": {},
     "output_type": "execute_result"
    }
   ],
   "source": [
    "clear_caches()\n",
    "regression_deg = 4\n",
    "phi_ratio = 1.0\n",
    "lambda_prior_param = 0.25\n",
    "n_samples = 100\n",
    "fixed_lambda = 3.0\n",
    "burnin = 10\n",
    "thinning = 25\n",
    "lambda_r = 0.5\n",
    "median_degs = [1.0*sum(ps) for ps in ref_adj];\n",
    "\n",
    "edge_posterior, lambdas, lambda_accs, ps_accs = dbn_vertexwise_inference(ref_adj, \n",
    "                                                                         timeseries_vec, \n",
    "                                                                         regression_deg,\n",
    "                                                                         phi_ratio,\n",
    "                                                                         lambda_prior_param,\n",
    "                                                                         n_samples, \n",
    "                                                                         burnin, \n",
    "                                                                         thinning, \n",
    "                                                                         lambda_r, \n",
    "                                                                         median_degs,\n",
    "                                                                         fixed_lambda,\n",
    "                                                                         false)"
   ]
  },
  {
   "cell_type": "code",
   "execution_count": 6,
   "metadata": {},
   "outputs": [
    {
     "data": {
      "image/png": "[encoded data removed]",
      "text/plain": [
       "Figure(PyObject <Figure size 640x480 with 1 Axes>)"
      ]
     },
     "metadata": {},
     "output_type": "display_data"
    }
   ],
   "source": [
    "hist(lambdas, bins=20)\n",
    "show()"
   ]
  },
  {
   "cell_type": "code",
   "execution_count": 10,
   "metadata": {},
   "outputs": [
    {
     "data": {
      "text/plain": [
       "20×20 Transpose{Float64,Array{Float64,2}}:\n",
       " 0.29  0.31  0.0   0.7   0.02  0.43  …  0.14  0.01  0.02  0.03  0.0   0.42\n",
       " 0.81  1.0   0.25  0.05  0.01  0.88     0.28  0.1   0.02  0.02  0.04  0.37\n",
       " 0.0   0.02  0.21  0.01  0.19  0.02     0.15  0.56  0.01  0.05  0.64  0.3 \n",
       " 0.0   0.03  0.0   0.35  0.02  0.06     0.03  0.02  0.0   0.04  0.21  0.06\n",
       " 0.11  0.2   0.27  0.02  0.96  0.23     0.01  0.77  0.22  0.2   0.21  0.0 \n",
       " 0.01  0.01  0.0   0.03  0.02  0.99  …  0.0   0.01  0.04  0.01  0.01  0.14\n",
       " 0.0   0.01  0.12  0.4   0.04  0.0      0.02  0.1   0.02  0.05  0.01  0.03\n",
       " 0.08  0.03  0.58  0.01  0.01  0.96     0.03  0.02  0.02  0.02  0.01  0.94\n",
       " 0.02  0.0   0.1   0.08  0.03  0.06     0.01  0.92  0.98  0.09  0.0   0.35\n",
       " 0.0   0.01  0.01  0.01  0.03  0.09     0.0   0.01  0.02  0.0   0.0   0.07\n",
       " 0.2   0.21  0.01  0.04  0.0   0.01  …  0.02  0.0   0.3   0.18  0.38  0.01\n",
       " 0.02  0.01  0.09  0.01  0.01  0.01     0.0   0.0   0.01  0.01  0.03  0.03\n",
       " 0.01  0.02  0.03  0.15  0.23  0.02     0.04  0.02  0.37  0.0   0.01  0.02\n",
       " 0.08  0.01  0.13  0.15  0.0   0.0      0.58  0.01  0.01  0.03  0.02  0.24\n",
       " 0.19  0.23  0.01  0.0   0.0   0.01     0.19  0.0   0.02  0.01  0.0   0.0 \n",
       " 0.82  0.8   0.42  0.03  0.05  0.01  …  0.25  0.31  0.0   0.0   0.02  0.0 \n",
       " 0.02  0.01  0.02  0.0   0.0   0.0      0.01  0.02  0.44  0.29  0.39  0.0 \n",
       " 0.02  0.0   0.0   0.11  0.01  0.07     0.01  0.04  0.28  1.0   0.93  0.01\n",
       " 0.0   0.02  0.0   0.04  0.05  0.03     0.07  0.05  0.17  0.16  0.21  0.0 \n",
       " 0.02  0.02  0.09  0.6   0.0   0.0      0.02  0.04  0.0   0.0   0.02  0.21"
      ]
     },
     "execution_count": 10,
     "metadata": {},
     "output_type": "execute_result"
    }
   ],
   "source": [
    "transpose(edge_posterior)"
   ]
  },
  {
   "cell_type": "code",
   "execution_count": 8,
   "metadata": {},
   "outputs": [
    {
     "data": {
      "text/plain": [
       "20×20 Array{Float64,2}:\n",
       " 0.11084      0.122596     0.0379205    …  0.178552     0.0571664 \n",
       " 0.950869     0.997652     0.174526        0.0104266    0.0449605 \n",
       " 0.00475166   0.00148091   0.0704487       0.147554     0.0489659 \n",
       " 0.00202306   0.00288393   0.00267562      0.0354861    0.00867835\n",
       " 0.0196006    0.0426981    0.37382         0.437884     0.00142491\n",
       " 0.00827803   0.00205783   0.000807644  …  0.000931571  0.0301194 \n",
       " 0.0493155    0.00467234   0.00351954      0.0112605    0.0049895 \n",
       " 0.0165201    0.00867707   0.268574        0.00103685   0.950199  \n",
       " 0.0046717    0.00573582   0.128029        0.000824887  0.0761773 \n",
       " 0.00333868   0.00139212   0.00388568      0.00624058   0.00295872\n",
       " 0.0224456    0.0333688    0.00113784   …  0.0199791    0.00190399\n",
       " 0.00156734   0.00933485   0.0998421       0.000937629  0.00211683\n",
       " 0.00133807   0.00440722   0.00897539      0.00408237   0.00513697\n",
       " 0.0259144    0.00207317   0.310454        0.00282329   0.0326157 \n",
       " 0.0305407    0.0161301    0.0181118       0.00461168   0.00149985\n",
       " 0.361399     0.312036     0.178504     …  0.0555959    0.00186809\n",
       " 0.00100016   0.000824591  0.00369617      0.0837859    0.00179197\n",
       " 0.00185049   0.00217922   0.0025202       0.645122     0.00155537\n",
       " 0.0012714    0.00239557   0.00231088      0.200128     0.0014878 \n",
       " 0.000970989  0.00306731   0.0823307       0.00301441   0.0312401 "
      ]
     },
     "execution_count": 8,
     "metadata": {},
     "output_type": "execute_result"
    }
   ],
   "source": [
    "hill_result = convert(Matrix{Float64}, CSV.read(\"data/edge_prob_matrix.csv\"))"
   ]
  },
  {
   "cell_type": "code",
   "execution_count": 11,
   "metadata": {},
   "outputs": [
    {
     "data": {
      "text/plain": [
       "20-element Array{Float64,1}:\n",
       " 0.04151771044803633  \n",
       " 0.02618837309200779  \n",
       " 0.06469924628671361  \n",
       " 0.006317747411607069 \n",
       " 0.994298928558952    \n",
       " 0.0022928764635395346\n",
       " 0.004484527186363329 \n",
       " 0.0014488303810443158\n",
       " 0.0018843036111529483\n",
       " 0.006152936519921729 \n",
       " 0.0012279665208409843\n",
       " 0.0010992287856416972\n",
       " 0.16707381579417158  \n",
       " 0.01963621878837054  \n",
       " 0.007468221996292591 \n",
       " 0.056445509091101326 \n",
       " 0.0038425029099626077\n",
       " 0.003169592984620425 \n",
       " 0.007622028367872339 \n",
       " 0.0053734216081560305"
      ]
     },
     "execution_count": 11,
     "metadata": {},
     "output_type": "execute_result"
    }
   ],
   "source": [
    "hill_result[:,5]"
   ]
  },
  {
   "cell_type": "code",
   "execution_count": null,
   "metadata": {},
   "outputs": [],
   "source": [
    "function phi_ratio_schedule(t::Float64)\n",
    "    return 1.0 / (1.0 + exp(-30.0*(t - 0.5)))\n",
    "end"
   ]
  },
  {
   "cell_type": "code",
   "execution_count": null,
   "metadata": {},
   "outputs": [],
   "source": [
    "t = collect(0.0:0.01:1.0)\n",
    "pr = [phi_ratio_schedule(t0) for t0 in t]\n",
    "plot(t, pr)\n",
    "show()"
   ]
  },
  {
   "cell_type": "code",
   "execution_count": null,
   "metadata": {},
   "outputs": [],
   "source": [
    "clear_caches()\n",
    "#Profile.clear()\n",
    "\n",
    "#@profile edge_posterior, ps_accs = dbn_edgeind_annealing_inference(ref_adj, \n",
    "edge_posterior, ps_accs = dbn_edgeind_annealing_inference(ref_adj,\n",
    "                                                          timeseries_vec, \n",
    "                                                          regression_deg,\n",
    "                                                          phi_ratio_schedule,\n",
    "                                                          fixed_lambda,\n",
    "                                                          n_samples,\n",
    "                                                          thinning,  \n",
    "                                                          median_degs)"
   ]
  },
  {
   "cell_type": "code",
   "execution_count": null,
   "metadata": {},
   "outputs": [],
   "source": [
    "transpose(edge_posterior)"
   ]
  },
  {
   "cell_type": "code",
   "execution_count": null,
   "metadata": {},
   "outputs": [],
   "source": [
    "hill_result"
   ]
  },
  {
   "cell_type": "code",
   "execution_count": null,
   "metadata": {},
   "outputs": [],
   "source": [
    "typeof(Gen.NoChange())"
   ]
  },
  {
   "cell_type": "code",
   "execution_count": null,
   "metadata": {},
   "outputs": [],
   "source": [
    "clear_caches()"
   ]
  },
  {
   "cell_type": "code",
   "execution_count": null,
   "metadata": {},
   "outputs": [],
   "source": [
    "ProfileView.view()"
   ]
  },
  {
   "cell_type": "code",
   "execution_count": null,
   "metadata": {},
   "outputs": [],
   "source": [
    "clear_caches()\n",
    "burnin = 20\n",
    "thinning = 20\n",
    "n_samples = 10\n",
    "Profile.clear()\n",
    "#@profile edge_posterior, edge_accs = dbn_edgeind_gibbs_inference(ref_adj, \n",
    "edge_posterior, edge_accs = dbn_edgeind_gibbs_inference(ref_adj,\n",
    "                                                        timeseries_vec, \n",
    "                                                        regression_deg,\n",
    "                                                        phi_ratio,\n",
    "                                                        fixed_lambda,\n",
    "                                                        n_samples,\n",
    "                                                        burnin,\n",
    "                                                        thinning)"
   ]
  },
  {
   "cell_type": "code",
   "execution_count": null,
   "metadata": {},
   "outputs": [],
   "source": [
    "edge_posterior"
   ]
  },
  {
   "cell_type": "code",
   "execution_count": null,
   "metadata": {},
   "outputs": [],
   "source": [
    "ProfileView.view()"
   ]
  },
  {
   "cell_type": "code",
   "execution_count": null,
   "metadata": {},
   "outputs": [],
   "source": [
    "[[3]; [true for i=1:10]]"
   ]
  },
  {
   "cell_type": "code",
   "execution_count": null,
   "metadata": {},
   "outputs": [],
   "source": [
    "sum([true for i=1:10])"
   ]
  },
  {
   "cell_type": "code",
   "execution_count": null,
   "metadata": {},
   "outputs": [],
   "source": [
    "using Pkg"
   ]
  },
  {
   "cell_type": "code",
   "execution_count": null,
   "metadata": {},
   "outputs": [],
   "source": [
    "Pkg.add(\"FunctionalCollections\")"
   ]
  },
  {
   "cell_type": "code",
   "execution_count": null,
   "metadata": {},
   "outputs": [],
   "source": [
    "using FunctionalCollections"
   ]
  },
  {
   "cell_type": "code",
   "execution_count": null,
   "metadata": {},
   "outputs": [],
   "source": [
    "v = PersistentVector{Float64}()"
   ]
  },
  {
   "cell_type": "code",
   "execution_count": null,
   "metadata": {},
   "outputs": [],
   "source": [
    "y = convert(Vector{Float64}, v)"
   ]
  },
  {
   "cell_type": "code",
   "execution_count": null,
   "metadata": {},
   "outputs": [],
   "source": [
    "v = PersistentVector{Float64}([1.0, 2.0, 3.0])"
   ]
  },
  {
   "cell_type": "code",
   "execution_count": null,
   "metadata": {},
   "outputs": [],
   "source": [
    "y = Vector{Float64}([x for x in v])"
   ]
  },
  {
   "cell_type": "code",
   "execution_count": null,
   "metadata": {},
   "outputs": [],
   "source": [
    "Bool(1)"
   ]
  },
  {
   "cell_type": "code",
   "execution_count": null,
   "metadata": {},
   "outputs": [],
   "source": [
    "timeseries_vec"
   ]
  },
  {
   "cell_type": "code",
   "execution_count": null,
   "metadata": {},
   "outputs": [],
   "source": [
    "t = convert(Matrix{Float64}, timesteps)\n",
    "t = t[1,:]"
   ]
  },
  {
   "cell_type": "code",
   "execution_count": null,
   "metadata": {},
   "outputs": [],
   "source": [
    "# for ts_array in timeseries_vec\n",
    "#     plot(t, ts_array)\n",
    "for ts_array in timeseries_vec\n",
    "    plot(t, ts_array, linewidth=0.5)\n",
    "end\n",
    "xlim(5,240)\n",
    "#yscale(\"log\")\n",
    "show()"
   ]
  },
  {
   "cell_type": "code",
   "execution_count": null,
   "metadata": {},
   "outputs": [],
   "source": []
  }
 ],
 "metadata": {
  "kernelspec": {
   "display_name": "Julia 1.2.0",
   "language": "julia",
   "name": "julia-1.2"
  },
  "language_info": {
   "file_extension": ".jl",
   "mimetype": "application/julia",
   "name": "julia",
   "version": "1.2.0"
  }
 },
 "nbformat": 4,
 "nbformat_minor": 2
}
