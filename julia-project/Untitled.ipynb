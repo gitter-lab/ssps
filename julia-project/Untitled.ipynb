{
 "cells": [
  {
   "cell_type": "code",
   "execution_count": 1,
   "metadata": {},
   "outputs": [
    {
     "name": "stderr",
     "output_type": "stream",
     "text": [
      "WARNING: using Distributions.Distribution in module Main conflicts with an existing identifier.\n",
      "WARNING: using Distributions.logpdf in module Main conflicts with an existing identifier.\n"
     ]
    },
    {
     "data": {
      "text/plain": [
       "vectorize_X (generic function with 1 method)"
      ]
     },
     "execution_count": 1,
     "metadata": {},
     "output_type": "execute_result"
    }
   ],
   "source": [
    "include(\"PSDiGraph.jl\")\n",
    "using .PSDiGraphs\n",
    "include(\"dbn_distributions.jl\")\n",
    "include(\"../simulation-study/data_simulation.jl\")\n",
    "include(\"dbn_preprocessing.jl\")"
   ]
  },
  {
   "cell_type": "code",
   "execution_count": 2,
   "metadata": {},
   "outputs": [],
   "source": [
    "ts_data_path = \"data/mukherjee_data.csv\"\n",
    "protein_names_path = \"data/protein_names.csv\"\n",
    "prior_adj = \"data/prior_graph.csv\"\n",
    "timesteps_path = \"data/time.csv\"\n",
    "ts_vec, proteins, parent_sets, timesteps = hill_2012_preprocess(ts_data_path, protein_names_path, prior_adj, timesteps_path);\n",
    "Xminus, Xplus = combine_X(ts_vec);"
   ]
  },
  {
   "cell_type": "code",
   "execution_count": 3,
   "metadata": {},
   "outputs": [
    {
     "data": {
      "text/plain": [
       "approx_acceptance_prob"
      ]
     },
     "execution_count": 3,
     "metadata": {},
     "output_type": "execute_result"
    }
   ],
   "source": [
    "function prior_prob(ps, lambda, ps_ref)\n",
    "    p = exp( -lambda * sum((ps .== true) .& (ps_ref .== false)) )\n",
    "    return p\n",
    "end\n",
    "\n",
    "\"\"\"\n",
    "DOES NOT INCORPORATE PROPOSAL PROBABILITIES.\n",
    "\"\"\"\n",
    "function approx_acceptance_prob(ind, ps_new, ps_old, lambda, ps_ref, X_plus, X_minus, regression_deg)\n",
    "    \n",
    "    println(\"P(X|G'):\")\n",
    "    ML_Gp = exp(log_marg_lik(ind, ps_new, Xminus, Xplus[:,ind], regression_deg, 1.0))\n",
    "    p_Gp = prior_prob(ps_new, lambda, ps_ref)\n",
    "    println(\"P(G')\\t\", p_Gp)\n",
    "    \n",
    "    println(\"P(X|G):\")\n",
    "    ML_G = exp(log_marg_lik(ind, ps_old, Xminus, Xplus[:,ind], regression_deg, 1.0))\n",
    "    p_G = prior_prob(ps_old, lambda, ps_ref)\n",
    "    println(\"P(G)\\t\", p_G)\n",
    "    \n",
    "    println(\"\\nPROB RATIO:\\t\", p_Gp*ML_Gp / (p_G * ML_G))\n",
    "end"
   ]
  },
  {
   "cell_type": "code",
   "execution_count": 4,
   "metadata": {},
   "outputs": [
    {
     "data": {
      "text/plain": [
       "20-element Array{Array{Bool,1},1}:\n",
       " [1, 1, 0, 0, 1, 0, 0, 0, 0, 0, 1, 0, 0, 0, 1, 1, 0, 0, 0, 0]\n",
       " [1, 1, 0, 0, 1, 0, 0, 0, 0, 0, 1, 0, 0, 0, 1, 1, 0, 0, 0, 0]\n",
       " [0, 0, 1, 0, 0, 0, 0, 1, 0, 0, 0, 0, 0, 0, 0, 0, 0, 0, 0, 0]\n",
       " [0, 0, 0, 1, 0, 0, 1, 0, 0, 0, 0, 0, 0, 0, 0, 0, 0, 0, 0, 0]\n",
       " [0, 0, 0, 0, 1, 0, 0, 0, 0, 0, 0, 0, 1, 0, 0, 0, 0, 0, 0, 0]\n",
       " [1, 1, 0, 0, 0, 1, 0, 0, 0, 0, 0, 0, 0, 0, 0, 0, 0, 0, 0, 0]\n",
       " [0, 0, 0, 0, 1, 0, 1, 0, 0, 0, 0, 0, 0, 0, 0, 0, 0, 0, 0, 0]\n",
       " [0, 0, 0, 0, 1, 0, 0, 1, 0, 0, 0, 0, 0, 0, 0, 0, 0, 0, 0, 0]\n",
       " [0, 0, 0, 0, 0, 0, 0, 0, 1, 1, 0, 0, 0, 0, 0, 0, 0, 0, 0, 0]\n",
       " [0, 0, 0, 0, 1, 0, 0, 0, 0, 1, 0, 0, 0, 0, 0, 0, 0, 0, 0, 0]\n",
       " [1, 1, 1, 0, 0, 0, 0, 0, 0, 0, 1, 0, 0, 0, 0, 1, 0, 0, 0, 1]\n",
       " [0, 0, 0, 0, 1, 0, 0, 0, 0, 0, 0, 1, 0, 0, 0, 0, 0, 0, 0, 0]\n",
       " [1, 1, 0, 0, 1, 0, 0, 0, 1, 0, 1, 0, 1, 0, 1, 0, 0, 0, 0, 1]\n",
       " [0, 0, 0, 0, 0, 0, 0, 0, 1, 0, 0, 0, 0, 1, 1, 0, 0, 0, 0, 0]\n",
       " [0, 0, 0, 0, 0, 0, 0, 0, 0, 0, 0, 0, 0, 0, 1, 1, 0, 0, 0, 0]\n",
       " [0, 0, 0, 0, 1, 0, 0, 0, 0, 0, 0, 0, 0, 0, 0, 1, 0, 0, 0, 0]\n",
       " [0, 0, 0, 0, 1, 0, 0, 0, 0, 0, 1, 0, 0, 0, 0, 0, 1, 1, 1, 0]\n",
       " [0, 0, 0, 0, 1, 0, 0, 0, 0, 0, 1, 0, 0, 0, 0, 0, 1, 1, 1, 0]\n",
       " [0, 0, 0, 0, 1, 0, 0, 0, 0, 0, 1, 0, 0, 0, 0, 0, 1, 1, 1, 0]\n",
       " [1, 1, 1, 0, 0, 1, 0, 0, 1, 0, 0, 0, 0, 1, 0, 0, 0, 0, 0, 1]"
      ]
     },
     "execution_count": 4,
     "metadata": {},
     "output_type": "execute_result"
    }
   ],
   "source": [
    "parent_sets"
   ]
  },
  {
   "cell_type": "code",
   "execution_count": 28,
   "metadata": {},
   "outputs": [
    {
     "name": "stdout",
     "output_type": "stream",
     "text": [
      "Bool[0, 0, 0, 0, 0, 0, 0, 0, 0, 0, 0, 0, 0, 0, 0, 0, 0, 0, 0, 0]\n",
      "Bool[0, 0, 0, 0, 0, 0, 0, 0, 0, 0, 0, 0, 0, 0, 1, 0, 0, 0, 0, 0]\n",
      "P(X|G'):\n",
      "\tMarg. Like. PART 1:\t0.18569533817705186\n",
      "\t\t29.0\t^\t-0.5\n",
      "\tMarg. Like. PART 2:\t7.994120140933893e-16\n",
      "\t\t11.977702542938458\t^\t-14.0\n",
      "\tMarg. Like. TOTAL:\t1.4844708429987003e-16\n",
      "P(G')\t1.0\n",
      "P(X|G):\n",
      "\tMarg. Like. PART 1:\t1.0\n",
      "\t\t29.0\t^\t-0.0\n",
      "\tMarg. Like. PART 2:\t9.139181488855439e-21\n",
      "\t\t27.00000000000001\t^\t-14.0\n",
      "\tMarg. Like. TOTAL:\t9.139181488855439e-21\n",
      "P(G)\t1.0\n",
      "\n",
      "PROB RATIO:\t16242.929903612305\n"
     ]
    }
   ],
   "source": [
    "clear_caches()\n",
    "ind = 1\n",
    "#ps_old = copy(parent_sets[ind])\n",
    "ps_old = [false for i=1:length(parent_sets[ind])]\n",
    "#ps_old[ind] = true\n",
    "println(ps_old)\n",
    "\n",
    "ps_new = copy(ps_old)\n",
    "ps_new[15] = true\n",
    "# ps_new[5] = false\n",
    "println(ps_new)\n",
    "\n",
    "lambda = 3.0\n",
    "ps_ref = parent_sets[ind]\n",
    "\n",
    "regression_deg = 4\n",
    "\n",
    "approx_acceptance_prob(ind, ps_new, ps_old, lambda, ps_ref, Xplus, Xminus, regression_deg)"
   ]
  },
  {
   "cell_type": "code",
   "execution_count": null,
   "metadata": {},
   "outputs": [],
   "source": [
    "using LinearAlgebra"
   ]
  },
  {
   "cell_type": "code",
   "execution_count": null,
   "metadata": {},
   "outputs": [],
   "source": [
    "(dot(Xplus[:,3], Xplus[:,3])*(1.0 - 28.0/29.0))^(-14)"
   ]
  },
  {
   "cell_type": "code",
   "execution_count": 53,
   "metadata": {},
   "outputs": [
    {
     "data": {
      "text/plain": [
       "generate_boolvec (generic function with 1 method)"
      ]
     },
     "execution_count": 53,
     "metadata": {},
     "output_type": "execute_result"
    }
   ],
   "source": [
    "function boolvec_to_ints_1(boolvec::Vector{Bool})\n",
    "    return [i for (i,b) in enumerate(boolvec) if b] \n",
    "end\n",
    "            \n",
    "function boolvec_to_ints_2(boolvec::Vector{Bool})            \n",
    "    return findall(identity, boolvec)\n",
    "end\n",
    "            \n",
    "function generate_boolvec(N::Int64)\n",
    "    return rand([true,false], N)            \n",
    "end         "
   ]
  },
  {
   "cell_type": "code",
   "execution_count": 54,
   "metadata": {},
   "outputs": [
    {
     "data": {
      "text/plain": [
       "timeit (generic function with 1 method)"
      ]
     },
     "execution_count": 54,
     "metadata": {},
     "output_type": "execute_result"
    }
   ],
   "source": [
    "function timeit(fn::Function, args::Tuple, repetitions::Int64)\n",
    "    st1 = time()\n",
    "    for i=1:repetitions\n",
    "        fn(generate_boolvec(args...))\n",
    "    end\n",
    "    end1 = time()\n",
    "    t1 = end1 - st1\n",
    "    return t1\n",
    "end"
   ]
  },
  {
   "cell_type": "code",
   "execution_count": 111,
   "metadata": {},
   "outputs": [
    {
     "data": {
      "text/plain": [
       "0.14391779899597168"
      ]
     },
     "execution_count": 111,
     "metadata": {},
     "output_type": "execute_result"
    }
   ],
   "source": [
    "timeit(boolvec_to_ints_1, (1000,), 10000)"
   ]
  },
  {
   "cell_type": "code",
   "execution_count": 112,
   "metadata": {},
   "outputs": [
    {
     "data": {
      "text/plain": [
       "0.13225984573364258"
      ]
     },
     "execution_count": 112,
     "metadata": {},
     "output_type": "execute_result"
    }
   ],
   "source": [
    "timeit(boolvec_to_ints_2, (1000,), 10000)"
   ]
  },
  {
   "cell_type": "code",
   "execution_count": 51,
   "metadata": {},
   "outputs": [
    {
     "data": {
      "text/plain": [
       "10-element Array{Bool,1}:\n",
       " 1\n",
       " 1\n",
       " 1\n",
       " 0\n",
       " 0\n",
       " 1\n",
       " 0\n",
       " 0\n",
       " 1\n",
       " 1"
      ]
     },
     "execution_count": 51,
     "metadata": {},
     "output_type": "execute_result"
    }
   ],
   "source": [
    "rand([true,false], 10)"
   ]
  },
  {
   "cell_type": "code",
   "execution_count": 113,
   "metadata": {},
   "outputs": [],
   "source": [
    "using Gen"
   ]
  },
  {
   "cell_type": "code",
   "execution_count": 115,
   "metadata": {},
   "outputs": [
    {
     "data": {
      "text/plain": [
       "3:2"
      ]
     },
     "execution_count": 115,
     "metadata": {},
     "output_type": "execute_result"
    }
   ],
   "source": [
    "res = searchsorted([1,2,3,4,5], 2.5)"
   ]
  },
  {
   "cell_type": "code",
   "execution_count": 118,
   "metadata": {},
   "outputs": [
    {
     "data": {
      "text/plain": [
       "UnitRange{Int64}"
      ]
     },
     "execution_count": 118,
     "metadata": {},
     "output_type": "execute_result"
    }
   ],
   "source": [
    "typeof(res)"
   ]
  },
  {
   "cell_type": "code",
   "execution_count": 131,
   "metadata": {},
   "outputs": [
    {
     "data": {
      "text/plain": [
       "ith_nonparent (generic function with 1 method)"
      ]
     },
     "execution_count": 131,
     "metadata": {},
     "output_type": "execute_result"
    }
   ],
   "source": [
    "function ith_nonparent(i, parents::Vector{Int64})\n",
    "    p = 1\n",
    "    while parents[p] - p < i\n",
    "        p += 1\n",
    "    end\n",
    "    return i + p - 1\n",
    "end"
   ]
  },
  {
   "cell_type": "code",
   "execution_count": 133,
   "metadata": {},
   "outputs": [
    {
     "data": {
      "text/plain": [
       "11"
      ]
     },
     "execution_count": 133,
     "metadata": {},
     "output_type": "execute_result"
    }
   ],
   "source": [
    "ith_nonparent(8,[7,8,10,20])"
   ]
  },
  {
   "cell_type": "code",
   "execution_count": null,
   "metadata": {},
   "outputs": [],
   "source": []
  }
 ],
 "metadata": {
  "kernelspec": {
   "display_name": "Julia 1.2.0",
   "language": "julia",
   "name": "julia-1.2"
  },
  "language_info": {
   "file_extension": ".jl",
   "mimetype": "application/julia",
   "name": "julia",
   "version": "1.2.0"
  }
 },
 "nbformat": 4,
 "nbformat_minor": 2
}
