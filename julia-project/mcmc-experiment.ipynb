{
 "cells": [
  {
   "cell_type": "code",
   "execution_count": 1,
   "metadata": {},
   "outputs": [],
   "source": [
    "using Gen"
   ]
  },
  {
   "cell_type": "markdown",
   "metadata": {},
   "source": [
    "# Involution MCMC in Gen"
   ]
  },
  {
   "cell_type": "markdown",
   "metadata": {},
   "source": [
    "We'll use Gen's involution-based MCMC to sample from a simple, discrete distribution: the geometric distribution."
   ]
  },
  {
   "cell_type": "code",
   "execution_count": 3,
   "metadata": {},
   "outputs": [
    {
     "data": {
      "text/plain": [
       "DynamicDSLFunction{Any}(Dict{Symbol,Any}(), Dict{Symbol,Any}(), Type[], ##simple_model#371, Bool[], false)"
      ]
     },
     "execution_count": 3,
     "metadata": {},
     "output_type": "execute_result"
    }
   ],
   "source": [
    "@gen function simple_model()\n",
    "    x = @trace(geometric(0.05), :x)\n",
    "    return x\n",
    "end"
   ]
  },
  {
   "cell_type": "markdown",
   "metadata": {},
   "source": [
    "## Inference: Metropolis-Hastings"
   ]
  },
  {
   "cell_type": "markdown",
   "metadata": {},
   "source": [
    "Define a proposal distribution. For illustrative purposes, we implement a proposal that makes random choices **not appearing in the model itself.**\n",
    "\n",
    "This situation occurs frequently when we have distributions over complicated objects. For example, if we were dealing with distributions over directed graphs, then our proposal distribution might choose random edge deletions/additions/reversals -- whereas the model itself never makes such choices.\n",
    "\n",
    "It's silly to use involutions in our geometric distribution example, but we'll use the insights we gain here in order to tackle a more challenging task (i.e., directed graphs)."
   ]
  },
  {
   "cell_type": "code",
   "execution_count": 6,
   "metadata": {},
   "outputs": [
    {
     "data": {
      "text/plain": [
       "DynamicDSLFunction{Any}(Dict{Symbol,Any}(), Dict{Symbol,Any}(), Type[Any], ##random_walk_proposal#373, Bool[0], false)"
      ]
     },
     "execution_count": 6,
     "metadata": {},
     "output_type": "execute_result"
    }
   ],
   "source": [
    "@gen function random_walk_proposal(cur_tr)\n",
    "    # do we take a step at all?\n",
    "    a = @trace(uniform_discrete(0, 1), :a)\n",
    "    # do we go left or right?\n",
    "    x = @trace(uniform_discrete(-1*a, a), :x)\n",
    "    return x\n",
    "end"
   ]
  },
  {
   "cell_type": "markdown",
   "metadata": {},
   "source": [
    "In this proposal distribution, `a` is a random choice. But there is no corresponding choice made in our model, `simple_model`.\n",
    "\n",
    "What happens if we naively plug this proposal into Gen's Metropolis-Hastings function?"
   ]
  },
  {
   "cell_type": "code",
   "execution_count": 5,
   "metadata": {},
   "outputs": [
    {
     "name": "stdout",
     "output_type": "stream",
     "text": [
      "│\n",
      "└── :x : 8\n",
      "\n"
     ]
    }
   ],
   "source": [
    "# generate a trace\n",
    "tr, _ = Gen.generate(simple_model, ())\n",
    "println(get_choices(tr))"
   ]
  },
  {
   "cell_type": "code",
   "execution_count": 7,
   "metadata": {},
   "outputs": [
    {
     "ename": "ErrorException",
     "evalue": "Did not visit all constraints",
     "output_type": "error",
     "traceback": [
      "Did not visit all constraints",
      "",
      "Stacktrace:",
      " [1] error(::String) at ./error.jl:33",
      " [2] update(::Gen.DynamicDSLTrace{DynamicDSLFunction{Any}}, ::Tuple{}, ::Tuple{}, ::DynamicChoiceMap) at /home/dmerrell/.julia/packages/Gen/muewn/src/dynamic/update.jl:192",
      " [3] metropolis_hastings(::Gen.DynamicDSLTrace{DynamicDSLFunction{Any}}, ::DynamicDSLFunction{Any}, ::Tuple{}) at /home/dmerrell/.julia/packages/Gen/muewn/src/inference/mh.jl:33",
      " [4] top-level scope at In[7]:1"
     ]
    }
   ],
   "source": [
    "# call metropolis hastings with our trace and the random walk proposal\n",
    "Gen.metropolis_hastings(tr, random_walk_proposal, ())"
   ]
  },
  {
   "cell_type": "markdown",
   "metadata": {},
   "source": [
    "A straightforward application of Gen's three-argument `metropolis_hastings` fails!\n",
    "\n",
    "`Did not visit all constraints`\n",
    "\n",
    "What's going on here? What did we do wrong?\n",
    "\n",
    "## The Problem\n",
    "\n",
    "The stack trace tells us that the problem occurs when `metropolis_hastings` makes a call to `update`. \n",
    "\n",
    "More precisely, the problem is that `metropolis_hastings` tries to update the model's trace with *all of the random choices* made by the proposal.\n",
    "\n",
    "So the issue is this simple-minded invocation of `update`.\n",
    "\n",
    "## The Solution\n",
    "\n",
    "Gen extends `metropolis_hastings` to allow a fourth `involution` argument. This extended version addresses our problem.\n",
    "\n",
    "Concretely, it should allow us to use the `random_walk_proposal` we've defined. As long as we're able to define the involution correctly, that is.\n",
    "\n",
    "## The Involution Function\n",
    "\n",
    "The following mapping describes the core logic of the involution:\n",
    "\n",
    "$$ (\\text{current trace, proposed random choices})  \\ \\rightarrow  \\ (\\text{proposed trace, backward random choices})$$\n",
    "\n",
    "That is, the involution must\n",
    "1. receive the current trace, and a set of random choices for updating that trace;\n",
    "2. return the updated trace that results from those updates; and the set of random choices which *would reset the proposed trace **back** to the current trace*.\n",
    "\n",
    "This function is called an involution because, mathematically, an involution is a *bijection which, applied twice, is the identity.*\n",
    "\n",
    "The above mapping is in fact an involution -- if we applied it twice, we would end up with the (current trace, proposed random choices) just as before.\n",
    "\n",
    "This involution appears in Metropolis-Hastings as part of the calculation of acceptance probabilities:\n",
    "\n",
    "$$\\alpha = \\text{min} \\left(1, \\frac{q(x|x^\\prime)}{q(x^\\prime | x)} \\cdot \\frac{P(x^\\prime)}{P(x)} \\right) $$\n",
    "\n",
    "More precisely: it contains sufficient information to compute the ratio $q(x | x^\\prime) / q(x^\\prime | x)$.\n",
    "\n",
    "## Implementing an involution"
   ]
  },
  {
   "cell_type": "code",
   "execution_count": null,
   "metadata": {},
   "outputs": [],
   "source": [
    "new_choices_mod = Gen.choicemap()\n",
    "new_choices_mod[:z] = new_choices[:z]"
   ]
  },
  {
   "cell_type": "code",
   "execution_count": null,
   "metadata": {},
   "outputs": [],
   "source": [
    "new_tr, _, _, _ = Gen.update(tr, (0.0, 1.0), (), new_choices_mod)\n",
    "#Gen.assess(dpmg_proposal, () )"
   ]
  },
  {
   "cell_type": "code",
   "execution_count": null,
   "metadata": {},
   "outputs": [],
   "source": [
    "function dumb_involution(trace, fwd_choices, fwd_retval, proposal_args)\n",
    "    \n",
    "    subchoice = Gen.choicemap()\n",
    "    subchoice[:z] = fwd_choices[:z]\n",
    "    \n",
    "    new_tr, weight, _, discard = Gen.update(trace, get_args(trace), (), subchoice)\n",
    "    \n",
    "    fwd_a = fwd_choices[:a]\n",
    "    bwd_choices\n",
    "    \n",
    "    return new_tr, bwd_choices, weight\n",
    "end\n",
    "#cm = Gen.choicemap()\n",
    "#cm[:z] = new_tr[:z]\n",
    "#cm[:a] = new_tr[:a]\n",
    "#w, r = Gen.assess(dpmg_proposal, (tr,), cm)"
   ]
  },
  {
   "cell_type": "code",
   "execution_count": null,
   "metadata": {},
   "outputs": [],
   "source": [
    "Gen.assess(dpmg_proposal, (new_tr,), new_choices_mod)"
   ]
  },
  {
   "cell_type": "code",
   "execution_count": null,
   "metadata": {},
   "outputs": [],
   "source": [
    "println(get_choices(new_tr))"
   ]
  },
  {
   "cell_type": "code",
   "execution_count": null,
   "metadata": {},
   "outputs": [],
   "source": [
    "print(log.([0.25; 0.5; 0.75]))"
   ]
  },
  {
   "cell_type": "markdown",
   "metadata": {},
   "source": [
    "# Github issue writeup:\n",
    "\n",
    "Suppose you have a distribution over complicated objects -- e.g., directed graphs.\n",
    "* You know the distribution's (unnormalized) density. E.g., for directed graphs we might have\n",
    "    - ![image](https://user-images.githubusercontent.com/14325161/67121705-c0f07400-f1b1-11e9-9a1c-29815e71deaf.png)\n",
    "* You **don't** have a generative description of the distribution. E.g., I can't think of a probabilistic program that explicitly generates samples from ![image](https://user-images.githubusercontent.com/14325161/67121746-db2a5200-f1b1-11e9-82f8-ee87fff2af86.png)\n",
    "* You want to use this \"difficult\" distribution as a prior in your `Gen` model.\n",
    "\n",
    "One way to accomplish this:\n",
    "1. Define a `Distribution` type corresponding to  ![image](https://user-images.githubusercontent.com/14325161/67121746-db2a5200-f1b1-11e9-82f8-ee87fff2af86.png). Its `random` function would simply yield a reasonable initial value, in lieu of an actual random sample.\n",
    "2. Use MCMC with a suitable proposal distribution (e.g., one which steps through the space of directed graphs via edge addition/deletion/reversal).\n",
    "\n",
    "That is: the initial call to `generate` would populate the address `:G` with a reasonable initial graph. And the subsequent Metropolis Hastings updates -- informed by a suitable proposal -- would yield samples from the target distribution (conditioned on whatever observations have been made of other variables).\n",
    "\n",
    "When I do this, I run into the following issue:\n",
    "* My proposal distribution is a `@gen function` which makes several random choices -- one of which is the updated `:G`. The other random choices are specific to the proposal distribution, and play no role in the actual model. For example, my proposal\n",
    "    - chooses a vertex at random: `:v`\n",
    "    - decides whether or not to add an edge: `:add_edge`\n",
    "    - if we choose to add an edge, then choose a non-neighbor at random: `:u`\n",
    "    - etc.\n",
    "* These random choices  "
   ]
  },
  {
   "cell_type": "code",
   "execution_count": null,
   "metadata": {},
   "outputs": [],
   "source": []
  }
 ],
 "metadata": {
  "anaconda-cloud": {},
  "kernelspec": {
   "display_name": "Julia 1.2.0",
   "language": "julia",
   "name": "julia-1.2"
  },
  "language_info": {
   "file_extension": ".jl",
   "mimetype": "application/julia",
   "name": "julia",
   "version": "1.2.0"
  }
 },
 "nbformat": 4,
 "nbformat_minor": 1
}
