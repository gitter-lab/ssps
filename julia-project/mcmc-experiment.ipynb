{
 "cells": [
  {
   "cell_type": "code",
   "execution_count": 1,
   "metadata": {},
   "outputs": [],
   "source": [
    "using Gen"
   ]
  },
  {
   "cell_type": "markdown",
   "metadata": {},
   "source": [
    "# An even dumber example: a Gaussian model"
   ]
  },
  {
   "cell_type": "markdown",
   "metadata": {},
   "source": [
    "An improper distribution -- i.e., it's not correctly normalized. We'll see if we can sample from it anyway."
   ]
  },
  {
   "cell_type": "code",
   "execution_count": 2,
   "metadata": {},
   "outputs": [
    {
     "data": {
      "text/plain": [
       "DPMGaussian()"
      ]
     },
     "execution_count": 2,
     "metadata": {},
     "output_type": "execute_result"
    }
   ],
   "source": [
    "struct DPMGaussian <: Gen.Distribution{Float64} end\n",
    "const dpmgaussian = DPMGaussian()\n",
    "\n",
    "Gen.random(dpmgaussian, mu, sigma) = mu\n",
    "Gen.logpdf(dpmgaussian, x, mu, sigma) = -0.5*(x - mu)^2 / (sigma^2) - 0.5*log(2 * pi * sigma^2)\n",
    "\n",
    "dpmgaussian(mu, sigma) = Gen.random(dpmgaussian, mu, sigma)"
   ]
  },
  {
   "cell_type": "code",
   "execution_count": 10,
   "metadata": {},
   "outputs": [
    {
     "data": {
      "text/plain": [
       "Unspecified()"
      ]
     },
     "execution_count": 10,
     "metadata": {},
     "output_type": "execute_result"
    }
   ],
   "source": [
    "struct Unspecified <: Gen.Distribution{Float64} end\n",
    "const unspecified = Unspecified()\n",
    "\n",
    "Gen.random(unspecified, default) = default\n",
    "Gen.logpdf(unspecified, x, default) = 0.0\n",
    "\n",
    "unspecified(default) = Gen.random(unspecified, default)"
   ]
  },
  {
   "cell_type": "markdown",
   "metadata": {},
   "source": [
    "## Write a probabilistic program"
   ]
  },
  {
   "cell_type": "code",
   "execution_count": 32,
   "metadata": {},
   "outputs": [
    {
     "data": {
      "text/plain": [
       "DynamicDSLFunction{Any}(Dict{Symbol,Any}(), Dict{Symbol,Any}(), Type[Float64, Float64], ##dpm_gaussian#376, Bool[0, 0], false)"
      ]
     },
     "execution_count": 32,
     "metadata": {},
     "output_type": "execute_result"
    }
   ],
   "source": [
    "@gen function dpm_gaussian(mu::Float64, sigma::Float64)\n",
    "    \n",
    "    #a = @trace(unspecified(0.0), :a)\n",
    "    \n",
    "    z = @trace(dpmgaussian(mu, sigma), :z)\n",
    "    return z\n",
    "end"
   ]
  },
  {
   "cell_type": "markdown",
   "metadata": {},
   "source": [
    "## Inference: Metropolis-Hastings sampling"
   ]
  },
  {
   "cell_type": "markdown",
   "metadata": {},
   "source": [
    "Define a proposal distribution"
   ]
  },
  {
   "cell_type": "code",
   "execution_count": 33,
   "metadata": {},
   "outputs": [
    {
     "data": {
      "text/plain": [
       "DynamicDSLFunction{Any}(Dict{Symbol,Any}(), Dict{Symbol,Any}(), Type[Any], ##dpmg_proposal#377, Bool[0], false)"
      ]
     },
     "execution_count": 33,
     "metadata": {},
     "output_type": "execute_result"
    }
   ],
   "source": [
    "@gen function dpmg_proposal(cur_tr)\n",
    "    a = 0.5*@trace(uniform_discrete(0,1), :a)\n",
    "    z = @trace(bernoulli(a), :z)\n",
    "    return z\n",
    "end"
   ]
  },
  {
   "cell_type": "code",
   "execution_count": 35,
   "metadata": {},
   "outputs": [
    {
     "data": {
      "text/plain": [
       "(Gen.DynamicDSLTrace{DynamicDSLFunction{Any}}(DynamicDSLFunction{Any}(Dict{Symbol,Any}(), Dict{Symbol,Any}(), Type[Float64, Float64], ##dpm_gaussian#376, Bool[0, 0], false), Trie{Any,Gen.ChoiceOrCallRecord}(Dict{Any,Gen.ChoiceOrCallRecord}(:z => Gen.ChoiceOrCallRecord{Float64}(0.0, -0.9189385332046727, NaN, true)), Dict{Any,Trie{Any,Gen.ChoiceOrCallRecord}}()), false, -0.9189385332046727, 0.0, (0.0, 1.0), 0.0), 0.0)"
      ]
     },
     "execution_count": 35,
     "metadata": {},
     "output_type": "execute_result"
    }
   ],
   "source": [
    "tr, _ = Gen.generate(dpm_gaussian, (0.0, 1.0))\n",
    "#println(\"a = \", tr[:a], \";\\tz = \", tr[:z])"
   ]
  },
  {
   "cell_type": "code",
   "execution_count": 36,
   "metadata": {},
   "outputs": [
    {
     "data": {
      "text/plain": [
       "(DynamicChoiceMap(Dict{Any,Any}(:a => 0,:z => false), Dict{Any,Any}()), -0.6931471805599453, false)"
      ]
     },
     "execution_count": 36,
     "metadata": {},
     "output_type": "execute_result"
    }
   ],
   "source": [
    "new_tr, fing1, fing2 = Gen.propose(dpmg_proposal, (tr,))\n",
    "#println(\"a = \", new_tr[:a], \";\\tz = \", new_tr[:z])"
   ]
  },
  {
   "cell_type": "code",
   "execution_count": 29,
   "metadata": {},
   "outputs": [
    {
     "ename": "KeyError",
     "evalue": "KeyError: key :a not found",
     "output_type": "error",
     "traceback": [
      "KeyError: key :a not found",
      "",
      "Stacktrace:",
      " [1] getindex at ./dict.jl:477 [inlined]",
      " [2] get_value(::DynamicChoiceMap, ::Symbol) at /home/dmerrell/.julia/packages/Gen/muewn/src/choice_map.jl:655",
      " [3] traceat(::Gen.GFAssessState, ::Gen.UniformDiscrete, ::Tuple{Int64,Int64}, ::Symbol) at /home/dmerrell/.julia/packages/Gen/muewn/src/dynamic/assess.jl:20",
      " [4] ##dpmg_proposal#375(::Gen.GFAssessState, ::Gen.DynamicDSLTrace{DynamicDSLFunction{Any}}) at ./In[13]:2",
      " [5] exec(::DynamicDSLFunction{Any}, ::Gen.GFAssessState, ::Tuple{Gen.DynamicDSLTrace{DynamicDSLFunction{Any}}}) at /home/dmerrell/.julia/packages/Gen/muewn/src/dynamic/dynamic.jl:39",
      " [6] assess(::DynamicDSLFunction{Any}, ::Tuple{Gen.DynamicDSLTrace{DynamicDSLFunction{Any}}}, ::DynamicChoiceMap) at /home/dmerrell/.julia/packages/Gen/muewn/src/dynamic/assess.jl:57",
      " [7] top-level scope at In[29]:3"
     ]
    }
   ],
   "source": [
    "cm = Gen.choicemap()\n",
    "cm[:z] = new_tr[:z]\n",
    "#cm[:a] = new_tr[:a]\n",
    "w, r = Gen.assess(dpmg_proposal, (tr,), cm)"
   ]
  },
  {
   "cell_type": "code",
   "execution_count": 28,
   "metadata": {},
   "outputs": [
    {
     "name": "stdout",
     "output_type": "stream",
     "text": [
      "[-1.3862943611198906, -0.6931471805599453, -0.2876820724517809]"
     ]
    }
   ],
   "source": [
    "print(log.([0.25; 0.5; 0.75]))"
   ]
  },
  {
   "cell_type": "code",
   "execution_count": null,
   "metadata": {},
   "outputs": [],
   "source": []
  }
 ],
 "metadata": {
  "anaconda-cloud": {},
  "kernelspec": {
   "display_name": "Julia 1.2.0",
   "language": "julia",
   "name": "julia-1.2"
  },
  "language_info": {
   "file_extension": ".jl",
   "mimetype": "application/julia",
   "name": "julia",
   "version": "1.2.0"
  }
 },
 "nbformat": 4,
 "nbformat_minor": 1
}
