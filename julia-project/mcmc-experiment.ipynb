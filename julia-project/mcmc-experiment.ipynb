{
 "cells": [
  {
   "cell_type": "code",
   "execution_count": 1,
   "metadata": {
    "collapsed": false
   },
   "outputs": [],
   "source": [
    "using Gen"
   ]
  },
  {
   "cell_type": "markdown",
   "metadata": {},
   "source": [
    "# A binomial model: sum of Bernoullis"
   ]
  },
  {
   "cell_type": "code",
   "execution_count": 2,
   "metadata": {
    "collapsed": false
   },
   "outputs": [
    {
     "data": {
      "text/plain": [
       "DiracDelta()"
      ]
     },
     "execution_count": 2,
     "metadata": {},
     "output_type": "execute_result"
    }
   ],
   "source": [
    "struct DiracDelta <: Gen.Distribution{Float64} end\n",
    "const diracdelta = DiracDelta()\n",
    "\n",
    "Gen.logpdf(diracdelta, x, u) = (x == u) ? 0.0 : -Inf\n",
    "Gen.random(diracdelta, u) = u\n",
    "diracdelta(u) = Gen.random(diracdelta, u)"
   ]
  },
  {
   "cell_type": "code",
   "execution_count": 3,
   "metadata": {
    "collapsed": false
   },
   "outputs": [
    {
     "data": {
      "text/plain": [
       "DynamicDSLFunction{Any}(Dict{Symbol,Any}(), Dict{Symbol,Any}(), Type[Int64, Float64], ##bin_sim#371, Bool[0, 0], false)"
      ]
     },
     "execution_count": 3,
     "metadata": {},
     "output_type": "execute_result"
    }
   ],
   "source": [
    "@gen function bin_sim(N::Int64, p::Float64)\n",
    "    x = zeros(N,1)\n",
    "    for i=1:N\n",
    "        x[i] = @trace(bernoulli(p), :x => i)\n",
    "    end\n",
    "    \n",
    "    return sum(x)\n",
    "end"
   ]
  },
  {
   "cell_type": "code",
   "execution_count": 12,
   "metadata": {
    "collapsed": false
   },
   "outputs": [
    {
     "data": {
      "text/plain": [
       "DynamicDSLFunction{Any}(Dict{Symbol,Any}(), Dict{Symbol,Any}(), Type[Int64], ##data_generator#374, Bool[0], false)"
      ]
     },
     "execution_count": 12,
     "metadata": {},
     "output_type": "execute_result"
    }
   ],
   "source": [
    "@gen function data_generator(M::Int64)\n",
    "    \n",
    "    N = @trace(geometric(0.025), :N)\n",
    "    p = @trace(beta(5,5), :p)\n",
    "    \n",
    "    ys = zeros(M,1)\n",
    "    \n",
    "    for i=1:M\n",
    "        ys[i] = @trace( diracdelta(bin_sim(N,p)), :y => i )\n",
    "    end\n",
    "    \n",
    "    return ys\n",
    "end     "
   ]
  },
  {
   "cell_type": "code",
   "execution_count": 13,
   "metadata": {
    "collapsed": false
   },
   "outputs": [],
   "source": [
    "tr = simulate(data_generator, (10,));"
   ]
  },
  {
   "cell_type": "code",
   "execution_count": 14,
   "metadata": {
    "collapsed": false
   },
   "outputs": [
    {
     "name": "stdout",
     "output_type": "stream",
     "text": [
      "76\n",
      "0.2645568164780811\n"
     ]
    },
    {
     "data": {
      "text/plain": [
       "10-element Array{Float64,1}:\n",
       " 17.0\n",
       " 19.0\n",
       " 21.0\n",
       " 19.0\n",
       " 19.0\n",
       " 22.0\n",
       " 21.0\n",
       " 21.0\n",
       " 22.0\n",
       " 22.0"
      ]
     },
     "execution_count": 14,
     "metadata": {},
     "output_type": "execute_result"
    }
   ],
   "source": [
    "println(tr[:N])\n",
    "println(tr[:p])\n",
    "ys = [tr[:y=>i] for i=1:10]"
   ]
  },
  {
   "cell_type": "code",
   "execution_count": 15,
   "metadata": {
    "collapsed": false
   },
   "outputs": [
    {
     "data": {
      "text/plain": [
       "Gen.DynamicDSLTrace{DynamicDSLFunction{Any}}(DynamicDSLFunction{Any}(Dict{Symbol,Any}(), Dict{Symbol,Any}(), Type[Int64], ##data_generator#374, Bool[0], false), Trie{Any,Gen.ChoiceOrCallRecord}(Dict{Any,Gen.ChoiceOrCallRecord}(:N => Gen.ChoiceOrCallRecord{Int64}(76, -5.613032860919967, NaN, true),:p => Gen.ChoiceOrCallRecord{Float64}(0.2645568164780811, -0.1022051180386061, NaN, true)), Dict{Any,Trie{Any,Gen.ChoiceOrCallRecord}}(:y => Trie{Any,Gen.ChoiceOrCallRecord}(Dict{Any,Gen.ChoiceOrCallRecord}(7 => Gen.ChoiceOrCallRecord{Float64}(21.0, 0.0, NaN, true),4 => Gen.ChoiceOrCallRecord{Float64}(19.0, 0.0, NaN, true),9 => Gen.ChoiceOrCallRecord{Float64}(22.0, 0.0, NaN, true),10 => Gen.ChoiceOrCallRecord{Float64}(22.0, 0.0, NaN, true),2 => Gen.ChoiceOrCallRecord{Float64}(19.0, 0.0, NaN, true),3 => Gen.ChoiceOrCallRecord{Float64}(21.0, 0.0, NaN, true),5 => Gen.ChoiceOrCallRecord{Float64}(19.0, 0.0, NaN, true),8 => Gen.ChoiceOrCallRecord{Float64}(21.0, 0.0, NaN, true),6 => Gen.ChoiceOrCallRecord{Float64}(22.0, 0.0, NaN, true),1 => Gen.ChoiceOrCallRecord{Float64}(17.0, 0.0, NaN, true)…), Dict{Any,Trie{Any,Gen.ChoiceOrCallRecord}}()))), false, -5.715237978958573, 0.0, (10,), [17.0; 19.0; … ; 22.0; 22.0])"
      ]
     },
     "execution_count": 15,
     "metadata": {},
     "output_type": "execute_result"
    }
   ],
   "source": [
    "tr"
   ]
  },
  {
   "cell_type": "markdown",
   "metadata": {},
   "source": [
    "## Generate some data -- then we'll try  estimating parameters from it"
   ]
  },
  {
   "cell_type": "code",
   "execution_count": null,
   "metadata": {
    "collapsed": false
   },
   "outputs": [],
   "source": [
    "using Distributions"
   ]
  },
  {
   "cell_type": "code",
   "execution_count": null,
   "metadata": {
    "collapsed": false
   },
   "outputs": [],
   "source": [
    "y = rand(Binomial(10, 0.5), 100,1)"
   ]
  },
  {
   "cell_type": "markdown",
   "metadata": {},
   "source": [
    "# Inference"
   ]
  },
  {
   "cell_type": "markdown",
   "metadata": {},
   "source": [
    "## Importance Sampling"
   ]
  },
  {
   "cell_type": "code",
   "execution_count": null,
   "metadata": {
    "collapsed": false
   },
   "outputs": [],
   "source": [
    "function posterior_sample_importance(ys, n_samples::Int=1000)\n",
    "    \n",
    "    # Set the observed data\n",
    "    observations = Gen.choicemap()\n",
    "    for (i, y) in enumerate(ys)\n",
    "        observations[(:y, i)] = y\n",
    "    end\n",
    "    \n",
    "    (traces, log_ws, _) = Gen.importance_sampling(data_generator, (length(ys),), observations, n_samples)\n",
    "    \n",
    "    return traces, log_ws\n",
    "end"
   ]
  },
  {
   "cell_type": "code",
   "execution_count": null,
   "metadata": {
    "collapsed": false
   },
   "outputs": [],
   "source": [
    "(trs, lws) = posterior_sample_importance(y, 1000)"
   ]
  },
  {
   "cell_type": "code",
   "execution_count": null,
   "metadata": {
    "collapsed": false
   },
   "outputs": [],
   "source": [
    "simulate(data_generator, (100,))"
   ]
  },
  {
   "cell_type": "markdown",
   "metadata": {},
   "source": [
    "# An even dumber example: a Gaussian model"
   ]
  },
  {
   "cell_type": "markdown",
   "metadata": {},
   "source": [
    "An improper distribution -- i.e., it's not correctly normalized. We'll see if we can sample from it anyway."
   ]
  },
  {
   "cell_type": "code",
   "execution_count": null,
   "metadata": {
    "collapsed": false
   },
   "outputs": [],
   "source": [
    "struct DPMGaussian <: Gen.Distribution{Float64} end\n",
    "const dpmgaussian = DPMGaussian()\n",
    "\n",
    "Gen.random(dpmgaussian, mu, sigma) = mu\n",
    "Gen.logpdf(dpmgaussian, x, mu, sigma) = -0.5*(x - mu)^2 / (sigma^2) - 0.5*log(2 * pi * sigma^2)\n",
    "\n",
    "dpmgaussian(mu, sigma) = Gen.random(dpmgaussian, mu, sigma)"
   ]
  },
  {
   "cell_type": "markdown",
   "metadata": {},
   "source": [
    "## Model the data as iid normal"
   ]
  },
  {
   "cell_type": "code",
   "execution_count": null,
   "metadata": {
    "collapsed": false
   },
   "outputs": [],
   "source": [
    "@gen function dpm_gaussian(N::Int64)\n",
    "    mu = @trace(uniform_continuous(5, 12), :mu)\n",
    "    sigma = @trace(gamma(1,1), :sigma)\n",
    "    \n",
    "    z = zeros(N,1)\n",
    "    for i=1:N\n",
    "        z[i] = @trace(dpmgaussian(mu, sigma), (:z, i))\n",
    "    end\n",
    "    \n",
    "    return z\n",
    "end"
   ]
  },
  {
   "cell_type": "markdown",
   "metadata": {},
   "source": [
    "## Make some synthetic data to play with"
   ]
  },
  {
   "cell_type": "code",
   "execution_count": null,
   "metadata": {
    "collapsed": false
   },
   "outputs": [],
   "source": [
    "z = 7 .+ 3.14.*randn(5000,1);"
   ]
  },
  {
   "cell_type": "markdown",
   "metadata": {},
   "source": [
    "## Infer a posterior distribution on mean and variance\n",
    "\n",
    "### Importance sampling"
   ]
  },
  {
   "cell_type": "code",
   "execution_count": null,
   "metadata": {
    "collapsed": false
   },
   "outputs": [],
   "source": [
    "observations = Gen.choicemap()\n",
    "for (i,v) in enumerate(z)\n",
    "    observations[(:z, i)] = v\n",
    "end\n",
    "\n",
    "(trs, lws, _) = Gen.importance_sampling(dpm_gaussian, (length(z),), observations, 500);"
   ]
  },
  {
   "cell_type": "code",
   "execution_count": null,
   "metadata": {
    "collapsed": false
   },
   "outputs": [],
   "source": [
    "ws = map(exp, lws);"
   ]
  },
  {
   "cell_type": "code",
   "execution_count": null,
   "metadata": {
    "collapsed": false
   },
   "outputs": [],
   "source": [
    "mus = [tr[:mu] for tr in trs];\n",
    "sigmas = [tr[:sigma] for tr in trs];"
   ]
  },
  {
   "cell_type": "code",
   "execution_count": null,
   "metadata": {
    "collapsed": false
   },
   "outputs": [],
   "source": [
    "expected_mu = sum(mus .* ws) / sum(ws)\n",
    "expected_sigma = sum(sigmas .* ws) / sum(ws)"
   ]
  },
  {
   "cell_type": "code",
   "execution_count": null,
   "metadata": {
    "collapsed": false
   },
   "outputs": [],
   "source": [
    "expected_mu"
   ]
  },
  {
   "cell_type": "markdown",
   "metadata": {},
   "source": [
    "### MCMC sampling"
   ]
  },
  {
   "cell_type": "markdown",
   "metadata": {},
   "source": [
    "Define a proposal distribution"
   ]
  },
  {
   "cell_type": "code",
   "execution_count": null,
   "metadata": {
    "collapsed": false
   },
   "outputs": [],
   "source": [
    "function dumb_update(prev_trace,N)\n",
    "    delta_mu = @trace(uniform_continuous(-1.0, 1.0), :dmu)\n",
    "    new_sigma = @trace(gamma(1,1), :new_sigma)\n",
    "    \n",
    "    new_choices = Gen.choicemap()\n",
    "    new_choices[:mu] = prev_trace[:mu] + delta_mu\n",
    "    new_choices[:sigma] = new_sigma\n",
    "    \n",
    "    for i=1:N\n",
    "        delta_x = @trace(uniform_continuous(-0.1, 1.0), (:dz, i))\n",
    "        new_choices[(:z, i)] = prev_trace[(:z, i)] + delta_x\n",
    "    end\n",
    "    \n",
    "    new_tr, _, _, _ = Gen.update(prev_trace, (), (), new_choices)\n",
    "    return new_trace\n",
    "end"
   ]
  },
  {
   "cell_type": "code",
   "execution_count": null,
   "metadata": {
    "collapsed": false
   },
   "outputs": [],
   "source": [
    "function mcmc_sample_gauss(n_posterior_samples, z)\n",
    "    \n",
    "    # Initialize the trace; load observations\n",
    "    tr = simulate(dpm_gaussian, (length(z), ) )\n",
    "    observations = Gen.choicemap()\n",
    "    for i=1:length(z)\n",
    "        observations[(:z, i)] = z[i]\n",
    "    end\n",
    "    Gen.update(tr, (length(z),), (), observations)\n",
    "    \n",
    "    # Store the quantities of interest\n",
    "    mus = zeros(n_posterior_samples, 1)\n",
    "    sigmas = zeros(n_posterior_samples, 1)\n",
    "    \n",
    "    # Take metropolis-hastings steps\n",
    "    for i=1:n_posterior_samples\n",
    "        tr, _ = Gen.mh(tr, dumb_proposal, (length(z),)) \n",
    "        mus[i] = tr[:mu]\n",
    "        sigmas[i] = tr[:sigma]\n",
    "    end\n",
    "    \n",
    "    return mus, sigmas\n",
    "    \n",
    "end "
   ]
  },
  {
   "cell_type": "code",
   "execution_count": null,
   "metadata": {
    "collapsed": false
   },
   "outputs": [],
   "source": [
    "mus, sigmas = mcmc_sample_gauss(1000, z)"
   ]
  },
  {
   "cell_type": "code",
   "execution_count": null,
   "metadata": {
    "collapsed": true
   },
   "outputs": [],
   "source": [
    "Gen.select()"
   ]
  }
 ],
 "metadata": {
  "anaconda-cloud": {},
  "kernelspec": {
   "display_name": "Julia 1.2.0",
   "language": "julia",
   "name": "julia-1.2"
  },
  "language_info": {
   "file_extension": ".jl",
   "mimetype": "application/julia",
   "name": "julia",
   "version": "1.2.0"
  }
 },
 "nbformat": 4,
 "nbformat_minor": 0
}
