{
 "cells": [
  {
   "cell_type": "code",
   "execution_count": 1,
   "metadata": {},
   "outputs": [
    {
     "data": {
      "text/plain": [
       "logpdf (generic function with 18 methods)"
      ]
     },
     "execution_count": 1,
     "metadata": {},
     "output_type": "execute_result"
    }
   ],
   "source": [
    "using GLMNet\n",
    "include(\"PSDiGraph.jl\")\n",
    "using .PSDiGraphs\n",
    "include(\"dbn_preprocessing.jl\")\n",
    "using PyPlot\n",
    "using CSV\n",
    "include(\"dbn_distributions.jl\")"
   ]
  },
  {
   "cell_type": "code",
   "execution_count": 2,
   "metadata": {},
   "outputs": [
    {
     "data": {
      "text/plain": [
       "\"data/edge_prob_matrix.csv\""
      ]
     },
     "execution_count": 2,
     "metadata": {},
     "output_type": "execute_result"
    }
   ],
   "source": [
    "timeseries_data_path = \"data/mukherjee_data.csv\"\n",
    "protein_names_path = \"data/protein_names.csv\"\n",
    "reference_adj_path = \"data/prior_graph.csv\"\n",
    "timesteps_path = \"data/time.csv\"\n",
    "hill_output = \"data/edge_prob_matrix.csv\""
   ]
  },
  {
   "cell_type": "code",
   "execution_count": 3,
   "metadata": {},
   "outputs": [],
   "source": [
    "(timeseries_vec, protein_vec, ref_adj, timesteps) = hill_2012_preprocess(timeseries_data_path, \n",
    "                                                                         protein_names_path, \n",
    "                                                                         reference_adj_path, \n",
    "                                                                         timesteps_path);\n",
    "\n",
    "output_probs = convert(Matrix{Float64}, CSV.read(hill_output));"
   ]
  },
  {
   "cell_type": "code",
   "execution_count": 4,
   "metadata": {},
   "outputs": [
    {
     "data": {
      "text/plain": [
       "([-0.6247379727048108 -2.192572017298344 … -3.403229444904883 -1.7948217532372561; -0.4903056067965041 -2.0570803602112773 … -3.1848996093132698 -1.6807368336682138; … ; 0.46469638319714657 -1.2200304860259812 … -2.071206740913228 -1.7771463626628734; 0.41311049639214503 -1.2380336790376858 … -2.1239416811783904 -1.8563532452254812], [-1.6225547097344415 -1.4542501604111802 … -0.8091478554568544 0.6536269312371691; -1.3750268720478733 -1.3747597433968983 … -0.49903072285677713 0.9967715276964024; … ; 0.6109412991702311 0.5012778609736899 … 1.734556721225987 -1.4508961548037156; -0.12027232641670572 0.0027463993986854038 … 2.2907868453767946 -2.150493373544711])"
      ]
     },
     "execution_count": 4,
     "metadata": {},
     "output_type": "execute_result"
    }
   ],
   "source": [
    "Xminus, Xplus = combine_X(timeseries_vec)"
   ]
  },
  {
   "cell_type": "code",
   "execution_count": 31,
   "metadata": {},
   "outputs": [
    {
     "data": {
      "text/plain": [
       "adalasso_edge_recovery_weighted_prior (generic function with 1 method)"
      ]
     },
     "execution_count": 31,
     "metadata": {},
     "output_type": "execute_result"
    }
   ],
   "source": [
    "\"\"\"\n",
    "Compute a vector of Bayesian Information Criterion values for a\n",
    "GLMNet path.\n",
    "\"\"\"\n",
    "function compute_bic(ols_path, lasso_path, n::Int64, ols_df::Int64) \n",
    "    \n",
    "    ols_ssr = (1.0 - ols_path.dev_ratio[1]) # *null deviation\n",
    "    ssr_vec = (1.0 .- lasso_path.dev_ratio) # *null deviation\n",
    "    df_vec = sum(lasso_path.betas .!= 0.0, dims=1)[1,:]\n",
    "    \n",
    "    bic_vec = ((n - ols_df).*ssr_vec./ols_ssr  .+  log(n).*df_vec) ./n # null deviations cancel out\n",
    "    \n",
    "    return bic_vec\n",
    "end\n",
    "\n",
    "\n",
    "\"\"\"\n",
    "Use Adaptive LASSO (informed by prior knowledge of edge existence)\n",
    "and a Bayesian Information Criterion to get a set of regression coefficients;\n",
    "nonzero coefficients imply the existence of an edge in the MAP graph.\n",
    "Note that we assume normally-distributed variables.\n",
    "\"\"\"\n",
    "function adalasso_edge_recovery(X::Matrix{Float64}, y::Vector{Float64}, prior_parents::Vector{Bool})\n",
    "    \n",
    "    n = size(y,1)\n",
    "    yp = y .* n ./ (n+1)\n",
    "    ols_result = GLMNet.glmnet(X, yp, lambda=[0.0])\n",
    "\n",
    "    ada_weights = 1.0 .- prior_parents;\n",
    "    adaptive_penalties = abs.(ada_weights ./ ols_result.betas)[:,1]\n",
    "    \n",
    "    lasso_path = GLMNet.glmnet(X, yp, penalty_factor=adaptive_penalties)\n",
    "    \n",
    "    bic_vec = compute_bic(ols_result, lasso_path, n, size(X,2))\n",
    "    \n",
    "    minloss_idx = argmin(bic_vec)\n",
    "    \n",
    "    return lasso_path.betas[:,minloss_idx], bic_vec, lasso_path\n",
    "\n",
    "end\n",
    "\n",
    "\n",
    "function adalasso_edge_recovery_weighted_prior(X::Matrix{Float64}, y::Vector{Float64}, \n",
    "                                               prior_parents::Vector{Bool})\n",
    "    \n",
    "    n = size(y,1)\n",
    "    yp = y .* n ./ (n+1)\n",
    "    ols_result = GLMNet.glmnet(X, yp, lambda=[0.0])\n",
    "\n",
    "    G_lambdas = [4096.0]\n",
    "    \n",
    "    minloss_bic = Inf\n",
    "    minloss_betas = zeros(size(X,2))\n",
    "    minloss_bic_vec = zeros(size(X,2))\n",
    "    minloss_path = zeros(size(X,2))\n",
    "    minloss_G_lambda = 0.0\n",
    "    for G_lambda in G_lambdas\n",
    "        not_parents = 1.0 .- prior_parents\n",
    "        ada_weights = not_parents.*(G_lambda + 1.0) + prior_parents.*1.0\n",
    "        adaptive_penalties = abs.(ada_weights ./ ols_result.betas)[:,1]\n",
    "\n",
    "        lasso_path = GLMNet.glmnet(X, yp, penalty_factor=adaptive_penalties)\n",
    "\n",
    "        bic_vec = compute_bic(ols_result, lasso_path, n, size(X,2))\n",
    "\n",
    "        minloss_idx = argmin(bic_vec)\n",
    "        if bic_vec[minloss_idx] < minloss_bic\n",
    "            minloss_betas = lasso_path.betas[:,minloss_idx]\n",
    "            minloss_bic_vec = copy(bic_vec)\n",
    "            minloss_path = lasso_path\n",
    "            minloss_G_lambda = G_lambda\n",
    "        end\n",
    "    end\n",
    "       \n",
    "    println(\"CHOSEN LAMBDA: \", minloss_G_lambda)\n",
    "    return minloss_betas, minloss_bic_vec, minloss_path\n",
    "\n",
    "end"
   ]
  },
  {
   "cell_type": "code",
   "execution_count": 33,
   "metadata": {},
   "outputs": [
    {
     "name": "stdout",
     "output_type": "stream",
     "text": [
      "CHOSEN LAMBDA: 4096.0\n"
     ]
    },
    {
     "data": {
      "image/png": "[encoded data removed]",
      "text/plain": [
       "Figure(PyObject <Figure size 640x480 with 1 Axes>)"
      ]
     },
     "metadata": {},
     "output_type": "display_data"
    },
    {
     "name": "stdout",
     "output_type": "stream",
     "text": [
      "1 AKT.pS473\n",
      "PRIOR PARENTS:\t\tBool[1, 1, 0, 0, 1, 0, 0, 0, 0, 0, 1, 0, 0, 0, 1, 1, 0, 0, 0, 0]\n",
      "ESTIMATED PARENTS:\tBool[0, 1, 0, 0, 0, 0, 0, 0, 0, 0, 0, 0, 0, 0, 0, 1, 0, 0, 0, 0]\n",
      "HILL PARENTS:\t\tBool[0, 1, 0, 0, 0, 0, 0, 0, 0, 0, 0, 0, 0, 0, 0, 1, 0, 0, 0, 0]\n",
      "\n",
      "CHOSEN LAMBDA: 4096.0\n",
      "2 AKT.pT308\n",
      "PRIOR PARENTS:\t\tBool[1, 1, 0, 0, 1, 0, 0, 0, 0, 0, 1, 0, 0, 0, 1, 1, 0, 0, 0, 0]\n",
      "ESTIMATED PARENTS:\tBool[0, 1, 0, 0, 0, 0, 0, 0, 0, 0, 0, 0, 0, 0, 0, 1, 0, 0, 0, 0]\n",
      "HILL PARENTS:\t\tBool[0, 1, 0, 0, 0, 0, 0, 0, 0, 0, 0, 0, 0, 0, 0, 1, 0, 0, 0, 0]\n",
      "\n",
      "CHOSEN LAMBDA: 4096.0\n",
      "3 AMPK.PT172\n",
      "PRIOR PARENTS:\t\tBool[0, 0, 1, 0, 0, 0, 0, 1, 0, 0, 0, 0, 0, 0, 0, 0, 0, 0, 0, 0]\n",
      "ESTIMATED PARENTS:\tBool[0, 0, 1, 0, 0, 0, 0, 1, 0, 0, 0, 0, 0, 0, 0, 1, 1, 0, 0, 0]\n",
      "HILL PARENTS:\t\tBool[0, 1, 0, 0, 1, 0, 0, 1, 1, 0, 0, 0, 0, 1, 0, 1, 0, 0, 0, 0]\n",
      "\n",
      "CHOSEN LAMBDA: 4096.0\n",
      "4 cJUN.pS73\n",
      "PRIOR PARENTS:\t\tBool[0, 0, 0, 1, 0, 0, 1, 0, 0, 0, 0, 0, 0, 0, 0, 0, 0, 0, 0, 0]\n",
      "ESTIMATED PARENTS:\tBool[0, 0, 0, 1, 0, 0, 1, 0, 0, 0, 0, 0, 0, 0, 0, 0, 0, 0, 0, 0]\n",
      "HILL PARENTS:\t\tBool[1, 0, 0, 1, 0, 0, 0, 1, 0, 0, 0, 0, 0, 0, 0, 0, 0, 0, 0, 1]\n",
      "\n",
      "CHOSEN LAMBDA: 4096.0\n",
      "5 EGFR.PY1173\n",
      "PRIOR PARENTS:\t\tBool[0, 0, 0, 0, 1, 0, 0, 0, 0, 0, 0, 0, 1, 0, 0, 0, 0, 0, 0, 0]\n",
      "ESTIMATED PARENTS:\tBool[0, 0, 0, 0, 1, 0, 0, 0, 0, 0, 0, 0, 1, 0, 0, 0, 0, 0, 0, 0]\n",
      "HILL PARENTS:\t\tBool[0, 0, 0, 0, 1, 0, 0, 0, 0, 0, 0, 0, 1, 0, 0, 0, 0, 0, 0, 0]\n",
      "\n",
      "CHOSEN LAMBDA: 4096.0\n",
      "6 GSK3.pS21\n",
      "PRIOR PARENTS:\t\tBool[1, 1, 0, 0, 0, 1, 0, 0, 0, 0, 0, 0, 0, 0, 0, 0, 0, 0, 0, 0]\n",
      "ESTIMATED PARENTS:\tBool[0, 1, 0, 0, 0, 1, 0, 0, 0, 0, 0, 0, 0, 0, 0, 0, 0, 0, 0, 0]\n",
      "HILL PARENTS:\t\tBool[1, 1, 0, 0, 0, 1, 0, 0, 0, 0, 0, 0, 1, 0, 0, 0, 0, 0, 0, 0]\n",
      "\n",
      "CHOSEN LAMBDA: 4096.0\n",
      "7 JNK.PT183\n",
      "PRIOR PARENTS:\t\tBool[0, 0, 0, 0, 1, 0, 1, 0, 0, 0, 0, 0, 0, 0, 0, 0, 0, 0, 0, 0]\n",
      "ESTIMATED PARENTS:\tBool[0, 0, 0, 0, 1, 0, 0, 0, 0, 0, 0, 0, 0, 0, 0, 0, 0, 0, 0, 0]\n",
      "HILL PARENTS:\t\tBool[0, 0, 0, 0, 1, 0, 0, 0, 0, 1, 0, 1, 0, 1, 0, 0, 0, 0, 0, 0]\n",
      "\n",
      "CHOSEN LAMBDA: 4096.0\n",
      "8 LKB1.pS428\n",
      "PRIOR PARENTS:\t\tBool[0, 0, 0, 0, 1, 0, 0, 1, 0, 0, 0, 0, 0, 0, 0, 0, 0, 0, 0, 0]\n",
      "ESTIMATED PARENTS:\tBool[0, 0, 0, 0, 0, 0, 0, 1, 0, 0, 0, 0, 0, 0, 0, 0, 0, 0, 0, 0]\n",
      "HILL PARENTS:\t\tBool[0, 0, 0, 0, 1, 0, 0, 1, 0, 0, 0, 0, 0, 0, 0, 0, 0, 0, 0, 0]\n",
      "\n",
      "CHOSEN LAMBDA: 4096.0\n",
      "9 MAPK.pT202\n",
      "PRIOR PARENTS:\t\tBool[0, 0, 0, 0, 0, 0, 0, 0, 1, 1, 0, 0, 0, 0, 0, 0, 0, 0, 0, 0]\n",
      "ESTIMATED PARENTS:\tBool[0, 0, 0, 0, 0, 0, 0, 0, 1, 1, 0, 0, 0, 0, 0, 0, 0, 0, 0, 0]\n",
      "HILL PARENTS:\t\tBool[0, 0, 0, 0, 0, 0, 0, 0, 1, 1, 0, 0, 1, 1, 0, 0, 0, 0, 0, 0]\n",
      "\n",
      "CHOSEN LAMBDA: 4096.0\n",
      "10 MEK1.2.PS217\n",
      "PRIOR PARENTS:\t\tBool[0, 0, 0, 0, 1, 0, 0, 0, 0, 1, 0, 0, 0, 0, 0, 0, 0, 0, 0, 0]\n",
      "ESTIMATED PARENTS:\tBool[0, 0, 0, 0, 1, 0, 0, 0, 0, 1, 0, 0, 0, 0, 0, 0, 0, 0, 0, 0]\n",
      "HILL PARENTS:\t\tBool[1, 1, 0, 0, 1, 0, 0, 0, 1, 1, 0, 0, 0, 0, 0, 0, 1, 0, 1, 0]\n",
      "\n",
      "CHOSEN LAMBDA: 4096.0\n",
      "11 mTOR.pS2448\n",
      "PRIOR PARENTS:\t\tBool[1, 1, 1, 0, 0, 0, 0, 0, 0, 0, 1, 0, 0, 0, 0, 1, 0, 0, 0, 1]\n",
      "ESTIMATED PARENTS:\tBool[0, 0, 0, 0, 0, 0, 0, 0, 0, 0, 1, 0, 0, 0, 0, 0, 0, 0, 0, 1]\n",
      "HILL PARENTS:\t\tBool[0, 1, 0, 0, 1, 0, 0, 0, 0, 0, 1, 0, 0, 0, 0, 1, 0, 0, 0, 0]\n",
      "\n",
      "CHOSEN LAMBDA: 4096.0\n",
      "12 p38.PT180\n",
      "PRIOR PARENTS:\t\tBool[0, 0, 0, 0, 1, 0, 0, 0, 0, 0, 0, 1, 0, 0, 0, 0, 0, 0, 0, 0]\n",
      "ESTIMATED PARENTS:\tBool[0, 0, 0, 0, 1, 0, 0, 0, 0, 0, 0, 1, 0, 0, 0, 0, 0, 0, 0, 0]\n",
      "HILL PARENTS:\t\tBool[0, 0, 0, 0, 1, 0, 0, 0, 0, 0, 0, 1, 0, 0, 0, 0, 0, 0, 0, 0]\n",
      "\n",
      "CHOSEN LAMBDA: 4096.0\n",
      "13 p70S6K.pT389\n",
      "PRIOR PARENTS:\t\tBool[1, 1, 0, 0, 1, 0, 0, 0, 1, 0, 1, 0, 1, 0, 1, 0, 0, 0, 0, 1]\n",
      "ESTIMATED PARENTS:\tBool[1, 1, 0, 0, 0, 0, 0, 0, 0, 0, 1, 0, 0, 0, 1, 0, 0, 0, 0, 1]\n",
      "HILL PARENTS:\t\tBool[1, 0, 0, 0, 0, 0, 0, 0, 1, 0, 0, 0, 0, 0, 1, 0, 0, 0, 0, 0]\n",
      "\n",
      "CHOSEN LAMBDA: 4096.0\n",
      "14 p90RSK.pT359\n",
      "PRIOR PARENTS:\t\tBool[0, 0, 0, 0, 0, 0, 0, 0, 1, 0, 0, 0, 0, 1, 1, 0, 0, 0, 0, 0]\n",
      "ESTIMATED PARENTS:\tBool[0, 0, 0, 0, 0, 0, 0, 0, 1, 0, 0, 0, 0, 1, 0, 0, 0, 0, 0, 0]\n",
      "HILL PARENTS:\t\tBool[0, 1, 0, 0, 0, 0, 0, 0, 1, 1, 0, 0, 0, 1, 0, 0, 0, 0, 0, 0]\n",
      "\n",
      "CHOSEN LAMBDA: 4096.0\n",
      "15 PDK1.pS241\n",
      "PRIOR PARENTS:\t\tBool[0, 0, 0, 0, 0, 0, 0, 0, 0, 0, 0, 0, 0, 0, 1, 1, 0, 0, 0, 0]\n",
      "ESTIMATED PARENTS:\tBool[0, 0, 0, 0, 0, 0, 0, 0, 0, 0, 0, 0, 0, 0, 1, 1, 0, 0, 0, 0]\n",
      "HILL PARENTS:\t\tBool[0, 1, 1, 0, 0, 0, 0, 0, 0, 0, 0, 0, 0, 1, 0, 1, 0, 0, 0, 0]\n",
      "\n",
      "CHOSEN LAMBDA: 4096.0\n",
      "16 PI3Kp110\n",
      "PRIOR PARENTS:\t\tBool[0, 0, 0, 0, 1, 0, 0, 0, 0, 0, 0, 0, 0, 0, 0, 1, 0, 0, 0, 0]\n",
      "ESTIMATED PARENTS:\tBool[0, 0, 1, 1, 1, 1, 0, 0, 1, 0, 1, 1, 0, 0, 0, 1, 0, 0, 0, 1]\n",
      "HILL PARENTS:\t\tBool[1, 1, 0, 0, 1, 0, 0, 0, 1, 0, 0, 0, 0, 0, 0, 0, 0, 0, 0, 0]\n",
      "\n",
      "CHOSEN LAMBDA: 4096.0\n",
      "17 STAT3.pT727\n",
      "PRIOR PARENTS:\t\tBool[0, 0, 0, 0, 1, 0, 0, 0, 0, 0, 1, 0, 0, 0, 0, 0, 1, 1, 1, 0]\n",
      "ESTIMATED PARENTS:\tBool[1, 0, 0, 0, 1, 1, 0, 0, 1, 0, 1, 0, 1, 0, 0, 1, 1, 1, 1, 0]\n",
      "HILL PARENTS:\t\tBool[0, 0, 0, 0, 0, 0, 0, 0, 1, 0, 0, 0, 0, 0, 0, 0, 0, 0, 0, 0]\n",
      "\n",
      "CHOSEN LAMBDA: 4096.0\n",
      "18 STAT3.pY705\n",
      "PRIOR PARENTS:\t\tBool[0, 0, 0, 0, 1, 0, 0, 0, 0, 0, 1, 0, 0, 0, 0, 0, 1, 1, 1, 0]\n",
      "ESTIMATED PARENTS:\tBool[0, 0, 0, 0, 1, 0, 0, 0, 0, 0, 1, 0, 0, 0, 0, 0, 1, 1, 0, 0]\n",
      "HILL PARENTS:\t\tBool[0, 0, 0, 0, 1, 0, 0, 0, 0, 0, 0, 0, 0, 0, 0, 0, 0, 1, 1, 0]\n",
      "\n",
      "CHOSEN LAMBDA: 4096.0\n",
      "19 STAT5.pY964\n",
      "PRIOR PARENTS:\t\tBool[0, 0, 0, 0, 1, 0, 0, 0, 0, 0, 1, 0, 0, 0, 0, 0, 1, 1, 1, 0]\n",
      "ESTIMATED PARENTS:\tBool[0, 0, 0, 0, 0, 0, 0, 0, 0, 0, 1, 0, 0, 0, 0, 0, 1, 1, 1, 0]\n",
      "HILL PARENTS:\t\tBool[1, 0, 1, 0, 1, 0, 0, 0, 0, 0, 0, 0, 0, 0, 0, 0, 0, 1, 1, 0]\n",
      "\n",
      "CHOSEN LAMBDA: 4096.0\n",
      "20 TSC2.PT1462\n",
      "PRIOR PARENTS:\t\tBool[1, 1, 1, 0, 0, 1, 0, 0, 1, 0, 0, 0, 0, 1, 0, 0, 0, 0, 0, 1]\n",
      "ESTIMATED PARENTS:\tBool[1, 0, 0, 0, 0, 0, 0, 0, 0, 0, 0, 0, 0, 1, 0, 0, 0, 0, 0, 1]\n",
      "HILL PARENTS:\t\tBool[0, 0, 0, 0, 0, 0, 0, 1, 0, 0, 0, 0, 0, 0, 0, 0, 0, 0, 0, 0]\n",
      "\n"
     ]
    }
   ],
   "source": [
    "thresh = 0.125\n",
    "G_lambda = 3.0\n",
    "for y_ind=1:20\n",
    "\n",
    "    y = Xplus[:,y_ind];\n",
    "    prior_parents = ref_adj[y_ind];\n",
    "\n",
    "    parents, bic, path = adalasso_edge_recovery_weighted_prior(Xminus, y, prior_parents)\n",
    "    plot(bic, label=\"BIC\")\n",
    "    \n",
    "    hill_parents = (output_probs[:,y_ind] .>= thresh)\n",
    "    println(y_ind, \" \", protein_vec[y_ind])\n",
    "    println(\"PRIOR PARENTS:\\t\\t\", prior_parents, \"\\nESTIMATED PARENTS:\\t\", parents .!= 0.0, \"\\nHILL PARENTS:\\t\\t\", hill_parents)\n",
    "    println(\"\")\n",
    "end\n",
    "show()"
   ]
  },
  {
   "cell_type": "code",
   "execution_count": null,
   "metadata": {},
   "outputs": [],
   "source": [
    "size(Xminus)"
   ]
  },
  {
   "cell_type": "code",
   "execution_count": null,
   "metadata": {},
   "outputs": [],
   "source": []
  }
 ],
 "metadata": {
  "kernelspec": {
   "display_name": "Julia 1.2.0",
   "language": "julia",
   "name": "julia-1.2"
  },
  "language_info": {
   "file_extension": ".jl",
   "mimetype": "application/julia",
   "name": "julia",
   "version": "1.2.0"
  }
 },
 "nbformat": 4,
 "nbformat_minor": 2
}
