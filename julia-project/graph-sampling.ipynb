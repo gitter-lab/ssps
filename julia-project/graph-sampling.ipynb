{
 "cells": [
  {
   "cell_type": "markdown",
   "metadata": {},
   "source": [
    "# Sampling from a distribution over graphs\n",
    "\n",
    "We will define a distribution over directed graphs, under the assumption that the vertices are known a-priori.\n",
    "\n",
    "We'll focus on a class of distributions proposed by Mukherjee et al:\n",
    "\n",
    "$$ P(G) \\propto \\exp \\left( - \\beta \\cdot D(G, G^\\prime) \\right) $$\n",
    "\n",
    "i.e., probability decreases exponentially with distance from some reference graph, $G^\\prime$. \n",
    "\n",
    "The distance, $D$, could be any nonnegative notion of difference; but a useful default is Hamming distance between the graphs' edge sets."
   ]
  },
  {
   "cell_type": "code",
   "execution_count": 1,
   "metadata": {},
   "outputs": [],
   "source": [
    "include(\"DiGraph.jl\")\n",
    "using Gen\n",
    "using .DiGraphs"
   ]
  },
  {
   "cell_type": "markdown",
   "metadata": {},
   "source": [
    "## Define a density over graphs"
   ]
  },
  {
   "cell_type": "code",
   "execution_count": 2,
   "metadata": {},
   "outputs": [
    {
     "data": {
      "text/plain": [
       "GraphPriorDist()"
      ]
     },
     "execution_count": 2,
     "metadata": {},
     "output_type": "execute_result"
    }
   ],
   "source": [
    "# in Gen, distributions are defined as singleton types:\n",
    "struct GraphPriorDist <: Distribution{DiGraph} end\n",
    "const graphpriordist = GraphPriorDist()"
   ]
  },
  {
   "cell_type": "code",
   "execution_count": 31,
   "metadata": {},
   "outputs": [],
   "source": [
    "# define a hamming distance between graphs\n",
    "function edge_hamming(g1::DiGraph{T}, g2::DiGraph{T}) where T\n",
    "    return length(symdiff([g1.edges[i,:] for i=1:size(g1.edges)[1]],\n",
    "                          [g2.edges[i,:] for i=1:size(g2.edges)[1]]))\n",
    "end\n",
    "\n",
    "# Define sampling methods for the graph distribution.\n",
    "function Gen.random(gpd::GraphPriorDist, reference_graph::DiGraph{T}, beta::Number, distance_func::Function) where T\n",
    "    return reference_graph\n",
    "end\n",
    "\n",
    "# if distance isn't specified, use hamming distance\n",
    "function Gen.random(gpd::GraphPriorDist, reference_graph::DiGraph{T}, beta::Number) where T\n",
    "    return Gen.random(gpd, reference_graph, beta, edge_hamming)\n",
    "end\n",
    "\n",
    "graphpriordist(reference_graph::DiGraph{T}, beta::Number) where T = Gen.random(graphpriordist, reference_graph, beta)\n",
    "\n",
    "# Define a log-probability for this distribution.\n",
    "function Gen.logpdf(gpd::GraphPriorDist, dg::DiGraph{T}, reference_graph::DiGraph{T}, beta::Number, distance_func::Function) where T\n",
    "    return exp( -beta * distance_func(dg, reference_graph) )\n",
    "end\n",
    "\n",
    "# Again: use hamming distance by default\n",
    "function Gen.logpdf(gpd::GraphPriorDist, dg::DiGraph{T}, reference_graph::DiGraph{T}, beta::Number) where T\n",
    "    return Gen.logpdf(gpd, dg, reference_graph, beta, edge_hamming)\n",
    "end"
   ]
  },
  {
   "cell_type": "markdown",
   "metadata": {},
   "source": [
    "There are some issues with our construction:\n",
    "1. This distribution is _unnormalized_. \n",
    "2. This distribution is _not generative_. It doesn't prescribe a sampling method.\n",
    "\n",
    "\n",
    "However, our implementation should allow Gen's Metropolis-Hastings sampler to 'play nicely' with this distribution.\n",
    "1. The distribution is unnormalized -- this means that the `logpdf` will not return correct values. However, the thing that _really_ matters in MH sampling is **change** in log-probability. And our logpdf implementation will correctly compute those.\n",
    "2. The distribution isn't generative, but MH won't require us to explicitly sample from the distribution -- the whole point of MH is that it will allow us to sample from (unnormalized) log densities that have no generative description."
   ]
  },
  {
   "cell_type": "markdown",
   "metadata": {},
   "source": [
    "## Write a probabilistic program\n",
    "\n",
    "Practically a one-liner. It samples from our distribution -- that's all for now."
   ]
  },
  {
   "cell_type": "code",
   "execution_count": 38,
   "metadata": {},
   "outputs": [
    {
     "data": {
      "text/plain": [
       "DynamicDSLFunction{Any}(Dict{Symbol,Any}(), Dict{Symbol,Any}(), Type[DiGraph{String}, Float64], ##graph_generator#371, Bool[0, 0], false)"
      ]
     },
     "execution_count": 38,
     "metadata": {},
     "output_type": "execute_result"
    }
   ],
   "source": [
    "@gen function graph_generator(reference_graph::DiGraph{String}, beta::Float64)\n",
    "    g = @trace(graphpriordist(reference_graph, beta), :graph)\n",
    "    return g\n",
    "end;"
   ]
  },
  {
   "cell_type": "markdown",
   "metadata": {},
   "source": [
    "In order to sample from this, we'll need to define a proposal distribution that explores a space of directed graphs."
   ]
  },
  {
   "cell_type": "markdown",
   "metadata": {},
   "source": [
    "## Give a proposal distribution\n",
    "\n",
    "As a first pass, we'll define operations that allow us to explore the space of directed graphs in a mostly unconstrained fashion. \n",
    "\n",
    "That is, we won't enforce most graph properties: connectedness, acyclicity, in-degree, etc.\n",
    "The one property we will enforce is no 2-cycles (mostly for aesthetic reasons).\n",
    "\n",
    "### First (naive) proposal distribution\n",
    "Our first proposal distribution is sort of naive.\n",
    "It samples uniformly over the $N(N-1)$ possible directed edges.\n",
    "If the edge already exists then it flips a coin, deciding whether to remove or reverse that edge.\n",
    "If the edge doesn't exist but its reverse _does_, then we do similarly for that edge.\n",
    "If neither the edge nor its reverse exists, then we propose an edge there.\n",
    "\n",
    "We can expect that this proposal will yield inefficient sampling. For a sparse graph, it will tend to propose adding edges; assuming the reference graph is itself sparse, these proposals will probably be rejected."
   ]
  },
  {
   "cell_type": "code",
   "execution_count": 51,
   "metadata": {},
   "outputs": [
    {
     "data": {
      "text/plain": [
       "DynamicDSLFunction{Any}(Dict{Symbol,Any}(), Dict{Symbol,Any}(), Type[Any], ##digraph_unconstrained_proposal#372, Bool[0], false)"
      ]
     },
     "execution_count": 51,
     "metadata": {},
     "output_type": "execute_result"
    }
   ],
   "source": [
    "# First (inefficient) proposal distribution\n",
    "@gen function inefficient_digraph_proposal(cur_trace)\n",
    "    \n",
    "    G = cur_trace[:graph]\n",
    "    N = length(G.vertices)\n",
    "    \n",
    "    v1 = uniform_discrete(1, N)\n",
    "    v2 = uniform_discrete(1, N-1) # won't allow self-loops\n",
    "    if v2 >= v1\n",
    "        v2 += 1\n",
    "    end\n",
    "    \n",
    "    # If an edge already exists: remove or reverse it\n",
    "    if length(G.edges[(G.edges[:,1] .== v1) .& (G.edges[:,2] .== v2)]) > 0\n",
    "        remove = bernoulli(0.5)\n",
    "        if remove\n",
    "            remove_edge!(G, v1, v2) # remove\n",
    "        else\n",
    "            remove_edge!(G, v1, v2) # reverse\n",
    "            add_edge!(G, v2, v1)\n",
    "        end\n",
    "    # If the edge's reverse exists: remove or reverse that.    \n",
    "    elseif length(G.edges[(G.edges[:,1] .== v2) .& (G.edges[:,2] .== v1)]) > 0\n",
    "        remove = bernoulli(0.5)\n",
    "        if remove\n",
    "            remove_edge!(G, v2, v1) # remove\n",
    "        else\n",
    "            remove_edge!(G, v2, v1) # reverse\n",
    "            add_edge!(G, v1, v2)\n",
    "        end\n",
    "    # If neither the edge nor its reverse exists, add the edge!\n",
    "    else\n",
    "        add_edge!(G, v1, v2)\n",
    "    end\n",
    "    \n",
    "    cur_trace[:graph] = G\n",
    "    \n",
    "    return cur_trace\n",
    "end;"
   ]
  },
  {
   "cell_type": "markdown",
   "metadata": {},
   "source": [
    "### An alternative (smarter) proposal distribution"
   ]
  },
  {
   "cell_type": "code",
   "execution_count": 52,
   "metadata": {},
   "outputs": [],
   "source": [
    "#TODO"
   ]
  },
  {
   "cell_type": "markdown",
   "metadata": {},
   "source": [
    "# MCMC sampling"
   ]
  },
  {
   "cell_type": "code",
   "execution_count": 11,
   "metadata": {},
   "outputs": [
    {
     "data": {
      "text/plain": [
       "4×2 Array{String,2}:\n",
       " \"cat\"     \"mammal\" \n",
       " \"dog\"     \"mammal\" \n",
       " \"lizard\"  \"reptile\"\n",
       " \"mammal\"  \"animal\" "
      ]
     },
     "execution_count": 11,
     "metadata": {},
     "output_type": "execute_result"
    }
   ],
   "source": [
    "ref_graph = DiGraph([[\"cat\" \"mammal\"];\n",
    "        [\"dog\" \"mammal\"];\n",
    "        [\"lizard\" \"reptile\"];\n",
    "        [\"mammal\" \"animal\"];\n",
    "        [\"reptile\" \"animal\"]])\n",
    "ref_graph_p = copy(ref_graph)\n",
    "remove_edge!(ref_graph_p, \"reptile\", \"animal\")"
   ]
  },
  {
   "cell_type": "code",
   "execution_count": 7,
   "metadata": {
    "scrolled": true
   },
   "outputs": [
    {
     "data": {
      "text/plain": [
       "DiGraph{String}(Set([\"mammal\", \"reptile\", \"animal\", \"cat\", \"lizard\", \"dog\"]), [\"cat\" \"mammal\"; \"dog\" \"mammal\"; … ; \"mammal\" \"animal\"; \"reptile\" \"animal\"])"
      ]
     },
     "execution_count": 7,
     "metadata": {},
     "output_type": "execute_result"
    }
   ],
   "source": [
    "random(graphpriordist, ref_graph, 1.0)"
   ]
  },
  {
   "cell_type": "code",
   "execution_count": 23,
   "metadata": {},
   "outputs": [
    {
     "data": {
      "text/plain": [
       "Set(Array{String,1}[[\"dog\", \"mammal\"], [\"lizard\", \"reptile\"], [\"mammal\", \"animal\"], [\"cat\", \"mammal\"]])"
      ]
     },
     "execution_count": 23,
     "metadata": {},
     "output_type": "execute_result"
    }
   ],
   "source": [
    "Set([ ref_graph_p.edges[i,:] for i=1:size(ref_graph_p.edges)[1] ])"
   ]
  },
  {
   "cell_type": "code",
   "execution_count": 17,
   "metadata": {},
   "outputs": [
    {
     "data": {
      "text/plain": [
       "4×2 Array{String,2}:\n",
       " \"cat\"     \"mammal\" \n",
       " \"dog\"     \"mammal\" \n",
       " \"lizard\"  \"reptile\"\n",
       " \"mammal\"  \"animal\" "
      ]
     },
     "execution_count": 17,
     "metadata": {},
     "output_type": "execute_result"
    }
   ],
   "source": [
    "ref_graph_p.edges"
   ]
  },
  {
   "cell_type": "code",
   "execution_count": 25,
   "metadata": {},
   "outputs": [
    {
     "data": {
      "text/plain": [
       "1-element Array{Array{String,1},1}:\n",
       " [\"reptile\", \"animal\"]"
      ]
     },
     "execution_count": 25,
     "metadata": {},
     "output_type": "execute_result"
    }
   ],
   "source": [
    "symdiff([ref_graph_p.edges[i,:] for i=1:size(ref_graph_p.edges)[1]],\n",
    "        [ref_graph.edges[i,:] for i=1:size(ref_graph.edges)[1]])"
   ]
  },
  {
   "cell_type": "code",
   "execution_count": 32,
   "metadata": {},
   "outputs": [
    {
     "data": {
      "text/plain": [
       "DiGraph{String}(Set([\"mammal\", \"reptile\", \"animal\", \"cat\", \"lizard\", \"dog\"]), [\"cat\" \"mammal\"; \"dog\" \"mammal\"; … ; \"mammal\" \"animal\"; \"reptile\" \"animal\"])"
      ]
     },
     "execution_count": 32,
     "metadata": {},
     "output_type": "execute_result"
    }
   ],
   "source": [
    "graphpriordist(ref_graph, 1.0)"
   ]
  },
  {
   "cell_type": "code",
   "execution_count": 50,
   "metadata": {},
   "outputs": [
    {
     "data": {
      "text/plain": [
       "true"
      ]
     },
     "execution_count": 50,
     "metadata": {},
     "output_type": "execute_result"
    }
   ],
   "source": []
  },
  {
   "cell_type": "code",
   "execution_count": 44,
   "metadata": {},
   "outputs": [
    {
     "data": {
      "text/plain": [
       "4×2 Array{String,2}:\n",
       " \"cat\"     \"mammal\" \n",
       " \"dog\"     \"mammal\" \n",
       " \"lizard\"  \"reptile\"\n",
       " \"mammal\"  \"animal\" "
      ]
     },
     "execution_count": 44,
     "metadata": {},
     "output_type": "execute_result"
    }
   ],
   "source": [
    "ref_graph_p.edges"
   ]
  },
  {
   "cell_type": "code",
   "execution_count": null,
   "metadata": {},
   "outputs": [],
   "source": []
  }
 ],
 "metadata": {
  "kernelspec": {
   "display_name": "Julia 1.2.0",
   "language": "julia",
   "name": "julia-1.2"
  },
  "language_info": {
   "file_extension": ".jl",
   "mimetype": "application/julia",
   "name": "julia",
   "version": "1.2.0"
  }
 },
 "nbformat": 4,
 "nbformat_minor": 2
}
