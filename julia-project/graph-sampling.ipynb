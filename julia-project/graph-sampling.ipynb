{
 "cells": [
  {
   "cell_type": "markdown",
   "metadata": {},
   "source": [
    "# Sampling from a distribution over graphs\n",
    "\n",
    "We will define a distribution over directed graphs, under the assumption that the vertices are known a-priori.\n",
    "\n",
    "We'll focus on a class of distributions proposed by Mukherjee et al:\n",
    "\n",
    "$$ P(G) \\propto \\exp \\left( - \\beta \\cdot D(G, G^\\prime) \\right) $$\n",
    "\n",
    "i.e., probability decreases exponentially with distance from some reference graph, $G^\\prime$. \n",
    "\n",
    "The distance, $D$, could be any nonnegative notion of difference; but a useful default is Hamming distance between the graphs' edge sets."
   ]
  },
  {
   "cell_type": "code",
   "execution_count": 1,
   "metadata": {},
   "outputs": [],
   "source": [
    "include(\"DiGraph.jl\")\n",
    "using Gen\n",
    "using .DiGraphs\n",
    "using PyPlot"
   ]
  },
  {
   "cell_type": "markdown",
   "metadata": {},
   "source": [
    "## Define a density over graphs"
   ]
  },
  {
   "cell_type": "code",
   "execution_count": 2,
   "metadata": {},
   "outputs": [
    {
     "data": {
      "text/plain": [
       "GraphPriorDist()"
      ]
     },
     "execution_count": 2,
     "metadata": {},
     "output_type": "execute_result"
    }
   ],
   "source": [
    "# in Gen, distributions are defined as singleton types:\n",
    "struct GraphPriorDist <: Distribution{DiGraph} end\n",
    "const graphpriordist = GraphPriorDist()"
   ]
  },
  {
   "cell_type": "code",
   "execution_count": 3,
   "metadata": {},
   "outputs": [],
   "source": [
    "# define a hamming distance between graphs\n",
    "function edge_hamming(g1::DiGraph{T}, g2::DiGraph{T}) where T\n",
    "    return length(symdiff([g1.edges[i,:] for i=1:size(g1.edges)[1]],\n",
    "                          [g2.edges[i,:] for i=1:size(g2.edges)[1]]))\n",
    "end\n",
    "\n",
    "# Define sampling methods for the graph distribution.\n",
    "function Gen.random(gpd::GraphPriorDist, reference_graph::DiGraph{T}, beta::Number, distance_func::Function) where T\n",
    "    return reference_graph\n",
    "end\n",
    "\n",
    "# if distance isn't specified, use hamming distance\n",
    "function Gen.random(gpd::GraphPriorDist, reference_graph::DiGraph{T}, beta::Number) where T\n",
    "    return Gen.random(gpd, reference_graph, beta, edge_hamming)\n",
    "end\n",
    "\n",
    "graphpriordist(reference_graph::DiGraph{T}, beta::Number) where T = Gen.random(graphpriordist, reference_graph, beta)\n",
    "\n",
    "# Define a log-probability for this distribution.\n",
    "function Gen.logpdf(gpd::GraphPriorDist, dg::DiGraph{T}, reference_graph::DiGraph{T}, beta::Number, distance_func::Function) where T\n",
    "    return exp( -beta * distance_func(dg, reference_graph) )\n",
    "end\n",
    "\n",
    "# Again: use hamming distance by default\n",
    "function Gen.logpdf(gpd::GraphPriorDist, dg::DiGraph{T}, reference_graph::DiGraph{T}, beta::Number) where T\n",
    "    return Gen.logpdf(gpd, dg, reference_graph, beta, edge_hamming)\n",
    "end\n"
   ]
  },
  {
   "cell_type": "markdown",
   "metadata": {},
   "source": [
    "There are some issues with our construction:\n",
    "1. This distribution is _unnormalized_. \n",
    "2. This distribution is _not generative_. It doesn't prescribe a sampling method.\n",
    "\n",
    "\n",
    "However, our implementation should allow Gen's Metropolis-Hastings sampler to 'play nicely' with this distribution.\n",
    "1. The distribution is unnormalized -- this means that the `logpdf` will not return correct values. However, the thing that _really_ matters in MH sampling is **change** in log-probability. And our logpdf implementation will correctly compute those.\n",
    "2. The distribution isn't generative, but MH won't require us to explicitly sample from the distribution -- the whole point of MH is that it will allow us to sample from (unnormalized) log densities that have no generative description. As long as we provide a proposal distribution, we'll be fine."
   ]
  },
  {
   "cell_type": "markdown",
   "metadata": {},
   "source": [
    "### Example reference graph\n",
    "\n",
    "We'll build an actual reference graph here, for illustrative purposes."
   ]
  },
  {
   "cell_type": "code",
   "execution_count": 4,
   "metadata": {},
   "outputs": [],
   "source": [
    "# Define a simple node type\n",
    "struct Node\n",
    "    name::String\n",
    "    x::Float64\n",
    "    y::Float64\n",
    "end"
   ]
  },
  {
   "cell_type": "code",
   "execution_count": 6,
   "metadata": {},
   "outputs": [],
   "source": [
    "# Define a mapping between string labels and nodes\n",
    "vertex_dict = Dict(\"animal\" => Node(\"animal\", 0., 0.),\n",
    "\"mammal\" => Node(\"mammal\", -4., -1.),\n",
    "\"dog\" => Node(\"dog\", -5., -2.),\n",
    "\"cat\" => Node(\"cat\", -4., -2.),\n",
    "\"calico\" => Node(\"calico\", -4., -3.), \n",
    "\"fish\" => Node(\"fish\", -1., -1.),\n",
    "\"bird\" => Node(\"bird\", 1., -1.),\n",
    "\"reptile\" => Node(\"reptile\", 3.0, -1.0),\n",
    "\"crocodile\" => Node(\"crocodile\", 4.0, -2.0),\n",
    "\"snake\" => Node(\"snake\", 2.0, -2.0),\n",
    "\"shark\" => Node(\"shark\", -2.0, -2.0),\n",
    "\"piranha\" => Node(\"piranha\", -0.0, -2.0)\n",
    ");"
   ]
  },
  {
   "cell_type": "code",
   "execution_count": 7,
   "metadata": {
    "scrolled": true
   },
   "outputs": [
    {
     "data": {
      "text/plain": [
       "DiGraph{String}(Set([\"calico\", \"fish\", \"snake\", \"mammal\", \"dog\", \"reptile\", \"shark\", \"animal\", \"cat\", \"crocodile\", \"bird\", \"piranha\"]), [\"mammal\" \"animal\"; \"cat\" \"mammal\"; … ; \"crocodile\" \"reptile\"; \"snake\" \"reptile\"])"
      ]
     },
     "execution_count": 7,
     "metadata": {},
     "output_type": "execute_result"
    }
   ],
   "source": [
    "example_tree = DiGraph([\"mammal\" \"animal\";\n",
    "        \"cat\" \"mammal\";\n",
    "        \"calico\" \"cat\";\n",
    "        \"dog\" \"mammal\";\n",
    "        \"fish\" \"animal\";\n",
    "        \"shark\" \"fish\";\n",
    "        \"piranha\" \"fish\";\n",
    "        \"bird\" \"animal\";\n",
    "        \"reptile\" \"animal\";\n",
    "        \"crocodile\" \"reptile\";\n",
    "        \"snake\" \"reptile\"])"
   ]
  },
  {
   "cell_type": "markdown",
   "metadata": {},
   "source": [
    "### Some visualization machinery\n",
    "\n",
    "We'll write some functions for visualizing graphs."
   ]
  },
  {
   "cell_type": "code",
   "execution_count": 37,
   "metadata": {},
   "outputs": [
    {
     "data": {
      "text/plain": [
       "visualize_digraph (generic function with 1 method)"
      ]
     },
     "execution_count": 37,
     "metadata": {},
     "output_type": "execute_result"
    }
   ],
   "source": [
    "function visualize_vertices(digraph::DiGraph{T}, vertex_dict::Dict{T,Node}) where T\n",
    "    xyn = [[vertex_dict[v].x vertex_dict[v].y vertex_dict[v].name] for v in digraph.vertices]\n",
    "    xyn = vcat(xyn...)\n",
    "    scatter(xyn[:,1], xyn[:,2], s=120)\n",
    "    for i=1:size(xyn)[1]\n",
    "        annotate(xyn[i,3], (xyn[i,1], xyn[i,2]))\n",
    "    end\n",
    "end\n",
    "\n",
    "\n",
    "function visualize_edges(digraph::DiGraph{T}, vertex_dict::Dict{T,Node}) where T\n",
    "    for i=1:size(digraph.edges)[1]\n",
    "        xs = [vertex_dict[digraph.edges[i,1]].x; vertex_dict[digraph.edges[i,2]].x]\n",
    "        ys = [vertex_dict[digraph.edges[i,1]].y; vertex_dict[digraph.edges[i,2]].y]\n",
    "        dx = xs[2] - xs[1]\n",
    "        dy = ys[2] - ys[1]\n",
    "        arrow(xs[1], ys[1], dx, dy, color=\"k\", zorder=0, head_length=0.25, length_includes_head=true,\n",
    "              head_width=0.125)\n",
    "    end\n",
    "end\n",
    "\n",
    "\n",
    "function visualize_weighted_edges(vertex_dict::Dict{T,Node}, \n",
    "                                  weight_dict::Dict{T,Dict{T,Float64}}) where T\n",
    "    for (orig, subdict) in pairs(weight_dict)\n",
    "        for (dest, w) in pairs(subdict)\n",
    "            xs = [vertex_dict[digraph.edges[i,1]].x; vertex_dict[digraph.edges[i,2]].x]\n",
    "            ys = [vertex_dict[digraph.edges[i,1]].y; vertex_dict[digraph.edges[i,2]].y]\n",
    "            dx = xs[2] - xs[1]\n",
    "            dy = ys[2] - ys[1]\n",
    "            arrow(xs[1], ys[1], dx, dy, color=\"k\", zorder=0, head_length=0.25, length_includes_head=true,\n",
    "                  head_width=0.125)\n",
    "    end\n",
    "end\n",
    "\n",
    "\n",
    "function visualize_digraph(digraph::DiGraph{T}, vertex_dict::Dict{T, Node}) where T \n",
    "    visualize_vertices(digraph, vertex_dict)\n",
    "    visualize_edges(digraph, vertex_dict)\n",
    "end\n",
    "\n",
    "\n",
    "function visualize_weighted_digraph(digraph::DiGraph{T}, vertex_dict::Dict{T, Node},\n",
    "                                    weight_dict::Dict{T,Dict{T,Float64}}) where T\n",
    "    visualize_vertices(digraph, vertex_dict)\n",
    "    visualize_weighted_edges(vertex_dict, weight_dict)\n",
    "end"
   ]
  },
  {
   "cell_type": "code",
   "execution_count": 38,
   "metadata": {},
   "outputs": [
    {
     "data": {
      "image/png": "[encoded data removed]",
      "text/plain": [
       "Figure(PyObject <Figure size 640x480 with 1 Axes>)"
      ]
     },
     "metadata": {},
     "output_type": "display_data"
    }
   ],
   "source": [
    "visualize_digraph(example_tree, vertex_dict)\n",
    "show()"
   ]
  },
  {
   "cell_type": "markdown",
   "metadata": {},
   "source": [
    "## Write a probabilistic program\n",
    "\n",
    "Practically a one-liner. All it does is draw samples from our distribution -- there's no posterior inference going on here."
   ]
  },
  {
   "cell_type": "code",
   "execution_count": null,
   "metadata": {},
   "outputs": [],
   "source": [
    "@gen function graph_generator(reference_graph::DiGraph{String}, beta::Float64)\n",
    "    g = @trace(graphpriordist(reference_graph, beta), :graph)\n",
    "    return g\n",
    "end;"
   ]
  },
  {
   "cell_type": "markdown",
   "metadata": {},
   "source": [
    "In order to sample from this, we'll need to define a proposal distribution that explores a space of directed graphs."
   ]
  },
  {
   "cell_type": "markdown",
   "metadata": {},
   "source": [
    "## A first (naive) proposal distribution\n",
    "\n",
    "As a first pass, we'll define operations that allow us to explore the space of directed graphs in a mostly unconstrained fashion. \n",
    "That is, we won't enforce most graph properties: connectedness, acyclicity, in-degree, etc.\n",
    "However, we *will* enforce a couple of constraints (mostly for aesthetic reasons): no 1- or 2-cycles.\n",
    "\n",
    "Our first proposal distribution is sort of naive.\n",
    "It samples uniformly over the $N(N-1)$ possible directed edges.\n",
    "If the edge already exists then it flips a coin, deciding whether to remove or reverse that edge.\n",
    "If the edge doesn't exist but its reverse _does_, then we do similarly for that edge.\n",
    "If neither the edge nor its reverse exists, then we propose an edge there."
   ]
  },
  {
   "cell_type": "code",
   "execution_count": null,
   "metadata": {},
   "outputs": [],
   "source": [
    "# First (inefficient) proposal distribution\n",
    "@gen function naive_digraph_proposal(cur_trace)\n",
    "    \n",
    "    G = cur_trace[:graph]\n",
    "    N = length(G.vertices)\n",
    "    \n",
    "    v1 = uniform_discrete(1, N)\n",
    "    v2 = uniform_discrete(1, N-1) # won't allow self-loops\n",
    "    if v2 >= v1\n",
    "        v2 += 1\n",
    "    end\n",
    "    \n",
    "    # If an edge already exists: remove or reverse it\n",
    "    if length(G.edges[(G.edges[:,1] .== v1) .& (G.edges[:,2] .== v2)]) > 0\n",
    "        remove = bernoulli(0.5)\n",
    "        if remove\n",
    "            remove_edge!(G, v1, v2) # remove\n",
    "        else\n",
    "            remove_edge!(G, v1, v2) # reverse\n",
    "            add_edge!(G, v2, v1)\n",
    "        end\n",
    "    # If the edge's reverse exists: remove or reverse that.    \n",
    "    elseif length(G.edges[(G.edges[:,1] .== v2) .& (G.edges[:,2] .== v1)]) > 0\n",
    "        remove = bernoulli(0.5)\n",
    "        if remove\n",
    "            remove_edge!(G, v2, v1) # remove\n",
    "        else\n",
    "            remove_edge!(G, v2, v1) # reverse\n",
    "            add_edge!(G, v1, v2)\n",
    "        end\n",
    "    # If neither the edge nor its reverse exists, add the edge!\n",
    "    else\n",
    "        add_edge!(G, v1, v2)\n",
    "    end\n",
    "    \n",
    "    cur_trace[:graph] = G\n",
    "    \n",
    "    return cur_trace\n",
    "end;"
   ]
  },
  {
   "cell_type": "markdown",
   "metadata": {},
   "source": [
    "We expect this proposal will impose sampling inefficiencies. When the graph is sparse, the proposal tends to add improbable edges, which are in turn rejected by the Metropolis Hastings sampler."
   ]
  },
  {
   "cell_type": "markdown",
   "metadata": {},
   "source": [
    "## MCMC sampling: naive proposal distribution"
   ]
  },
  {
   "cell_type": "code",
   "execution_count": null,
   "metadata": {},
   "outputs": [],
   "source": [
    "function graph_sample(model, )\n",
    "    \n",
    "    tr, _ = Gen.gener"
   ]
  },
  {
   "cell_type": "markdown",
   "metadata": {},
   "source": [
    "## A digraph proposal distribution\n",
    "\n",
    "As mentioned before, the \"naive\" digraph proposal was inefficient because xyz..."
   ]
  },
  {
   "cell_type": "code",
   "execution_count": null,
   "metadata": {},
   "outputs": [],
   "source": [
    "@gen function digraph_proposal(cur_trace)\n",
    "   \n",
    "\n",
    "    \n",
    "end"
   ]
  },
  {
   "cell_type": "code",
   "execution_count": 39,
   "metadata": {},
   "outputs": [
    {
     "data": {
      "text/plain": [
       "Dict{String,Dict{String,Int64}} with 2 entries:\n",
       "  \"b\" => Dict(\"b\"=>2)\n",
       "  \"a\" => Dict(\"b\"=>1)"
      ]
     },
     "execution_count": 39,
     "metadata": {},
     "output_type": "execute_result"
    }
   ],
   "source": [
    "d = Dict(\"a\" => Dict(\"b\" => 1), \"b\" => Dict(\"b\" => 2))"
   ]
  },
  {
   "cell_type": "code",
   "execution_count": 41,
   "metadata": {},
   "outputs": [
    {
     "data": {
      "text/plain": [
       "Base.KeySet for a Dict{String,Int64} with 1 entry. Keys:\n",
       "  \"b\""
      ]
     },
     "execution_count": 41,
     "metadata": {},
     "output_type": "execute_result"
    }
   ],
   "source": [
    "keys(d[\"a\"])"
   ]
  },
  {
   "cell_type": "code",
   "execution_count": 43,
   "metadata": {},
   "outputs": [
    {
     "data": {
      "text/plain": [
       "Dict{String,Dict{String,Int64}} with 2 entries:\n",
       "  \"b\" => Dict(\"b\"=>2)\n",
       "  \"a\" => Dict(\"b\"=>1)"
      ]
     },
     "execution_count": 43,
     "metadata": {},
     "output_type": "execute_result"
    }
   ],
   "source": [
    "pairs(d)"
   ]
  },
  {
   "cell_type": "code",
   "execution_count": null,
   "metadata": {},
   "outputs": [],
   "source": []
  }
 ],
 "metadata": {
  "kernelspec": {
   "display_name": "Julia 1.2.0",
   "language": "julia",
   "name": "julia-1.2"
  },
  "language_info": {
   "file_extension": ".jl",
   "mimetype": "application/julia",
   "name": "julia",
   "version": "1.2.0"
  }
 },
 "nbformat": 4,
 "nbformat_minor": 2
}
