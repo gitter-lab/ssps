{
 "cells": [
  {
   "cell_type": "markdown",
   "metadata": {},
   "source": [
    "# Sampling from a distribution over graphs\n",
    "\n",
    "We will define a distribution over directed graphs, under the assumption that the vertices are known a-priori.\n",
    "\n",
    "We'll focus on a class of distributions proposed by Mukherjee et al:\n",
    "\n",
    "$$ P(G) \\propto \\exp \\left( - \\beta \\cdot D(G, G^\\prime) \\right) $$\n",
    "\n",
    "i.e., probability decreases exponentially with distance from some reference graph, $G^\\prime$. \n",
    "\n",
    "The distance, $D$, could be any nonnegative notion of difference; but a useful default is Hamming distance between the graphs' edge sets."
   ]
  },
  {
   "cell_type": "code",
   "execution_count": 1,
   "metadata": {},
   "outputs": [],
   "source": [
    "include(\"DiGraph.jl\")\n",
    "include(\"NonGenerative.jl\")\n",
    "using Gen\n",
    "using .DiGraphs\n",
    "using .NonGenerative\n",
    "using PyPlot"
   ]
  },
  {
   "cell_type": "markdown",
   "metadata": {},
   "source": [
    "## Define a density over graphs"
   ]
  },
  {
   "cell_type": "code",
   "execution_count": 2,
   "metadata": {},
   "outputs": [
    {
     "data": {
      "text/plain": [
       "GraphPriorDist()"
      ]
     },
     "execution_count": 2,
     "metadata": {},
     "output_type": "execute_result"
    }
   ],
   "source": [
    "# in Gen, distributions are defined as singleton types:\n",
    "struct GraphPriorDist <: Distribution{DiGraph} end\n",
    "const graphpriordist = GraphPriorDist()"
   ]
  },
  {
   "cell_type": "code",
   "execution_count": 3,
   "metadata": {},
   "outputs": [],
   "source": [
    "# define a hamming distance between graphs\n",
    "function edge_hamming(g1::DiGraph{T}, g2::DiGraph{T}) where T\n",
    "    return length(symdiff([g1.edges[i,:] for i=1:size(g1.edges)[1]],\n",
    "                          [g2.edges[i,:] for i=1:size(g2.edges)[1]]))\n",
    "end\n",
    "\n",
    "# Define sampling methods for the graph distribution.\n",
    "function Gen.random(gpd::GraphPriorDist, reference_graph::DiGraph{T}, beta::Number, distance_func::Function) where T\n",
    "    return reference_graph\n",
    "end\n",
    "\n",
    "# if distance isn't specified, use hamming distance\n",
    "function Gen.random(gpd::GraphPriorDist, reference_graph::DiGraph{T}, beta::Number) where T\n",
    "    return Gen.random(gpd, reference_graph, beta, edge_hamming)\n",
    "end\n",
    "\n",
    "graphpriordist(reference_graph::DiGraph{T}, beta::Number) where T = Gen.random(graphpriordist, reference_graph, beta)\n",
    "\n",
    "# Define a log-probability for this distribution.\n",
    "function Gen.logpdf(gpd::GraphPriorDist, dg::DiGraph{T}, reference_graph::DiGraph{T}, beta::Number, distance_func::Function) where T\n",
    "    return exp( -beta * distance_func(dg, reference_graph) )\n",
    "end\n",
    "\n",
    "# Again: use hamming distance by default\n",
    "function Gen.logpdf(gpd::GraphPriorDist, dg::DiGraph{T}, reference_graph::DiGraph{T}, beta::Number) where T\n",
    "    return Gen.logpdf(gpd, dg, reference_graph, beta, edge_hamming)\n",
    "end\n"
   ]
  },
  {
   "cell_type": "markdown",
   "metadata": {},
   "source": [
    "There are some issues with our construction:\n",
    "1. This distribution is _unnormalized_. \n",
    "2. This distribution is _not generative_. It doesn't prescribe a sampling method.\n",
    "\n",
    "\n",
    "However, our implementation should allow Gen's Metropolis-Hastings sampler to 'play nicely' with this distribution.\n",
    "1. The distribution is unnormalized -- this means that the `logpdf` will not return correct values. However, the thing that _really_ matters in MH sampling is **change** in log-probability. And our logpdf implementation will correctly compute those.\n",
    "2. The distribution isn't generative, but MH won't require us to explicitly sample from the distribution -- the whole point of MH is that it will allow us to sample from (unnormalized) log densities that have no generative description. As long as we provide a proposal distribution, we'll be fine."
   ]
  },
  {
   "cell_type": "markdown",
   "metadata": {},
   "source": [
    "### Example reference graph\n",
    "\n",
    "We'll build an actual reference graph here, for illustrative purposes."
   ]
  },
  {
   "cell_type": "code",
   "execution_count": 4,
   "metadata": {},
   "outputs": [],
   "source": [
    "# Define a simple node type\n",
    "struct Node\n",
    "    name::String\n",
    "    x::Float64\n",
    "    y::Float64\n",
    "end"
   ]
  },
  {
   "cell_type": "code",
   "execution_count": 5,
   "metadata": {},
   "outputs": [],
   "source": [
    "# Define a mapping between string labels and nodes\n",
    "vertex_dict = Dict(\"animal\" => Node(\"animal\", 0., 0.),\n",
    "\"mammal\" => Node(\"mammal\", -4., -1.),\n",
    "\"dog\" => Node(\"dog\", -5., -2.),\n",
    "\"cat\" => Node(\"cat\", -4., -2.),\n",
    "\"calico\" => Node(\"calico\", -4., -3.), \n",
    "\"fish\" => Node(\"fish\", -1., -1.),\n",
    "\"bird\" => Node(\"bird\", 1., -1.),\n",
    "\"reptile\" => Node(\"reptile\", 3.0, -1.0),\n",
    "\"crocodile\" => Node(\"crocodile\", 4.0, -2.0),\n",
    "\"snake\" => Node(\"snake\", 2.0, -2.0),\n",
    "\"shark\" => Node(\"shark\", -2.0, -2.0),\n",
    "\"piranha\" => Node(\"piranha\", -0.0, -2.0)\n",
    ");"
   ]
  },
  {
   "cell_type": "code",
   "execution_count": 6,
   "metadata": {
    "scrolled": true
   },
   "outputs": [
    {
     "data": {
      "text/plain": [
       "DiGraph{String}(Set([\"calico\", \"fish\", \"snake\", \"mammal\", \"dog\", \"reptile\", \"shark\", \"animal\", \"cat\", \"crocodile\", \"bird\", \"piranha\"]), [\"mammal\" \"animal\"; \"cat\" \"mammal\"; … ; \"crocodile\" \"reptile\"; \"snake\" \"reptile\"])"
      ]
     },
     "execution_count": 6,
     "metadata": {},
     "output_type": "execute_result"
    }
   ],
   "source": [
    "example_tree = DiGraph([\"mammal\" \"animal\";\n",
    "        \"cat\" \"mammal\";\n",
    "        \"calico\" \"cat\";\n",
    "        \"dog\" \"mammal\";\n",
    "        \"fish\" \"animal\";\n",
    "        \"shark\" \"fish\";\n",
    "        \"piranha\" \"fish\";\n",
    "        \"bird\" \"animal\";\n",
    "        \"reptile\" \"animal\";\n",
    "        \"crocodile\" \"reptile\";\n",
    "        \"snake\" \"reptile\"])"
   ]
  },
  {
   "cell_type": "markdown",
   "metadata": {},
   "source": [
    "### Some visualization machinery\n",
    "\n",
    "We'll write some functions for visualizing graphs."
   ]
  },
  {
   "cell_type": "code",
   "execution_count": 7,
   "metadata": {},
   "outputs": [
    {
     "data": {
      "text/plain": [
       "visualize_weighted_digraph (generic function with 1 method)"
      ]
     },
     "execution_count": 7,
     "metadata": {},
     "output_type": "execute_result"
    }
   ],
   "source": [
    "function visualize_vertices(digraph::DiGraph{T}, vertex_dict::Dict{T,Node}) where T\n",
    "    xyn = [[vertex_dict[v].x vertex_dict[v].y vertex_dict[v].name] for v in digraph.vertices]\n",
    "    xyn = vcat(xyn...,)\n",
    "    scatter(xyn[:,1], xyn[:,2], s=120)\n",
    "    for i=1:size(xyn)[1]\n",
    "        annotate(xyn[i,3], (xyn[i,1], xyn[i,2]))\n",
    "    end\n",
    "end\n",
    "\n",
    "\n",
    "function visualize_edges(digraph::DiGraph{T}, vertex_dict::Dict{T,Node}) where T\n",
    "    for i=1:size(digraph.edges)[1]\n",
    "        xs = [vertex_dict[digraph.edges[i,1]].x; vertex_dict[digraph.edges[i,2]].x]\n",
    "        ys = [vertex_dict[digraph.edges[i,1]].y; vertex_dict[digraph.edges[i,2]].y]\n",
    "        dx = xs[2] - xs[1]\n",
    "        dy = ys[2] - ys[1]\n",
    "        arrow(xs[1], ys[1], dx, dy, color=\"k\", zorder=0, head_length=0.25, length_includes_head=true,\n",
    "              head_width=0.125)\n",
    "    end\n",
    "end\n",
    "\n",
    "\n",
    "function visualize_weighted_edges(vertex_dict::Dict{T,Node}, \n",
    "                                  weight_dict::Dict{T,Dict{T,Float64}}) where T\n",
    "    for (orig, subdict) in pairs(weight_dict)\n",
    "        for (dest, w) in pairs(subdict)\n",
    "            xs = [vertex_dict[digraph.edges[i,1]].x; vertex_dict[digraph.edges[i,2]].x]\n",
    "            ys = [vertex_dict[digraph.edges[i,1]].y; vertex_dict[digraph.edges[i,2]].y]\n",
    "            dx = xs[2] - xs[1]\n",
    "            dy = ys[2] - ys[1]\n",
    "            arrow(xs[1], ys[1], dx, dy, color=\"k\", zorder=0, head_length=0.25, length_includes_head=true,\n",
    "                  head_width=0.125)\n",
    "        end\n",
    "    end\n",
    "end\n",
    "\n",
    "\n",
    "function visualize_digraph(digraph::DiGraph{T}, vertex_dict::Dict{T, Node}) where T \n",
    "    visualize_vertices(digraph, vertex_dict)\n",
    "    visualize_edges(digraph, vertex_dict)\n",
    "end\n",
    "\n",
    "\n",
    "function visualize_weighted_digraph(digraph::DiGraph{T}, vertex_dict::Dict{T, Node},\n",
    "                                    weight_dict::Dict{T,Dict{T,Float64}}) where T\n",
    "    visualize_vertices(digraph, vertex_dict)\n",
    "    visualize_weighted_edges(vertex_dict, weight_dict)\n",
    "end"
   ]
  },
  {
   "cell_type": "code",
   "execution_count": 8,
   "metadata": {},
   "outputs": [
    {
     "data": {
      "image/png": "[encoded data removed]",
      "text/plain": [
       "Figure(PyObject <matplotlib.figure.Figure object at 0x7f8c9314b358>)"
      ]
     },
     "metadata": {},
     "output_type": "display_data"
    }
   ],
   "source": [
    "visualize_digraph(example_tree, vertex_dict)\n",
    "xticks([])\n",
    "yticks([])\n",
    "show()"
   ]
  },
  {
   "cell_type": "markdown",
   "metadata": {},
   "source": [
    "## Write a probabilistic program\n",
    "\n",
    "Practically a one-liner. All it does is draw samples from our distribution -- there's no posterior inference going on here."
   ]
  },
  {
   "cell_type": "code",
   "execution_count": 9,
   "metadata": {},
   "outputs": [],
   "source": [
    "@gen function graph_generator(reference_graph::DiGraph{String}, beta::Float64)\n",
    "    g = @trace(graphpriordist(reference_graph, beta), :graph)\n",
    "    return g\n",
    "end;"
   ]
  },
  {
   "cell_type": "markdown",
   "metadata": {},
   "source": [
    "In order to sample from this, we'll need to define a proposal distribution that explores a space of directed graphs."
   ]
  },
  {
   "cell_type": "markdown",
   "metadata": {},
   "source": [
    "## A graph proposal distribution\n",
    "\n",
    "As a first pass, we'll define operations that allow us to explore the space of directed graphs in a mostly unconstrained fashion. \n",
    "That is, we won't enforce most graph properties: connectedness, acyclicity, in-degree, etc.\n",
    "However, we *will* enforce a couple of constraints (mostly for aesthetic reasons): no 1- or 2-cycles."
   ]
  },
  {
   "cell_type": "code",
   "execution_count": 181,
   "metadata": {},
   "outputs": [
    {
     "data": {
      "text/plain": [
       "logpdf (generic function with 3 methods)"
      ]
     },
     "execution_count": 181,
     "metadata": {},
     "output_type": "execute_result"
    }
   ],
   "source": [
    "struct DagProposal <: NonGenProposal{DiGraph} end\n",
    "dagproposal = DagProposal()\n",
    "\n",
    "function random(dagproposal::DagProposal, address::Symbol, current_trace, delete_prob::Float64=0.66,\n",
    "                expected_degree::Float64=3.0)\n",
    "    \n",
    "    # Get the current DiGraph\n",
    "    dg = copy(current_trace[address])\n",
    "    lp = 0.0\n",
    "    \n",
    "    # Get a random vertex\n",
    "    v = rand(collect(dg.vertices))\n",
    "    V = length(dg.vertices)\n",
    "    lp += log(1.0/V)\n",
    "    \n",
    "    inneighb = in_neighbors(dg, v)\n",
    "    neighbors = collect(union(inneighb, out_neighbors(dg, v)))\n",
    "    N = length(neighbors)\n",
    "    \n",
    "    # Choose whether to add a new edge\n",
    "    t = log(0.5) / log(1.0 - expected_degree/V)\n",
    "    add_prob = (1.0 - N/V)^t\n",
    "    to_add = bernoulli(add_prob)\n",
    "    \n",
    "    if to_add\n",
    "        lp += log(add_prob)\n",
    "        # Select a non-neighbor at random; add an edge *to* it\n",
    "        non_neighbors = setdiff(dg.vertices, neighbors)\n",
    "        n_n = rand(collect(non_neighbors))\n",
    "        lp += log(1.0 / length(non_neighbors))    \n",
    "        add_edge!(dg, v, n_n)\n",
    "    \n",
    "    else\n",
    "        lp += log(1.0 - add_prob)\n",
    "        # select a neighbor at random; remove or reverse that edge.\n",
    "        n = rand(neighbors)\n",
    "        lp += log(1.0 / N)\n",
    "        is_in = in(n, inneighb)\n",
    "        if is_in\n",
    "            lp += log(1.0*length(inneighb)/N)\n",
    "            remove_edge!(dg, n, v)\n",
    "            add_edge!(dg, v, n)\n",
    "        else\n",
    "            lp += log(1.0 - 1.0*length(inneighb)/N)\n",
    "            remove_edge!(dg, v, n)\n",
    "            if bernoulli(delete_prob)\n",
    "                lp += log(delete_prob)\n",
    "            else\n",
    "                add_edge!(dg, n, v)\n",
    "                lp += log(1.0 - delete_prob)\n",
    "            end\n",
    "        end\n",
    "        \n",
    "    end\n",
    "    \n",
    "    # Store & return the new DiGraph\n",
    "    new_choices = Gen.choicemap()\n",
    "    new_choices[address] = dg\n",
    "    \n",
    "    return new_choices, lp\n",
    "        \n",
    "end\n",
    "\n",
    "\n",
    "function logpdf(dagprop::DagProposal, address::Symbol, new_trace, cur_trace, delete_prob::Float64=0.66,\n",
    "                expected_degree::Float64=3.0)\n",
    "    \n",
    "    new_dag = new_trace[address]\n",
    "    cur_dag = cur_trace[address]\n",
    "    V = length(cur_dag.vertices)\n",
    "    t = log(0.5) / log(1.0 - expected_degree/V)\n",
    "    \n",
    "    new_edges = Set([new_dag.edges[i,:] for i=1:size(new_dag.edges)[1]])\n",
    "    cur_edges = Set([cur_dag.edges[i,:] for i=1:size(cur_dag.edges)[1]])\n",
    "    \n",
    "    new_exc = setdiff(new_edges, cur_edges)\n",
    "    cur_exc = setdiff(cur_edges, new_edges)\n",
    "    println(\"NEW EXCLUSIVE: \", new_exc)\n",
    "    println(\"OLD EXCLUSIVE: \", cur_exc)\n",
    "    \n",
    "    if length(new_exc) == 1 && length(cur_exc) == 0     # an edge was *added*\n",
    "        v = first(new_exc)[1]\n",
    "        N = length(union(in_neighbors(cur_dag, v), out_neighbors(cur_dag, v)))\n",
    "        add_prob = (1.0 - N/V)^t\n",
    "        return log(1.0/V * add_prob * 1.0/(V - N))\n",
    "    elseif length(cur_exc) == 1 \n",
    "        v = first(cur_exc)[1]\n",
    "        N = length(union(in_neighbors(cur_dag, v), out_neighbors(cur_dag, v)))\n",
    "        not_add_prob = 1.0 - (1.0 - N/V)^t\n",
    "        if length(new_exc) == 0        # an edge was *removed*\n",
    "            return log(1.0/V * not_add_prob * delete_prob * 1.0/N)\n",
    "        elseif length(new_exc) == 1    # an edge was *reversed*\n",
    "            return log(1.0/V * not_add_prob * (1.0 - delete_prob) * 1.0/N )\n",
    "        end\n",
    "    else\n",
    "        return -Inf64\n",
    "    end\n",
    "end"
   ]
  },
  {
   "cell_type": "code",
   "execution_count": 182,
   "metadata": {},
   "outputs": [
    {
     "name": "stdout",
     "output_type": "stream",
     "text": [
      "original graph has 11 edges\n"
     ]
    }
   ],
   "source": [
    "beta = 0.1\n",
    "tr, _ = Gen.generate(graph_generator, (example_tree, beta))\n",
    "println(\"original graph has \", size(tr[:graph].edges)[1], \" edges\")"
   ]
  },
  {
   "cell_type": "code",
   "execution_count": 198,
   "metadata": {},
   "outputs": [
    {
     "name": "stdout",
     "output_type": "stream",
     "text": [
      "proposed graph has 11 edges\n",
      "log P(proposed | current) = -4.276666119016055\n"
     ]
    }
   ],
   "source": [
    "cmap, lp = random(dagproposal, :graph, tr)\n",
    "println(\"proposed graph has \", size(cmap[:graph].edges)[1], \" edges\")\n",
    "println(\"log P(proposed | current) = \", lp)"
   ]
  },
  {
   "cell_type": "code",
   "execution_count": 199,
   "metadata": {},
   "outputs": [
    {
     "name": "stdout",
     "output_type": "stream",
     "text": [
      "update log odds: -0.18126924692201818\n"
     ]
    }
   ],
   "source": [
    "newtr, lp, _, _, = Gen.update(tr, (example_tree, beta), (), cmap)\n",
    "println(\"update log odds: \", lp)"
   ]
  },
  {
   "cell_type": "code",
   "execution_count": 200,
   "metadata": {},
   "outputs": [
    {
     "name": "stdout",
     "output_type": "stream",
     "text": [
      "NEW EXCLUSIVE: Set(Array{String,1}[[\"reptile\", \"crocodile\"]])\n",
      "OLD EXCLUSIVE: Set(Array{String,1}[[\"crocodile\", \"reptile\"]])\n"
     ]
    },
    {
     "data": {
      "text/plain": [
       "-5.229039161574756"
      ]
     },
     "execution_count": 200,
     "metadata": {},
     "output_type": "execute_result"
    }
   ],
   "source": [
    "logpdf(dagproposal, :graph, newtr, tr)"
   ]
  },
  {
   "cell_type": "code",
   "execution_count": 194,
   "metadata": {},
   "outputs": [
    {
     "name": "stdout",
     "output_type": "stream",
     "text": [
      "NEW EXCLUSIVE: Set(Array{String,1}[])\n",
      "OLD EXCLUSIVE: Set(Array{String,1}[[\"calico\", \"snake\"]])\n"
     ]
    },
    {
     "data": {
      "text/plain": [
       "-4.6277831657267114"
      ]
     },
     "execution_count": 194,
     "metadata": {},
     "output_type": "execute_result"
    }
   ],
   "source": [
    "logpdf(dagproposal, :graph, tr, newtr)"
   ]
  },
  {
   "cell_type": "code",
   "execution_count": null,
   "metadata": {},
   "outputs": [],
   "source": []
  }
 ],
 "metadata": {
  "kernelspec": {
   "display_name": "Julia 1.2.0",
   "language": "julia",
   "name": "julia-1.2"
  },
  "language_info": {
   "file_extension": ".jl",
   "mimetype": "application/julia",
   "name": "julia",
   "version": "1.2.0"
  }
 },
 "nbformat": 4,
 "nbformat_minor": 2
}
